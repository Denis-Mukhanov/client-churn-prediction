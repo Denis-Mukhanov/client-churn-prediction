{
 "cells": [
  {
   "cell_type": "markdown",
   "id": "f673414b",
   "metadata": {},
   "source": [
    "[![image-1.png](https://i.postimg.cc/Vk3VrVXM/image-1.png)](https://postimg.cc/v4tzCXqH)"
   ]
  },
  {
   "cell_type": "markdown",
   "id": "8820f9ef",
   "metadata": {},
   "source": [
    "<div style=\"padding:15px 20px 20px 20px;\n",
    "            color:#004346;\n",
    "            font-size:40px;\n",
    "            display:fill;\n",
    "            text-align:center;\n",
    "            border-radius:20px;\n",
    "            border: 5px double;\n",
    "            border-color:#201E20;\n",
    "            background-color: #E8F1F2;\n",
    "            overflow:hidden;\n",
    "            font-weight:400\">\n",
    "<p style=\"font-weight: bold; text-align: center;\">Прогнозирование оттока клиентов</p>\n",
    "\n",
    "</div>"
   ]
  },
  {
   "cell_type": "markdown",
   "id": "1af69929",
   "metadata": {},
   "source": [
    "<div style=\"padding:0px 40px 30px;\n",
    "            color:#004346;\n",
    "            font-size:110%;\n",
    "            display:fill;\n",
    "            border-radius:20px;\n",
    "            border: 5px double;\n",
    "            border-color:#201E20;\n",
    "            background-color: #E8F1F2;\n",
    "            overflow:hidden;\n",
    "            font-weight:450;\">\n",
    "    \n",
    "__Заказчик:__ Оператор связи «ТелеДом».\n",
    "    \n",
    "__Описание задачи:__ Для борьбы с оттоком клиентов, сотрудники компании будут предлагать промокоды и специальные условия тем абонентам, которые имеют намерение прекратить пользоваться услугами связи. Это позволит заранее выявлять пользователей, склонных к расторжению договора.\n",
    "\n",
    "__Постановка задачи:__ Разработать модель для прогнозирования вероятности расторжения договора абонентом.\n",
    "    \n",
    "__Оценка качества модели:__ Метрики ROC-AUC, значение должно быть не менее 0.85. \n",
    "\n",
    "__Описание услуг компании:__ Оператор предоставляет два основных типа услуг:\n",
    "    \n",
    "- Стационарную телефонную связь. Телефон можно подключить к нескольким линиям одновременно.\n",
    "- Интернет. Подключение бывает двух типов: через телефонную линию DSL (англ. digital subscriber line — «цифровая абонентская линия») или оптоволоконный кабель (англ. fiber optic).\n",
    "    \n",
    "Также абонентам доступен ряд дополнительных услуг:\n",
    "    \n",
    "- Интернет-безопасность: антивирус (Device Protection) и блокировка опасных сайтов (Online Security);\n",
    "- Выделенная линия технической поддержки (Tech Support);\n",
    "- Облачное хранилище файлов для резервного копирования данных (Online Backup);\n",
    "- Стриминговое телевидение (Streaming TV) и каталог фильмов (Streaming Movies).\n",
    "    \n",
    "За услуги клиенты могут платить ежемесячно или раз в 1–2 года. Доступны различные способы расчёта и возможность получить электронный чек.\n",
    "    \n",
    "__Описание данных:__ персональные данные о некоторых клиентах, информация об их тарифах и услугах.\n",
    " \n",
    "Данные хранятся в базе данных PostgreSQL. Она состоит из нескольких [таблиц](https://github.com/Denis-Mukhanov/client-churn-prediction/blob/main/data/data%20description.pdf):\n",
    "    \n",
    "- `contract` — информация о договорах;\n",
    "- `personal` — персональные данные клиентов;\n",
    "- `internet` — информация об интернет-услугах;\n",
    "- `phone` — информация об услугах телефонии.\n",
    "\n",
    "\n",
    "</div>    "
   ]
  },
  {
   "cell_type": "markdown",
   "id": "deeafe8c",
   "metadata": {},
   "source": [
    "<div style=\"padding:0px 20px 10px;\n",
    "            color:#004346;\n",
    "            font-size:15px;\n",
    "            display:fill;\n",
    "            text-align:center;\n",
    "            border-radius:20px;\n",
    "            border: 5px double;\n",
    "            border-color:#201E20;\n",
    "            background-color: #E8F1F2;\n",
    "            overflow:hidden;\n",
    "            font-weight:400\">\n",
    "\n",
    "# Используемые библиотеки\n",
    "\n",
    "</div>"
   ]
  },
  {
   "cell_type": "code",
   "execution_count": 342,
   "id": "e2a5ca26",
   "metadata": {},
   "outputs": [],
   "source": [
    "from rich.console import Console\n",
    "import numpy as np\n",
    "import pandas as pd\n",
    "import random\n",
    "import matplotlib.pyplot as plt\n",
    "import seaborn as sns\n",
    "\n",
    "import phik\n",
    "import psycopg2\n",
    "import sqlalchemy\n",
    "from sqlalchemy import create_engine\n",
    "\n",
    "from sklearn.model_selection import train_test_split\n",
    "from sklearn.model_selection import StratifiedKFold\n",
    "\n",
    "from sklearn.pipeline import Pipeline\n",
    "from sklearn.compose import ColumnTransformer, make_column_transformer\n",
    "from sklearn.preprocessing import StandardScaler, OneHotEncoder\n",
    "from sklearn.impute import SimpleImputer\n",
    "\n",
    "import optuna\n",
    "from sklearn.metrics import roc_auc_score\n",
    "\n",
    "from sklearn.linear_model import LogisticRegression\n",
    "\n",
    "from lightgbm import LGBMClassifier\n",
    "\n",
    "from catboost import CatBoostClassifier, Pool\n",
    "\n",
    "import tensorflow \n",
    "import tensorflow as tf\n",
    "from keras.models import Sequential\n",
    "from keras.layers import Dense\n",
    "from keras.optimizers import Adam\n",
    "from scikeras.wrappers import KerasClassifier\n",
    "from sklearn.model_selection import cross_val_score\n",
    "\n",
    "\n",
    "from sklearn.metrics import roc_curve, RocCurveDisplay\n",
    "# константы\n",
    "RANDOM_SEED = 201023\n",
    "\n",
    "# настройки блокнота\n",
    "pd.options.display.max_colwidth = 500\n",
    "random.seed(RANDOM_SEED)\n",
    "\n",
    "# экземпляр консоли\n",
    "console = Console()"
   ]
  },
  {
   "cell_type": "markdown",
   "id": "47f796cd",
   "metadata": {},
   "source": [
    "## Подключение к базе данных"
   ]
  },
  {
   "cell_type": "code",
   "execution_count": 2,
   "id": "a48caf56",
   "metadata": {},
   "outputs": [],
   "source": [
    "# конфигурация для подключения к базе данных\n",
    "db_config = {\n",
    "    'user': 'praktikum_student',# имя пользователя,\n",
    "    'pwd': 'Sdf4$2;d-d30pp',# пароль,\n",
    "    'host': 'rc1b-wcoijxj3yxfsf3fs.mdb.yandexcloud.net',\n",
    "    'port': 6432,# порт подключения,\n",
    "    'db': 'data-science-final'# название базы данных,\n",
    "} \n",
    "\n",
    "# создание подключения к базе данных\n",
    "connection = psycopg2.connect(\n",
    "    user=db_config['user'],\n",
    "    password=db_config['pwd'],\n",
    "    host=db_config['host'],\n",
    "    port=db_config['port'],\n",
    "    database=db_config['db']\n",
    ")\n",
    "\n",
    "# создаем курсора для выполнения запросов\n",
    "cursor = connection.cursor()"
   ]
  },
  {
   "cell_type": "markdown",
   "id": "35e2533b",
   "metadata": {},
   "source": [
    "__функция для выполнения запросов__"
   ]
  },
  {
   "cell_type": "code",
   "execution_count": 3,
   "id": "5c982e4d",
   "metadata": {},
   "outputs": [],
   "source": [
    "# функция для выполнения запросов\n",
    "def request(query):\n",
    "    try:\n",
    "        cursor.execute(query)\n",
    "        result = cursor.fetchall()\n",
    "        result_df = pd.DataFrame(result, columns=[desc[0] for desc in cursor.description])\n",
    "        return result_df\n",
    "    except Exception as e:\n",
    "        print(f'Error: {e}')\n",
    "        connection.rollback()  # откат транзакции, для избежания блокировки"
   ]
  },
  {
   "cell_type": "code",
   "execution_count": 4,
   "id": "910d3e71",
   "metadata": {},
   "outputs": [
    {
     "data": {
      "text/html": [
       "<div>\n",
       "<style scoped>\n",
       "    .dataframe tbody tr th:only-of-type {\n",
       "        vertical-align: middle;\n",
       "    }\n",
       "\n",
       "    .dataframe tbody tr th {\n",
       "        vertical-align: top;\n",
       "    }\n",
       "\n",
       "    .dataframe thead th {\n",
       "        text-align: right;\n",
       "    }\n",
       "</style>\n",
       "<table border=\"1\" class=\"dataframe\">\n",
       "  <thead>\n",
       "    <tr style=\"text-align: right;\">\n",
       "      <th></th>\n",
       "      <th>customerID</th>\n",
       "      <th>BeginDate</th>\n",
       "      <th>EndDate</th>\n",
       "      <th>Type</th>\n",
       "      <th>PaperlessBilling</th>\n",
       "      <th>PaymentMethod</th>\n",
       "      <th>MonthlyCharges</th>\n",
       "      <th>TotalCharges</th>\n",
       "    </tr>\n",
       "  </thead>\n",
       "  <tbody>\n",
       "    <tr>\n",
       "      <th>0</th>\n",
       "      <td>4472-LVYGI</td>\n",
       "      <td>2020-02-01</td>\n",
       "      <td>None</td>\n",
       "      <td>Two year</td>\n",
       "      <td>Yes</td>\n",
       "      <td>Bank transfer (automatic)</td>\n",
       "      <td>52.55</td>\n",
       "      <td>None</td>\n",
       "    </tr>\n",
       "  </tbody>\n",
       "</table>\n",
       "</div>"
      ],
      "text/plain": [
       "   customerID   BeginDate EndDate      Type PaperlessBilling  \\\n",
       "0  4472-LVYGI  2020-02-01    None  Two year              Yes   \n",
       "\n",
       "               PaymentMethod MonthlyCharges TotalCharges  \n",
       "0  Bank transfer (automatic)          52.55         None  "
      ]
     },
     "metadata": {},
     "output_type": "display_data"
    }
   ],
   "source": [
    "# тестовый запрос\n",
    "query = '''\n",
    "SELECT *\n",
    "FROM telecom.contract\n",
    "LIMIT 1;\n",
    "'''\n",
    "display(request(query))"
   ]
  },
  {
   "cell_type": "markdown",
   "id": "02b08c80",
   "metadata": {},
   "source": [
    "<div style=\"padding:0px 20px 10px;\n",
    "            color:#004346;\n",
    "            font-size:15px;\n",
    "            display:fill;\n",
    "            text-align:center;\n",
    "            border-radius:20px;\n",
    "            border: 5px double;\n",
    "            border-color:#201E20;\n",
    "            background-color: #E8F1F2;\n",
    "            overflow:hidden;\n",
    "            font-weight:400\">\n",
    "\n",
    "# Первичное исследование таблиц базы данных\n",
    "\n",
    "</div>"
   ]
  },
  {
   "cell_type": "markdown",
   "id": "a63378b3",
   "metadata": {},
   "source": [
    "__Проверим таблицы на наличие данных__"
   ]
  },
  {
   "cell_type": "code",
   "execution_count": 5,
   "id": "613f58ae",
   "metadata": {},
   "outputs": [],
   "source": [
    "# список всех таблиц\n",
    "tables = ['contract', 'personal', 'internet', 'phone']"
   ]
  },
  {
   "cell_type": "code",
   "execution_count": 6,
   "id": "f656908f",
   "metadata": {},
   "outputs": [
    {
     "name": "stdout",
     "output_type": "stream",
     "text": [
      "Количество записей в таблице contract: 7043\n",
      "Количество записей в таблице personal: 7043\n",
      "Количество записей в таблице internet: 5518\n",
      "Количество записей в таблице phone: 6362\n"
     ]
    }
   ],
   "source": [
    "for table in tables:\n",
    "    query = f'SELECT COUNT(*) FROM telecom.{table};'\n",
    "    contract_count = request(query).iloc[0][0]\n",
    "    print(f'Количество записей в таблице {table}: {contract_count}')\n"
   ]
  },
  {
   "cell_type": "markdown",
   "id": "3e43e899",
   "metadata": {},
   "source": [
    ">Все четыре таблицы доступны и содержат данные, \n",
    ">Количество записей  в таблицах \"contract\" и \"personal\" одинаковы, что соответствует условию задачи,\n",
    ">Таблицы \"internet\" и \"phone\" имеют различное количество записей, что может быть связани, что не все пользователь пользуются одновременно интернет и услугами телефонии,\n",
    ">Количество записей невилико и мы можем выгрузить таблицы, для дальнейшего анализа."
   ]
  },
  {
   "cell_type": "markdown",
   "id": "515b5043",
   "metadata": {},
   "source": [
    "## Выгрузка таблиц базы данных"
   ]
  },
  {
   "cell_type": "code",
   "execution_count": 7,
   "id": "8b7c02cd",
   "metadata": {},
   "outputs": [
    {
     "data": {
      "text/html": [
       "<pre style=\"white-space:pre;overflow-x:auto;line-height:normal;font-family:Menlo,'DejaVu Sans Mono',consolas,'Courier New',monospace\"><span style=\"font-weight: bold\">Датасет с информацией о договорах</span>\n",
       "</pre>\n"
      ],
      "text/plain": [
       "\u001b[1mДатасет с информацией о договорах\u001b[0m\n"
      ]
     },
     "metadata": {},
     "output_type": "display_data"
    },
    {
     "data": {
      "text/html": [
       "<div>\n",
       "<style scoped>\n",
       "    .dataframe tbody tr th:only-of-type {\n",
       "        vertical-align: middle;\n",
       "    }\n",
       "\n",
       "    .dataframe tbody tr th {\n",
       "        vertical-align: top;\n",
       "    }\n",
       "\n",
       "    .dataframe thead th {\n",
       "        text-align: right;\n",
       "    }\n",
       "</style>\n",
       "<table border=\"1\" class=\"dataframe\">\n",
       "  <thead>\n",
       "    <tr style=\"text-align: right;\">\n",
       "      <th></th>\n",
       "      <th>customerID</th>\n",
       "      <th>BeginDate</th>\n",
       "      <th>EndDate</th>\n",
       "      <th>Type</th>\n",
       "      <th>PaperlessBilling</th>\n",
       "      <th>PaymentMethod</th>\n",
       "      <th>MonthlyCharges</th>\n",
       "      <th>TotalCharges</th>\n",
       "    </tr>\n",
       "  </thead>\n",
       "  <tbody>\n",
       "    <tr>\n",
       "      <th>0</th>\n",
       "      <td>4472-LVYGI</td>\n",
       "      <td>2020-02-01</td>\n",
       "      <td>None</td>\n",
       "      <td>Two year</td>\n",
       "      <td>Yes</td>\n",
       "      <td>Bank transfer (automatic)</td>\n",
       "      <td>52.55</td>\n",
       "      <td>None</td>\n",
       "    </tr>\n",
       "    <tr>\n",
       "      <th>1</th>\n",
       "      <td>3115-CZMZD</td>\n",
       "      <td>2020-02-01</td>\n",
       "      <td>None</td>\n",
       "      <td>Two year</td>\n",
       "      <td>No</td>\n",
       "      <td>Mailed check</td>\n",
       "      <td>20.25</td>\n",
       "      <td>None</td>\n",
       "    </tr>\n",
       "  </tbody>\n",
       "</table>\n",
       "</div>"
      ],
      "text/plain": [
       "   customerID   BeginDate EndDate      Type PaperlessBilling  \\\n",
       "0  4472-LVYGI  2020-02-01    None  Two year              Yes   \n",
       "1  3115-CZMZD  2020-02-01    None  Two year               No   \n",
       "\n",
       "               PaymentMethod MonthlyCharges TotalCharges  \n",
       "0  Bank transfer (automatic)          52.55         None  \n",
       "1               Mailed check          20.25         None  "
      ]
     },
     "metadata": {},
     "output_type": "display_data"
    },
    {
     "name": "stdout",
     "output_type": "stream",
     "text": [
      "<class 'pandas.core.frame.DataFrame'>\n",
      "RangeIndex: 7043 entries, 0 to 7042\n",
      "Data columns (total 8 columns):\n",
      " #   Column            Non-Null Count  Dtype \n",
      "---  ------            --------------  ----- \n",
      " 0   customerID        7043 non-null   object\n",
      " 1   BeginDate         7043 non-null   object\n",
      " 2   EndDate           1869 non-null   object\n",
      " 3   Type              7043 non-null   object\n",
      " 4   PaperlessBilling  7043 non-null   object\n",
      " 5   PaymentMethod     7043 non-null   object\n",
      " 6   MonthlyCharges    7043 non-null   object\n",
      " 7   TotalCharges      7032 non-null   object\n",
      "dtypes: object(8)\n",
      "memory usage: 440.3+ KB\n"
     ]
    },
    {
     "data": {
      "text/plain": [
       "None"
      ]
     },
     "metadata": {},
     "output_type": "display_data"
    },
    {
     "data": {
      "text/html": [
       "<pre style=\"white-space:pre;overflow-x:auto;line-height:normal;font-family:Menlo,'DejaVu Sans Mono',consolas,'Courier New',monospace\"><span style=\"font-weight: bold\">Датасет с информацией о персональных данных клиентов</span>\n",
       "</pre>\n"
      ],
      "text/plain": [
       "\u001b[1mДатасет с информацией о персональных данных клиентов\u001b[0m\n"
      ]
     },
     "metadata": {},
     "output_type": "display_data"
    },
    {
     "data": {
      "text/html": [
       "<div>\n",
       "<style scoped>\n",
       "    .dataframe tbody tr th:only-of-type {\n",
       "        vertical-align: middle;\n",
       "    }\n",
       "\n",
       "    .dataframe tbody tr th {\n",
       "        vertical-align: top;\n",
       "    }\n",
       "\n",
       "    .dataframe thead th {\n",
       "        text-align: right;\n",
       "    }\n",
       "</style>\n",
       "<table border=\"1\" class=\"dataframe\">\n",
       "  <thead>\n",
       "    <tr style=\"text-align: right;\">\n",
       "      <th></th>\n",
       "      <th>customerID</th>\n",
       "      <th>gender</th>\n",
       "      <th>SeniorCitizen</th>\n",
       "      <th>Partner</th>\n",
       "      <th>Dependents</th>\n",
       "    </tr>\n",
       "  </thead>\n",
       "  <tbody>\n",
       "    <tr>\n",
       "      <th>0</th>\n",
       "      <td>7590-VHVEG</td>\n",
       "      <td>Female</td>\n",
       "      <td>0</td>\n",
       "      <td>Yes</td>\n",
       "      <td>No</td>\n",
       "    </tr>\n",
       "    <tr>\n",
       "      <th>1</th>\n",
       "      <td>5575-GNVDE</td>\n",
       "      <td>Male</td>\n",
       "      <td>0</td>\n",
       "      <td>No</td>\n",
       "      <td>No</td>\n",
       "    </tr>\n",
       "  </tbody>\n",
       "</table>\n",
       "</div>"
      ],
      "text/plain": [
       "   customerID  gender  SeniorCitizen Partner Dependents\n",
       "0  7590-VHVEG  Female              0     Yes         No\n",
       "1  5575-GNVDE    Male              0      No         No"
      ]
     },
     "metadata": {},
     "output_type": "display_data"
    },
    {
     "name": "stdout",
     "output_type": "stream",
     "text": [
      "<class 'pandas.core.frame.DataFrame'>\n",
      "RangeIndex: 7043 entries, 0 to 7042\n",
      "Data columns (total 5 columns):\n",
      " #   Column         Non-Null Count  Dtype \n",
      "---  ------         --------------  ----- \n",
      " 0   customerID     7043 non-null   object\n",
      " 1   gender         7043 non-null   object\n",
      " 2   SeniorCitizen  7043 non-null   int64 \n",
      " 3   Partner        7043 non-null   object\n",
      " 4   Dependents     7043 non-null   object\n",
      "dtypes: int64(1), object(4)\n",
      "memory usage: 275.2+ KB\n"
     ]
    },
    {
     "data": {
      "text/plain": [
       "None"
      ]
     },
     "metadata": {},
     "output_type": "display_data"
    },
    {
     "data": {
      "text/html": [
       "<pre style=\"white-space:pre;overflow-x:auto;line-height:normal;font-family:Menlo,'DejaVu Sans Mono',consolas,'Courier New',monospace\"><span style=\"font-weight: bold\">Датасет с информацией об интернет-услугах</span>\n",
       "</pre>\n"
      ],
      "text/plain": [
       "\u001b[1mДатасет с информацией об интернет-услугах\u001b[0m\n"
      ]
     },
     "metadata": {},
     "output_type": "display_data"
    },
    {
     "data": {
      "text/html": [
       "<div>\n",
       "<style scoped>\n",
       "    .dataframe tbody tr th:only-of-type {\n",
       "        vertical-align: middle;\n",
       "    }\n",
       "\n",
       "    .dataframe tbody tr th {\n",
       "        vertical-align: top;\n",
       "    }\n",
       "\n",
       "    .dataframe thead th {\n",
       "        text-align: right;\n",
       "    }\n",
       "</style>\n",
       "<table border=\"1\" class=\"dataframe\">\n",
       "  <thead>\n",
       "    <tr style=\"text-align: right;\">\n",
       "      <th></th>\n",
       "      <th>customerID</th>\n",
       "      <th>InternetService</th>\n",
       "      <th>OnlineSecurity</th>\n",
       "      <th>OnlineBackup</th>\n",
       "      <th>DeviceProtection</th>\n",
       "      <th>TechSupport</th>\n",
       "      <th>StreamingTV</th>\n",
       "      <th>StreamingMovies</th>\n",
       "    </tr>\n",
       "  </thead>\n",
       "  <tbody>\n",
       "    <tr>\n",
       "      <th>1</th>\n",
       "      <td>7590-VHVEG</td>\n",
       "      <td>DSL</td>\n",
       "      <td>No</td>\n",
       "      <td>Yes</td>\n",
       "      <td>No</td>\n",
       "      <td>No</td>\n",
       "      <td>No</td>\n",
       "      <td>No</td>\n",
       "    </tr>\n",
       "    <tr>\n",
       "      <th>2</th>\n",
       "      <td>5575-GNVDE</td>\n",
       "      <td>DSL</td>\n",
       "      <td>Yes</td>\n",
       "      <td>No</td>\n",
       "      <td>Yes</td>\n",
       "      <td>No</td>\n",
       "      <td>No</td>\n",
       "      <td>No</td>\n",
       "    </tr>\n",
       "  </tbody>\n",
       "</table>\n",
       "</div>"
      ],
      "text/plain": [
       "   customerID InternetService OnlineSecurity OnlineBackup DeviceProtection  \\\n",
       "1  7590-VHVEG             DSL             No          Yes               No   \n",
       "2  5575-GNVDE             DSL            Yes           No              Yes   \n",
       "\n",
       "  TechSupport StreamingTV StreamingMovies  \n",
       "1          No          No              No  \n",
       "2          No          No              No  "
      ]
     },
     "metadata": {},
     "output_type": "display_data"
    },
    {
     "name": "stdout",
     "output_type": "stream",
     "text": [
      "<class 'pandas.core.frame.DataFrame'>\n",
      "RangeIndex: 5517 entries, 1 to 5517\n",
      "Data columns (total 8 columns):\n",
      " #   Column            Non-Null Count  Dtype \n",
      "---  ------            --------------  ----- \n",
      " 0   customerID        5517 non-null   object\n",
      " 1   InternetService   5517 non-null   object\n",
      " 2   OnlineSecurity    5517 non-null   object\n",
      " 3   OnlineBackup      5517 non-null   object\n",
      " 4   DeviceProtection  5517 non-null   object\n",
      " 5   TechSupport       5517 non-null   object\n",
      " 6   StreamingTV       5517 non-null   object\n",
      " 7   StreamingMovies   5517 non-null   object\n",
      "dtypes: object(8)\n",
      "memory usage: 344.9+ KB\n"
     ]
    },
    {
     "data": {
      "text/plain": [
       "None"
      ]
     },
     "metadata": {},
     "output_type": "display_data"
    },
    {
     "data": {
      "text/html": [
       "<pre style=\"white-space:pre;overflow-x:auto;line-height:normal;font-family:Menlo,'DejaVu Sans Mono',consolas,'Courier New',monospace\"><span style=\"font-weight: bold\">Датасет с информацией об услугах телефонии</span>\n",
       "</pre>\n"
      ],
      "text/plain": [
       "\u001b[1mДатасет с информацией об услугах телефонии\u001b[0m\n"
      ]
     },
     "metadata": {},
     "output_type": "display_data"
    },
    {
     "data": {
      "text/html": [
       "<div>\n",
       "<style scoped>\n",
       "    .dataframe tbody tr th:only-of-type {\n",
       "        vertical-align: middle;\n",
       "    }\n",
       "\n",
       "    .dataframe tbody tr th {\n",
       "        vertical-align: top;\n",
       "    }\n",
       "\n",
       "    .dataframe thead th {\n",
       "        text-align: right;\n",
       "    }\n",
       "</style>\n",
       "<table border=\"1\" class=\"dataframe\">\n",
       "  <thead>\n",
       "    <tr style=\"text-align: right;\">\n",
       "      <th></th>\n",
       "      <th>customerID</th>\n",
       "      <th>MultipleLines</th>\n",
       "    </tr>\n",
       "  </thead>\n",
       "  <tbody>\n",
       "    <tr>\n",
       "      <th>1</th>\n",
       "      <td>5575-GNVDE</td>\n",
       "      <td>No</td>\n",
       "    </tr>\n",
       "    <tr>\n",
       "      <th>2</th>\n",
       "      <td>3668-QPYBK</td>\n",
       "      <td>No</td>\n",
       "    </tr>\n",
       "  </tbody>\n",
       "</table>\n",
       "</div>"
      ],
      "text/plain": [
       "   customerID MultipleLines\n",
       "1  5575-GNVDE            No\n",
       "2  3668-QPYBK            No"
      ]
     },
     "metadata": {},
     "output_type": "display_data"
    },
    {
     "name": "stdout",
     "output_type": "stream",
     "text": [
      "<class 'pandas.core.frame.DataFrame'>\n",
      "RangeIndex: 6361 entries, 1 to 6361\n",
      "Data columns (total 2 columns):\n",
      " #   Column         Non-Null Count  Dtype \n",
      "---  ------         --------------  ----- \n",
      " 0   customerID     6361 non-null   object\n",
      " 1   MultipleLines  6361 non-null   object\n",
      "dtypes: object(2)\n",
      "memory usage: 99.5+ KB\n"
     ]
    },
    {
     "data": {
      "text/plain": [
       "None"
      ]
     },
     "metadata": {},
     "output_type": "display_data"
    }
   ],
   "source": [
    "# информация о договорах\n",
    "contract_df = request('SELECT * FROM telecom.contract;')\n",
    "console.print('[bold]Датасет с информацией о договорах[/bold]')\n",
    "display(contract_df.head(2))\n",
    "display(contract_df.info())\n",
    "\n",
    "# персональные данные клиентов\n",
    "personal_df = request('SELECT * FROM telecom.personal;')\n",
    "console.print('[bold]Датасет с информацией о персональных данных клиентов[/bold]')\n",
    "display(personal_df.head(2))\n",
    "display(personal_df.info())\n",
    "\n",
    "# информация об интернет-услугах\n",
    "internet_df = request('SELECT * FROM telecom.internet;')\n",
    "internet_df.columns = list(internet_df.iloc[0].values)\n",
    "internet_df = internet_df.drop(0, axis=0)\n",
    "console.print('[bold]Датасет с информацией об интернет-услугах[/bold]')\n",
    "display(internet_df.head(2))\n",
    "display(internet_df.info())\n",
    "\n",
    "# информация об услугах телефонии\n",
    "phone_df = request('SELECT * FROM telecom.phone;')\n",
    "phone_df.columns = list(phone_df.iloc[0].values)\n",
    "phone_df = phone_df.drop(0, axis=0)\n",
    "console.print('[bold]Датасет с информацией об услугах телефонии[/bold]')\n",
    "display(phone_df.head(2))\n",
    "display(phone_df.info())"
   ]
  },
  {
   "cell_type": "code",
   "execution_count": 8,
   "id": "8c234cd1",
   "metadata": {},
   "outputs": [],
   "source": [
    "# список датасетов\n",
    "list_df = [contract_df, personal_df, internet_df, phone_df]"
   ]
  },
  {
   "cell_type": "markdown",
   "id": "2fc1187c",
   "metadata": {},
   "source": [
    ">Регистр названий признаков не соответствует стандарту."
   ]
  },
  {
   "cell_type": "markdown",
   "id": "c2038e7d",
   "metadata": {},
   "source": [
    "__Перееименуем признаки__"
   ]
  },
  {
   "cell_type": "code",
   "execution_count": 9,
   "id": "e0e0ea99",
   "metadata": {},
   "outputs": [],
   "source": [
    "new_column_names = {\n",
    "    'customerID': 'customer_id',               #ID абонента\n",
    "    'BeginDate': 'begin_date',                 #дата начала действия договора\n",
    "    'EndDate': 'end_date',                     #дата окончания действия договора\n",
    "    'Type': 'type',                            #тип оплаты: раз в год-два или ежемесячно\n",
    "    'PaperlessBilling': 'paperless_billing',   #электронный расчётный лист\n",
    "    'PaymentMethod': 'payment_method',         #тип платежа\n",
    "    'MonthlyCharges': 'monthly_charges',       #расходы за месяц\n",
    "    'TotalCharges': 'total_charges',           #общие расходы абонента\n",
    "    'SeniorCitizen': 'senior_citizen',         #является ли абонент пенсионером\n",
    "    'Partner': 'partner',                      #есть ли у абонента супруг или супруга\n",
    "    'Dependents': 'dependents',                #есть ли у абонента дети\n",
    "    'InternetService': 'internet_service',     #тип подключения\n",
    "    'OnlineSecurity': 'online_security',       #блокировка опасных сайтов\n",
    "    'OnlineBackup': 'online_backup',           #облачное хранилище файлов для резервного копирования данных\n",
    "    'DeviceProtection': 'device_protection',   #антивирус\n",
    "    'TechSupport': 'tech_support',             #выделенная линия технической поддержки\n",
    "    'StreamingTV': 'streaming_tv',             #стриминговое телевидение\n",
    "    'StreamingMovies': 'streaming_movies',     #каталог фильмо\n",
    "    'MultipleLines': 'multiplelines'           #подключение телефона к нескольким линиям одновременно\n",
    "}"
   ]
  },
  {
   "cell_type": "code",
   "execution_count": 10,
   "id": "47accb64",
   "metadata": {},
   "outputs": [
    {
     "data": {
      "text/html": [
       "<div>\n",
       "<style scoped>\n",
       "    .dataframe tbody tr th:only-of-type {\n",
       "        vertical-align: middle;\n",
       "    }\n",
       "\n",
       "    .dataframe tbody tr th {\n",
       "        vertical-align: top;\n",
       "    }\n",
       "\n",
       "    .dataframe thead th {\n",
       "        text-align: right;\n",
       "    }\n",
       "</style>\n",
       "<table border=\"1\" class=\"dataframe\">\n",
       "  <thead>\n",
       "    <tr style=\"text-align: right;\">\n",
       "      <th></th>\n",
       "      <th>customer_id</th>\n",
       "      <th>begin_date</th>\n",
       "      <th>end_date</th>\n",
       "      <th>type</th>\n",
       "      <th>paperless_billing</th>\n",
       "      <th>payment_method</th>\n",
       "      <th>monthly_charges</th>\n",
       "      <th>total_charges</th>\n",
       "    </tr>\n",
       "  </thead>\n",
       "  <tbody>\n",
       "    <tr>\n",
       "      <th>0</th>\n",
       "      <td>4472-LVYGI</td>\n",
       "      <td>2020-02-01</td>\n",
       "      <td>None</td>\n",
       "      <td>Two year</td>\n",
       "      <td>Yes</td>\n",
       "      <td>Bank transfer (automatic)</td>\n",
       "      <td>52.55</td>\n",
       "      <td>None</td>\n",
       "    </tr>\n",
       "  </tbody>\n",
       "</table>\n",
       "</div>"
      ],
      "text/plain": [
       "  customer_id  begin_date end_date      type paperless_billing  \\\n",
       "0  4472-LVYGI  2020-02-01     None  Two year               Yes   \n",
       "\n",
       "              payment_method monthly_charges total_charges  \n",
       "0  Bank transfer (automatic)           52.55          None  "
      ]
     },
     "metadata": {},
     "output_type": "display_data"
    },
    {
     "data": {
      "text/html": [
       "<div>\n",
       "<style scoped>\n",
       "    .dataframe tbody tr th:only-of-type {\n",
       "        vertical-align: middle;\n",
       "    }\n",
       "\n",
       "    .dataframe tbody tr th {\n",
       "        vertical-align: top;\n",
       "    }\n",
       "\n",
       "    .dataframe thead th {\n",
       "        text-align: right;\n",
       "    }\n",
       "</style>\n",
       "<table border=\"1\" class=\"dataframe\">\n",
       "  <thead>\n",
       "    <tr style=\"text-align: right;\">\n",
       "      <th></th>\n",
       "      <th>customer_id</th>\n",
       "      <th>gender</th>\n",
       "      <th>senior_citizen</th>\n",
       "      <th>partner</th>\n",
       "      <th>dependents</th>\n",
       "    </tr>\n",
       "  </thead>\n",
       "  <tbody>\n",
       "    <tr>\n",
       "      <th>0</th>\n",
       "      <td>7590-VHVEG</td>\n",
       "      <td>Female</td>\n",
       "      <td>0</td>\n",
       "      <td>Yes</td>\n",
       "      <td>No</td>\n",
       "    </tr>\n",
       "  </tbody>\n",
       "</table>\n",
       "</div>"
      ],
      "text/plain": [
       "  customer_id  gender  senior_citizen partner dependents\n",
       "0  7590-VHVEG  Female               0     Yes         No"
      ]
     },
     "metadata": {},
     "output_type": "display_data"
    },
    {
     "data": {
      "text/html": [
       "<div>\n",
       "<style scoped>\n",
       "    .dataframe tbody tr th:only-of-type {\n",
       "        vertical-align: middle;\n",
       "    }\n",
       "\n",
       "    .dataframe tbody tr th {\n",
       "        vertical-align: top;\n",
       "    }\n",
       "\n",
       "    .dataframe thead th {\n",
       "        text-align: right;\n",
       "    }\n",
       "</style>\n",
       "<table border=\"1\" class=\"dataframe\">\n",
       "  <thead>\n",
       "    <tr style=\"text-align: right;\">\n",
       "      <th></th>\n",
       "      <th>customer_id</th>\n",
       "      <th>internet_service</th>\n",
       "      <th>online_security</th>\n",
       "      <th>online_backup</th>\n",
       "      <th>device_protection</th>\n",
       "      <th>tech_support</th>\n",
       "      <th>streaming_tv</th>\n",
       "      <th>streaming_movies</th>\n",
       "    </tr>\n",
       "  </thead>\n",
       "  <tbody>\n",
       "    <tr>\n",
       "      <th>1</th>\n",
       "      <td>7590-VHVEG</td>\n",
       "      <td>DSL</td>\n",
       "      <td>No</td>\n",
       "      <td>Yes</td>\n",
       "      <td>No</td>\n",
       "      <td>No</td>\n",
       "      <td>No</td>\n",
       "      <td>No</td>\n",
       "    </tr>\n",
       "  </tbody>\n",
       "</table>\n",
       "</div>"
      ],
      "text/plain": [
       "  customer_id internet_service online_security online_backup  \\\n",
       "1  7590-VHVEG              DSL              No           Yes   \n",
       "\n",
       "  device_protection tech_support streaming_tv streaming_movies  \n",
       "1                No           No           No               No  "
      ]
     },
     "metadata": {},
     "output_type": "display_data"
    },
    {
     "data": {
      "text/html": [
       "<div>\n",
       "<style scoped>\n",
       "    .dataframe tbody tr th:only-of-type {\n",
       "        vertical-align: middle;\n",
       "    }\n",
       "\n",
       "    .dataframe tbody tr th {\n",
       "        vertical-align: top;\n",
       "    }\n",
       "\n",
       "    .dataframe thead th {\n",
       "        text-align: right;\n",
       "    }\n",
       "</style>\n",
       "<table border=\"1\" class=\"dataframe\">\n",
       "  <thead>\n",
       "    <tr style=\"text-align: right;\">\n",
       "      <th></th>\n",
       "      <th>customer_id</th>\n",
       "      <th>multiplelines</th>\n",
       "    </tr>\n",
       "  </thead>\n",
       "  <tbody>\n",
       "    <tr>\n",
       "      <th>1</th>\n",
       "      <td>5575-GNVDE</td>\n",
       "      <td>No</td>\n",
       "    </tr>\n",
       "  </tbody>\n",
       "</table>\n",
       "</div>"
      ],
      "text/plain": [
       "  customer_id multiplelines\n",
       "1  5575-GNVDE            No"
      ]
     },
     "metadata": {},
     "output_type": "display_data"
    }
   ],
   "source": [
    "contract_df = contract_df.rename(columns=new_column_names).copy()\n",
    "display(contract_df.head(1))\n",
    "personal_df = personal_df.rename(columns=new_column_names).copy()\n",
    "display(personal_df.head(1))\n",
    "internet_df = internet_df.rename(columns=new_column_names).copy()\n",
    "display(internet_df.head(1))\n",
    "phone_df = phone_df.rename(columns=new_column_names).copy()\n",
    "display(phone_df.head(1))"
   ]
  },
  {
   "cell_type": "markdown",
   "id": "33b962f9",
   "metadata": {},
   "source": [
    "> Признаки успешно переименованы, с учетом PEP8"
   ]
  },
  {
   "cell_type": "markdown",
   "id": "c41f87e7",
   "metadata": {},
   "source": [
    "__Проверим дубликатов в данных__"
   ]
  },
  {
   "cell_type": "code",
   "execution_count": 11,
   "id": "b2a15df1",
   "metadata": {},
   "outputs": [
    {
     "name": "stdout",
     "output_type": "stream",
     "text": [
      "Общее количество дубликатов в данных: 0\n"
     ]
    }
   ],
   "source": [
    "print(f'Общее количество дубликатов в данных: {sum(df.duplicated().sum() for df in list_df)}')"
   ]
  },
  {
   "cell_type": "markdown",
   "id": "20fcaca9",
   "metadata": {},
   "source": [
    ">Успешно выгрены таблицы из базы данных;\n",
    ">\n",
    ">Названий признаков откорректированы в соответствии стандарту PEP8;\n",
    ">\n",
    ">Полные дубликаты в данных отсутствуют"
   ]
  },
  {
   "cell_type": "markdown",
   "id": "9405a5b1",
   "metadata": {},
   "source": [
    "## Анализ информациии о договорах: `contract_df`\n",
    "### Общая информация"
   ]
  },
  {
   "cell_type": "code",
   "execution_count": 12,
   "id": "adf8872a",
   "metadata": {},
   "outputs": [
    {
     "name": "stdout",
     "output_type": "stream",
     "text": [
      "<class 'pandas.core.frame.DataFrame'>\n",
      "RangeIndex: 7043 entries, 0 to 7042\n",
      "Data columns (total 8 columns):\n",
      " #   Column             Non-Null Count  Dtype \n",
      "---  ------             --------------  ----- \n",
      " 0   customer_id        7043 non-null   object\n",
      " 1   begin_date         7043 non-null   object\n",
      " 2   end_date           1869 non-null   object\n",
      " 3   type               7043 non-null   object\n",
      " 4   paperless_billing  7043 non-null   object\n",
      " 5   payment_method     7043 non-null   object\n",
      " 6   monthly_charges    7043 non-null   object\n",
      " 7   total_charges      7032 non-null   object\n",
      "dtypes: object(8)\n",
      "memory usage: 440.3+ KB\n"
     ]
    }
   ],
   "source": [
    "contract_df.info()"
   ]
  },
  {
   "cell_type": "markdown",
   "id": "5a13c92d",
   "metadata": {},
   "source": [
    "__Обработка типов данных__\n",
    "\n",
    "Изменим типы данных в датасете:\n",
    "\n",
    "- `begin_date`, `end_date` -  datetime\n",
    "- `monthly_charges`, `total_charges` - float"
   ]
  },
  {
   "cell_type": "code",
   "execution_count": 13,
   "id": "3a347b78",
   "metadata": {},
   "outputs": [],
   "source": [
    "# преобразование признаков begin_date и end_date в тип данных datetime\n",
    "contract_df['begin_date'] = pd.to_datetime(contract_df['begin_date'])\n",
    "contract_df['end_date'] = pd.to_datetime(contract_df['end_date'])\n",
    "\n",
    "# преобразование признаков monthly_charges и total_charges в тип данных float\n",
    "contract_df['monthly_charges'] = contract_df['monthly_charges'].astype(float)\n",
    "contract_df['total_charges'] = contract_df['total_charges'].astype(float)"
   ]
  },
  {
   "cell_type": "markdown",
   "id": "931ae8f0",
   "metadata": {},
   "source": [
    "### Пропуcки в данных"
   ]
  },
  {
   "cell_type": "code",
   "execution_count": 14,
   "id": "a2b9b3d0",
   "metadata": {},
   "outputs": [
    {
     "data": {
      "text/plain": [
       "customer_id          0.000000\n",
       "begin_date           0.000000\n",
       "end_date             0.734630\n",
       "type                 0.000000\n",
       "paperless_billing    0.000000\n",
       "payment_method       0.000000\n",
       "monthly_charges      0.000000\n",
       "total_charges        0.001562\n",
       "dtype: float64"
      ]
     },
     "metadata": {},
     "output_type": "display_data"
    }
   ],
   "source": [
    "display(contract_df.isna().mean())"
   ]
  },
  {
   "cell_type": "markdown",
   "id": "3194b6ae",
   "metadata": {},
   "source": [
    "__Пропуcки в признаке `total_charges`__"
   ]
  },
  {
   "cell_type": "code",
   "execution_count": 15,
   "id": "3cee11b5",
   "metadata": {},
   "outputs": [
    {
     "data": {
      "text/html": [
       "<div>\n",
       "<style scoped>\n",
       "    .dataframe tbody tr th:only-of-type {\n",
       "        vertical-align: middle;\n",
       "    }\n",
       "\n",
       "    .dataframe tbody tr th {\n",
       "        vertical-align: top;\n",
       "    }\n",
       "\n",
       "    .dataframe thead th {\n",
       "        text-align: right;\n",
       "    }\n",
       "</style>\n",
       "<table border=\"1\" class=\"dataframe\">\n",
       "  <thead>\n",
       "    <tr style=\"text-align: right;\">\n",
       "      <th></th>\n",
       "      <th>customer_id</th>\n",
       "      <th>begin_date</th>\n",
       "      <th>end_date</th>\n",
       "      <th>type</th>\n",
       "      <th>paperless_billing</th>\n",
       "      <th>payment_method</th>\n",
       "      <th>monthly_charges</th>\n",
       "      <th>total_charges</th>\n",
       "    </tr>\n",
       "  </thead>\n",
       "  <tbody>\n",
       "    <tr>\n",
       "      <th>0</th>\n",
       "      <td>4472-LVYGI</td>\n",
       "      <td>2020-02-01</td>\n",
       "      <td>NaT</td>\n",
       "      <td>Two year</td>\n",
       "      <td>Yes</td>\n",
       "      <td>Bank transfer (automatic)</td>\n",
       "      <td>52.55</td>\n",
       "      <td>NaN</td>\n",
       "    </tr>\n",
       "    <tr>\n",
       "      <th>1</th>\n",
       "      <td>3115-CZMZD</td>\n",
       "      <td>2020-02-01</td>\n",
       "      <td>NaT</td>\n",
       "      <td>Two year</td>\n",
       "      <td>No</td>\n",
       "      <td>Mailed check</td>\n",
       "      <td>20.25</td>\n",
       "      <td>NaN</td>\n",
       "    </tr>\n",
       "    <tr>\n",
       "      <th>3</th>\n",
       "      <td>5709-LVOEQ</td>\n",
       "      <td>2020-02-01</td>\n",
       "      <td>NaT</td>\n",
       "      <td>Two year</td>\n",
       "      <td>No</td>\n",
       "      <td>Mailed check</td>\n",
       "      <td>80.85</td>\n",
       "      <td>NaN</td>\n",
       "    </tr>\n",
       "    <tr>\n",
       "      <th>6</th>\n",
       "      <td>4367-NUYAO</td>\n",
       "      <td>2020-02-01</td>\n",
       "      <td>NaT</td>\n",
       "      <td>Two year</td>\n",
       "      <td>No</td>\n",
       "      <td>Mailed check</td>\n",
       "      <td>25.75</td>\n",
       "      <td>NaN</td>\n",
       "    </tr>\n",
       "    <tr>\n",
       "      <th>7</th>\n",
       "      <td>1371-DWPAZ</td>\n",
       "      <td>2020-02-01</td>\n",
       "      <td>NaT</td>\n",
       "      <td>Two year</td>\n",
       "      <td>No</td>\n",
       "      <td>Credit card (automatic)</td>\n",
       "      <td>56.05</td>\n",
       "      <td>NaN</td>\n",
       "    </tr>\n",
       "  </tbody>\n",
       "</table>\n",
       "</div>"
      ],
      "text/plain": [
       "  customer_id begin_date end_date      type paperless_billing  \\\n",
       "0  4472-LVYGI 2020-02-01      NaT  Two year               Yes   \n",
       "1  3115-CZMZD 2020-02-01      NaT  Two year                No   \n",
       "3  5709-LVOEQ 2020-02-01      NaT  Two year                No   \n",
       "6  4367-NUYAO 2020-02-01      NaT  Two year                No   \n",
       "7  1371-DWPAZ 2020-02-01      NaT  Two year                No   \n",
       "\n",
       "              payment_method  monthly_charges  total_charges  \n",
       "0  Bank transfer (automatic)            52.55            NaN  \n",
       "1               Mailed check            20.25            NaN  \n",
       "3               Mailed check            80.85            NaN  \n",
       "6               Mailed check            25.75            NaN  \n",
       "7    Credit card (automatic)            56.05            NaN  "
      ]
     },
     "execution_count": 15,
     "metadata": {},
     "output_type": "execute_result"
    }
   ],
   "source": [
    "contract_df[contract_df['total_charges'].isna()].head(5)"
   ]
  },
  {
   "cell_type": "markdown",
   "id": "057fba58",
   "metadata": {},
   "source": [
    "Можно увидеть, что дата заключения договора 1 февраля 2020 года. Как раз та дата, когда у нас была выгрузка данных. Следовательно данных ещё о платеже нет, либо не успели загрузить в базу данных. Так как подобных записей крайне мало и они могут внести искажение в анализ, следует их удалить."
   ]
  },
  {
   "cell_type": "code",
   "execution_count": 16,
   "id": "10664de9",
   "metadata": {},
   "outputs": [],
   "source": [
    "contract_df = contract_df[~contract_df['total_charges'].isna()].copy()"
   ]
  },
  {
   "cell_type": "markdown",
   "id": "49c1293b",
   "metadata": {},
   "source": [
    "__Пропуcки в признаке `end_date`__\n",
    "\n",
    "При отсутствии даты окончания действия договора, на момент выгрузки данных, клиент считатся активным. Из данного признака получим целевой признак оттока клиентов, а пропуски заменим датой выгрузки данных."
   ]
  },
  {
   "cell_type": "code",
   "execution_count": 17,
   "id": "441ccc45",
   "metadata": {},
   "outputs": [],
   "source": [
    "# пелучение целевой переменной\n",
    "contract_df['churn'] = contract_df['end_date'].isna()*1"
   ]
  },
  {
   "cell_type": "markdown",
   "id": "dd029524",
   "metadata": {},
   "source": [
    "Признак `churn` содержит значения:\n",
    "- 0 факт ухода клиента\n",
    "- 1 клиент продолжает пользоваться услугами компании"
   ]
  },
  {
   "cell_type": "code",
   "execution_count": 18,
   "id": "e55589e7",
   "metadata": {},
   "outputs": [],
   "source": [
    "# замена пропусков в столбце end_date на \"2020-02-01\"\n",
    "contract_df['end_date'].fillna(\"2020-02-01\", inplace=True)"
   ]
  },
  {
   "cell_type": "markdown",
   "id": "e4abf537",
   "metadata": {},
   "source": [
    "### Анализ временных признаков"
   ]
  },
  {
   "cell_type": "code",
   "execution_count": 19,
   "id": "f61131ab",
   "metadata": {},
   "outputs": [
    {
     "name": "stdout",
     "output_type": "stream",
     "text": [
      "Минимальная дата в begin_date: 2018-04-17 00:00:00\n",
      "Максимальная дата в begin_date: 2020-01-29 00:00:00\n",
      "Минимальная дата в end_date: 2019-10-01 00:00:00\n",
      "Максимальная дата в end_date: 2020-02-01 00:00:00\n"
     ]
    }
   ],
   "source": [
    "# получим минимальную и максимальную даты в столбце begin_date\n",
    "min_begin_date = contract_df['begin_date'].min()\n",
    "max_begin_date = contract_df['begin_date'].max()\n",
    "\n",
    "# получим минимальную и максимальную даты в столбце end_date\n",
    "min_end_date = contract_df['end_date'].min()\n",
    "max_end_date = contract_df['end_date'].max()\n",
    "\n",
    "# вывод полученных значений\n",
    "print(f'Минимальная дата в begin_date: {min_begin_date}')\n",
    "print(f'Максимальная дата в begin_date: {max_begin_date}')\n",
    "print(f'Минимальная дата в end_date: {min_end_date}')\n",
    "print(f'Максимальная дата в end_date: {max_end_date}')"
   ]
  },
  {
   "cell_type": "markdown",
   "id": "957f6958",
   "metadata": {},
   "source": [
    ">Аномальных значений в данных признаках не наблюдается.\n",
    ">\n",
    ">Сами даты из-за большой вариативности не несут полезную нагрузку при построении моделей, но можем получить дополнительные признаки:\n",
    "- продолжительность действия контракта, отразит насколько долго клиент пользуется услугами, выразим значение в месяцах."
   ]
  },
  {
   "cell_type": "code",
   "execution_count": 20,
   "id": "aade9418",
   "metadata": {},
   "outputs": [],
   "source": [
    "contract_df['tenure_days'] = (contract_df['end_date'] - contract_df['begin_date']).dt.days"
   ]
  },
  {
   "cell_type": "markdown",
   "id": "0353d9ca",
   "metadata": {},
   "source": [
    "#### Зависимость факта ухода клиентов от месяца и года"
   ]
  },
  {
   "cell_type": "code",
   "execution_count": 21,
   "id": "428e50b7",
   "metadata": {},
   "outputs": [
    {
     "data": {
      "image/png": "[encoded data removed]",
      "text/plain": [
       "<Figure size 1200x300 with 1 Axes>"
      ]
     },
     "metadata": {},
     "output_type": "display_data"
    }
   ],
   "source": [
    "data_info = contract_df.copy()\n",
    "data_info['churn'] = data_info['churn'].replace({1:0, 0:1})\n",
    "data_info['churn_month'] = data_info['end_date'].dt.month\n",
    "data_info['churn_year'] = data_info['end_date'].dt.year\n",
    "\n",
    "# ограничиваем данные до января 2020 года\n",
    "data_info = data_info[(data_info['churn_year'] < 2020) | ((data_info['churn_year'] == 2020) & (data_info['churn_month'] == 1))]\n",
    "\n",
    "# группируем данные по месяцам и годам и подсчитываем количество ушедших клиентов\n",
    "churn_summary = data_info.groupby(['churn_year', 'churn_month'])['churn'].sum().reset_index()\n",
    "\n",
    "# визуализируем зависимость месяца и факта ухода клиентов\n",
    "plt.figure(figsize=(12, 3))\n",
    "plt.plot(churn_summary['churn_year'].astype(str) + '-' + churn_summary['churn_month'].astype(str), churn_summary['churn'], marker='o', color='teal')\n",
    "plt.title('Зависимость факта ухода клиентов от месяца и года (до января 2020 года)')\n",
    "plt.xlabel('Месяц и год')\n",
    "plt.ylabel('Количество ушедших клиентов')\n",
    "plt.xticks(rotation=45)\n",
    "plt.grid(True)\n",
    "plt.show()"
   ]
  },
  {
   "cell_type": "markdown",
   "id": "15678ed4",
   "metadata": {},
   "source": [
    "Зависимость ухода клиентов от месяца и года, исходя из графика, слабая, этот признак не подходит для дальнейшего анализа"
   ]
  },
  {
   "cell_type": "markdown",
   "id": "4639918a",
   "metadata": {},
   "source": [
    "### Анализ категориальных признаков"
   ]
  },
  {
   "cell_type": "code",
   "execution_count": 22,
   "id": "937b5ef6",
   "metadata": {},
   "outputs": [
    {
     "data": {
      "text/html": [
       "<div>\n",
       "<style scoped>\n",
       "    .dataframe tbody tr th:only-of-type {\n",
       "        vertical-align: middle;\n",
       "    }\n",
       "\n",
       "    .dataframe tbody tr th {\n",
       "        vertical-align: top;\n",
       "    }\n",
       "\n",
       "    .dataframe thead th {\n",
       "        text-align: right;\n",
       "    }\n",
       "</style>\n",
       "<table border=\"1\" class=\"dataframe\">\n",
       "  <thead>\n",
       "    <tr style=\"text-align: right;\">\n",
       "      <th></th>\n",
       "      <th>customer_id</th>\n",
       "      <th>type</th>\n",
       "      <th>paperless_billing</th>\n",
       "      <th>payment_method</th>\n",
       "    </tr>\n",
       "  </thead>\n",
       "  <tbody>\n",
       "    <tr>\n",
       "      <th>count</th>\n",
       "      <td>7032</td>\n",
       "      <td>7032</td>\n",
       "      <td>7032</td>\n",
       "      <td>7032</td>\n",
       "    </tr>\n",
       "    <tr>\n",
       "      <th>unique</th>\n",
       "      <td>7032</td>\n",
       "      <td>3</td>\n",
       "      <td>2</td>\n",
       "      <td>4</td>\n",
       "    </tr>\n",
       "    <tr>\n",
       "      <th>top</th>\n",
       "      <td>3668-QPYBK</td>\n",
       "      <td>Month-to-month</td>\n",
       "      <td>Yes</td>\n",
       "      <td>Electronic check</td>\n",
       "    </tr>\n",
       "    <tr>\n",
       "      <th>freq</th>\n",
       "      <td>1</td>\n",
       "      <td>3875</td>\n",
       "      <td>4168</td>\n",
       "      <td>2365</td>\n",
       "    </tr>\n",
       "  </tbody>\n",
       "</table>\n",
       "</div>"
      ],
      "text/plain": [
       "       customer_id            type paperless_billing    payment_method\n",
       "count         7032            7032              7032              7032\n",
       "unique        7032               3                 2                 4\n",
       "top     3668-QPYBK  Month-to-month               Yes  Electronic check\n",
       "freq             1            3875              4168              2365"
      ]
     },
     "metadata": {},
     "output_type": "display_data"
    }
   ],
   "source": [
    "display(contract_df.describe(include=[object]))"
   ]
  },
  {
   "cell_type": "markdown",
   "id": "fa979a69",
   "metadata": {},
   "source": [
    "__Посмотрим уникальные значения в категориальных признаках и их распределения:__"
   ]
  },
  {
   "cell_type": "code",
   "execution_count": 23,
   "id": "beeae041",
   "metadata": {},
   "outputs": [],
   "source": [
    "# функция для вывода уникальных значений и распределения\n",
    "def uniq_val(df, sign):\n",
    "    print(f'Уникальные значения признака {sign} в данных:\\n{df[sign].unique()}')\n",
    "    display(df[sign].value_counts())"
   ]
  },
  {
   "cell_type": "code",
   "execution_count": 24,
   "id": "1660ef76",
   "metadata": {},
   "outputs": [
    {
     "name": "stdout",
     "output_type": "stream",
     "text": [
      "Уникальные значения признака type в данных:\n",
      "['Month-to-month' 'Two year' 'One year']\n"
     ]
    },
    {
     "data": {
      "text/plain": [
       "Month-to-month    3875\n",
       "Two year          1685\n",
       "One year          1472\n",
       "Name: type, dtype: int64"
      ]
     },
     "metadata": {},
     "output_type": "display_data"
    },
    {
     "name": "stdout",
     "output_type": "stream",
     "text": [
      "Уникальные значения признака paperless_billing в данных:\n",
      "['Yes' 'No']\n"
     ]
    },
    {
     "data": {
      "text/plain": [
       "Yes    4168\n",
       "No     2864\n",
       "Name: paperless_billing, dtype: int64"
      ]
     },
     "metadata": {},
     "output_type": "display_data"
    },
    {
     "name": "stdout",
     "output_type": "stream",
     "text": [
      "Уникальные значения признака payment_method в данных:\n",
      "['Mailed check' 'Electronic check' 'Bank transfer (automatic)'\n",
      " 'Credit card (automatic)']\n"
     ]
    },
    {
     "data": {
      "text/plain": [
       "Electronic check             2365\n",
       "Mailed check                 1604\n",
       "Bank transfer (automatic)    1542\n",
       "Credit card (automatic)      1521\n",
       "Name: payment_method, dtype: int64"
      ]
     },
     "metadata": {},
     "output_type": "display_data"
    }
   ],
   "source": [
    "uniq_val(contract_df, 'type')\n",
    "uniq_val(contract_df, 'paperless_billing')\n",
    "uniq_val(contract_df, 'payment_method')"
   ]
  },
  {
   "cell_type": "markdown",
   "id": "270ab1fb",
   "metadata": {},
   "source": [
    "Исходя из значений и рапределений данных:\n",
    "- В признаках нет групп с малым количеством данных, требующих объединение.\n",
    "- Большинство людей предпочитают ежемесячные платежи, электронные рассчетные листы."
   ]
  },
  {
   "cell_type": "markdown",
   "id": "de3027bb",
   "metadata": {},
   "source": [
    "### Анализ числовых признаков"
   ]
  },
  {
   "cell_type": "code",
   "execution_count": 25,
   "id": "9dc91ccb",
   "metadata": {},
   "outputs": [
    {
     "data": {
      "text/html": [
       "<pre style=\"white-space:pre;overflow-x:auto;line-height:normal;font-family:Menlo,'DejaVu Sans Mono',consolas,'Courier New',monospace\"><span style=\"font-weight: bold\">Статистика для contract_df:</span>\n",
       "</pre>\n"
      ],
      "text/plain": [
       "\u001b[1mСтатистика для contract_df:\u001b[0m\n"
      ]
     },
     "metadata": {},
     "output_type": "display_data"
    },
    {
     "name": "stdout",
     "output_type": "stream",
     "text": [
      "       monthly_charges  total_charges        churn  tenure_days\n",
      "count      7032.000000    7032.000000  7032.000000  7032.000000\n",
      "mean         64.798208    2283.300441     0.734215   297.843857\n",
      "std          30.085974    2266.771362     0.441782    83.104180\n",
      "min          18.250000      18.800000     0.000000     3.000000\n",
      "25%          35.587500     401.450000     0.000000   242.000000\n",
      "50%          70.350000    1397.475000     1.000000   298.000000\n",
      "75%          89.862500    3794.737500     1.000000   352.000000\n",
      "max         118.750000    8684.800000     1.000000   583.000000\n"
     ]
    }
   ],
   "source": [
    "# статистика для crowd_annotat\n",
    "console.print('[bold]Статистика для contract_df:[/bold]')\n",
    "print(contract_df.describe())"
   ]
  },
  {
   "cell_type": "code",
   "execution_count": 26,
   "id": "e656c8d5",
   "metadata": {},
   "outputs": [
    {
     "data": {
      "image/png": "[encoded data removed]",
      "text/plain": [
       "<Figure size 1800x500 with 3 Axes>"
      ]
     },
     "metadata": {},
     "output_type": "display_data"
    }
   ],
   "source": [
    "# визуализация данных\n",
    "fig, axes = plt.subplots(1, 3, figsize=(18, 5))\n",
    "\n",
    "contract_df['monthly_charges'].hist(ax=axes[0], color='teal')\n",
    "axes[0].set_title(\"Распределение ежемесячных платежей\")\n",
    "\n",
    "contract_df['total_charges'].hist(ax=axes[1], color='teal')\n",
    "axes[1].set_title(\"Распределение общих расходов абонента\")\n",
    "\n",
    "contract_df['tenure_days'].hist(ax=axes[2], color='teal')\n",
    "axes[2].set_title(\"Распределение длительности заключенных контрактов\")\n",
    "\n",
    "plt.show()"
   ]
  },
  {
   "cell_type": "markdown",
   "id": "ab1fe999",
   "metadata": {},
   "source": [
    "Исходя из общей статистики числовых данных и их визуализации, можно сделать вывод, что в данных отсутствуют явные аномалии, экстримально большие или маленькие значения."
   ]
  },
  {
   "cell_type": "markdown",
   "id": "06638fae",
   "metadata": {},
   "source": [
    "### Итоговый датасет с информацией о договорах"
   ]
  },
  {
   "cell_type": "code",
   "execution_count": 27,
   "id": "0d62cc00",
   "metadata": {},
   "outputs": [],
   "source": [
    "contract_df = contract_df.drop(['begin_date', 'end_date'], axis=1)"
   ]
  },
  {
   "cell_type": "code",
   "execution_count": 28,
   "id": "e69b4775",
   "metadata": {},
   "outputs": [
    {
     "name": "stdout",
     "output_type": "stream",
     "text": [
      "<class 'pandas.core.frame.DataFrame'>\n",
      "Int64Index: 7032 entries, 2 to 7042\n",
      "Data columns (total 8 columns):\n",
      " #   Column             Non-Null Count  Dtype  \n",
      "---  ------             --------------  -----  \n",
      " 0   customer_id        7032 non-null   object \n",
      " 1   type               7032 non-null   object \n",
      " 2   paperless_billing  7032 non-null   object \n",
      " 3   payment_method     7032 non-null   object \n",
      " 4   monthly_charges    7032 non-null   float64\n",
      " 5   total_charges      7032 non-null   float64\n",
      " 6   churn              7032 non-null   int64  \n",
      " 7   tenure_days        7032 non-null   int64  \n",
      "dtypes: float64(2), int64(2), object(4)\n",
      "memory usage: 494.4+ KB\n"
     ]
    }
   ],
   "source": [
    "contract_df.info()"
   ]
  },
  {
   "cell_type": "markdown",
   "id": "723c4ba6",
   "metadata": {},
   "source": [
    ">Проведен анализ данных с информацией о договорах;\n",
    ">\n",
    ">Обработаны пропуски и аномалии;\n",
    ">\n",
    ">Добавлен целевой и признак отражающий как давно челорвек, является абонентом компании."
   ]
  },
  {
   "cell_type": "markdown",
   "id": "5b204f78",
   "metadata": {},
   "source": [
    "## Анализ информациии о персональных данных клиентов: `personal_df`\n",
    "### Общая информация"
   ]
  },
  {
   "cell_type": "code",
   "execution_count": 29,
   "id": "d8bb7076",
   "metadata": {},
   "outputs": [
    {
     "data": {
      "text/html": [
       "<div>\n",
       "<style scoped>\n",
       "    .dataframe tbody tr th:only-of-type {\n",
       "        vertical-align: middle;\n",
       "    }\n",
       "\n",
       "    .dataframe tbody tr th {\n",
       "        vertical-align: top;\n",
       "    }\n",
       "\n",
       "    .dataframe thead th {\n",
       "        text-align: right;\n",
       "    }\n",
       "</style>\n",
       "<table border=\"1\" class=\"dataframe\">\n",
       "  <thead>\n",
       "    <tr style=\"text-align: right;\">\n",
       "      <th></th>\n",
       "      <th>customer_id</th>\n",
       "      <th>gender</th>\n",
       "      <th>senior_citizen</th>\n",
       "      <th>partner</th>\n",
       "      <th>dependents</th>\n",
       "    </tr>\n",
       "  </thead>\n",
       "  <tbody>\n",
       "    <tr>\n",
       "      <th>0</th>\n",
       "      <td>7590-VHVEG</td>\n",
       "      <td>Female</td>\n",
       "      <td>0</td>\n",
       "      <td>Yes</td>\n",
       "      <td>No</td>\n",
       "    </tr>\n",
       "    <tr>\n",
       "      <th>1</th>\n",
       "      <td>5575-GNVDE</td>\n",
       "      <td>Male</td>\n",
       "      <td>0</td>\n",
       "      <td>No</td>\n",
       "      <td>No</td>\n",
       "    </tr>\n",
       "  </tbody>\n",
       "</table>\n",
       "</div>"
      ],
      "text/plain": [
       "  customer_id  gender  senior_citizen partner dependents\n",
       "0  7590-VHVEG  Female               0     Yes         No\n",
       "1  5575-GNVDE    Male               0      No         No"
      ]
     },
     "metadata": {},
     "output_type": "display_data"
    },
    {
     "name": "stdout",
     "output_type": "stream",
     "text": [
      "<class 'pandas.core.frame.DataFrame'>\n",
      "RangeIndex: 7043 entries, 0 to 7042\n",
      "Data columns (total 5 columns):\n",
      " #   Column          Non-Null Count  Dtype \n",
      "---  ------          --------------  ----- \n",
      " 0   customer_id     7043 non-null   object\n",
      " 1   gender          7043 non-null   object\n",
      " 2   senior_citizen  7043 non-null   int64 \n",
      " 3   partner         7043 non-null   object\n",
      " 4   dependents      7043 non-null   object\n",
      "dtypes: int64(1), object(4)\n",
      "memory usage: 275.2+ KB\n"
     ]
    },
    {
     "data": {
      "text/plain": [
       "None"
      ]
     },
     "metadata": {},
     "output_type": "display_data"
    }
   ],
   "source": [
    "display(personal_df.head(2))\n",
    "display(personal_df.info())"
   ]
  },
  {
   "cell_type": "markdown",
   "id": "46fa90bc",
   "metadata": {},
   "source": [
    "__Проверим пропуски в данных:__"
   ]
  },
  {
   "cell_type": "code",
   "execution_count": 30,
   "id": "fdad2b79",
   "metadata": {},
   "outputs": [
    {
     "name": "stdout",
     "output_type": "stream",
     "text": [
      "Общее количество пропусков в данных: 0\n"
     ]
    }
   ],
   "source": [
    "print(f'Общее количество пропусков в данных: {sum(personal_df.isna().sum())}')"
   ]
  },
  {
   "cell_type": "markdown",
   "id": "e8ae1e32",
   "metadata": {},
   "source": [
    "### Визуализация данных"
   ]
  },
  {
   "cell_type": "code",
   "execution_count": 31,
   "id": "95811ea6",
   "metadata": {},
   "outputs": [
    {
     "data": {
      "image/png": "[encoded data removed]",
      "text/plain": [
       "<Figure size 1600x400 with 4 Axes>"
      ]
     },
     "metadata": {},
     "output_type": "display_data"
    }
   ],
   "source": [
    "binary_features = ['gender', 'senior_citizen', 'partner', 'dependents']\n",
    "# палитра\n",
    "pastel_colors = ['#B2DFDB', 'lightskyblue']\n",
    "\n",
    "plt.figure(figsize=(16, 4))\n",
    "\n",
    "# визуализация\n",
    "for i, feature in enumerate(binary_features):\n",
    "    plt.subplot(1, 4, i + 1)  \n",
    "    plt.title(f'Распределение {feature}')\n",
    "    \n",
    "    personal_df[feature].value_counts().plot(kind='pie', autopct='%1.1f%%', colors=pastel_colors)\n",
    "    plt.ylabel('') \n"
   ]
  },
  {
   "cell_type": "markdown",
   "id": "ab1ff8a6",
   "metadata": {},
   "source": [
    "В данных пропуски отсутствуют.\n",
    "\n",
    "Из распределения данных можно понять:\n",
    "\n",
    "- Пол (gender): В датасете клиентов примерно одинаковое количество мужчин и женщин, с небольшим преимуществом мужчин (3555 мужчин и 3488 женщин). Это говорит о том, что половая принадлежность клиентов достаточно равномерно распределена.\n",
    "- Является ли клиент пенсионером (senior_citizen): Большинство клиентов в датасете (5901 человек) не являются пенсионерами, в то время как 1142 клиента являются пенсионерами.\n",
    "- Наличие супруга или супруги (partner): В датасете 3641 клиентов не имеют супруга или супруги, в то время как 3402 клиента имеют супруга или супругу. Распределение близко к равномерному, что может указывать на разнообразие семейных структур среди клиентов.\n",
    "- Наличие детей (dependents):Большинство клиентов (4933 человека) не имеют детей, в то время как 2110 клиентов имеют детей. Это может быть важным фактором при анализе поведения клиентов и их решениях о продолжении использования услуг.\n",
    "\n",
    "Эти данные предоставляют нам информацию о демографических характеристиках клиентов и их семейном статусе. Данные выводы могут быть полезными для дальнейшего анализа и разработки стратегии по удержанию клиентов, учитывая их особенности и потребности."
   ]
  },
  {
   "cell_type": "markdown",
   "id": "1297fc0e",
   "metadata": {},
   "source": [
    "## Анализ информациии об интернет-услугах: `internet_df`\n",
    "### Общая информация"
   ]
  },
  {
   "cell_type": "code",
   "execution_count": 32,
   "id": "ca6f44bc",
   "metadata": {},
   "outputs": [
    {
     "data": {
      "text/html": [
       "<div>\n",
       "<style scoped>\n",
       "    .dataframe tbody tr th:only-of-type {\n",
       "        vertical-align: middle;\n",
       "    }\n",
       "\n",
       "    .dataframe tbody tr th {\n",
       "        vertical-align: top;\n",
       "    }\n",
       "\n",
       "    .dataframe thead th {\n",
       "        text-align: right;\n",
       "    }\n",
       "</style>\n",
       "<table border=\"1\" class=\"dataframe\">\n",
       "  <thead>\n",
       "    <tr style=\"text-align: right;\">\n",
       "      <th></th>\n",
       "      <th>customer_id</th>\n",
       "      <th>internet_service</th>\n",
       "      <th>online_security</th>\n",
       "      <th>online_backup</th>\n",
       "      <th>device_protection</th>\n",
       "      <th>tech_support</th>\n",
       "      <th>streaming_tv</th>\n",
       "      <th>streaming_movies</th>\n",
       "    </tr>\n",
       "  </thead>\n",
       "  <tbody>\n",
       "    <tr>\n",
       "      <th>1</th>\n",
       "      <td>7590-VHVEG</td>\n",
       "      <td>DSL</td>\n",
       "      <td>No</td>\n",
       "      <td>Yes</td>\n",
       "      <td>No</td>\n",
       "      <td>No</td>\n",
       "      <td>No</td>\n",
       "      <td>No</td>\n",
       "    </tr>\n",
       "    <tr>\n",
       "      <th>2</th>\n",
       "      <td>5575-GNVDE</td>\n",
       "      <td>DSL</td>\n",
       "      <td>Yes</td>\n",
       "      <td>No</td>\n",
       "      <td>Yes</td>\n",
       "      <td>No</td>\n",
       "      <td>No</td>\n",
       "      <td>No</td>\n",
       "    </tr>\n",
       "  </tbody>\n",
       "</table>\n",
       "</div>"
      ],
      "text/plain": [
       "  customer_id internet_service online_security online_backup  \\\n",
       "1  7590-VHVEG              DSL              No           Yes   \n",
       "2  5575-GNVDE              DSL             Yes            No   \n",
       "\n",
       "  device_protection tech_support streaming_tv streaming_movies  \n",
       "1                No           No           No               No  \n",
       "2               Yes           No           No               No  "
      ]
     },
     "metadata": {},
     "output_type": "display_data"
    },
    {
     "name": "stdout",
     "output_type": "stream",
     "text": [
      "<class 'pandas.core.frame.DataFrame'>\n",
      "RangeIndex: 5517 entries, 1 to 5517\n",
      "Data columns (total 8 columns):\n",
      " #   Column             Non-Null Count  Dtype \n",
      "---  ------             --------------  ----- \n",
      " 0   customer_id        5517 non-null   object\n",
      " 1   internet_service   5517 non-null   object\n",
      " 2   online_security    5517 non-null   object\n",
      " 3   online_backup      5517 non-null   object\n",
      " 4   device_protection  5517 non-null   object\n",
      " 5   tech_support       5517 non-null   object\n",
      " 6   streaming_tv       5517 non-null   object\n",
      " 7   streaming_movies   5517 non-null   object\n",
      "dtypes: object(8)\n",
      "memory usage: 344.9+ KB\n"
     ]
    },
    {
     "data": {
      "text/plain": [
       "None"
      ]
     },
     "metadata": {},
     "output_type": "display_data"
    }
   ],
   "source": [
    "display(internet_df.head(2))\n",
    "display(internet_df.info())"
   ]
  },
  {
   "cell_type": "markdown",
   "id": "426064dd",
   "metadata": {},
   "source": [
    "__Проверим пропуски в данных:__"
   ]
  },
  {
   "cell_type": "code",
   "execution_count": 33,
   "id": "ab4f7108",
   "metadata": {},
   "outputs": [
    {
     "name": "stdout",
     "output_type": "stream",
     "text": [
      "Общее количество пропусков в данных: 0\n"
     ]
    }
   ],
   "source": [
    "print(f'Общее количество пропусков в данных: {sum(internet_df.isna().sum())}')"
   ]
  },
  {
   "cell_type": "markdown",
   "id": "23a3cc15",
   "metadata": {},
   "source": [
    "### Визуализация данных"
   ]
  },
  {
   "cell_type": "code",
   "execution_count": 34,
   "id": "b8f7fb40",
   "metadata": {},
   "outputs": [
    {
     "data": {
      "image/png": "[encoded data removed]",
      "text/plain": [
       "<Figure size 1600x800 with 7 Axes>"
      ]
     },
     "metadata": {},
     "output_type": "display_data"
    }
   ],
   "source": [
    "features = ['internet_service', 'online_security', 'online_backup', 'device_protection', 'tech_support', 'streaming_tv', 'streaming_movies']\n",
    "# палитра\n",
    "pastel_colors = ['#B2DFDB', 'lightskyblue']\n",
    "\n",
    "plt.figure(figsize=(16, 8))\n",
    "for i, feature in enumerate(features):\n",
    "    if i < 4:\n",
    "        plt.subplot(2, 4, i + 1)  # 2x4 сетка графиков\n",
    "        plt.title(f'Распределение {feature}')\n",
    "    else:\n",
    "        plt.subplot(2, 4, i + 1)  # 2x4 сетка графиков\n",
    "        plt.title(f'Распределение {feature}')\n",
    "    \n",
    "    pie_data = internet_df[feature].value_counts()\n",
    "    pie_labels = pie_data.index\n",
    "    pie_colors = pastel_colors[:len(pie_labels)]\n",
    "    pie_data.plot(kind='pie', autopct='%1.1f%%', colors=pie_colors, labels=pie_labels)\n",
    "    plt.ylabel('')\n",
    "    plt.xlabel('')\n",
    "\n",
    "plt.tight_layout()\n",
    "\n",
    "plt.subplots_adjust(top=0.9)\n",
    "plt.show()\n"
   ]
  },
  {
   "cell_type": "markdown",
   "id": "54888a4d",
   "metadata": {},
   "source": [
    "В данных пропуски отсутствуют.\n",
    "\n",
    "Из визуализации данных можно понять, что все признаки распределены равномерно.\n",
    "\n",
    "Следует отметить, что колличество клиентов, которые пользуются интернет-услугами меньше чем общее количество пользователей."
   ]
  },
  {
   "cell_type": "markdown",
   "id": "af4efb3a",
   "metadata": {},
   "source": [
    "## Анализ информациии об услугах телефонии: `phone_df`\n",
    "### Общая информация"
   ]
  },
  {
   "cell_type": "code",
   "execution_count": 35,
   "id": "2a7aa373",
   "metadata": {},
   "outputs": [
    {
     "data": {
      "text/html": [
       "<div>\n",
       "<style scoped>\n",
       "    .dataframe tbody tr th:only-of-type {\n",
       "        vertical-align: middle;\n",
       "    }\n",
       "\n",
       "    .dataframe tbody tr th {\n",
       "        vertical-align: top;\n",
       "    }\n",
       "\n",
       "    .dataframe thead th {\n",
       "        text-align: right;\n",
       "    }\n",
       "</style>\n",
       "<table border=\"1\" class=\"dataframe\">\n",
       "  <thead>\n",
       "    <tr style=\"text-align: right;\">\n",
       "      <th></th>\n",
       "      <th>customer_id</th>\n",
       "      <th>multiplelines</th>\n",
       "    </tr>\n",
       "  </thead>\n",
       "  <tbody>\n",
       "    <tr>\n",
       "      <th>1</th>\n",
       "      <td>5575-GNVDE</td>\n",
       "      <td>No</td>\n",
       "    </tr>\n",
       "    <tr>\n",
       "      <th>2</th>\n",
       "      <td>3668-QPYBK</td>\n",
       "      <td>No</td>\n",
       "    </tr>\n",
       "  </tbody>\n",
       "</table>\n",
       "</div>"
      ],
      "text/plain": [
       "  customer_id multiplelines\n",
       "1  5575-GNVDE            No\n",
       "2  3668-QPYBK            No"
      ]
     },
     "metadata": {},
     "output_type": "display_data"
    },
    {
     "name": "stdout",
     "output_type": "stream",
     "text": [
      "<class 'pandas.core.frame.DataFrame'>\n",
      "RangeIndex: 6361 entries, 1 to 6361\n",
      "Data columns (total 2 columns):\n",
      " #   Column         Non-Null Count  Dtype \n",
      "---  ------         --------------  ----- \n",
      " 0   customer_id    6361 non-null   object\n",
      " 1   multiplelines  6361 non-null   object\n",
      "dtypes: object(2)\n",
      "memory usage: 99.5+ KB\n"
     ]
    },
    {
     "data": {
      "text/plain": [
       "None"
      ]
     },
     "metadata": {},
     "output_type": "display_data"
    }
   ],
   "source": [
    "display(phone_df.head(2))\n",
    "display(phone_df.info())"
   ]
  },
  {
   "cell_type": "markdown",
   "id": "13263305",
   "metadata": {},
   "source": [
    "__Проверим пропуски в данных:__"
   ]
  },
  {
   "cell_type": "code",
   "execution_count": 36,
   "id": "cdf9e49a",
   "metadata": {},
   "outputs": [
    {
     "name": "stdout",
     "output_type": "stream",
     "text": [
      "Общее количество пропусков в данных: 0\n"
     ]
    }
   ],
   "source": [
    "print(f'Общее количество пропусков в данных: {sum(internet_df.isna().sum())}')"
   ]
  },
  {
   "cell_type": "code",
   "execution_count": 37,
   "id": "b788af1b",
   "metadata": {},
   "outputs": [
    {
     "data": {
      "image/png": "[encoded data removed]",
      "text/plain": [
       "<Figure size 1600x300 with 1 Axes>"
      ]
     },
     "metadata": {},
     "output_type": "display_data"
    }
   ],
   "source": [
    "features = ['multiplelines']\n",
    "# палитра\n",
    "pastel_colors = ['#B2DFDB', 'lightskyblue']\n",
    "\n",
    "plt.figure(figsize=(16, 3))\n",
    "\n",
    "for i, feature in enumerate(features):\n",
    "    plt.subplot(1, 4, i + 1)\n",
    "    plt.title(f'Распределение {feature}')\n",
    "    \n",
    "    pie_data = phone_df[feature].value_counts()\n",
    "    pie_labels = pie_data.index\n",
    "    pie_colors = pastel_colors[:len(pie_labels)]\n",
    "    pie_data.plot(kind='pie', autopct='%1.1f%%', colors=pie_colors, labels=pie_labels)\n",
    "    plt.ylabel('')\n",
    "    plt.xlabel('')\n",
    "\n",
    "plt.tight_layout()\n",
    "plt.show()\n"
   ]
  },
  {
   "cell_type": "markdown",
   "id": "615ec5f4",
   "metadata": {},
   "source": [
    "В данных пропуски отсутствуют.\n",
    "\n",
    "Из визуализации данных можно понять, что значения в признаке распределены равномерно.\n",
    "\n",
    "Следует отметить, что колличество клиентов, которые пользуются услугами телефонии меньше чем общее количество пользователей."
   ]
  },
  {
   "cell_type": "markdown",
   "id": "1b4115f8",
   "metadata": {},
   "source": [
    "## Итоговый датасет\n",
    "\n",
    "Объединим датасеты по признаку `customer_id`"
   ]
  },
  {
   "cell_type": "code",
   "execution_count": 38,
   "id": "9ec3a6b4",
   "metadata": {},
   "outputs": [],
   "source": [
    "# объединение contract_df и personal_df\n",
    "df = contract_df.merge(personal_df, on='customer_id', how='left')\n",
    "# объединение с internet_df\n",
    "df = df.merge(internet_df, on='customer_id', how='left')\n",
    "# объединение с phone_df\n",
    "df = df.merge(phone_df, on='customer_id', how='left')"
   ]
  },
  {
   "cell_type": "code",
   "execution_count": 39,
   "id": "0d5a8584",
   "metadata": {},
   "outputs": [
    {
     "name": "stdout",
     "output_type": "stream",
     "text": [
      "<class 'pandas.core.frame.DataFrame'>\n",
      "Int64Index: 7032 entries, 0 to 7031\n",
      "Data columns (total 20 columns):\n",
      " #   Column             Non-Null Count  Dtype  \n",
      "---  ------             --------------  -----  \n",
      " 0   customer_id        7032 non-null   object \n",
      " 1   type               7032 non-null   object \n",
      " 2   paperless_billing  7032 non-null   object \n",
      " 3   payment_method     7032 non-null   object \n",
      " 4   monthly_charges    7032 non-null   float64\n",
      " 5   total_charges      7032 non-null   float64\n",
      " 6   churn              7032 non-null   int64  \n",
      " 7   tenure_days        7032 non-null   int64  \n",
      " 8   gender             7032 non-null   object \n",
      " 9   senior_citizen     7032 non-null   int64  \n",
      " 10  partner            7032 non-null   object \n",
      " 11  dependents         7032 non-null   object \n",
      " 12  internet_service   5512 non-null   object \n",
      " 13  online_security    5512 non-null   object \n",
      " 14  online_backup      5512 non-null   object \n",
      " 15  device_protection  5512 non-null   object \n",
      " 16  tech_support       5512 non-null   object \n",
      " 17  streaming_tv       5512 non-null   object \n",
      " 18  streaming_movies   5512 non-null   object \n",
      " 19  multiplelines      6352 non-null   object \n",
      "dtypes: float64(2), int64(3), object(15)\n",
      "memory usage: 1.1+ MB\n"
     ]
    }
   ],
   "source": [
    "# общая информация объединенного датасета\n",
    "df.info()"
   ]
  },
  {
   "cell_type": "markdown",
   "id": "dafc2e84",
   "metadata": {},
   "source": [
    "Как видно из общей информации, не все абоненты используют интернет-услуги и подключение телефона к нескольким линиям одновременно, пропуски в данных признаках, заполним стационарным значением 'no_info'."
   ]
  },
  {
   "cell_type": "code",
   "execution_count": 40,
   "id": "09401c89",
   "metadata": {},
   "outputs": [],
   "source": [
    "# заполнение пропусков\n",
    "df = df.fillna('no_info')"
   ]
  },
  {
   "cell_type": "markdown",
   "id": "188e4a56",
   "metadata": {},
   "source": [
    "## Баланс целевой переменной"
   ]
  },
  {
   "cell_type": "code",
   "execution_count": 41,
   "id": "68260234",
   "metadata": {},
   "outputs": [
    {
     "data": {
      "image/png": "[encoded data removed]",
      "text/plain": [
       "<Figure size 640x480 with 1 Axes>"
      ]
     },
     "metadata": {},
     "output_type": "display_data"
    }
   ],
   "source": [
    "# баланс целевого признака\n",
    "data = [df['churn'].value_counts()[0], df['churn'].value_counts()[1]]\n",
    "labels = ['Отток', 'Пролонгация договора']\n",
    "\n",
    "colors = sns.color_palette('pastel')[ 0:5 ]\n",
    "\n",
    "plt.pie(data, labels = labels, colors = colors, autopct='%.0f%%')\n",
    "plt.show()"
   ]
  },
  {
   "cell_type": "markdown",
   "id": "bfab6c7c",
   "metadata": {},
   "source": [
    ">Присутствует дисбаланс целевой переменной, это нужно учесть, при разделении данных на обучающий и тестовый датесеты."
   ]
  },
  {
   "cell_type": "markdown",
   "id": "5d0880a1",
   "metadata": {},
   "source": [
    "## Взаимосвязь признаков\n",
    "\n",
    "Метод PHIK - это статистический метод для определения взаимосвязей между категориальными переменными. Он разработан на основе корреляционного анализа, но специально адаптирован для работы с категориальными данными, которые обычно представлены в виде таблиц сопряженности."
   ]
  },
  {
   "cell_type": "code",
   "execution_count": 42,
   "id": "26be037f",
   "metadata": {},
   "outputs": [
    {
     "name": "stdout",
     "output_type": "stream",
     "text": [
      "interval columns not set, guessing: ['monthly_charges', 'total_charges', 'churn', 'tenure_days', 'senior_citizen']\n"
     ]
    },
    {
     "data": {
      "image/png": "[encoded data removed]",
      "text/plain": [
       "<Figure size 1200x800 with 2 Axes>"
      ]
     },
     "metadata": {},
     "output_type": "display_data"
    }
   ],
   "source": [
    "# матрица кореляции\n",
    "phik_overview = df[[col for col in df.columns if col != 'customer_id']].phik_matrix()\n",
    "# heatmap\n",
    "plt.figure(figsize=(12, 8))\n",
    "sns.heatmap(phik_overview, annot=True, cmap='coolwarm', vmin=0, vmax=1)\n",
    "plt.title('Матрица корреляции phik')\n",
    "\n",
    "plt.show()"
   ]
  },
  {
   "cell_type": "markdown",
   "id": "d4c3cf28",
   "metadata": {},
   "source": [
    "Исходя из матрицы взаимосвязи признаков можно сделать следующие выводы:\n",
    "- Наибольшее влияние на факт оттока клиентов оказывают:\n",
    "    - `type` тип оплаты (раз в год-два или ежемесячно)\n",
    "    - `monthly_charges` расходы за месяц, и как следствие общие расходы абонента\n",
    "    - `payment_method` тип платежа\n",
    "- Следующие признаки, не влияют вероятнность отказа от использования услуг и могут быть исключены из обучения моделей:\n",
    "    - `gender` пол\n",
    "    - `customer_id` ID пользователя\n",
    "- Признаки с информацией об интернет-услугах, сильно взаимосвязаны, это может быть связано с практикой пакетного предоставления услуг. Для устранения мультиколлиниарности в обучении моделей из этих признаков возможно оставить только:\n",
    "    - `internet_service` тип подключения\n",
    "    \n",
    "Исходя из вышеописанного, есть две стратегии для обучения моделей:\n",
    "\n",
    "- Обучение на всех данных, с этим будет связано следующие особенности:\n",
    "   - мультиколлиниарность, и возможное снижение качества моделей при использовании линейных алгоритмов обучения\n",
    "   - ресурсозатратность, при использовании всех признаков увеличится время обучения\n",
    "   - возможность увеличения значения метрик качества в бустинговых моделях и нейронных сетях, при наличии дополнительной информации, в признаках, не смотря на их взаимосвязи.\n",
    "   \n",
    "- Обучение на очищенных данных, с этим будет связано следующие особенности:\n",
    "   - мультиколлиниарность, и возможное повышение качества моделей при использовании линейных алгоритмов обучения\n",
    "   - ресурсозатратность, при использовании очищенных данных уменьшится время обучения\n",
    "   - возможность снижение значения метрик качества в бустинговых моделях и нейронных сетях, особенно, учитывая тот факт, что у нас ожидается всего 5000 записей в тренировочном наборе данных (75% от всех данных)\n",
    "   \n",
    "- Интересным выглядит так же факт того, что на факт оттока очень слабо влият, длительность использования услуг."
   ]
  },
  {
   "cell_type": "code",
   "execution_count": 43,
   "id": "8949dcc5",
   "metadata": {},
   "outputs": [],
   "source": [
    "# датасет со всеми данными (кроме признака customer_id с уникальными значениями)\n",
    "df_full = df.drop('customer_id', axis=1)\n",
    "# датасет с отобранными признакми\n",
    "df = df.drop(['customer_id', 'gender', 'online_backup', 'device_protection', \n",
    "              'tech_support', 'tech_support', 'streaming_tv', 'streaming_movies'], axis=1)"
   ]
  },
  {
   "cell_type": "markdown",
   "id": "7070e8e6",
   "metadata": {},
   "source": [
    "<div style=\"padding:0px 20px 10px;\n",
    "            color:#004346;\n",
    "            font-size:15px;\n",
    "            display:fill;\n",
    "            text-align:center;\n",
    "            border-radius:20px;\n",
    "            border: 5px double;\n",
    "            border-color:#201E20;\n",
    "            background-color: #E8F1F2;\n",
    "            overflow:hidden;\n",
    "            font-weight:400\">\n",
    "\n",
    "# Подготовка данных для обучения моделей\n",
    "\n",
    "</div>\n",
    "\n",
    "- Разделим данные на тренировочный и тестовой датесет\n",
    "- Выделим категориальные и числовые признаки\n",
    "- Стандартизируем числовые и закодируем категориальные признаки"
   ]
  },
  {
   "cell_type": "code",
   "execution_count": 87,
   "id": "71f06756",
   "metadata": {},
   "outputs": [],
   "source": [
    "# числовые признаки\n",
    "numeric_columns = ['monthly_charges', 'total_charges', 'tenure_days']\n",
    "# категориальные признаки для датасета со всеми данными\n",
    "categorical_columns_full = [col for col in df_full.columns if col not in numeric_columns and col != 'churn']\n",
    "# категориальные признаки для датасета с отобранными признакми\n",
    "categorical_columns = [col for col in df.columns if col not in numeric_columns and col != 'churn']\n",
    "\n",
    "# признаки для датасета со всеми данными\n",
    "X_full = df_full[categorical_columns_full + numeric_columns]\n",
    "# признаки для датасета с отобранными признакми\n",
    "X = df[categorical_columns + numeric_columns]\n",
    "# целевой признак\n",
    "y = df['churn']"
   ]
  },
  {
   "cell_type": "code",
   "execution_count": 49,
   "id": "70e361b3",
   "metadata": {},
   "outputs": [],
   "source": [
    "# формирование выборок с сохранением баланса классов для датасета со всеми данными\n",
    "X_train_full, X_test_full, y_train_full, y_test_full = train_test_split(X_full, y, test_size=0.25, stratify=y, random_state=RANDOM_SEED)\n",
    "# формирование выборок с сохранением баланса классов для датасета с отобранными признакми\n",
    "X_train, X_test, y_train, y_test = train_test_split(X, y, test_size=0.25, stratify=y, random_state=RANDOM_SEED)"
   ]
  },
  {
   "cell_type": "code",
   "execution_count": 50,
   "id": "6b4a77d3",
   "metadata": {},
   "outputs": [
    {
     "name": "stdout",
     "output_type": "stream",
     "text": [
      "Баланс классов целевого признака:\n",
      "y_train:\n",
      "1    73.0\n",
      "0    27.0\n",
      "Name: churn, dtype: float64\n",
      "y_test:\n",
      "1    73.0\n",
      "0    27.0\n",
      "Name: churn, dtype: float64\n",
      "\n"
     ]
    }
   ],
   "source": [
    "# проверка баланса классов в выборках\n",
    "print(f'''Баланс классов целевого признака:\n",
    "y_train:\n",
    "{round(y_train.value_counts()/len(y_train)*100)}\n",
    "y_test:\n",
    "{round(y_test.value_counts()/len(y_test)*100)}\n",
    "''')"
   ]
  },
  {
   "cell_type": "markdown",
   "id": "475c26cb",
   "metadata": {},
   "source": [
    "- Выделены обучающая и тестовая выборки.\n",
    "- Баланс классов в выборках сохранен."
   ]
  },
  {
   "cell_type": "markdown",
   "id": "4604e38c",
   "metadata": {},
   "source": [
    "__Pipeline для подготовки признаков__"
   ]
  },
  {
   "cell_type": "code",
   "execution_count": 48,
   "id": "855b8c94",
   "metadata": {},
   "outputs": [],
   "source": [
    "# трансформер для стандартизации числовых признаков\n",
    "numerical_transformer = Pipeline(steps=[\n",
    "    ('imputer', SimpleImputer(strategy='median')),\n",
    "    ('scaler', StandardScaler())\n",
    "])\n",
    "\n",
    "# трансформер для категориальных признаков\n",
    "categorical_transformer = Pipeline(steps=[\n",
    "    ('imputer', SimpleImputer(strategy='most_frequent')),\n",
    "    ('onehot', OneHotEncoder(handle_unknown='ignore'))\n",
    "])\n",
    "# columnTransformer\n",
    "preprocessor = ColumnTransformer(\n",
    "    transformers=[\n",
    "        ('num', numerical_transformer, numeric_columns),\n",
    "        ('cat', categorical_transformer, categorical_columns)\n",
    "    ])"
   ]
  },
  {
   "cell_type": "code",
   "execution_count": 54,
   "id": "baf21ea1",
   "metadata": {},
   "outputs": [],
   "source": [
    "# стандартизация данных для датасета со всеми признаками\n",
    "X_transformed_full = preprocessor.fit_transform(X_train_full)\n",
    "X_test_transformed_full = preprocessor.transform(X_test_full)\n",
    "# стандартизация данных для датасета с отобранными признъаками\n",
    "X_transformed = preprocessor.fit_transform(X_train)\n",
    "X_test_transformed = preprocessor.transform(X_test)"
   ]
  },
  {
   "cell_type": "code",
   "execution_count": 55,
   "id": "2b94a5b4",
   "metadata": {},
   "outputs": [],
   "source": [
    "# функция для вывода результатов подбора гиперпараметров Optuna\n",
    "def output_results(trial):\n",
    "    print('Результаты подборы параметров:')\n",
    "    print('  ROC-AUC:', round(trial.value, 3))\n",
    "    print('  Params: ')\n",
    "    for key, value in trial.params.items():\n",
    "        print(\"    {}: {}\".format(key, value))\n",
    "        \n",
    "# создаем объект StratifiedKFold для кроссвалидации\n",
    "cv = StratifiedKFold(n_splits=4, shuffle=True, random_state=RANDOM_SEED)"
   ]
  },
  {
   "cell_type": "code",
   "execution_count": 56,
   "id": "ee7dec5f",
   "metadata": {},
   "outputs": [],
   "source": [
    "# функция для рассчета метрики roc_auc\n",
    "def roc_auc(target, prob):\n",
    "    return roc_auc_score(target, prob[:, 1])"
   ]
  },
  {
   "cell_type": "markdown",
   "id": "32ade47f",
   "metadata": {},
   "source": [
    "<div style=\"padding:0px 20px 10px;\n",
    "            color:#004346;\n",
    "            font-size:15px;\n",
    "            display:fill;\n",
    "            text-align:center;\n",
    "            border-radius:20px;\n",
    "            border: 5px double;\n",
    "            border-color:#201E20;\n",
    "            background-color: #E8F1F2;\n",
    "            overflow:hidden;\n",
    "            font-weight:400\">\n",
    "\n",
    "#  Модели\n",
    "\n",
    "</div>\n",
    "\n",
    "__Проведем сравнительный анализ трех моделей, обученных на следующих алгоритмах:__\n",
    "- LogisticRegression\n",
    "- LGBMClassifier\n",
    "- CatBoostClassifier\n",
    "- Нейросеть Keras\n",
    "\n",
    "\n",
    "__Метрика качества:__ будет выступать __ROC-AUC__\n",
    "\n",
    "По скольку, данная метрика, является числовой интерпритацией оценок:\n",
    "- TPR полностью совпадает с полнотой, и показывает долю верно предсказанных классов у объектов, относящихся к положительному классу\n",
    "- FPR — это доля неправильно предсказанных классов среди объектов отрицательного класса.\n",
    "\n",
    "Что позволит оценить качество предсказаний на разных уровнях принятия решения о присвоении положительного класска(клиентов которые не откажутся от использования услуг)"
   ]
  },
  {
   "cell_type": "markdown",
   "id": "e5499e88",
   "metadata": {},
   "source": [
    "<div style=\"padding:0px 20px 10px;\n",
    "            color:#004346;\n",
    "            font-size:15px;\n",
    "            display:fill;\n",
    "            text-align:center;\n",
    "            border-radius:20px;\n",
    "            border: 5px double;\n",
    "            border-color:#201E20;\n",
    "            background-color: #E8F1F2;\n",
    "            overflow:hidden;\n",
    "            font-weight:400\">\n",
    "\n",
    "##  Baseline model\n",
    "\n",
    "</div>\n",
    "\n",
    "В качестве baseline модели используем константную модель (все объекты класса 0, соответствующего оставшимся клиентам)."
   ]
  },
  {
   "cell_type": "code",
   "execution_count": 57,
   "id": "5e833b5c",
   "metadata": {},
   "outputs": [
    {
     "name": "stdout",
     "output_type": "stream",
     "text": [
      "roc_auc для константной модели: 0.500\n"
     ]
    }
   ],
   "source": [
    "pred_bl = [0] * y_train.shape[0]\n",
    "roc_auc_bl = roc_auc_score(y_train.values, pred_bl)\n",
    "print(f\"roc_auc для константной модели: {roc_auc_bl:.3f}\")"
   ]
  },
  {
   "cell_type": "markdown",
   "id": "e45142c8",
   "metadata": {},
   "source": [
    "<div style=\"padding:0px 20px 10px;\n",
    "            color:#004346;\n",
    "            font-size:15px;\n",
    "            display:fill;\n",
    "            text-align:center;\n",
    "            border-radius:20px;\n",
    "            border: 5px double;\n",
    "            border-color:#201E20;\n",
    "            background-color: #E8F1F2;\n",
    "            overflow:hidden;\n",
    "            font-weight:400\">\n",
    "\n",
    "##  LogisticRegression\n",
    "\n",
    "</div>"
   ]
  },
  {
   "cell_type": "code",
   "execution_count": 73,
   "id": "9f8ddc95",
   "metadata": {},
   "outputs": [],
   "source": [
    "def objective(trial, X, y):\n",
    "    # определение гиперпараметров для подбора\n",
    "    solver = trial.suggest_categorical('solver', ['lbfgs', 'sag', 'newton-cg'])\n",
    "    C = trial.suggest_float('C', 1e-4, 1e2, log=True)\n",
    "    \n",
    "    # экземпляр модели LogisticRegression\n",
    "    model = LogisticRegression(\n",
    "        solver=solver,\n",
    "        C=C,\n",
    "        random_state=RANDOM_SEED,\n",
    "        max_iter=1000\n",
    "    )\n",
    "    \n",
    "    # кросс-валидация\n",
    "    rocauc = []\n",
    "    for train_idx, val_idx in cv.split(X, y):\n",
    "        X_train_fold, y_train_fold = X[train_idx], y.iloc[train_idx]\n",
    "        X_val_fold, y_val_fold = X[val_idx], y.iloc[val_idx]\n",
    "\n",
    "        # обучаем модель\n",
    "        model.fit(X_train_fold, y_train_fold)\n",
    "        # делаем предсказания на валидационном фолде\n",
    "        prob = model.predict_proba(X_val_fold)\n",
    "        # оцениваем метрику roc_auc на валидационном фолде и добавляем в список результатов\n",
    "        scor = roc_auc(y_val_fold, prob)\n",
    "        rocauc.append(scor)\n",
    "        \n",
    "    # сохранение наилучшей модели\n",
    "    if trial.should_prune():\n",
    "        raise optuna.TrialPruned()\n",
    "    trial.set_user_attr('best_model', model)\n",
    "    \n",
    "    return np.mean(rocauc)"
   ]
  },
  {
   "cell_type": "markdown",
   "id": "4fdcc786",
   "metadata": {},
   "source": [
    "__Подбор гиперпараметров для датасета со всеми признаками__"
   ]
  },
  {
   "cell_type": "code",
   "execution_count": 74,
   "id": "9f09c437",
   "metadata": {
    "scrolled": true
   },
   "outputs": [
    {
     "name": "stderr",
     "output_type": "stream",
     "text": [
      "[I 2023-10-29 12:42:04,255] A new study created in memory with name: no-name-f5684018-d104-4412-a4af-29a5fc4c29d0\n",
      "[I 2023-10-29 12:42:04,405] Trial 0 finished with value: 0.837783163805891 and parameters: {'solver': 'newton-cg', 'C': 0.262424695644461}. Best is trial 0 with value: 0.837783163805891.\n",
      "[I 2023-10-29 12:42:04,449] Trial 1 finished with value: 0.835788506527143 and parameters: {'solver': 'sag', 'C': 0.0018986614855763572}. Best is trial 0 with value: 0.837783163805891.\n",
      "[I 2023-10-29 12:42:04,552] Trial 2 finished with value: 0.8376401544583364 and parameters: {'solver': 'newton-cg', 'C': 3.2510496645268003}. Best is trial 0 with value: 0.837783163805891.\n",
      "[I 2023-10-29 12:42:04,658] Trial 3 finished with value: 0.8376769758019758 and parameters: {'solver': 'newton-cg', 'C': 0.7797688084490407}. Best is trial 0 with value: 0.837783163805891.\n",
      "[I 2023-10-29 12:42:04,704] Trial 4 finished with value: 0.8353073988301261 and parameters: {'solver': 'sag', 'C': 0.00139541906397234}. Best is trial 0 with value: 0.837783163805891.\n",
      "[I 2023-10-29 12:42:04,808] Trial 5 finished with value: 0.8376423828696556 and parameters: {'solver': 'lbfgs', 'C': 4.582328514783534}. Best is trial 0 with value: 0.837783163805891.\n",
      "[I 2023-10-29 12:42:04,855] Trial 6 finished with value: 0.83381598620235 and parameters: {'solver': 'sag', 'C': 0.0005602398644692175}. Best is trial 0 with value: 0.837783163805891.\n",
      "[I 2023-10-29 12:42:05,011] Trial 7 finished with value: 0.837623939612576 and parameters: {'solver': 'newton-cg', 'C': 9.219563754151073}. Best is trial 0 with value: 0.837783163805891.\n",
      "[I 2023-10-29 12:42:05,436] Trial 8 finished with value: 0.8376710789210791 and parameters: {'solver': 'sag', 'C': 0.8603579385121993}. Best is trial 0 with value: 0.837783163805891.\n",
      "[I 2023-10-29 12:42:05,516] Trial 9 finished with value: 0.8374384117565936 and parameters: {'solver': 'lbfgs', 'C': 0.010630031500573942}. Best is trial 0 with value: 0.837783163805891.\n"
     ]
    }
   ],
   "source": [
    "study_lr = optuna.create_study(direction='maximize')\n",
    "study_lr.optimize(lambda trial: objective(trial, X_transformed_full, y_train_full), n_trials=10)"
   ]
  },
  {
   "cell_type": "code",
   "execution_count": 75,
   "id": "2e8c6417",
   "metadata": {},
   "outputs": [
    {
     "name": "stdout",
     "output_type": "stream",
     "text": [
      "Результаты подборы параметров:\n",
      "  ROC-AUC: 0.838\n",
      "  Params: \n",
      "    solver: newton-cg\n",
      "    C: 0.262424695644461\n"
     ]
    }
   ],
   "source": [
    "# вывод результатов\n",
    "trial_lr_full = study_lr.best_trial\n",
    "best_mode_lr_full = trial_lr_full.user_attrs['best_model']\n",
    "output_results(trial_lr_full)"
   ]
  },
  {
   "cell_type": "markdown",
   "id": "81f84ca8",
   "metadata": {},
   "source": [
    "__Подбор гиперпараметров для датасета с отобранными признаками__"
   ]
  },
  {
   "cell_type": "code",
   "execution_count": 76,
   "id": "6bdc288d",
   "metadata": {},
   "outputs": [
    {
     "name": "stderr",
     "output_type": "stream",
     "text": [
      "[I 2023-10-29 12:42:17,140] A new study created in memory with name: no-name-7f04dcc2-2d74-4f10-8cf2-8a50a9d2e382\n",
      "[I 2023-10-29 12:42:17,258] Trial 0 finished with value: 0.8376777179049907 and parameters: {'solver': 'newton-cg', 'C': 0.8965623619504188}. Best is trial 0 with value: 0.8376777179049907.\n",
      "[I 2023-10-29 12:42:17,318] Trial 1 finished with value: 0.8341489255693801 and parameters: {'solver': 'sag', 'C': 0.0006861730015149178}. Best is trial 0 with value: 0.8376777179049907.\n",
      "[I 2023-10-29 12:42:17,401] Trial 2 finished with value: 0.8359999323067504 and parameters: {'solver': 'newton-cg', 'C': 0.00224581829745035}. Best is trial 0 with value: 0.8376777179049907.\n",
      "[I 2023-10-29 12:42:17,436] Trial 3 finished with value: 0.8315979243820153 and parameters: {'solver': 'lbfgs', 'C': 0.00010141642066632575}. Best is trial 0 with value: 0.8376777179049907.\n",
      "[I 2023-10-29 12:42:17,559] Trial 4 finished with value: 0.8376246838178656 and parameters: {'solver': 'newton-cg', 'C': 29.170691119104827}. Best is trial 0 with value: 0.8376777179049907.\n",
      "[I 2023-10-29 12:42:17,655] Trial 5 finished with value: 0.8378420611375157 and parameters: {'solver': 'newton-cg', 'C': 0.13488219573109908}. Best is trial 5 with value: 0.8378420611375157.\n",
      "[I 2023-10-29 12:42:17,748] Trial 6 finished with value: 0.8376328007009824 and parameters: {'solver': 'lbfgs', 'C': 5.164435471499426}. Best is trial 5 with value: 0.8378420611375157.\n",
      "[I 2023-10-29 12:42:17,902] Trial 7 finished with value: 0.837679921089012 and parameters: {'solver': 'newton-cg', 'C': 0.6077052356617285}. Best is trial 5 with value: 0.8378420611375157.\n",
      "[I 2023-10-29 12:42:17,989] Trial 8 finished with value: 0.8379487473805656 and parameters: {'solver': 'lbfgs', 'C': 0.09201396880939268}. Best is trial 8 with value: 0.8379487473805656.\n",
      "[I 2023-10-29 12:42:19,370] Trial 9 finished with value: 0.8376423702560066 and parameters: {'solver': 'sag', 'C': 5.692371908700047}. Best is trial 8 with value: 0.8379487473805656.\n"
     ]
    }
   ],
   "source": [
    "study_lr = optuna.create_study(direction='maximize')\n",
    "study_lr.optimize(lambda trial: objective(trial, X_transformed, y_train), n_trials=10)"
   ]
  },
  {
   "cell_type": "code",
   "execution_count": 77,
   "id": "e92d7bef",
   "metadata": {},
   "outputs": [
    {
     "name": "stdout",
     "output_type": "stream",
     "text": [
      "Результаты подборы параметров:\n",
      "  ROC-AUC: 0.838\n",
      "  Params: \n",
      "    solver: lbfgs\n",
      "    C: 0.09201396880939268\n"
     ]
    }
   ],
   "source": [
    "# вывод результатов\n",
    "trial_lr = study_lr.best_trial\n",
    "best_mode_lr = trial_lr.user_attrs['best_model']\n",
    "output_results(trial_lr)"
   ]
  },
  {
   "cell_type": "markdown",
   "id": "f3a1163c",
   "metadata": {},
   "source": [
    ">Модель LogisticRegression, обученная с оптимальными гиперпараметрами, достигла ROC-AUC 0.838\n",
    ">\n",
    ">Эта модель демонстрирует хорошую способность разделять классы, предсказывая отток клиентов в датасете с высокой точностью."
   ]
  },
  {
   "cell_type": "markdown",
   "id": "92c8635e",
   "metadata": {},
   "source": [
    "<div style=\"padding:0px 20px 10px;\n",
    "            color:#004346;\n",
    "            font-size:15px;\n",
    "            display:fill;\n",
    "            text-align:center;\n",
    "            border-radius:20px;\n",
    "            border: 5px double;\n",
    "            border-color:#201E20;\n",
    "            background-color: #E8F1F2;\n",
    "            overflow:hidden;\n",
    "            font-weight:400\">\n",
    "\n",
    "##  LGBMClassifier\n",
    "\n",
    "</div>"
   ]
  },
  {
   "cell_type": "code",
   "execution_count": 99,
   "id": "81d40d2b",
   "metadata": {},
   "outputs": [],
   "source": [
    "def objective(trial, X, y):\n",
    "    # пространство поиска гиперпараметров\n",
    "    param_grid = {\n",
    "            'verbosity': -1,\n",
    "            'n_jobs': -1,\n",
    "            'n_estimators': 1000,\n",
    "            'colsample_bytree': trial.suggest_float('colsample_bytree', 0.01, 0.99),\n",
    "            'min_child_samples': trial.suggest_int('min_child_samples', 5, 105, step=10),\n",
    "            'max_depth': trial.suggest_int('max_depth', 2, 16, step=2),\n",
    "            'learning_rate': trial.suggest_float('l2_leaf_reg', 1e-3, 10, log=True)\n",
    "        }\n",
    "\n",
    "    # экземпляр модели LGBMClassifier\n",
    "    model = LGBMClassifier(**param_grid)\n",
    "    \n",
    "    # кросс-валидация\n",
    "    rocauc = []\n",
    "    for train_idx, val_idx in cv.split(X, y):\n",
    "        X_train_fold, y_train_fold = X[train_idx], y.iloc[train_idx]\n",
    "        X_val_fold, y_val_fold = X[val_idx], y.iloc[val_idx]\n",
    "\n",
    "        # обучаем модель\n",
    "        model.fit(X_train_fold, y_train_fold)\n",
    "        # делаем предсказания на валидационном фолде\n",
    "        prob = model.predict_proba(X_val_fold)\n",
    "        # оцениваем метрику roc_auc на валидационном фолде и добавляем в список результатов\n",
    "        scor = roc_auc(y_val_fold, prob)\n",
    "        rocauc.append(scor)\n",
    "         \n",
    "    # сохранение наилучшей модели\n",
    "    if trial.should_prune():\n",
    "        raise optuna.TrialPruned()\n",
    "    trial.set_user_attr('best_model', model)\n",
    "    \n",
    "    return np.mean(rocauc)"
   ]
  },
  {
   "cell_type": "markdown",
   "id": "fc50c865",
   "metadata": {},
   "source": [
    "__Подбор гиперпараметров для датасета со всеми признаками__"
   ]
  },
  {
   "cell_type": "code",
   "execution_count": 100,
   "id": "db420f24",
   "metadata": {
    "scrolled": true
   },
   "outputs": [
    {
     "name": "stderr",
     "output_type": "stream",
     "text": [
      "[I 2023-10-29 13:07:31,782] A new study created in memory with name: no-name-c9330ffe-6d2b-40af-9f22-605159d6a372\n",
      "[I 2023-10-29 13:07:35,617] Trial 0 finished with value: 0.8365972327335963 and parameters: {'colsample_bytree': 0.9333165970351702, 'min_child_samples': 5, 'max_depth': 16, 'l2_leaf_reg': 0.007977456520704994}. Best is trial 0 with value: 0.8365972327335963.\n",
      "[I 2023-10-29 13:07:35,968] Trial 1 finished with value: 0.5531533891192982 and parameters: {'colsample_bytree': 0.5200223733110709, 'min_child_samples': 105, 'max_depth': 8, 'l2_leaf_reg': 5.027535029481234}. Best is trial 0 with value: 0.8365972327335963.\n",
      "[I 2023-10-29 13:07:37,992] Trial 2 finished with value: 0.8445302382802382 and parameters: {'colsample_bytree': 0.3733668740561478, 'min_child_samples': 65, 'max_depth': 4, 'l2_leaf_reg': 0.0019191936717367645}. Best is trial 2 with value: 0.8445302382802382.\n",
      "[I 2023-10-29 13:07:38,609] Trial 3 finished with value: 0.8383278222198678 and parameters: {'colsample_bytree': 0.5372455499946, 'min_child_samples': 85, 'max_depth': 2, 'l2_leaf_reg': 0.09131979635875574}. Best is trial 2 with value: 0.8445302382802382.\n",
      "[I 2023-10-29 13:07:39,468] Trial 4 finished with value: 0.7900192063828428 and parameters: {'colsample_bytree': 0.07356322436841653, 'min_child_samples': 35, 'max_depth': 6, 'l2_leaf_reg': 0.9522956582607885}. Best is trial 2 with value: 0.8445302382802382.\n",
      "[I 2023-10-29 13:07:39,759] Trial 5 finished with value: 0.6004272926147927 and parameters: {'colsample_bytree': 0.633825982768774, 'min_child_samples': 45, 'max_depth': 4, 'l2_leaf_reg': 9.101971312843107}. Best is trial 2 with value: 0.8445302382802382.\n",
      "[I 2023-10-29 13:07:43,271] Trial 6 finished with value: 0.7891646852726397 and parameters: {'colsample_bytree': 0.44582204028378636, 'min_child_samples': 35, 'max_depth': 8, 'l2_leaf_reg': 0.5241465969179132}. Best is trial 2 with value: 0.8445302382802382.\n",
      "[I 2023-10-29 13:07:46,046] Trial 7 finished with value: 0.8421736050145141 and parameters: {'colsample_bytree': 0.6604192845222032, 'min_child_samples': 105, 'max_depth': 8, 'l2_leaf_reg': 0.008284633316290634}. Best is trial 2 with value: 0.8445302382802382.\n",
      "[I 2023-10-29 13:07:46,574] Trial 8 finished with value: 0.6465385592942411 and parameters: {'colsample_bytree': 0.9521512067895138, 'min_child_samples': 5, 'max_depth': 14, 'l2_leaf_reg': 1.6519897961253105}. Best is trial 2 with value: 0.8445302382802382.\n",
      "[I 2023-10-29 13:07:49,797] Trial 9 finished with value: 0.8391150242854788 and parameters: {'colsample_bytree': 0.9123580587333345, 'min_child_samples': 15, 'max_depth': 10, 'l2_leaf_reg': 0.004354343654726733}. Best is trial 2 with value: 0.8445302382802382.\n",
      "[I 2023-10-29 13:07:50,457] Trial 10 finished with value: 0.8413713107179015 and parameters: {'colsample_bytree': 0.2794504909910126, 'min_child_samples': 75, 'max_depth': 2, 'l2_leaf_reg': 0.0015405859544359106}. Best is trial 2 with value: 0.8445302382802382.\n",
      "[I 2023-10-29 13:07:53,185] Trial 11 finished with value: 0.8349373122668577 and parameters: {'colsample_bytree': 0.7285710156552356, 'min_child_samples': 105, 'max_depth': 12, 'l2_leaf_reg': 0.015582530238981828}. Best is trial 2 with value: 0.8445302382802382.\n",
      "[I 2023-10-29 13:07:55,915] Trial 12 finished with value: 0.8457111039213312 and parameters: {'colsample_bytree': 0.3748587159436788, 'min_child_samples': 65, 'max_depth': 6, 'l2_leaf_reg': 0.0016347097867688023}. Best is trial 12 with value: 0.8457111039213312.\n",
      "[I 2023-10-29 13:07:57,881] Trial 13 finished with value: 0.8427836715052625 and parameters: {'colsample_bytree': 0.3231636895763797, 'min_child_samples': 65, 'max_depth': 4, 'l2_leaf_reg': 0.0010395245061277784}. Best is trial 12 with value: 0.8457111039213312.\n",
      "[I 2023-10-29 13:07:59,721] Trial 14 finished with value: 0.8283373949283039 and parameters: {'colsample_bytree': 0.29604980134927816, 'min_child_samples': 55, 'max_depth': 6, 'l2_leaf_reg': 0.036664946369686605}. Best is trial 12 with value: 0.8457111039213312.\n",
      "[I 2023-10-29 13:08:00,963] Trial 15 finished with value: 0.8441452802248257 and parameters: {'colsample_bytree': 0.14592196169231372, 'min_child_samples': 85, 'max_depth': 4, 'l2_leaf_reg': 0.002708056046351126}. Best is trial 12 with value: 0.8457111039213312.\n",
      "[I 2023-10-29 13:08:04,031] Trial 16 finished with value: 0.8455160842944933 and parameters: {'colsample_bytree': 0.398404706364436, 'min_child_samples': 65, 'max_depth': 6, 'l2_leaf_reg': 0.0010070064909913998}. Best is trial 12 with value: 0.8457111039213312.\n",
      "[I 2023-10-29 13:08:06,127] Trial 17 finished with value: 0.8421713093304003 and parameters: {'colsample_bytree': 0.17329082341767538, 'min_child_samples': 85, 'max_depth': 10, 'l2_leaf_reg': 0.0038197909417175854}. Best is trial 12 with value: 0.8457111039213312.\n",
      "[I 2023-10-29 13:08:08,856] Trial 18 finished with value: 0.8455748260577807 and parameters: {'colsample_bytree': 0.4220758655479029, 'min_child_samples': 55, 'max_depth': 6, 'l2_leaf_reg': 0.0010188077737313132}. Best is trial 12 with value: 0.8457111039213312.\n",
      "[I 2023-10-29 13:08:09,611] Trial 19 finished with value: 0.8322919757010667 and parameters: {'colsample_bytree': 0.015166506972878857, 'min_child_samples': 45, 'max_depth': 12, 'l2_leaf_reg': 0.016253733846233687}. Best is trial 12 with value: 0.8457111039213312.\n"
     ]
    }
   ],
   "source": [
    "study_lgbm = optuna.create_study(direction='maximize')\n",
    "study_lgbm.optimize(lambda trial: objective(trial, X_transformed_full, y_train_full), n_trials=20)"
   ]
  },
  {
   "cell_type": "code",
   "execution_count": 101,
   "id": "c0429923",
   "metadata": {
    "scrolled": true
   },
   "outputs": [
    {
     "name": "stdout",
     "output_type": "stream",
     "text": [
      "Результаты подборы параметров:\n",
      "  ROC-AUC: 0.846\n",
      "  Params: \n",
      "    colsample_bytree: 0.3748587159436788\n",
      "    min_child_samples: 65\n",
      "    max_depth: 6\n",
      "    l2_leaf_reg: 0.0016347097867688023\n"
     ]
    }
   ],
   "source": [
    "# вывод результатов\n",
    "trial_lgbm_full = study_lgbm.best_trial\n",
    "best_mode_lgbm_full = trial_lgbm_full.user_attrs['best_model']\n",
    "output_results(trial_lgbm_full)"
   ]
  },
  {
   "cell_type": "markdown",
   "id": "9a965942",
   "metadata": {},
   "source": [
    "__Подбор гиперпараметров для датасета с отобранными признаками__"
   ]
  },
  {
   "cell_type": "code",
   "execution_count": 102,
   "id": "9bf2f726",
   "metadata": {
    "scrolled": true
   },
   "outputs": [
    {
     "name": "stderr",
     "output_type": "stream",
     "text": [
      "[I 2023-10-29 13:12:40,530] A new study created in memory with name: no-name-9387733d-c02b-4e86-8d3e-a61c300913f2\n",
      "[I 2023-10-29 13:12:40,848] Trial 0 finished with value: 0.5049844915185824 and parameters: {'colsample_bytree': 0.416732666899303, 'min_child_samples': 105, 'max_depth': 14, 'l2_leaf_reg': 9.990209023420483}. Best is trial 0 with value: 0.5049844915185824.\n",
      "[I 2023-10-29 13:12:41,148] Trial 1 finished with value: 0.47329827579827577 and parameters: {'colsample_bytree': 0.14397981310925098, 'min_child_samples': 5, 'max_depth': 8, 'l2_leaf_reg': 9.785614923138306}. Best is trial 0 with value: 0.5049844915185824.\n",
      "[I 2023-10-29 13:12:44,870] Trial 2 finished with value: 0.8150193556443557 and parameters: {'colsample_bytree': 0.6301532126708091, 'min_child_samples': 15, 'max_depth': 8, 'l2_leaf_reg': 0.06438554651906434}. Best is trial 2 with value: 0.8150193556443557.\n",
      "[I 2023-10-29 13:12:48,558] Trial 3 finished with value: 0.8345561929652838 and parameters: {'colsample_bytree': 0.7546385430670809, 'min_child_samples': 25, 'max_depth': 16, 'l2_leaf_reg': 0.011409942038098277}. Best is trial 3 with value: 0.8345561929652838.\n",
      "[I 2023-10-29 13:12:52,208] Trial 4 finished with value: 0.7995149547422273 and parameters: {'colsample_bytree': 0.3023412391191185, 'min_child_samples': 95, 'max_depth': 16, 'l2_leaf_reg': 0.21680702327315018}. Best is trial 3 with value: 0.8345561929652838.\n",
      "[I 2023-10-29 13:12:52,562] Trial 5 finished with value: 0.3615303225814589 and parameters: {'colsample_bytree': 0.35360068230522695, 'min_child_samples': 95, 'max_depth': 2, 'l2_leaf_reg': 8.208870891423677}. Best is trial 3 with value: 0.8345561929652838.\n",
      "[I 2023-10-29 13:12:55,141] Trial 6 finished with value: 0.7884165655472474 and parameters: {'colsample_bytree': 0.5528525687853985, 'min_child_samples': 35, 'max_depth': 10, 'l2_leaf_reg': 1.0007852140777334}. Best is trial 3 with value: 0.8345561929652838.\n",
      "[I 2023-10-29 13:12:59,240] Trial 7 finished with value: 0.804536433684161 and parameters: {'colsample_bytree': 0.8996253123653425, 'min_child_samples': 75, 'max_depth': 12, 'l2_leaf_reg': 0.13368576948746239}. Best is trial 3 with value: 0.8345561929652838.\n",
      "[I 2023-10-29 13:13:00,245] Trial 8 finished with value: 0.8245343208979572 and parameters: {'colsample_bytree': 0.08275949099410114, 'min_child_samples': 55, 'max_depth': 4, 'l2_leaf_reg': 0.41650962309864503}. Best is trial 3 with value: 0.8345561929652838.\n",
      "[I 2023-10-29 13:13:04,014] Trial 9 finished with value: 0.8294932277318641 and parameters: {'colsample_bytree': 0.8055790465988374, 'min_child_samples': 5, 'max_depth': 16, 'l2_leaf_reg': 0.014975026256842673}. Best is trial 3 with value: 0.8345561929652838.\n",
      "[I 2023-10-29 13:13:08,267] Trial 10 finished with value: 0.8428699446597174 and parameters: {'colsample_bytree': 0.7264139355074073, 'min_child_samples': 35, 'max_depth': 12, 'l2_leaf_reg': 0.0013772620935752732}. Best is trial 10 with value: 0.8428699446597174.\n",
      "[I 2023-10-29 13:13:11,693] Trial 11 finished with value: 0.843297075399348 and parameters: {'colsample_bytree': 0.7165108208875315, 'min_child_samples': 35, 'max_depth': 12, 'l2_leaf_reg': 0.0016019888743416034}. Best is trial 11 with value: 0.843297075399348.\n",
      "[I 2023-10-29 13:13:15,150] Trial 12 finished with value: 0.840218277093277 and parameters: {'colsample_bytree': 0.9518323684368746, 'min_child_samples': 45, 'max_depth': 12, 'l2_leaf_reg': 0.0011536619946950638}. Best is trial 11 with value: 0.843297075399348.\n",
      "[I 2023-10-29 13:13:18,263] Trial 13 finished with value: 0.844822805561442 and parameters: {'colsample_bytree': 0.6837583648490403, 'min_child_samples': 65, 'max_depth': 12, 'l2_leaf_reg': 0.0012203405332126443}. Best is trial 13 with value: 0.844822805561442.\n",
      "[I 2023-10-29 13:13:20,935] Trial 14 finished with value: 0.8444874023283113 and parameters: {'colsample_bytree': 0.6171956879949254, 'min_child_samples': 65, 'max_depth': 6, 'l2_leaf_reg': 0.004246256163924029}. Best is trial 13 with value: 0.844822805561442.\n",
      "[I 2023-10-29 13:13:23,490] Trial 15 finished with value: 0.8451849434235796 and parameters: {'colsample_bytree': 0.5439214681169006, 'min_child_samples': 75, 'max_depth': 6, 'l2_leaf_reg': 0.004581207607856113}. Best is trial 15 with value: 0.8451849434235796.\n",
      "[I 2023-10-29 13:13:26,001] Trial 16 finished with value: 0.8452111987339259 and parameters: {'colsample_bytree': 0.4904550636168017, 'min_child_samples': 75, 'max_depth': 6, 'l2_leaf_reg': 0.004855937900552668}. Best is trial 16 with value: 0.8452111987339259.\n",
      "[I 2023-10-29 13:13:27,195] Trial 17 finished with value: 0.8411426231596687 and parameters: {'colsample_bytree': 0.491221835510584, 'min_child_samples': 85, 'max_depth': 4, 'l2_leaf_reg': 0.02263113062950695}. Best is trial 16 with value: 0.8452111987339259.\n",
      "[I 2023-10-29 13:13:29,892] Trial 18 finished with value: 0.8457372761918216 and parameters: {'colsample_bytree': 0.49868275015267044, 'min_child_samples': 75, 'max_depth': 6, 'l2_leaf_reg': 0.0036993440337932336}. Best is trial 18 with value: 0.8457372761918216.\n",
      "[I 2023-10-29 13:13:30,532] Trial 19 finished with value: 0.8446356600049781 and parameters: {'colsample_bytree': 0.25780946872715654, 'min_child_samples': 55, 'max_depth': 2, 'l2_leaf_reg': 0.03876102996599484}. Best is trial 18 with value: 0.8457372761918216.\n"
     ]
    }
   ],
   "source": [
    "study_lgbm = optuna.create_study(direction='maximize')\n",
    "study_lgbm.optimize(lambda trial: objective(trial, X_transformed, y_train), n_trials=20)"
   ]
  },
  {
   "cell_type": "code",
   "execution_count": 83,
   "id": "f836bc8a",
   "metadata": {},
   "outputs": [
    {
     "name": "stdout",
     "output_type": "stream",
     "text": [
      "Результаты подборы параметров:\n",
      "  ROC-AUC: 0.847\n",
      "  Params: \n",
      "    feature_fraction: 0.28172911032760317\n",
      "    min_child_samples: 65\n",
      "    max_depth: 2\n",
      "    l2_leaf_reg: 0.011209635283131004\n"
     ]
    }
   ],
   "source": [
    "# вывод результатов\n",
    "trial_lgbm = study_lgbm.best_trial\n",
    "best_mode_lgbm = trial_lgbm_full.user_attrs['best_model']\n",
    "output_results(trial_lgbm)"
   ]
  },
  {
   "cell_type": "markdown",
   "id": "cc4336b1",
   "metadata": {},
   "source": [
    ">Модель LGBMClassifier, обученная с оптимальными гиперпараметрами, достигла ROC-AUC 0.846 и 0.847, для наборов данных со всеми признаками и с отобранными признаками, соответственно. Эта модель продемонстрировала высокую точность и способность разделять классы в датасете для задачи прогнозирования оттока клиентов. Результат свидетельствует о хорошей способности модели выявлять ушедших клиентов, что делает ее привлекательным вариантом для применения в практических задачах предсказания оттока клиентов."
   ]
  },
  {
   "cell_type": "markdown",
   "id": "7a417e67",
   "metadata": {},
   "source": [
    "<div style=\"padding:0px 20px 10px;\n",
    "            color:#004346;\n",
    "            font-size:15px;\n",
    "            display:fill;\n",
    "            text-align:center;\n",
    "            border-radius:20px;\n",
    "            border: 5px double;\n",
    "            border-color:#201E20;\n",
    "            background-color: #E8F1F2;\n",
    "            overflow:hidden;\n",
    "            font-weight:400\">\n",
    "\n",
    "##  CatBoostClassifier\n",
    "\n",
    "</div>\n",
    "\n",
    "Для обучения и подбора гиперпараметров модели, будем использовать нестандартизированные данные, по причине наличия встроенные, более совершенных методов кодирования и стандартизации."
   ]
  },
  {
   "cell_type": "code",
   "execution_count": 89,
   "id": "d174f0ca",
   "metadata": {},
   "outputs": [],
   "source": [
    "def objective(trial, X, y, cat_features):\n",
    "    # пространство поиска гиперпараметров\n",
    "    param_grid = {\n",
    "        'iterations': 1000,\n",
    "        'learning_rate': trial.suggest_float('learning_rate', 1e-6, 1e-0, log=True),\n",
    "        'depth': trial.suggest_int('depth', 2, 8, step=2),\n",
    "        'l2_leaf_reg': trial.suggest_float('l2_leaf_reg', 1e-3, 10, log=True),\n",
    "        'verbose': 0,\n",
    "        'random_seed': RANDOM_SEED \n",
    "    }\n",
    "\n",
    "    # экземпляр модели CatBoostClassifier\n",
    "    model = CatBoostClassifier(**param_grid)\n",
    "\n",
    "    # кросс-валидация\n",
    "    rocauc = []\n",
    "    for train_idx, val_idx in cv.split(X, y):\n",
    "        # разделение данных на обучающую и валидационную выборки\n",
    "        X_train_fold, X_val_fold = X.iloc[train_idx], X.iloc[val_idx]\n",
    "        y_train_fold, y_val_fold = y.iloc[train_idx], y.iloc[val_idx]\n",
    "\n",
    "        # обучение модели\n",
    "        train_pool = Pool(data=X_train_fold, label=y_train_fold, cat_features=cat_features)\n",
    "        val_pool = Pool(data=X_val_fold, label=y_val_fold, cat_features=cat_features)\n",
    "        model.fit(train_pool, eval_set=val_pool)\n",
    "        # делаем предсказания на валидационном фолде\n",
    "        prob = model.predict_proba(X_val_fold)\n",
    "        # оцениваем метрику roc_auc на валидационном фолде и добавляем в список результатов\n",
    "        scor = roc_auc(y_val_fold, prob)\n",
    "        rocauc.append(scor)\n",
    "\n",
    "\n",
    "    # сохранение наилучшей модели\n",
    "    if trial.should_prune():\n",
    "        raise optuna.TrialPruned()\n",
    "    trial.set_user_attr('best_model', model)\n",
    "\n",
    "    return np.mean(rocauc)"
   ]
  },
  {
   "cell_type": "markdown",
   "id": "cbf92b26",
   "metadata": {},
   "source": [
    "__Подбор гиперпараметров для датасета со всеми признаками__"
   ]
  },
  {
   "cell_type": "code",
   "execution_count": 90,
   "id": "93ab20ed",
   "metadata": {
    "scrolled": true
   },
   "outputs": [
    {
     "name": "stderr",
     "output_type": "stream",
     "text": [
      "[I 2023-10-29 12:52:59,887] A new study created in memory with name: no-name-c213f4ec-8d4b-4fcb-a829-e2d58dc869ff\n",
      "[I 2023-10-29 12:53:06,617] Trial 0 finished with value: 0.8200931328772239 and parameters: {'learning_rate': 1.101249244106757e-06, 'depth': 2, 'l2_leaf_reg': 3.9628726868406177}. Best is trial 0 with value: 0.8200931328772239.\n",
      "[I 2023-10-29 12:53:25,393] Trial 1 finished with value: 0.838079588761407 and parameters: {'learning_rate': 0.00029889298760924665, 'depth': 8, 'l2_leaf_reg': 0.012697547735803153}. Best is trial 1 with value: 0.838079588761407.\n",
      "[I 2023-10-29 12:53:41,270] Trial 2 finished with value: 0.8372510738419829 and parameters: {'learning_rate': 0.39145250288467615, 'depth': 6, 'l2_leaf_reg': 0.009356365209124053}. Best is trial 1 with value: 0.838079588761407.\n",
      "[I 2023-10-29 12:53:53,836] Trial 3 finished with value: 0.8472667704769978 and parameters: {'learning_rate': 0.15488224065574316, 'depth': 4, 'l2_leaf_reg': 0.07182018991177774}. Best is trial 3 with value: 0.8472667704769978.\n",
      "[I 2023-10-29 12:54:06,870] Trial 4 finished with value: 0.8327138917479826 and parameters: {'learning_rate': 9.794528370714067e-06, 'depth': 6, 'l2_leaf_reg': 0.3366751564221251}. Best is trial 3 with value: 0.8472667704769978.\n",
      "[I 2023-10-29 12:54:16,899] Trial 5 finished with value: 0.8272499932727206 and parameters: {'learning_rate': 3.0443636070788674e-05, 'depth': 4, 'l2_leaf_reg': 0.05536986212985229}. Best is trial 3 with value: 0.8472667704769978.\n",
      "[I 2023-10-29 12:54:27,921] Trial 6 finished with value: 0.8478541660359842 and parameters: {'learning_rate': 0.005546850205327681, 'depth': 4, 'l2_leaf_reg': 0.7433418273615976}. Best is trial 6 with value: 0.8478541660359842.\n",
      "[I 2023-10-29 12:54:34,561] Trial 7 finished with value: 0.8303703955976683 and parameters: {'learning_rate': 0.00041349275775203983, 'depth': 2, 'l2_leaf_reg': 0.07242079720136316}. Best is trial 6 with value: 0.8478541660359842.\n",
      "[I 2023-10-29 12:54:44,577] Trial 8 finished with value: 0.8295405141996052 and parameters: {'learning_rate': 3.2755654715523547e-06, 'depth': 4, 'l2_leaf_reg': 0.029808504779454126}. Best is trial 6 with value: 0.8478541660359842.\n",
      "[I 2023-10-29 12:54:51,330] Trial 9 finished with value: 0.8296005194300649 and parameters: {'learning_rate': 0.0005211697305460937, 'depth': 2, 'l2_leaf_reg': 0.03998494738434237}. Best is trial 6 with value: 0.8478541660359842.\n",
      "[I 2023-10-29 12:55:15,088] Trial 10 finished with value: 0.8411760629942449 and parameters: {'learning_rate': 0.013838027711844949, 'depth': 8, 'l2_leaf_reg': 0.001880478662267944}. Best is trial 6 with value: 0.8478541660359842.\n",
      "[I 2023-10-29 12:55:27,114] Trial 11 finished with value: 0.8484799018321745 and parameters: {'learning_rate': 0.025161895077752974, 'depth': 4, 'l2_leaf_reg': 0.42535561467656}. Best is trial 11 with value: 0.8484799018321745.\n",
      "[I 2023-10-29 12:55:38,680] Trial 12 finished with value: 0.8492600434077707 and parameters: {'learning_rate': 0.011359581768813435, 'depth': 4, 'l2_leaf_reg': 0.5564640759627828}. Best is trial 12 with value: 0.8492600434077707.\n",
      "[I 2023-10-29 12:55:54,538] Trial 13 finished with value: 0.8478362746260475 and parameters: {'learning_rate': 0.0208681418299391, 'depth': 6, 'l2_leaf_reg': 0.5681709679494613}. Best is trial 12 with value: 0.8492600434077707.\n",
      "[I 2023-10-29 12:56:06,882] Trial 14 finished with value: 0.8495053126587218 and parameters: {'learning_rate': 0.06806768657401892, 'depth': 4, 'l2_leaf_reg': 9.862549099322807}. Best is trial 14 with value: 0.8495053126587218.\n",
      "[I 2023-10-29 12:56:22,746] Trial 15 finished with value: 0.8328634076361349 and parameters: {'learning_rate': 0.901842862648274, 'depth': 6, 'l2_leaf_reg': 8.117399115780547}. Best is trial 14 with value: 0.8495053126587218.\n",
      "[I 2023-10-29 12:56:31,064] Trial 16 finished with value: 0.8504040372506281 and parameters: {'learning_rate': 0.11145020801845422, 'depth': 2, 'l2_leaf_reg': 2.330806654029288}. Best is trial 16 with value: 0.8504040372506281.\n",
      "[I 2023-10-29 12:56:39,277] Trial 17 finished with value: 0.8494004722129722 and parameters: {'learning_rate': 0.10535106082482315, 'depth': 2, 'l2_leaf_reg': 2.520553606594199}. Best is trial 16 with value: 0.8504040372506281.\n",
      "[I 2023-10-29 12:56:47,485] Trial 18 finished with value: 0.8492769141632779 and parameters: {'learning_rate': 0.10213497405089578, 'depth': 2, 'l2_leaf_reg': 7.657263077636181}. Best is trial 16 with value: 0.8504040372506281.\n",
      "[I 2023-10-29 12:56:54,354] Trial 19 finished with value: 0.8408022385863294 and parameters: {'learning_rate': 0.002916343341033823, 'depth': 2, 'l2_leaf_reg': 2.2125571028234945}. Best is trial 16 with value: 0.8504040372506281.\n"
     ]
    }
   ],
   "source": [
    "# подбор гиперпараметров\n",
    "study_cb = optuna.create_study(direction='maximize')\n",
    "study_cb.optimize(lambda trial: objective(trial, X_train_full, y_train_full, categorical_columns_full), n_trials=20)"
   ]
  },
  {
   "cell_type": "code",
   "execution_count": 91,
   "id": "3648b788",
   "metadata": {},
   "outputs": [
    {
     "name": "stdout",
     "output_type": "stream",
     "text": [
      "Результаты подборы параметров:\n",
      "  ROC-AUC: 0.85\n",
      "  Params: \n",
      "    learning_rate: 0.11145020801845422\n",
      "    depth: 2\n",
      "    l2_leaf_reg: 2.330806654029288\n"
     ]
    }
   ],
   "source": [
    "# вывод результатов\n",
    "trial_cb_full = study_cb.best_trial\n",
    "best_mode_cb_full = trial_cb_full.user_attrs['best_model']\n",
    "output_results(trial_cb_full)"
   ]
  },
  {
   "cell_type": "markdown",
   "id": "88099165",
   "metadata": {},
   "source": [
    "__Подбор гиперпараметров для датасета с отобранными признаками__"
   ]
  },
  {
   "cell_type": "code",
   "execution_count": 92,
   "id": "9d9acae6",
   "metadata": {
    "scrolled": true
   },
   "outputs": [
    {
     "name": "stderr",
     "output_type": "stream",
     "text": [
      "[I 2023-10-29 12:58:30,138] A new study created in memory with name: no-name-49e92c22-93e6-4e8b-b030-420f18cd077a\n",
      "[I 2023-10-29 12:58:39,238] Trial 0 finished with value: 0.8471178779133325 and parameters: {'learning_rate': 0.009578832909078617, 'depth': 4, 'l2_leaf_reg': 7.576760796247562}. Best is trial 0 with value: 0.8471178779133325.\n",
      "[I 2023-10-29 12:58:45,301] Trial 1 finished with value: 0.8333614544125907 and parameters: {'learning_rate': 0.0010227935499774288, 'depth': 2, 'l2_leaf_reg': 0.011363200342286899}. Best is trial 0 with value: 0.8471178779133325.\n",
      "[I 2023-10-29 12:58:58,360] Trial 2 finished with value: 0.8399116981503345 and parameters: {'learning_rate': 0.00093135284785119, 'depth': 8, 'l2_leaf_reg': 0.25907289017223417}. Best is trial 0 with value: 0.8471178779133325.\n",
      "[I 2023-10-29 12:59:10,729] Trial 3 finished with value: 0.8447259432486706 and parameters: {'learning_rate': 0.03215148913091368, 'depth': 6, 'l2_leaf_reg': 0.005363460160656669}. Best is trial 0 with value: 0.8471178779133325.\n",
      "[I 2023-10-29 12:59:20,539] Trial 4 finished with value: 0.832528084289448 and parameters: {'learning_rate': 6.51246473343606e-05, 'depth': 6, 'l2_leaf_reg': 0.5043708244436976}. Best is trial 0 with value: 0.8471178779133325.\n",
      "[I 2023-10-29 12:59:31,177] Trial 5 finished with value: 0.8445021729112638 and parameters: {'learning_rate': 0.00316806025586671, 'depth': 6, 'l2_leaf_reg': 2.564315029058148}. Best is trial 0 with value: 0.8471178779133325.\n",
      "[I 2023-10-29 12:59:41,352] Trial 6 finished with value: 0.8350199484858576 and parameters: {'learning_rate': 0.00036488605088568144, 'depth': 6, 'l2_leaf_reg': 0.3193745479639086}. Best is trial 0 with value: 0.8471178779133325.\n",
      "[I 2023-10-29 12:59:47,386] Trial 7 finished with value: 0.8345432976114794 and parameters: {'learning_rate': 0.0010805734235956384, 'depth': 2, 'l2_leaf_reg': 0.001214102436142452}. Best is trial 0 with value: 0.8471178779133325.\n",
      "[I 2023-10-29 12:59:53,421] Trial 8 finished with value: 0.8167378917378918 and parameters: {'learning_rate': 1.0749630010331588e-05, 'depth': 2, 'l2_leaf_reg': 1.3954598017713837}. Best is trial 0 with value: 0.8471178779133325.\n",
      "[I 2023-10-29 13:00:08,081] Trial 9 finished with value: 0.8424296515773789 and parameters: {'learning_rate': 0.011664403991335304, 'depth': 8, 'l2_leaf_reg': 0.0017430634500088683}. Best is trial 0 with value: 0.8471178779133325.\n",
      "[I 2023-10-29 13:00:18,056] Trial 10 finished with value: 0.8474300951573679 and parameters: {'learning_rate': 0.2304177925629028, 'depth': 4, 'l2_leaf_reg': 7.389449399856892}. Best is trial 10 with value: 0.8474300951573679.\n",
      "[I 2023-10-29 13:00:28,350] Trial 11 finished with value: 0.8449392684335867 and parameters: {'learning_rate': 0.36149176022328683, 'depth': 4, 'l2_leaf_reg': 5.591786350597306}. Best is trial 10 with value: 0.8474300951573679.\n",
      "[I 2023-10-29 13:00:38,510] Trial 12 finished with value: 0.8420438526120344 and parameters: {'learning_rate': 0.7244723867311048, 'depth': 4, 'l2_leaf_reg': 9.03691189612173}. Best is trial 10 with value: 0.8474300951573679.\n",
      "[I 2023-10-29 13:00:48,583] Trial 13 finished with value: 0.8470128724390089 and parameters: {'learning_rate': 0.09259813504856647, 'depth': 4, 'l2_leaf_reg': 9.643326012414859}. Best is trial 10 with value: 0.8474300951573679.\n",
      "[I 2023-10-29 13:00:58,807] Trial 14 finished with value: 0.8475408703249613 and parameters: {'learning_rate': 0.10072136823670085, 'depth': 4, 'l2_leaf_reg': 1.7315405396682944}. Best is trial 14 with value: 0.8475408703249613.\n",
      "[I 2023-10-29 13:01:08,973] Trial 15 finished with value: 0.8476936930914203 and parameters: {'learning_rate': 0.17973306301808073, 'depth': 4, 'l2_leaf_reg': 1.2804858259162735}. Best is trial 15 with value: 0.8476936930914203.\n",
      "[I 2023-10-29 13:01:15,667] Trial 16 finished with value: 0.8473884743202926 and parameters: {'learning_rate': 0.06354062466467354, 'depth': 2, 'l2_leaf_reg': 0.07436012670120681}. Best is trial 15 with value: 0.8476936930914203.\n",
      "[I 2023-10-29 13:01:25,559] Trial 17 finished with value: 0.8432499833920288 and parameters: {'learning_rate': 0.5461044482221268, 'depth': 4, 'l2_leaf_reg': 1.0916992664407157}. Best is trial 15 with value: 0.8476936930914203.\n",
      "[I 2023-10-29 13:01:38,447] Trial 18 finished with value: 0.8450260082930537 and parameters: {'learning_rate': 0.11404640170522574, 'depth': 6, 'l2_leaf_reg': 2.0879248932693244}. Best is trial 15 with value: 0.8476936930914203.\n",
      "[I 2023-10-29 13:01:45,138] Trial 19 finished with value: 0.8473523572387209 and parameters: {'learning_rate': 0.020006486201083893, 'depth': 2, 'l2_leaf_reg': 0.10559540439438787}. Best is trial 15 with value: 0.8476936930914203.\n"
     ]
    }
   ],
   "source": [
    "# подбор гиперпараметров\n",
    "study_cb = optuna.create_study(direction='maximize')\n",
    "study_cb.optimize(lambda trial: objective(trial, X_train, y_train, categorical_columns), n_trials=20)"
   ]
  },
  {
   "cell_type": "code",
   "execution_count": 93,
   "id": "478144f7",
   "metadata": {},
   "outputs": [
    {
     "name": "stdout",
     "output_type": "stream",
     "text": [
      "Результаты подборы параметров:\n",
      "  ROC-AUC: 0.848\n",
      "  Params: \n",
      "    learning_rate: 0.17973306301808073\n",
      "    depth: 4\n",
      "    l2_leaf_reg: 1.2804858259162735\n"
     ]
    }
   ],
   "source": [
    "# вывод результатов\n",
    "trial_cb = study_cb.best_trial\n",
    "best_mode_cb = trial_cb.user_attrs['best_model']\n",
    "output_results(trial_cb)"
   ]
  },
  {
   "cell_type": "markdown",
   "id": "ae83fd70",
   "metadata": {},
   "source": [
    ">Модель CatBoostClassifier, обученная с оптимальными гиперпараметрами, достигла ROC-AUC 0.85 и 0.848, для наборов данных со всеми признаками и с отобранными признаками, соответственно. Эта модель продемонстрировала более высокую точность и способность определять классы в датасете. Результат свидетельствует о хорошей обобщающей способности модели, что делает ее оптимальным вариантом для применения в практических задачах предсказания оттока клиентов."
   ]
  },
  {
   "cell_type": "markdown",
   "id": "95d6a6d6",
   "metadata": {},
   "source": [
    "<div style=\"padding:0px 20px 10px;\n",
    "            color:#004346;\n",
    "            font-size:15px;\n",
    "            display:fill;\n",
    "            text-align:center;\n",
    "            border-radius:20px;\n",
    "            border: 5px double;\n",
    "            border-color:#201E20;\n",
    "            background-color: #E8F1F2;\n",
    "            overflow:hidden;\n",
    "            font-weight:400\">\n",
    "\n",
    "##  Нейросеть Keras\n",
    "\n",
    "</div>"
   ]
  },
  {
   "cell_type": "code",
   "execution_count": 325,
   "id": "cf0f1fc1",
   "metadata": {},
   "outputs": [],
   "source": [
    "# функция для создания модели с определенной функцией активации\n",
    "def create_model(neurons_1, neurons_2, neurons_3, activation_func_1, activation_func_2, activation_func_3):\n",
    "    model = Sequential()\n",
    "    model.add(Dense(neurons_1, activation=activation_func_1, kernel_initializer='uniform', input_shape=(X_transformed.shape[1],)))\n",
    "    model.add(Dense(neurons_2, activation=activation_func_2, kernel_initializer='uniform'))\n",
    "    model.add(Dense(neurons_3, activation=activation_func_3, kernel_initializer='uniform'))\n",
    "    model.add(Dense(1, activation='sigmoid', kernel_initializer='uniform'))\n",
    "\n",
    "    optimizer = tf.keras.optimizers.legacy.Adam(learning_rate=0.0001)\n",
    "    model.compile(optimizer=optimizer, loss='binary_crossentropy')\n",
    "    return model\n",
    "# функция для оптимизации\n",
    "def objective(trial, X, y):\n",
    "    activation_funcs = ['relu', 'sigmoid', 'tanh', 'elu']\n",
    "\n",
    "    activation_func_1 = trial.suggest_categorical('activation_func_1', activation_funcs)\n",
    "    activation_func_2 = trial.suggest_categorical('activation_func_2', activation_funcs)\n",
    "    activation_func_3 = trial.suggest_categorical('activation_func_3', activation_funcs)\n",
    "\n",
    "    neurons_1 = trial.suggest_int('neurons_1', 10, 100, step=10)\n",
    "    neurons_2 = trial.suggest_int('neurons_2', 10, 100, step=10)\n",
    "    neurons_3 = trial.suggest_int('neurons_3', 10, 100, step=10)\n",
    "\n",
    "    nn_model = KerasClassifier(\n",
    "        model=create_model, \n",
    "        neurons_1=neurons_1,\n",
    "        neurons_2=neurons_2,\n",
    "        neurons_3=neurons_3,\n",
    "        activation_func_1=activation_func_1,\n",
    "        activation_func_2=activation_func_2,\n",
    "        activation_func_3=activation_func_3,\n",
    "        epochs=100, \n",
    "        batch_size=32, \n",
    "        verbose=0, \n",
    "        random_state=RANDOM_SEED\n",
    "    )\n",
    "\n",
    "    \n",
    "    scores = cross_val_score(nn_model, X, y, cv=cv, scoring='roc_auc', verbose=0)\n",
    "    \n",
    "    return scores.mean()\n"
   ]
  },
  {
   "cell_type": "markdown",
   "id": "20a2fa19",
   "metadata": {},
   "source": [
    "__Подбор гиперпараметров для датасета со всеми признаками__"
   ]
  },
  {
   "cell_type": "code",
   "execution_count": 329,
   "id": "f45eff7d",
   "metadata": {},
   "outputs": [
    {
     "name": "stderr",
     "output_type": "stream",
     "text": [
      "[I 2023-10-30 16:59:36,606] A new study created in memory with name: no-name-5bbb6e6c-c5cc-4f4c-a14b-c1060254477d\n",
      "[I 2023-10-30 17:00:10,804] Trial 0 finished with value: 0.8376552081758788 and parameters: {'activation_func_1': 'relu', 'activation_func_2': 'relu', 'activation_func_3': 'relu', 'neurons_1': 90, 'neurons_2': 70, 'neurons_3': 50}. Best is trial 0 with value: 0.8376552081758788.\n",
      "[I 2023-10-30 17:00:43,911] Trial 1 finished with value: 0.8361882702204104 and parameters: {'activation_func_1': 'tanh', 'activation_func_2': 'sigmoid', 'activation_func_3': 'tanh', 'neurons_1': 90, 'neurons_2': 50, 'neurons_3': 30}. Best is trial 0 with value: 0.8376552081758788.\n",
      "[I 2023-10-30 17:01:19,279] Trial 2 finished with value: 0.836195752064605 and parameters: {'activation_func_1': 'tanh', 'activation_func_2': 'tanh', 'activation_func_3': 'sigmoid', 'neurons_1': 80, 'neurons_2': 90, 'neurons_3': 40}. Best is trial 0 with value: 0.8376552081758788.\n",
      "[I 2023-10-30 17:01:53,179] Trial 3 finished with value: 0.8396817077595955 and parameters: {'activation_func_1': 'tanh', 'activation_func_2': 'tanh', 'activation_func_3': 'relu', 'neurons_1': 90, 'neurons_2': 50, 'neurons_3': 50}. Best is trial 3 with value: 0.8396817077595955.\n",
      "[I 2023-10-30 17:02:27,124] Trial 4 finished with value: 0.8378512820121655 and parameters: {'activation_func_1': 'tanh', 'activation_func_2': 'relu', 'activation_func_3': 'sigmoid', 'neurons_1': 60, 'neurons_2': 10, 'neurons_3': 90}. Best is trial 3 with value: 0.8396817077595955.\n",
      "[I 2023-10-30 17:03:00,933] Trial 5 finished with value: 0.8374965615408257 and parameters: {'activation_func_1': 'relu', 'activation_func_2': 'sigmoid', 'activation_func_3': 'tanh', 'neurons_1': 90, 'neurons_2': 40, 'neurons_3': 60}. Best is trial 3 with value: 0.8396817077595955.\n",
      "[I 2023-10-30 17:03:32,878] Trial 6 finished with value: 0.8356624635992924 and parameters: {'activation_func_1': 'relu', 'activation_func_2': 'tanh', 'activation_func_3': 'relu', 'neurons_1': 70, 'neurons_2': 70, 'neurons_3': 30}. Best is trial 3 with value: 0.8396817077595955.\n",
      "[I 2023-10-30 17:04:07,701] Trial 7 finished with value: 0.8366567897270031 and parameters: {'activation_func_1': 'sigmoid', 'activation_func_2': 'sigmoid', 'activation_func_3': 'elu', 'neurons_1': 30, 'neurons_2': 90, 'neurons_3': 80}. Best is trial 3 with value: 0.8396817077595955.\n",
      "[I 2023-10-30 17:04:41,216] Trial 8 finished with value: 0.8291069572044766 and parameters: {'activation_func_1': 'relu', 'activation_func_2': 'tanh', 'activation_func_3': 'elu', 'neurons_1': 70, 'neurons_2': 80, 'neurons_3': 70}. Best is trial 3 with value: 0.8396817077595955.\n",
      "[I 2023-10-30 17:05:14,743] Trial 9 finished with value: 0.8376943330604723 and parameters: {'activation_func_1': 'elu', 'activation_func_2': 'elu', 'activation_func_3': 'tanh', 'neurons_1': 20, 'neurons_2': 90, 'neurons_3': 30}. Best is trial 3 with value: 0.8396817077595955.\n"
     ]
    }
   ],
   "source": [
    "study_k_full = optuna.create_study(direction='maximize')\n",
    "study_k_full.optimize(lambda trial: objective(trial, X_transformed_full, y_train_full), n_trials=10)"
   ]
  },
  {
   "cell_type": "code",
   "execution_count": 330,
   "id": "d791bf65",
   "metadata": {},
   "outputs": [
    {
     "name": "stdout",
     "output_type": "stream",
     "text": [
      "Лучшие параметры: {'activation_func_1': 'tanh', 'activation_func_2': 'tanh', 'activation_func_3': 'relu', 'neurons_1': 90, 'neurons_2': 50, 'neurons_3': 50}\n",
      "Значение метрики наилучшей модели: 0.8396817077595955\n"
     ]
    }
   ],
   "source": [
    "# вывод результатов\n",
    "best_trial_k_full = study_k_full.best_trial\n",
    "print(f'Лучшие параметры: {best_trial_k_full.params}')\n",
    "print(f'Значение метрики наилучшей модели: {best_trial_k_full.value}')"
   ]
  },
  {
   "cell_type": "markdown",
   "id": "ffdfe7aa",
   "metadata": {},
   "source": [
    "__Подбор гиперпараметров для датасета с отобранными признаками__"
   ]
  },
  {
   "cell_type": "code",
   "execution_count": 326,
   "id": "23e35e62",
   "metadata": {
    "scrolled": true
   },
   "outputs": [
    {
     "name": "stderr",
     "output_type": "stream",
     "text": [
      "[I 2023-10-30 16:49:53,406] A new study created in memory with name: no-name-2cfd31ea-cadd-48d6-ad2b-5c64c747114c\n",
      "[I 2023-10-30 16:50:28,721] Trial 0 finished with value: 0.8370741499601303 and parameters: {'activation_func_1': 'elu', 'activation_func_2': 'elu', 'activation_func_3': 'sigmoid', 'neurons_1': 20, 'neurons_2': 50, 'neurons_3': 90}. Best is trial 0 with value: 0.8370741499601303.\n",
      "[I 2023-10-30 16:51:00,408] Trial 1 finished with value: 0.8366104371034293 and parameters: {'activation_func_1': 'tanh', 'activation_func_2': 'sigmoid', 'activation_func_3': 'elu', 'neurons_1': 70, 'neurons_2': 100, 'neurons_3': 30}. Best is trial 0 with value: 0.8370741499601303.\n",
      "[I 2023-10-30 16:51:31,256] Trial 2 finished with value: 0.8375202968171293 and parameters: {'activation_func_1': 'relu', 'activation_func_2': 'sigmoid', 'activation_func_3': 'relu', 'neurons_1': 70, 'neurons_2': 70, 'neurons_3': 50}. Best is trial 2 with value: 0.8375202968171293.\n",
      "[I 2023-10-30 16:52:02,078] Trial 3 finished with value: 0.8374578272385416 and parameters: {'activation_func_1': 'elu', 'activation_func_2': 'relu', 'activation_func_3': 'sigmoid', 'neurons_1': 50, 'neurons_2': 70, 'neurons_3': 60}. Best is trial 2 with value: 0.8375202968171293.\n",
      "[I 2023-10-30 16:52:35,509] Trial 4 finished with value: 0.8382578758102508 and parameters: {'activation_func_1': 'elu', 'activation_func_2': 'tanh', 'activation_func_3': 'elu', 'neurons_1': 90, 'neurons_2': 30, 'neurons_3': 40}. Best is trial 4 with value: 0.8382578758102508.\n",
      "[I 2023-10-30 16:53:05,445] Trial 5 finished with value: 0.8383452776768163 and parameters: {'activation_func_1': 'relu', 'activation_func_2': 'relu', 'activation_func_3': 'relu', 'neurons_1': 10, 'neurons_2': 50, 'neurons_3': 60}. Best is trial 5 with value: 0.8383452776768163.\n",
      "[I 2023-10-30 16:53:35,350] Trial 6 finished with value: 0.8368473413811849 and parameters: {'activation_func_1': 'sigmoid', 'activation_func_2': 'elu', 'activation_func_3': 'elu', 'neurons_1': 70, 'neurons_2': 20, 'neurons_3': 70}. Best is trial 5 with value: 0.8383452776768163.\n",
      "[I 2023-10-30 16:54:06,738] Trial 7 finished with value: 0.8413837350584892 and parameters: {'activation_func_1': 'tanh', 'activation_func_2': 'elu', 'activation_func_3': 'relu', 'neurons_1': 80, 'neurons_2': 50, 'neurons_3': 100}. Best is trial 7 with value: 0.8413837350584892.\n",
      "[I 2023-10-30 16:54:38,802] Trial 8 finished with value: 0.8369830490710288 and parameters: {'activation_func_1': 'elu', 'activation_func_2': 'sigmoid', 'activation_func_3': 'elu', 'neurons_1': 100, 'neurons_2': 40, 'neurons_3': 70}. Best is trial 7 with value: 0.8413837350584892.\n",
      "[I 2023-10-30 16:55:11,782] Trial 9 finished with value: 0.8370076014767122 and parameters: {'activation_func_1': 'sigmoid', 'activation_func_2': 'relu', 'activation_func_3': 'elu', 'neurons_1': 90, 'neurons_2': 20, 'neurons_3': 70}. Best is trial 7 with value: 0.8413837350584892.\n"
     ]
    }
   ],
   "source": [
    "study_k = optuna.create_study(direction='maximize')\n",
    "study_k.optimize(lambda trial: objective(trial, X_transformed, y_train), n_trials=10)"
   ]
  },
  {
   "cell_type": "code",
   "execution_count": 328,
   "id": "87f40427",
   "metadata": {},
   "outputs": [
    {
     "name": "stdout",
     "output_type": "stream",
     "text": [
      "Лучшие параметры: {'activation_func_1': 'tanh', 'activation_func_2': 'elu', 'activation_func_3': 'relu', 'neurons_1': 80, 'neurons_2': 50, 'neurons_3': 100}\n",
      "Значение метрики наилучшей модели: 0.8413837350584892\n"
     ]
    }
   ],
   "source": [
    "# вывод результатов\n",
    "best_trial_k = study_k.best_trial\n",
    "print(f'Лучшие параметры: {best_trial_k.params}')\n",
    "print(f'Значение метрики наилучшей модели: {best_trial_k.value}')"
   ]
  },
  {
   "cell_type": "markdown",
   "id": "99c055ba",
   "metadata": {},
   "source": [
    ">Модель Keras, обученная с оптимальными гиперпараметрами, достигла ROC-AUC 0.84 и 0.841, для наборов данных со всеми признаками и с отобранными признаками, соответственно. Эта модель продемонстрировала более высокую точность и способность определять классы в датасете. Результат свидетельствует о хорошей обобщающей способности модели."
   ]
  },
  {
   "cell_type": "markdown",
   "id": "2042acf2",
   "metadata": {},
   "source": [
    "## Сводная таблица качества моделей"
   ]
  },
  {
   "cell_type": "code",
   "execution_count": 331,
   "id": "ffa61943",
   "metadata": {},
   "outputs": [
    {
     "data": {
      "text/html": [
       "<div>\n",
       "<style scoped>\n",
       "    .dataframe tbody tr th:only-of-type {\n",
       "        vertical-align: middle;\n",
       "    }\n",
       "\n",
       "    .dataframe tbody tr th {\n",
       "        vertical-align: top;\n",
       "    }\n",
       "\n",
       "    .dataframe thead th {\n",
       "        text-align: right;\n",
       "    }\n",
       "</style>\n",
       "<table border=\"1\" class=\"dataframe\">\n",
       "  <thead>\n",
       "    <tr style=\"text-align: right;\">\n",
       "      <th></th>\n",
       "      <th>Model</th>\n",
       "      <th>f1-micro</th>\n",
       "    </tr>\n",
       "  </thead>\n",
       "  <tbody>\n",
       "    <tr>\n",
       "      <th>0</th>\n",
       "      <td>Baseline</td>\n",
       "      <td>0.500</td>\n",
       "    </tr>\n",
       "    <tr>\n",
       "      <th>1</th>\n",
       "      <td>LogisticRegression full data</td>\n",
       "      <td>0.838</td>\n",
       "    </tr>\n",
       "    <tr>\n",
       "      <th>2</th>\n",
       "      <td>LogisticRegression</td>\n",
       "      <td>0.838</td>\n",
       "    </tr>\n",
       "    <tr>\n",
       "      <th>3</th>\n",
       "      <td>LightGBM  full data</td>\n",
       "      <td>0.846</td>\n",
       "    </tr>\n",
       "    <tr>\n",
       "      <th>4</th>\n",
       "      <td>LightGBM</td>\n",
       "      <td>0.847</td>\n",
       "    </tr>\n",
       "    <tr>\n",
       "      <th>5</th>\n",
       "      <td>CatBoost full data</td>\n",
       "      <td>0.850</td>\n",
       "    </tr>\n",
       "    <tr>\n",
       "      <th>6</th>\n",
       "      <td>CatBoost</td>\n",
       "      <td>0.848</td>\n",
       "    </tr>\n",
       "    <tr>\n",
       "      <th>7</th>\n",
       "      <td>Keras full data</td>\n",
       "      <td>0.840</td>\n",
       "    </tr>\n",
       "    <tr>\n",
       "      <th>8</th>\n",
       "      <td>Keras</td>\n",
       "      <td>0.841</td>\n",
       "    </tr>\n",
       "  </tbody>\n",
       "</table>\n",
       "</div>"
      ],
      "text/plain": [
       "                          Model  f1-micro\n",
       "0                      Baseline     0.500\n",
       "1  LogisticRegression full data     0.838\n",
       "2            LogisticRegression     0.838\n",
       "3           LightGBM  full data     0.846\n",
       "4                      LightGBM     0.847\n",
       "5            CatBoost full data     0.850\n",
       "6                      CatBoost     0.848\n",
       "7               Keras full data     0.840\n",
       "8                         Keras     0.841"
      ]
     },
     "metadata": {},
     "output_type": "display_data"
    }
   ],
   "source": [
    "data = {\n",
    "    'Model': ['Baseline', \n",
    "              'LogisticRegression full data', \n",
    "              'LogisticRegression',\n",
    "              'LightGBM  full data',\n",
    "              'LightGBM',\n",
    "              'CatBoost full data',\n",
    "              'CatBoost', \n",
    "              'Keras full data',\n",
    "              'Keras'],\n",
    "    'f1-micro': [0.5, 0.838, 0.838, 0.846, 0.847, 0.85, 0.848, 0.84, 0.841]\n",
    "    \n",
    "}\n",
    "display(pd.DataFrame(data))"
   ]
  },
  {
   "cell_type": "markdown",
   "id": "43d32b75",
   "metadata": {},
   "source": [
    ">Лучшая метрика качества получина при использовании CatBoost, обученная на всех данных.\n",
    ">\n",
    ">Используем данную модель, для получения предсказаний на тестовых данных"
   ]
  },
  {
   "cell_type": "markdown",
   "id": "c95af49a",
   "metadata": {},
   "source": [
    "<div style=\"padding:0px 20px 10px;\n",
    "            color:#004346;\n",
    "            font-size:15px;\n",
    "            display:fill;\n",
    "            text-align:center;\n",
    "            border-radius:20px;\n",
    "            border: 5px double;\n",
    "            border-color:#201E20;\n",
    "            background-color: #E8F1F2;\n",
    "            overflow:hidden;\n",
    "            font-weight:400\">\n",
    "\n",
    "# Определение оттока клиентов на тестовых данных.\n",
    "\n",
    "</div>\n",
    "\n",
    "Используем модель с лучшей метрикой качества на тестовых данных."
   ]
  },
  {
   "cell_type": "code",
   "execution_count": 341,
   "id": "2d44b64b",
   "metadata": {},
   "outputs": [
    {
     "name": "stdout",
     "output_type": "stream",
     "text": [
      "ROC AUC: 0.8403541566801626\n"
     ]
    },
    {
     "data": {
      "image/png": "[encoded data removed]",
      "text/plain": [
       "<Figure size 640x480 with 1 Axes>"
      ]
     },
     "metadata": {},
     "output_type": "display_data"
    }
   ],
   "source": [
    "probs = best_mode_cb_full.predict_proba(X_test_full)[:, 1]\n",
    "# вычисление значений ROC curve\n",
    "fpr, tpr, thresholds = roc_curve(y_test_full, probs)\n",
    "\n",
    "# график ROC curve\n",
    "roc_display = RocCurveDisplay(fpr=fpr, tpr=tpr).plot()\n",
    "\n",
    "roc_auc = roc_auc_score(y_test_full, probs)\n",
    "print(f'ROC AUC: {roc_auc}')\n",
    "\n",
    "plt.show()"
   ]
  },
  {
   "cell_type": "markdown",
   "id": "03ba42d8",
   "metadata": {},
   "source": [
    "<div style=\"padding:0px 20px 10px;\n",
    "            color:#004346;\n",
    "            font-size:15px;\n",
    "            display:fill;\n",
    "            text-align:center;\n",
    "            border-radius:20px;\n",
    "            border: 5px double;\n",
    "            border-color:#201E20;\n",
    "            background-color: #E8F1F2;\n",
    "            overflow:hidden;\n",
    "            font-weight:400\">\n",
    "\n",
    "# Вывод\n",
    "\n",
    "</div>"
   ]
  },
  {
   "cell_type": "markdown",
   "id": "7d35a004",
   "metadata": {},
   "source": [
    "__Задача проекта:__ разработка модели для прогнозирования вероятности расторжения договора абонентом. Цель — предоставить оператору инструмент для предсказания намерений клиентов отказаться от услуг связи.\n",
    "\n",
    "__Этапы выполненной работы:__\n",
    "\n",
    "- Предобработка данных:\n",
    "\n",
    "     - Загружены данные из базы PostgreSQL, представленные в нескольких таблицах: contract, personal, internet, phone.\n",
    "     - Проведена первичная обработка данных: заполнение пропусков, обработка категориальных признаков, кодирование данных, а также объединение таблиц для подготовки к анализу и моделированию.\n",
    "     \n",
    "- Исследовательский анализ данных:\n",
    "\n",
    "    - Проведен анализ основных параметров и характеристик клиентов и их услуг. Рассмотрены типы услуг, предоставляемые оператором связи, а также предпочтения клиентов.\n",
    "    - Оценено влияние различных параметров на отток клиентов.\n",
    "    \n",
    "- Построение и оценка моделей:\n",
    "\n",
    "     - Разработаны модели машинного обучения для прогнозирования оттока клиентов. Использовались алгоритмы классификации с целью достижения максимальной метрики ROC-AUC.\n",
    "     - Проведена настройка гиперпараметров моделей.\n",
    "\n",
    "__Оценка качества моделей:__\n",
    "\n",
    "Модель, построенная на основе алгоритма CatBoost, продемонстрировала наилучшие результаты с метрикой ROC-AUC близкой к целевому значению.\n",
    "\n",
    "__Выводы:__\n",
    "\n",
    "В результате работы над проектом была разработана модель, способная прогнозировать вероятность расторжения договора абонентом с высокой точностью.\n",
    "\n",
    "Основная модель, основанная на алгоритме CatBoost, достигла макимальной метрики ROC-AUC, соответствующей требованиям заказчика.\n",
    "\n",
    "__Дальнейшие шаги:__\n",
    "\n",
    "Для улучшения модели рекомендуется дальнейший анализ ошибок и обобщение результатов, чтобы определить факторы, влияющие на отток клиентов.\n",
    "Возможно, стоит рассмотреть варианты добавления новых признаков или использования альтернативных методов машинного обучения для ещё более точного прогнозирования оттока клиентов."
   ]
  }
 ],
 "metadata": {
  "kernelspec": {
   "display_name": "Python 3 (ipykernel)",
   "language": "python",
   "name": "python3"
  },
  "language_info": {
   "codemirror_mode": {
    "name": "ipython",
    "version": 3
   },
   "file_extension": ".py",
   "mimetype": "text/x-python",
   "name": "python",
   "nbconvert_exporter": "python",
   "pygments_lexer": "ipython3",
   "version": "3.10.9"
  },
  "toc": {
   "base_numbering": 1,
   "nav_menu": {},
   "number_sections": true,
   "sideBar": true,
   "skip_h1_title": false,
   "title_cell": "Table of Contents",
   "title_sidebar": "Contents",
   "toc_cell": false,
   "toc_position": {},
   "toc_section_display": true,
   "toc_window_display": false
  }
 },
 "nbformat": 4,
 "nbformat_minor": 5
}
