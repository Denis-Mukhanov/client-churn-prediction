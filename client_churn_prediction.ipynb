{
 "cells": [
  {
   "cell_type": "markdown",
   "id": "f673414b",
   "metadata": {},
   "source": [
    "[![image-1.png](https://i.postimg.cc/Vk3VrVXM/image-1.png)](https://postimg.cc/v4tzCXqH)"
   ]
  },
  {
   "cell_type": "markdown",
   "id": "8820f9ef",
   "metadata": {},
   "source": [
    "<div style=\"padding:15px 20px 20px 20px;\n",
    "            color:#004346;\n",
    "            font-size:40px;\n",
    "            display:fill;\n",
    "            text-align:center;\n",
    "            border-radius:20px;\n",
    "            border: 5px double;\n",
    "            border-color:#201E20;\n",
    "            background-color: #E8F1F2;\n",
    "            overflow:hidden;\n",
    "            font-weight:400\">\n",
    "<p style=\"font-weight: bold; text-align: center;\">Прогнозирование оттока клиентов</p>\n",
    "\n",
    "</div>"
   ]
  },
  {
   "cell_type": "markdown",
   "id": "1af69929",
   "metadata": {},
   "source": [
    "<div style=\"padding:0px 40px 30px;\n",
    "            color:#004346;\n",
    "            font-size:110%;\n",
    "            display:fill;\n",
    "            border-radius:20px;\n",
    "            border: 5px double;\n",
    "            border-color:#201E20;\n",
    "            background-color: #E8F1F2;\n",
    "            overflow:hidden;\n",
    "            font-weight:450;\">\n",
    "    \n",
    "__Заказчик:__ Оператор связи «ТелеДом».\n",
    "    \n",
    "__Описание задачи:__ Для борьбы с оттоком клиентов, сотрудники компании будут предлагать промокоды и специальные условия тем абонентам, которые имеют намерение прекратить пользоваться услугами связи. Это позволит заранее выявлять пользователей, склонных к расторжению договора.\n",
    "\n",
    "__Постановка задачи:__ Разработать модель для прогнозирования вероятности расторжения договора абонентом.\n",
    "    \n",
    "__Оценка качества модели:__ Метрики ROC-AUC, значение должно быть не менее 0.85. \n",
    "\n",
    "__Описание услуг компании:__ Оператор предоставляет два основных типа услуг:\n",
    "    \n",
    "- Стационарную телефонную связь. Телефон можно подключить к нескольким линиям одновременно.\n",
    "- Интернет. Подключение бывает двух типов: через телефонную линию DSL (англ. digital subscriber line — «цифровая абонентская линия») или оптоволоконный кабель (англ. fiber optic).\n",
    "    \n",
    "Также абонентам доступен ряд дополнительных услуг:\n",
    "    \n",
    "- Интернет-безопасность: антивирус (Device Protection) и блокировка опасных сайтов (Online Security);\n",
    "- Выделенная линия технической поддержки (Tech Support);\n",
    "- Облачное хранилище файлов для резервного копирования данных (Online Backup);\n",
    "- Стриминговое телевидение (Streaming TV) и каталог фильмов (Streaming Movies).\n",
    "    \n",
    "За услуги клиенты могут платить ежемесячно или раз в 1–2 года. Доступны различные способы расчёта и возможность получить электронный чек.\n",
    "    \n",
    "__Описание данных:__ персональные данные о некоторых клиентах, информация об их тарифах и услугах.\n",
    " \n",
    "Данные хранятся в базе данных PostgreSQL. Она состоит из нескольких [таблиц](https://github.com/Denis-Mukhanov/client-churn-prediction/blob/main/data/data%20description.pdf):\n",
    "    \n",
    "- `contract` — информация о договорах;\n",
    "- `personal` — персональные данные клиентов;\n",
    "- `internet` — информация об интернет-услугах;\n",
    "- `phone` — информация об услугах телефонии.\n",
    "\n",
    "\n",
    "</div>    "
   ]
  },
  {
   "cell_type": "markdown",
   "id": "deeafe8c",
   "metadata": {},
   "source": [
    "<div style=\"padding:0px 20px 10px;\n",
    "            color:#004346;\n",
    "            font-size:15px;\n",
    "            display:fill;\n",
    "            text-align:center;\n",
    "            border-radius:20px;\n",
    "            border: 5px double;\n",
    "            border-color:#201E20;\n",
    "            background-color: #E8F1F2;\n",
    "            overflow:hidden;\n",
    "            font-weight:400\">\n",
    "\n",
    "# Используемые библиотеки\n",
    "\n",
    "</div>"
   ]
  },
  {
   "cell_type": "code",
   "execution_count": 1,
   "id": "e2a5ca26",
   "metadata": {},
   "outputs": [],
   "source": [
    "from rich.console import Console\n",
    "import numpy as np\n",
    "import pandas as pd\n",
    "import random\n",
    "import matplotlib.pyplot as plt\n",
    "import seaborn as sns\n",
    "\n",
    "import phik\n",
    "import psycopg2\n",
    "import sqlalchemy\n",
    "from sqlalchemy import create_engine\n",
    "\n",
    "# константы\n",
    "RANDOM_SEED = 181023\n",
    "\n",
    "# настройки блокнота\n",
    "pd.options.display.max_colwidth = 500\n",
    "random.seed(RANDOM_SEED)\n",
    "\n",
    "# экземпляр консоли\n",
    "console = Console()"
   ]
  },
  {
   "cell_type": "markdown",
   "id": "47f796cd",
   "metadata": {},
   "source": [
    "## Подключение к базе данных"
   ]
  },
  {
   "cell_type": "code",
   "execution_count": 2,
   "id": "a48caf56",
   "metadata": {},
   "outputs": [],
   "source": [
    "# конфигурация для подключения к базе данных\n",
    "db_config = {\n",
    "    'user': 'praktikum_student',# имя пользователя,\n",
    "    'pwd': 'Sdf4$2;d-d30pp',# пароль,\n",
    "    'host': 'rc1b-wcoijxj3yxfsf3fs.mdb.yandexcloud.net',\n",
    "    'port': 6432,# порт подключения,\n",
    "    'db': 'data-science-final'# название базы данных,\n",
    "} \n",
    "\n",
    "# создание подключения к базе данных\n",
    "connection = psycopg2.connect(\n",
    "    user=db_config['user'],\n",
    "    password=db_config['pwd'],\n",
    "    host=db_config['host'],\n",
    "    port=db_config['port'],\n",
    "    database=db_config['db']\n",
    ")\n",
    "\n",
    "# создаем курсора для выполнения запросов\n",
    "cursor = connection.cursor()"
   ]
  },
  {
   "cell_type": "markdown",
   "id": "35e2533b",
   "metadata": {},
   "source": [
    "__функция для выполнения запросов__"
   ]
  },
  {
   "cell_type": "code",
   "execution_count": 3,
   "id": "5c982e4d",
   "metadata": {},
   "outputs": [],
   "source": [
    "# функция для выполнения запросов\n",
    "def request(query):\n",
    "    try:\n",
    "        cursor.execute(query)\n",
    "        result = cursor.fetchall()\n",
    "        result_df = pd.DataFrame(result, columns=[desc[0] for desc in cursor.description])\n",
    "        return result_df\n",
    "    except Exception as e:\n",
    "        print(f'Error: {e}')\n",
    "        connection.rollback()  # откат транзакции, для избежания блокировки"
   ]
  },
  {
   "cell_type": "code",
   "execution_count": 4,
   "id": "910d3e71",
   "metadata": {},
   "outputs": [
    {
     "data": {
      "text/html": [
       "<div>\n",
       "<style scoped>\n",
       "    .dataframe tbody tr th:only-of-type {\n",
       "        vertical-align: middle;\n",
       "    }\n",
       "\n",
       "    .dataframe tbody tr th {\n",
       "        vertical-align: top;\n",
       "    }\n",
       "\n",
       "    .dataframe thead th {\n",
       "        text-align: right;\n",
       "    }\n",
       "</style>\n",
       "<table border=\"1\" class=\"dataframe\">\n",
       "  <thead>\n",
       "    <tr style=\"text-align: right;\">\n",
       "      <th></th>\n",
       "      <th>customerID</th>\n",
       "      <th>BeginDate</th>\n",
       "      <th>EndDate</th>\n",
       "      <th>Type</th>\n",
       "      <th>PaperlessBilling</th>\n",
       "      <th>PaymentMethod</th>\n",
       "      <th>MonthlyCharges</th>\n",
       "      <th>TotalCharges</th>\n",
       "    </tr>\n",
       "  </thead>\n",
       "  <tbody>\n",
       "    <tr>\n",
       "      <th>0</th>\n",
       "      <td>4472-LVYGI</td>\n",
       "      <td>2020-02-01</td>\n",
       "      <td>None</td>\n",
       "      <td>Two year</td>\n",
       "      <td>Yes</td>\n",
       "      <td>Bank transfer (automatic)</td>\n",
       "      <td>52.55</td>\n",
       "      <td>None</td>\n",
       "    </tr>\n",
       "  </tbody>\n",
       "</table>\n",
       "</div>"
      ],
      "text/plain": [
       "   customerID   BeginDate EndDate      Type PaperlessBilling  \\\n",
       "0  4472-LVYGI  2020-02-01    None  Two year              Yes   \n",
       "\n",
       "               PaymentMethod MonthlyCharges TotalCharges  \n",
       "0  Bank transfer (automatic)          52.55         None  "
      ]
     },
     "metadata": {},
     "output_type": "display_data"
    }
   ],
   "source": [
    "# тестовый запрос\n",
    "query = '''\n",
    "SELECT *\n",
    "FROM telecom.contract\n",
    "LIMIT 1;\n",
    "'''\n",
    "display(request(query))"
   ]
  },
  {
   "cell_type": "markdown",
   "id": "02b08c80",
   "metadata": {},
   "source": [
    "<div style=\"padding:0px 20px 10px;\n",
    "            color:#004346;\n",
    "            font-size:15px;\n",
    "            display:fill;\n",
    "            text-align:center;\n",
    "            border-radius:20px;\n",
    "            border: 5px double;\n",
    "            border-color:#201E20;\n",
    "            background-color: #E8F1F2;\n",
    "            overflow:hidden;\n",
    "            font-weight:400\">\n",
    "\n",
    "# Первичное исследование таблиц базы данных\n",
    "\n",
    "</div>"
   ]
  },
  {
   "cell_type": "markdown",
   "id": "a63378b3",
   "metadata": {},
   "source": [
    "__Проверим таблицы на наличие данных__"
   ]
  },
  {
   "cell_type": "code",
   "execution_count": 14,
   "id": "613f58ae",
   "metadata": {},
   "outputs": [],
   "source": [
    "tables = [\"contract\", \"personal\", \"internet\", \"phone\"]"
   ]
  },
  {
   "cell_type": "code",
   "execution_count": 16,
   "id": "f656908f",
   "metadata": {},
   "outputs": [
    {
     "name": "stdout",
     "output_type": "stream",
     "text": [
      "Количество записей в таблице contract: 7043\n",
      "Количество записей в таблице personal: 7043\n",
      "Количество записей в таблице internet: 5518\n",
      "Количество записей в таблице phone: 6362\n"
     ]
    }
   ],
   "source": [
    "for table in tables:\n",
    "    query = f\"SELECT COUNT(*) FROM telecom.{table};\"\n",
    "    contract_count = request(query).iloc[0][0]\n",
    "    print(f\"Количество записей в таблице {table}:\", contract_count)\n"
   ]
  },
  {
   "cell_type": "markdown",
   "id": "3e43e899",
   "metadata": {},
   "source": [
    ">Все четыре таблицы доступны и содержат данные, \n",
    ">Количество записей  в таблицах \"contract\" и \"personal\" одинаковы, что соответствует условию задачи,\n",
    ">Таблицы \"internet\" и \"phone\" имеют различное количество записей, что может быть связани, что не все пользователь пользуются одновременно интернет и услугами телефонии,\n",
    ">Количество записей невилико и мы можем выгрузить таблицы, для дальнейшего анализа."
   ]
  },
  {
   "cell_type": "markdown",
   "id": "515b5043",
   "metadata": {},
   "source": [
    "## Выгрузка таблиц базы данных"
   ]
  },
  {
   "cell_type": "code",
   "execution_count": 72,
   "id": "8b7c02cd",
   "metadata": {},
   "outputs": [
    {
     "name": "stdout",
     "output_type": "stream",
     "text": [
      "Датасет с информацией о договорах\n"
     ]
    },
    {
     "data": {
      "text/html": [
       "<div>\n",
       "<style scoped>\n",
       "    .dataframe tbody tr th:only-of-type {\n",
       "        vertical-align: middle;\n",
       "    }\n",
       "\n",
       "    .dataframe tbody tr th {\n",
       "        vertical-align: top;\n",
       "    }\n",
       "\n",
       "    .dataframe thead th {\n",
       "        text-align: right;\n",
       "    }\n",
       "</style>\n",
       "<table border=\"1\" class=\"dataframe\">\n",
       "  <thead>\n",
       "    <tr style=\"text-align: right;\">\n",
       "      <th></th>\n",
       "      <th>customerID</th>\n",
       "      <th>BeginDate</th>\n",
       "      <th>EndDate</th>\n",
       "      <th>Type</th>\n",
       "      <th>PaperlessBilling</th>\n",
       "      <th>PaymentMethod</th>\n",
       "      <th>MonthlyCharges</th>\n",
       "      <th>TotalCharges</th>\n",
       "    </tr>\n",
       "  </thead>\n",
       "  <tbody>\n",
       "    <tr>\n",
       "      <th>0</th>\n",
       "      <td>4472-LVYGI</td>\n",
       "      <td>2020-02-01</td>\n",
       "      <td>None</td>\n",
       "      <td>Two year</td>\n",
       "      <td>Yes</td>\n",
       "      <td>Bank transfer (automatic)</td>\n",
       "      <td>52.55</td>\n",
       "      <td>None</td>\n",
       "    </tr>\n",
       "    <tr>\n",
       "      <th>1</th>\n",
       "      <td>3115-CZMZD</td>\n",
       "      <td>2020-02-01</td>\n",
       "      <td>None</td>\n",
       "      <td>Two year</td>\n",
       "      <td>No</td>\n",
       "      <td>Mailed check</td>\n",
       "      <td>20.25</td>\n",
       "      <td>None</td>\n",
       "    </tr>\n",
       "  </tbody>\n",
       "</table>\n",
       "</div>"
      ],
      "text/plain": [
       "   customerID   BeginDate EndDate      Type PaperlessBilling  \\\n",
       "0  4472-LVYGI  2020-02-01    None  Two year              Yes   \n",
       "1  3115-CZMZD  2020-02-01    None  Two year               No   \n",
       "\n",
       "               PaymentMethod MonthlyCharges TotalCharges  \n",
       "0  Bank transfer (automatic)          52.55         None  \n",
       "1               Mailed check          20.25         None  "
      ]
     },
     "metadata": {},
     "output_type": "display_data"
    },
    {
     "name": "stdout",
     "output_type": "stream",
     "text": [
      "<class 'pandas.core.frame.DataFrame'>\n",
      "RangeIndex: 7043 entries, 0 to 7042\n",
      "Data columns (total 8 columns):\n",
      " #   Column            Non-Null Count  Dtype \n",
      "---  ------            --------------  ----- \n",
      " 0   customerID        7043 non-null   object\n",
      " 1   BeginDate         7043 non-null   object\n",
      " 2   EndDate           1869 non-null   object\n",
      " 3   Type              7043 non-null   object\n",
      " 4   PaperlessBilling  7043 non-null   object\n",
      " 5   PaymentMethod     7043 non-null   object\n",
      " 6   MonthlyCharges    7043 non-null   object\n",
      " 7   TotalCharges      7032 non-null   object\n",
      "dtypes: object(8)\n",
      "memory usage: 440.3+ KB\n"
     ]
    },
    {
     "data": {
      "text/plain": [
       "None"
      ]
     },
     "metadata": {},
     "output_type": "display_data"
    },
    {
     "name": "stdout",
     "output_type": "stream",
     "text": [
      "Датасет с информацией о персональных данные клиентов\n"
     ]
    },
    {
     "data": {
      "text/html": [
       "<div>\n",
       "<style scoped>\n",
       "    .dataframe tbody tr th:only-of-type {\n",
       "        vertical-align: middle;\n",
       "    }\n",
       "\n",
       "    .dataframe tbody tr th {\n",
       "        vertical-align: top;\n",
       "    }\n",
       "\n",
       "    .dataframe thead th {\n",
       "        text-align: right;\n",
       "    }\n",
       "</style>\n",
       "<table border=\"1\" class=\"dataframe\">\n",
       "  <thead>\n",
       "    <tr style=\"text-align: right;\">\n",
       "      <th></th>\n",
       "      <th>customerID</th>\n",
       "      <th>gender</th>\n",
       "      <th>SeniorCitizen</th>\n",
       "      <th>Partner</th>\n",
       "      <th>Dependents</th>\n",
       "    </tr>\n",
       "  </thead>\n",
       "  <tbody>\n",
       "    <tr>\n",
       "      <th>0</th>\n",
       "      <td>7590-VHVEG</td>\n",
       "      <td>Female</td>\n",
       "      <td>0</td>\n",
       "      <td>Yes</td>\n",
       "      <td>No</td>\n",
       "    </tr>\n",
       "    <tr>\n",
       "      <th>1</th>\n",
       "      <td>5575-GNVDE</td>\n",
       "      <td>Male</td>\n",
       "      <td>0</td>\n",
       "      <td>No</td>\n",
       "      <td>No</td>\n",
       "    </tr>\n",
       "  </tbody>\n",
       "</table>\n",
       "</div>"
      ],
      "text/plain": [
       "   customerID  gender  SeniorCitizen Partner Dependents\n",
       "0  7590-VHVEG  Female              0     Yes         No\n",
       "1  5575-GNVDE    Male              0      No         No"
      ]
     },
     "metadata": {},
     "output_type": "display_data"
    },
    {
     "name": "stdout",
     "output_type": "stream",
     "text": [
      "<class 'pandas.core.frame.DataFrame'>\n",
      "RangeIndex: 7043 entries, 0 to 7042\n",
      "Data columns (total 5 columns):\n",
      " #   Column         Non-Null Count  Dtype \n",
      "---  ------         --------------  ----- \n",
      " 0   customerID     7043 non-null   object\n",
      " 1   gender         7043 non-null   object\n",
      " 2   SeniorCitizen  7043 non-null   int64 \n",
      " 3   Partner        7043 non-null   object\n",
      " 4   Dependents     7043 non-null   object\n",
      "dtypes: int64(1), object(4)\n",
      "memory usage: 275.2+ KB\n"
     ]
    },
    {
     "data": {
      "text/plain": [
       "None"
      ]
     },
     "metadata": {},
     "output_type": "display_data"
    },
    {
     "name": "stdout",
     "output_type": "stream",
     "text": [
      "Датасет с информацией об интернет-услугах\n"
     ]
    },
    {
     "data": {
      "text/html": [
       "<div>\n",
       "<style scoped>\n",
       "    .dataframe tbody tr th:only-of-type {\n",
       "        vertical-align: middle;\n",
       "    }\n",
       "\n",
       "    .dataframe tbody tr th {\n",
       "        vertical-align: top;\n",
       "    }\n",
       "\n",
       "    .dataframe thead th {\n",
       "        text-align: right;\n",
       "    }\n",
       "</style>\n",
       "<table border=\"1\" class=\"dataframe\">\n",
       "  <thead>\n",
       "    <tr style=\"text-align: right;\">\n",
       "      <th></th>\n",
       "      <th>customerID</th>\n",
       "      <th>InternetService</th>\n",
       "      <th>OnlineSecurity</th>\n",
       "      <th>OnlineBackup</th>\n",
       "      <th>DeviceProtection</th>\n",
       "      <th>TechSupport</th>\n",
       "      <th>StreamingTV</th>\n",
       "      <th>StreamingMovies</th>\n",
       "    </tr>\n",
       "  </thead>\n",
       "  <tbody>\n",
       "    <tr>\n",
       "      <th>1</th>\n",
       "      <td>7590-VHVEG</td>\n",
       "      <td>DSL</td>\n",
       "      <td>No</td>\n",
       "      <td>Yes</td>\n",
       "      <td>No</td>\n",
       "      <td>No</td>\n",
       "      <td>No</td>\n",
       "      <td>No</td>\n",
       "    </tr>\n",
       "    <tr>\n",
       "      <th>2</th>\n",
       "      <td>5575-GNVDE</td>\n",
       "      <td>DSL</td>\n",
       "      <td>Yes</td>\n",
       "      <td>No</td>\n",
       "      <td>Yes</td>\n",
       "      <td>No</td>\n",
       "      <td>No</td>\n",
       "      <td>No</td>\n",
       "    </tr>\n",
       "  </tbody>\n",
       "</table>\n",
       "</div>"
      ],
      "text/plain": [
       "   customerID InternetService OnlineSecurity OnlineBackup DeviceProtection  \\\n",
       "1  7590-VHVEG             DSL             No          Yes               No   \n",
       "2  5575-GNVDE             DSL            Yes           No              Yes   \n",
       "\n",
       "  TechSupport StreamingTV StreamingMovies  \n",
       "1          No          No              No  \n",
       "2          No          No              No  "
      ]
     },
     "metadata": {},
     "output_type": "display_data"
    },
    {
     "name": "stdout",
     "output_type": "stream",
     "text": [
      "<class 'pandas.core.frame.DataFrame'>\n",
      "RangeIndex: 5517 entries, 1 to 5517\n",
      "Data columns (total 8 columns):\n",
      " #   Column            Non-Null Count  Dtype \n",
      "---  ------            --------------  ----- \n",
      " 0   customerID        5517 non-null   object\n",
      " 1   InternetService   5517 non-null   object\n",
      " 2   OnlineSecurity    5517 non-null   object\n",
      " 3   OnlineBackup      5517 non-null   object\n",
      " 4   DeviceProtection  5517 non-null   object\n",
      " 5   TechSupport       5517 non-null   object\n",
      " 6   StreamingTV       5517 non-null   object\n",
      " 7   StreamingMovies   5517 non-null   object\n",
      "dtypes: object(8)\n",
      "memory usage: 344.9+ KB\n"
     ]
    },
    {
     "data": {
      "text/plain": [
       "None"
      ]
     },
     "metadata": {},
     "output_type": "display_data"
    },
    {
     "name": "stdout",
     "output_type": "stream",
     "text": [
      "Датасет с информацией об услугах телефонии\n"
     ]
    },
    {
     "data": {
      "text/html": [
       "<div>\n",
       "<style scoped>\n",
       "    .dataframe tbody tr th:only-of-type {\n",
       "        vertical-align: middle;\n",
       "    }\n",
       "\n",
       "    .dataframe tbody tr th {\n",
       "        vertical-align: top;\n",
       "    }\n",
       "\n",
       "    .dataframe thead th {\n",
       "        text-align: right;\n",
       "    }\n",
       "</style>\n",
       "<table border=\"1\" class=\"dataframe\">\n",
       "  <thead>\n",
       "    <tr style=\"text-align: right;\">\n",
       "      <th></th>\n",
       "      <th>customerID</th>\n",
       "      <th>MultipleLines</th>\n",
       "    </tr>\n",
       "  </thead>\n",
       "  <tbody>\n",
       "    <tr>\n",
       "      <th>1</th>\n",
       "      <td>5575-GNVDE</td>\n",
       "      <td>No</td>\n",
       "    </tr>\n",
       "    <tr>\n",
       "      <th>2</th>\n",
       "      <td>3668-QPYBK</td>\n",
       "      <td>No</td>\n",
       "    </tr>\n",
       "  </tbody>\n",
       "</table>\n",
       "</div>"
      ],
      "text/plain": [
       "   customerID MultipleLines\n",
       "1  5575-GNVDE            No\n",
       "2  3668-QPYBK            No"
      ]
     },
     "metadata": {},
     "output_type": "display_data"
    },
    {
     "name": "stdout",
     "output_type": "stream",
     "text": [
      "<class 'pandas.core.frame.DataFrame'>\n",
      "RangeIndex: 6361 entries, 1 to 6361\n",
      "Data columns (total 2 columns):\n",
      " #   Column         Non-Null Count  Dtype \n",
      "---  ------         --------------  ----- \n",
      " 0   customerID     6361 non-null   object\n",
      " 1   MultipleLines  6361 non-null   object\n",
      "dtypes: object(2)\n",
      "memory usage: 99.5+ KB\n"
     ]
    },
    {
     "data": {
      "text/plain": [
       "None"
      ]
     },
     "metadata": {},
     "output_type": "display_data"
    }
   ],
   "source": [
    "# информация о договорах\n",
    "contract_df = request(\"SELECT * FROM telecom.contract;\")\n",
    "print('Датасет с информацией о договорах')\n",
    "display(contract_df.head(2))\n",
    "display(contract_df.info())\n",
    "# персональные данные клиентов\n",
    "personal_df = request(\"SELECT * FROM telecom.personal;\")\n",
    "print('Датасет с информацией о персональных данные клиентов')\n",
    "display(personal_df.head(2))\n",
    "display(personal_df.info())\n",
    "# информация об интернет-услугах\n",
    "internet_df = request(\"SELECT * FROM telecom.internet;\")\n",
    "internet_df.columns = list(internet_df.iloc[0].values)\n",
    "internet_df = internet_df.drop(0, axis=0)\n",
    "print('Датасет с информацией об интернет-услугах')\n",
    "display(internet_df.head(2))\n",
    "display(internet_df.info())\n",
    "# информация об услугах телефонии\n",
    "phone_df = request(\"SELECT * FROM telecom.phone;\")\n",
    "phone_df.columns = list(phone_df.iloc[0].values)\n",
    "phone_df = phone_df.drop(0, axis=0)\n",
    "print('Датасет с информацией об услугах телефонии')\n",
    "display(phone_df.head(2))\n",
    "display(phone_df.info())"
   ]
  },
  {
   "cell_type": "code",
   "execution_count": 73,
   "id": "8c234cd1",
   "metadata": {},
   "outputs": [],
   "source": [
    "# список датасетов\n",
    "list_df = [contract_df, personal_df, internet_df, phone_df]"
   ]
  },
  {
   "cell_type": "markdown",
   "id": "2fc1187c",
   "metadata": {},
   "source": [
    ">Регистр названий признаков не соответствует стандарту."
   ]
  },
  {
   "cell_type": "markdown",
   "id": "c2038e7d",
   "metadata": {},
   "source": [
    "__Перееименуем признаки__"
   ]
  },
  {
   "cell_type": "code",
   "execution_count": 74,
   "id": "e0e0ea99",
   "metadata": {},
   "outputs": [],
   "source": [
    "new_column_names = {\n",
    "    'customerID': 'customer_id',\n",
    "    'BeginDate': 'begin_date',\n",
    "    'EndDate': 'end_date',\n",
    "    'Type': 'type',\n",
    "    'PaperlessBilling': 'paperless_billing',\n",
    "    'PaymentMethod': 'payment_method',\n",
    "    'MonthlyCharges': 'monthly_charges',\n",
    "    'TotalCharges': 'total_charges',\n",
    "    'SeniorCitizen': 'senior_citizen',\n",
    "    'Partner': 'partner',\n",
    "    'Dependents': 'dependents',\n",
    "    'InternetService': 'internet_service',\n",
    "    'OnlineSecurity': 'online_security',\n",
    "    'OnlineBackup': 'online_backup',\n",
    "    'DeviceProtection': 'device_protection',\n",
    "    'TechSupport': 'tech_support',\n",
    "    'StreamingTV': 'streaming_tv', \n",
    "    'StreamingMovies': 'streaming_movies',\n",
    "    'MultipleLines': 'multiplelines'\n",
    "}"
   ]
  },
  {
   "cell_type": "code",
   "execution_count": 79,
   "id": "63c86569",
   "metadata": {},
   "outputs": [
    {
     "name": "stderr",
     "output_type": "stream",
     "text": [
      "/var/folders/1l/cj5j7tnj6q347f0pj242vpfm0000gn/T/ipykernel_55126/1130311398.py:2: UserWarning: Pandas doesn't allow columns to be created via a new attribute name - see https://pandas.pydata.org/pandas-docs/stable/indexing.html#attribute-access\n",
      "  df.globals = df.rename(columns=new_column_names)\n",
      "/var/folders/1l/cj5j7tnj6q347f0pj242vpfm0000gn/T/ipykernel_55126/1130311398.py:2: UserWarning: Pandas doesn't allow columns to be created via a new attribute name - see https://pandas.pydata.org/pandas-docs/stable/indexing.html#attribute-access\n",
      "  df.globals = df.rename(columns=new_column_names)\n",
      "/var/folders/1l/cj5j7tnj6q347f0pj242vpfm0000gn/T/ipykernel_55126/1130311398.py:2: UserWarning: Pandas doesn't allow columns to be created via a new attribute name - see https://pandas.pydata.org/pandas-docs/stable/indexing.html#attribute-access\n",
      "  df.globals = df.rename(columns=new_column_names)\n",
      "/var/folders/1l/cj5j7tnj6q347f0pj242vpfm0000gn/T/ipykernel_55126/1130311398.py:2: UserWarning: Pandas doesn't allow columns to be created via a new attribute name - see https://pandas.pydata.org/pandas-docs/stable/indexing.html#attribute-access\n",
      "  df.globals = df.rename(columns=new_column_names)\n"
     ]
    }
   ],
   "source": [
    "for df in list_df:\n",
    "    df.globals = df.rename(columns=new_column_names)"
   ]
  },
  {
   "cell_type": "code",
   "execution_count": 77,
   "id": "24682765",
   "metadata": {},
   "outputs": [
    {
     "data": {
      "text/html": [
       "<div>\n",
       "<style scoped>\n",
       "    .dataframe tbody tr th:only-of-type {\n",
       "        vertical-align: middle;\n",
       "    }\n",
       "\n",
       "    .dataframe tbody tr th {\n",
       "        vertical-align: top;\n",
       "    }\n",
       "\n",
       "    .dataframe thead th {\n",
       "        text-align: right;\n",
       "    }\n",
       "</style>\n",
       "<table border=\"1\" class=\"dataframe\">\n",
       "  <thead>\n",
       "    <tr style=\"text-align: right;\">\n",
       "      <th></th>\n",
       "      <th>customer_id</th>\n",
       "      <th>multiplelines</th>\n",
       "    </tr>\n",
       "  </thead>\n",
       "  <tbody>\n",
       "    <tr>\n",
       "      <th>1</th>\n",
       "      <td>5575-GNVDE</td>\n",
       "      <td>No</td>\n",
       "    </tr>\n",
       "    <tr>\n",
       "      <th>2</th>\n",
       "      <td>3668-QPYBK</td>\n",
       "      <td>No</td>\n",
       "    </tr>\n",
       "    <tr>\n",
       "      <th>3</th>\n",
       "      <td>9237-HQITU</td>\n",
       "      <td>No</td>\n",
       "    </tr>\n",
       "    <tr>\n",
       "      <th>4</th>\n",
       "      <td>9305-CDSKC</td>\n",
       "      <td>Yes</td>\n",
       "    </tr>\n",
       "    <tr>\n",
       "      <th>5</th>\n",
       "      <td>1452-KIOVK</td>\n",
       "      <td>Yes</td>\n",
       "    </tr>\n",
       "    <tr>\n",
       "      <th>...</th>\n",
       "      <td>...</td>\n",
       "      <td>...</td>\n",
       "    </tr>\n",
       "    <tr>\n",
       "      <th>6357</th>\n",
       "      <td>2569-WGERO</td>\n",
       "      <td>No</td>\n",
       "    </tr>\n",
       "    <tr>\n",
       "      <th>6358</th>\n",
       "      <td>6840-RESVB</td>\n",
       "      <td>Yes</td>\n",
       "    </tr>\n",
       "    <tr>\n",
       "      <th>6359</th>\n",
       "      <td>2234-XADUH</td>\n",
       "      <td>Yes</td>\n",
       "    </tr>\n",
       "    <tr>\n",
       "      <th>6360</th>\n",
       "      <td>8361-LTMKD</td>\n",
       "      <td>Yes</td>\n",
       "    </tr>\n",
       "    <tr>\n",
       "      <th>6361</th>\n",
       "      <td>3186-AJIEK</td>\n",
       "      <td>No</td>\n",
       "    </tr>\n",
       "  </tbody>\n",
       "</table>\n",
       "<p>6361 rows × 2 columns</p>\n",
       "</div>"
      ],
      "text/plain": [
       "     customer_id multiplelines\n",
       "1     5575-GNVDE            No\n",
       "2     3668-QPYBK            No\n",
       "3     9237-HQITU            No\n",
       "4     9305-CDSKC           Yes\n",
       "5     1452-KIOVK           Yes\n",
       "...          ...           ...\n",
       "6357  2569-WGERO            No\n",
       "6358  6840-RESVB           Yes\n",
       "6359  2234-XADUH           Yes\n",
       "6360  8361-LTMKD           Yes\n",
       "6361  3186-AJIEK            No\n",
       "\n",
       "[6361 rows x 2 columns]"
      ]
     },
     "execution_count": 77,
     "metadata": {},
     "output_type": "execute_result"
    }
   ],
   "source": [
    "df"
   ]
  },
  {
   "cell_type": "code",
   "execution_count": null,
   "id": "d1ea6eed",
   "metadata": {},
   "outputs": [],
   "source": []
  }
 ],
 "metadata": {
  "kernelspec": {
   "display_name": "Python 3 (ipykernel)",
   "language": "python",
   "name": "python3"
  },
  "language_info": {
   "codemirror_mode": {
    "name": "ipython",
    "version": 3
   },
   "file_extension": ".py",
   "mimetype": "text/x-python",
   "name": "python",
   "nbconvert_exporter": "python",
   "pygments_lexer": "ipython3",
   "version": "3.10.9"
  },
  "toc": {
   "base_numbering": 1,
   "nav_menu": {},
   "number_sections": true,
   "sideBar": true,
   "skip_h1_title": false,
   "title_cell": "Table of Contents",
   "title_sidebar": "Contents",
   "toc_cell": false,
   "toc_position": {},
   "toc_section_display": true,
   "toc_window_display": false
  }
 },
 "nbformat": 4,
 "nbformat_minor": 5
}
