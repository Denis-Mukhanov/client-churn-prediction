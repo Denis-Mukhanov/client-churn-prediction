{
 "cells": [
  {
   "cell_type": "markdown",
   "id": "f673414b",
   "metadata": {},
   "source": [
    "[![image-1.png](https://i.postimg.cc/Vk3VrVXM/image-1.png)](https://postimg.cc/v4tzCXqH)"
   ]
  },
  {
   "cell_type": "markdown",
   "id": "8820f9ef",
   "metadata": {},
   "source": [
    "<div style=\"padding:15px 20px 20px 20px;\n",
    "            color:#004346;\n",
    "            font-size:40px;\n",
    "            display:fill;\n",
    "            text-align:center;\n",
    "            border-radius:20px;\n",
    "            border: 5px double;\n",
    "            border-color:#201E20;\n",
    "            background-color: #E8F1F2;\n",
    "            overflow:hidden;\n",
    "            font-weight:400\">\n",
    "<p style=\"font-weight: bold; text-align: center;\">Прогнозирование оттока клиентов</p>\n",
    "\n",
    "</div>"
   ]
  },
  {
   "cell_type": "markdown",
   "id": "1af69929",
   "metadata": {},
   "source": [
    "<div style=\"padding:0px 40px 30px;\n",
    "            color:#004346;\n",
    "            font-size:110%;\n",
    "            display:fill;\n",
    "            border-radius:20px;\n",
    "            border: 5px double;\n",
    "            border-color:#201E20;\n",
    "            background-color: #E8F1F2;\n",
    "            overflow:hidden;\n",
    "            font-weight:450;\">\n",
    "    \n",
    "__Заказчик:__ Оператор связи «ТелеДом».\n",
    "    \n",
    "__Описание задачи:__ Для борьбы с оттоком клиентов, сотрудники компании будут предлагать промокоды и специальные условия тем абонентам, которые имеют намерение прекратить пользоваться услугами связи. Это позволит заранее выявлять пользователей, склонных к расторжению договора.\n",
    "\n",
    "__Постановка задачи:__ Разработать модель для прогнозирования вероятности расторжения договора абонентом.\n",
    "    \n",
    "__Оценка качества модели:__ Метрики ROC-AUC, значение должно быть не менее 0.85. \n",
    "\n",
    "__Описание услуг компании:__ Оператор предоставляет два основных типа услуг:\n",
    "    \n",
    "- Стационарную телефонную связь. Телефон можно подключить к нескольким линиям одновременно.\n",
    "- Интернет. Подключение бывает двух типов: через телефонную линию DSL (англ. digital subscriber line — «цифровая абонентская линия») или оптоволоконный кабель (англ. fiber optic).\n",
    "    \n",
    "Также абонентам доступен ряд дополнительных услуг:\n",
    "    \n",
    "- Интернет-безопасность: антивирус (Device Protection) и блокировка опасных сайтов (Online Security);\n",
    "- Выделенная линия технической поддержки (Tech Support);\n",
    "- Облачное хранилище файлов для резервного копирования данных (Online Backup);\n",
    "- Стриминговое телевидение (Streaming TV) и каталог фильмов (Streaming Movies).\n",
    "    \n",
    "За услуги клиенты могут платить ежемесячно или раз в 1–2 года. Доступны различные способы расчёта и возможность получить электронный чек.\n",
    "    \n",
    "__Описание данных:__ персональные данные о некоторых клиентах, информация об их тарифах и услугах.\n",
    " \n",
    "Данные хранятся в базе данных PostgreSQL. Она состоит из нескольких [таблиц](https://github.com/Denis-Mukhanov/client-churn-prediction/blob/main/data/data%20description.pdf):\n",
    "    \n",
    "- `contract` — информация о договорах;\n",
    "- `personal` — персональные данные клиентов;\n",
    "- `internet` — информация об интернет-услугах;\n",
    "- `phone` — информация об услугах телефонии.\n",
    "\n",
    "\n",
    "</div>    "
   ]
  },
  {
   "cell_type": "markdown",
   "id": "deeafe8c",
   "metadata": {},
   "source": [
    "<div style=\"padding:0px 20px 10px;\n",
    "            color:#004346;\n",
    "            font-size:15px;\n",
    "            display:fill;\n",
    "            text-align:center;\n",
    "            border-radius:20px;\n",
    "            border: 5px double;\n",
    "            border-color:#201E20;\n",
    "            background-color: #E8F1F2;\n",
    "            overflow:hidden;\n",
    "            font-weight:400\">\n",
    "\n",
    "# Используемые библиотеки\n",
    "\n",
    "</div>"
   ]
  },
  {
   "cell_type": "code",
   "execution_count": 7,
   "id": "e2a5ca26",
   "metadata": {},
   "outputs": [],
   "source": [
    "from rich.console import Console\n",
    "import numpy as np\n",
    "import pandas as pd\n",
    "import random\n",
    "import matplotlib.pyplot as plt\n",
    "import seaborn as sns\n",
    "\n",
    "import phik\n",
    "import psycopg2\n",
    "import sqlalchemy\n",
    "from sqlalchemy import create_engine\n",
    "\n",
    "from sklearn.model_selection import train_test_split\n",
    "from sklearn.model_selection import StratifiedKFold\n",
    "\n",
    "from sklearn.pipeline import Pipeline\n",
    "from sklearn.compose import ColumnTransformer, make_column_transformer\n",
    "from sklearn.preprocessing import StandardScaler, OneHotEncoder\n",
    "from sklearn.impute import SimpleImputer\n",
    "\n",
    "import optuna\n",
    "from sklearn.metrics import roc_auc_score\n",
    "\n",
    "from sklearn.linear_model import LogisticRegression\n",
    "\n",
    "from lightgbm import LGBMClassifier\n",
    "\n",
    "from catboost import CatBoostClassifier, Pool\n",
    "\n",
    "import tensorflow \n",
    "import tensorflow as tf\n",
    "from keras.models import Sequential\n",
    "from keras.layers import Dense\n",
    "from keras.optimizers import Adam\n",
    "from tensorflow.keras.optimizers import Adam\n",
    "from scikeras.wrappers import KerasClassifier\n",
    "from sklearn.model_selection import cross_val_score\n",
    "\n",
    "\n",
    "from sklearn.metrics import roc_curve, RocCurveDisplay\n",
    "\n",
    "import shap\n",
    "# константы\n",
    "RANDOM_SEED = 201023\n",
    "\n",
    "# настройки блокнота\n",
    "pd.options.display.max_colwidth = 500\n",
    "random.seed(RANDOM_SEED)\n",
    "\n",
    "# экземпляр консоли\n",
    "console = Console()"
   ]
  },
  {
   "cell_type": "markdown",
   "id": "47f796cd",
   "metadata": {},
   "source": [
    "## Подключение к базе данных"
   ]
  },
  {
   "cell_type": "code",
   "execution_count": 8,
   "id": "a48caf56",
   "metadata": {},
   "outputs": [],
   "source": [
    "# конфигурация для подключения к базе данных\n",
    "db_config = {\n",
    "    'user': 'praktikum_student',# имя пользователя,\n",
    "    'pwd': 'Sdf4$2;d-d30pp',# пароль,\n",
    "    'host': 'rc1b-wcoijxj3yxfsf3fs.mdb.yandexcloud.net',\n",
    "    'port': ****,# порт подключения,\n",
    "    'db': 'data-science-final'# название базы данных,\n",
    "} \n",
    "\n",
    "# создание подключения к базе данных\n",
    "connection = psycopg2.connect(\n",
    "    user=db_config['user'],\n",
    "    password=db_config['pwd'],\n",
    "    host=db_config['host'],\n",
    "    port=db_config['port'],\n",
    "    database=db_config['db']\n",
    ")\n",
    "\n",
    "# создаем курсора для выполнения запросов\n",
    "cursor = connection.cursor()"
   ]
  },
  {
   "cell_type": "markdown",
   "id": "35e2533b",
   "metadata": {},
   "source": [
    "__функция для выполнения запросов__"
   ]
  },
  {
   "cell_type": "code",
   "execution_count": 9,
   "id": "5c982e4d",
   "metadata": {},
   "outputs": [],
   "source": [
    "# функция для выполнения запросов\n",
    "def request(query):\n",
    "    try:\n",
    "        cursor.execute(query)\n",
    "        result = cursor.fetchall()\n",
    "        result_df = pd.DataFrame(result, columns=[desc[0] for desc in cursor.description])\n",
    "        return result_df\n",
    "    except Exception as e:\n",
    "        print(f'Error: {e}')\n",
    "        connection.rollback()  # откат транзакции, для избежания блокировки"
   ]
  },
  {
   "cell_type": "code",
   "execution_count": 10,
   "id": "910d3e71",
   "metadata": {},
   "outputs": [
    {
     "data": {
      "text/html": [
       "<div>\n",
       "<style scoped>\n",
       "    .dataframe tbody tr th:only-of-type {\n",
       "        vertical-align: middle;\n",
       "    }\n",
       "\n",
       "    .dataframe tbody tr th {\n",
       "        vertical-align: top;\n",
       "    }\n",
       "\n",
       "    .dataframe thead th {\n",
       "        text-align: right;\n",
       "    }\n",
       "</style>\n",
       "<table border=\"1\" class=\"dataframe\">\n",
       "  <thead>\n",
       "    <tr style=\"text-align: right;\">\n",
       "      <th></th>\n",
       "      <th>customerID</th>\n",
       "      <th>BeginDate</th>\n",
       "      <th>EndDate</th>\n",
       "      <th>Type</th>\n",
       "      <th>PaperlessBilling</th>\n",
       "      <th>PaymentMethod</th>\n",
       "      <th>MonthlyCharges</th>\n",
       "      <th>TotalCharges</th>\n",
       "    </tr>\n",
       "  </thead>\n",
       "  <tbody>\n",
       "    <tr>\n",
       "      <th>0</th>\n",
       "      <td>4472-LVYGI</td>\n",
       "      <td>2020-02-01</td>\n",
       "      <td>None</td>\n",
       "      <td>Two year</td>\n",
       "      <td>Yes</td>\n",
       "      <td>Bank transfer (automatic)</td>\n",
       "      <td>52.55</td>\n",
       "      <td>None</td>\n",
       "    </tr>\n",
       "  </tbody>\n",
       "</table>\n",
       "</div>"
      ],
      "text/plain": [
       "   customerID   BeginDate EndDate      Type PaperlessBilling  \\\n",
       "0  4472-LVYGI  2020-02-01    None  Two year              Yes   \n",
       "\n",
       "               PaymentMethod MonthlyCharges TotalCharges  \n",
       "0  Bank transfer (automatic)          52.55         None  "
      ]
     },
     "metadata": {},
     "output_type": "display_data"
    }
   ],
   "source": [
    "# тестовый запрос\n",
    "query = '''\n",
    "SELECT *\n",
    "FROM telecom.contract\n",
    "LIMIT 1;\n",
    "'''\n",
    "display(request(query))"
   ]
  },
  {
   "cell_type": "markdown",
   "id": "02b08c80",
   "metadata": {},
   "source": [
    "<div style=\"padding:0px 20px 10px;\n",
    "            color:#004346;\n",
    "            font-size:15px;\n",
    "            display:fill;\n",
    "            text-align:center;\n",
    "            border-radius:20px;\n",
    "            border: 5px double;\n",
    "            border-color:#201E20;\n",
    "            background-color: #E8F1F2;\n",
    "            overflow:hidden;\n",
    "            font-weight:400\">\n",
    "\n",
    "# Первичное исследование таблиц базы данных\n",
    "\n",
    "</div>"
   ]
  },
  {
   "cell_type": "markdown",
   "id": "a63378b3",
   "metadata": {},
   "source": [
    "__Проверим таблицы на наличие данных__"
   ]
  },
  {
   "cell_type": "code",
   "execution_count": 11,
   "id": "613f58ae",
   "metadata": {},
   "outputs": [],
   "source": [
    "# список всех таблиц\n",
    "tables = ['contract', 'personal', 'internet', 'phone']"
   ]
  },
  {
   "cell_type": "code",
   "execution_count": 12,
   "id": "f656908f",
   "metadata": {},
   "outputs": [
    {
     "name": "stdout",
     "output_type": "stream",
     "text": [
      "Количество записей в таблице contract: 7043\n",
      "Количество записей в таблице personal: 7043\n",
      "Количество записей в таблице internet: 5518\n",
      "Количество записей в таблице phone: 6362\n"
     ]
    }
   ],
   "source": [
    "for table in tables:\n",
    "    query = f'SELECT COUNT(*) FROM telecom.{table};'\n",
    "    contract_count = request(query).iloc[0][0]\n",
    "    print(f'Количество записей в таблице {table}: {contract_count}')\n"
   ]
  },
  {
   "cell_type": "markdown",
   "id": "3e43e899",
   "metadata": {},
   "source": [
    ">Все четыре таблицы доступны и содержат данные, \n",
    ">Количество записей  в таблицах \"contract\" и \"personal\" одинаковы, что соответствует условию задачи,\n",
    ">Таблицы \"internet\" и \"phone\" имеют различное количество записей, что может быть связани, что не все пользователь пользуются одновременно интернет и услугами телефонии,\n",
    ">Количество записей невилико и мы можем выгрузить таблицы, для дальнейшего анализа."
   ]
  },
  {
   "cell_type": "markdown",
   "id": "515b5043",
   "metadata": {},
   "source": [
    "## Выгрузка таблиц базы данных"
   ]
  },
  {
   "cell_type": "code",
   "execution_count": 13,
   "id": "8b7c02cd",
   "metadata": {},
   "outputs": [
    {
     "data": {
      "text/html": [
       "<pre style=\"white-space:pre;overflow-x:auto;line-height:normal;font-family:Menlo,'DejaVu Sans Mono',consolas,'Courier New',monospace\"><span style=\"font-weight: bold\">Датасет с информацией о договорах</span>\n",
       "</pre>\n"
      ],
      "text/plain": [
       "\u001b[1mДатасет с информацией о договорах\u001b[0m\n"
      ]
     },
     "metadata": {},
     "output_type": "display_data"
    },
    {
     "data": {
      "text/html": [
       "<div>\n",
       "<style scoped>\n",
       "    .dataframe tbody tr th:only-of-type {\n",
       "        vertical-align: middle;\n",
       "    }\n",
       "\n",
       "    .dataframe tbody tr th {\n",
       "        vertical-align: top;\n",
       "    }\n",
       "\n",
       "    .dataframe thead th {\n",
       "        text-align: right;\n",
       "    }\n",
       "</style>\n",
       "<table border=\"1\" class=\"dataframe\">\n",
       "  <thead>\n",
       "    <tr style=\"text-align: right;\">\n",
       "      <th></th>\n",
       "      <th>customerID</th>\n",
       "      <th>BeginDate</th>\n",
       "      <th>EndDate</th>\n",
       "      <th>Type</th>\n",
       "      <th>PaperlessBilling</th>\n",
       "      <th>PaymentMethod</th>\n",
       "      <th>MonthlyCharges</th>\n",
       "      <th>TotalCharges</th>\n",
       "    </tr>\n",
       "  </thead>\n",
       "  <tbody>\n",
       "    <tr>\n",
       "      <th>0</th>\n",
       "      <td>4472-LVYGI</td>\n",
       "      <td>2020-02-01</td>\n",
       "      <td>None</td>\n",
       "      <td>Two year</td>\n",
       "      <td>Yes</td>\n",
       "      <td>Bank transfer (automatic)</td>\n",
       "      <td>52.55</td>\n",
       "      <td>None</td>\n",
       "    </tr>\n",
       "    <tr>\n",
       "      <th>1</th>\n",
       "      <td>3115-CZMZD</td>\n",
       "      <td>2020-02-01</td>\n",
       "      <td>None</td>\n",
       "      <td>Two year</td>\n",
       "      <td>No</td>\n",
       "      <td>Mailed check</td>\n",
       "      <td>20.25</td>\n",
       "      <td>None</td>\n",
       "    </tr>\n",
       "  </tbody>\n",
       "</table>\n",
       "</div>"
      ],
      "text/plain": [
       "   customerID   BeginDate EndDate      Type PaperlessBilling  \\\n",
       "0  4472-LVYGI  2020-02-01    None  Two year              Yes   \n",
       "1  3115-CZMZD  2020-02-01    None  Two year               No   \n",
       "\n",
       "               PaymentMethod MonthlyCharges TotalCharges  \n",
       "0  Bank transfer (automatic)          52.55         None  \n",
       "1               Mailed check          20.25         None  "
      ]
     },
     "metadata": {},
     "output_type": "display_data"
    },
    {
     "name": "stdout",
     "output_type": "stream",
     "text": [
      "<class 'pandas.core.frame.DataFrame'>\n",
      "RangeIndex: 7043 entries, 0 to 7042\n",
      "Data columns (total 8 columns):\n",
      " #   Column            Non-Null Count  Dtype \n",
      "---  ------            --------------  ----- \n",
      " 0   customerID        7043 non-null   object\n",
      " 1   BeginDate         7043 non-null   object\n",
      " 2   EndDate           1869 non-null   object\n",
      " 3   Type              7043 non-null   object\n",
      " 4   PaperlessBilling  7043 non-null   object\n",
      " 5   PaymentMethod     7043 non-null   object\n",
      " 6   MonthlyCharges    7043 non-null   object\n",
      " 7   TotalCharges      7032 non-null   object\n",
      "dtypes: object(8)\n",
      "memory usage: 440.3+ KB\n"
     ]
    },
    {
     "data": {
      "text/plain": [
       "None"
      ]
     },
     "metadata": {},
     "output_type": "display_data"
    },
    {
     "data": {
      "text/html": [
       "<pre style=\"white-space:pre;overflow-x:auto;line-height:normal;font-family:Menlo,'DejaVu Sans Mono',consolas,'Courier New',monospace\"><span style=\"font-weight: bold\">Датасет с информацией о персональных данных клиентов</span>\n",
       "</pre>\n"
      ],
      "text/plain": [
       "\u001b[1mДатасет с информацией о персональных данных клиентов\u001b[0m\n"
      ]
     },
     "metadata": {},
     "output_type": "display_data"
    },
    {
     "data": {
      "text/html": [
       "<div>\n",
       "<style scoped>\n",
       "    .dataframe tbody tr th:only-of-type {\n",
       "        vertical-align: middle;\n",
       "    }\n",
       "\n",
       "    .dataframe tbody tr th {\n",
       "        vertical-align: top;\n",
       "    }\n",
       "\n",
       "    .dataframe thead th {\n",
       "        text-align: right;\n",
       "    }\n",
       "</style>\n",
       "<table border=\"1\" class=\"dataframe\">\n",
       "  <thead>\n",
       "    <tr style=\"text-align: right;\">\n",
       "      <th></th>\n",
       "      <th>customerID</th>\n",
       "      <th>gender</th>\n",
       "      <th>SeniorCitizen</th>\n",
       "      <th>Partner</th>\n",
       "      <th>Dependents</th>\n",
       "    </tr>\n",
       "  </thead>\n",
       "  <tbody>\n",
       "    <tr>\n",
       "      <th>0</th>\n",
       "      <td>7590-VHVEG</td>\n",
       "      <td>Female</td>\n",
       "      <td>0</td>\n",
       "      <td>Yes</td>\n",
       "      <td>No</td>\n",
       "    </tr>\n",
       "    <tr>\n",
       "      <th>1</th>\n",
       "      <td>5575-GNVDE</td>\n",
       "      <td>Male</td>\n",
       "      <td>0</td>\n",
       "      <td>No</td>\n",
       "      <td>No</td>\n",
       "    </tr>\n",
       "  </tbody>\n",
       "</table>\n",
       "</div>"
      ],
      "text/plain": [
       "   customerID  gender  SeniorCitizen Partner Dependents\n",
       "0  7590-VHVEG  Female              0     Yes         No\n",
       "1  5575-GNVDE    Male              0      No         No"
      ]
     },
     "metadata": {},
     "output_type": "display_data"
    },
    {
     "name": "stdout",
     "output_type": "stream",
     "text": [
      "<class 'pandas.core.frame.DataFrame'>\n",
      "RangeIndex: 7043 entries, 0 to 7042\n",
      "Data columns (total 5 columns):\n",
      " #   Column         Non-Null Count  Dtype \n",
      "---  ------         --------------  ----- \n",
      " 0   customerID     7043 non-null   object\n",
      " 1   gender         7043 non-null   object\n",
      " 2   SeniorCitizen  7043 non-null   int64 \n",
      " 3   Partner        7043 non-null   object\n",
      " 4   Dependents     7043 non-null   object\n",
      "dtypes: int64(1), object(4)\n",
      "memory usage: 275.2+ KB\n"
     ]
    },
    {
     "data": {
      "text/plain": [
       "None"
      ]
     },
     "metadata": {},
     "output_type": "display_data"
    },
    {
     "data": {
      "text/html": [
       "<pre style=\"white-space:pre;overflow-x:auto;line-height:normal;font-family:Menlo,'DejaVu Sans Mono',consolas,'Courier New',monospace\"><span style=\"font-weight: bold\">Датасет с информацией об интернет-услугах</span>\n",
       "</pre>\n"
      ],
      "text/plain": [
       "\u001b[1mДатасет с информацией об интернет-услугах\u001b[0m\n"
      ]
     },
     "metadata": {},
     "output_type": "display_data"
    },
    {
     "data": {
      "text/html": [
       "<div>\n",
       "<style scoped>\n",
       "    .dataframe tbody tr th:only-of-type {\n",
       "        vertical-align: middle;\n",
       "    }\n",
       "\n",
       "    .dataframe tbody tr th {\n",
       "        vertical-align: top;\n",
       "    }\n",
       "\n",
       "    .dataframe thead th {\n",
       "        text-align: right;\n",
       "    }\n",
       "</style>\n",
       "<table border=\"1\" class=\"dataframe\">\n",
       "  <thead>\n",
       "    <tr style=\"text-align: right;\">\n",
       "      <th></th>\n",
       "      <th>customerID</th>\n",
       "      <th>InternetService</th>\n",
       "      <th>OnlineSecurity</th>\n",
       "      <th>OnlineBackup</th>\n",
       "      <th>DeviceProtection</th>\n",
       "      <th>TechSupport</th>\n",
       "      <th>StreamingTV</th>\n",
       "      <th>StreamingMovies</th>\n",
       "    </tr>\n",
       "  </thead>\n",
       "  <tbody>\n",
       "    <tr>\n",
       "      <th>1</th>\n",
       "      <td>7590-VHVEG</td>\n",
       "      <td>DSL</td>\n",
       "      <td>No</td>\n",
       "      <td>Yes</td>\n",
       "      <td>No</td>\n",
       "      <td>No</td>\n",
       "      <td>No</td>\n",
       "      <td>No</td>\n",
       "    </tr>\n",
       "    <tr>\n",
       "      <th>2</th>\n",
       "      <td>5575-GNVDE</td>\n",
       "      <td>DSL</td>\n",
       "      <td>Yes</td>\n",
       "      <td>No</td>\n",
       "      <td>Yes</td>\n",
       "      <td>No</td>\n",
       "      <td>No</td>\n",
       "      <td>No</td>\n",
       "    </tr>\n",
       "  </tbody>\n",
       "</table>\n",
       "</div>"
      ],
      "text/plain": [
       "   customerID InternetService OnlineSecurity OnlineBackup DeviceProtection  \\\n",
       "1  7590-VHVEG             DSL             No          Yes               No   \n",
       "2  5575-GNVDE             DSL            Yes           No              Yes   \n",
       "\n",
       "  TechSupport StreamingTV StreamingMovies  \n",
       "1          No          No              No  \n",
       "2          No          No              No  "
      ]
     },
     "metadata": {},
     "output_type": "display_data"
    },
    {
     "name": "stdout",
     "output_type": "stream",
     "text": [
      "<class 'pandas.core.frame.DataFrame'>\n",
      "Int64Index: 5517 entries, 1 to 5517\n",
      "Data columns (total 8 columns):\n",
      " #   Column            Non-Null Count  Dtype \n",
      "---  ------            --------------  ----- \n",
      " 0   customerID        5517 non-null   object\n",
      " 1   InternetService   5517 non-null   object\n",
      " 2   OnlineSecurity    5517 non-null   object\n",
      " 3   OnlineBackup      5517 non-null   object\n",
      " 4   DeviceProtection  5517 non-null   object\n",
      " 5   TechSupport       5517 non-null   object\n",
      " 6   StreamingTV       5517 non-null   object\n",
      " 7   StreamingMovies   5517 non-null   object\n",
      "dtypes: object(8)\n",
      "memory usage: 387.9+ KB\n"
     ]
    },
    {
     "data": {
      "text/plain": [
       "None"
      ]
     },
     "metadata": {},
     "output_type": "display_data"
    },
    {
     "data": {
      "text/html": [
       "<pre style=\"white-space:pre;overflow-x:auto;line-height:normal;font-family:Menlo,'DejaVu Sans Mono',consolas,'Courier New',monospace\"><span style=\"font-weight: bold\">Датасет с информацией об услугах телефонии</span>\n",
       "</pre>\n"
      ],
      "text/plain": [
       "\u001b[1mДатасет с информацией об услугах телефонии\u001b[0m\n"
      ]
     },
     "metadata": {},
     "output_type": "display_data"
    },
    {
     "data": {
      "text/html": [
       "<div>\n",
       "<style scoped>\n",
       "    .dataframe tbody tr th:only-of-type {\n",
       "        vertical-align: middle;\n",
       "    }\n",
       "\n",
       "    .dataframe tbody tr th {\n",
       "        vertical-align: top;\n",
       "    }\n",
       "\n",
       "    .dataframe thead th {\n",
       "        text-align: right;\n",
       "    }\n",
       "</style>\n",
       "<table border=\"1\" class=\"dataframe\">\n",
       "  <thead>\n",
       "    <tr style=\"text-align: right;\">\n",
       "      <th></th>\n",
       "      <th>customerID</th>\n",
       "      <th>MultipleLines</th>\n",
       "    </tr>\n",
       "  </thead>\n",
       "  <tbody>\n",
       "    <tr>\n",
       "      <th>1</th>\n",
       "      <td>5575-GNVDE</td>\n",
       "      <td>No</td>\n",
       "    </tr>\n",
       "    <tr>\n",
       "      <th>2</th>\n",
       "      <td>3668-QPYBK</td>\n",
       "      <td>No</td>\n",
       "    </tr>\n",
       "  </tbody>\n",
       "</table>\n",
       "</div>"
      ],
      "text/plain": [
       "   customerID MultipleLines\n",
       "1  5575-GNVDE            No\n",
       "2  3668-QPYBK            No"
      ]
     },
     "metadata": {},
     "output_type": "display_data"
    },
    {
     "name": "stdout",
     "output_type": "stream",
     "text": [
      "<class 'pandas.core.frame.DataFrame'>\n",
      "Int64Index: 6361 entries, 1 to 6361\n",
      "Data columns (total 2 columns):\n",
      " #   Column         Non-Null Count  Dtype \n",
      "---  ------         --------------  ----- \n",
      " 0   customerID     6361 non-null   object\n",
      " 1   MultipleLines  6361 non-null   object\n",
      "dtypes: object(2)\n",
      "memory usage: 149.1+ KB\n"
     ]
    },
    {
     "data": {
      "text/plain": [
       "None"
      ]
     },
     "metadata": {},
     "output_type": "display_data"
    }
   ],
   "source": [
    "# информация о договорах\n",
    "contract_df = request('SELECT * FROM telecom.contract;')\n",
    "console.print('[bold]Датасет с информацией о договорах[/bold]')\n",
    "display(contract_df.head(2))\n",
    "display(contract_df.info())\n",
    "\n",
    "# персональные данные клиентов\n",
    "personal_df = request('SELECT * FROM telecom.personal;')\n",
    "console.print('[bold]Датасет с информацией о персональных данных клиентов[/bold]')\n",
    "display(personal_df.head(2))\n",
    "display(personal_df.info())\n",
    "\n",
    "# информация об интернет-услугах\n",
    "internet_df = request('SELECT * FROM telecom.internet;')\n",
    "internet_df.columns = list(internet_df.iloc[0].values)\n",
    "internet_df = internet_df.drop(0, axis=0)\n",
    "console.print('[bold]Датасет с информацией об интернет-услугах[/bold]')\n",
    "display(internet_df.head(2))\n",
    "display(internet_df.info())\n",
    "\n",
    "# информация об услугах телефонии\n",
    "phone_df = request('SELECT * FROM telecom.phone;')\n",
    "phone_df.columns = list(phone_df.iloc[0].values)\n",
    "phone_df = phone_df.drop(0, axis=0)\n",
    "console.print('[bold]Датасет с информацией об услугах телефонии[/bold]')\n",
    "display(phone_df.head(2))\n",
    "display(phone_df.info())"
   ]
  },
  {
   "cell_type": "code",
   "execution_count": 14,
   "id": "8c234cd1",
   "metadata": {},
   "outputs": [],
   "source": [
    "# список датасетов\n",
    "list_df = [contract_df, personal_df, internet_df, phone_df]"
   ]
  },
  {
   "cell_type": "markdown",
   "id": "2fc1187c",
   "metadata": {},
   "source": [
    ">Регистр названий признаков не соответствует стандарту."
   ]
  },
  {
   "cell_type": "markdown",
   "id": "c2038e7d",
   "metadata": {},
   "source": [
    "__Перееименуем признаки__"
   ]
  },
  {
   "cell_type": "code",
   "execution_count": 15,
   "id": "e0e0ea99",
   "metadata": {},
   "outputs": [],
   "source": [
    "new_column_names = {\n",
    "    'customerID': 'customer_id',               #ID абонента\n",
    "    'BeginDate': 'begin_date',                 #дата начала действия договора\n",
    "    'EndDate': 'end_date',                     #дата окончания действия договора\n",
    "    'Type': 'type',                            #тип оплаты: раз в год-два или ежемесячно\n",
    "    'PaperlessBilling': 'paperless_billing',   #электронный расчётный лист\n",
    "    'PaymentMethod': 'payment_method',         #тип платежа\n",
    "    'MonthlyCharges': 'monthly_charges',       #расходы за месяц\n",
    "    'TotalCharges': 'total_charges',           #общие расходы абонента\n",
    "    'SeniorCitizen': 'senior_citizen',         #является ли абонент пенсионером\n",
    "    'Partner': 'partner',                      #есть ли у абонента супруг или супруга\n",
    "    'Dependents': 'dependents',                #есть ли у абонента дети\n",
    "    'InternetService': 'internet_service',     #тип подключения\n",
    "    'OnlineSecurity': 'online_security',       #блокировка опасных сайтов\n",
    "    'OnlineBackup': 'online_backup',           #облачное хранилище файлов для резервного копирования данных\n",
    "    'DeviceProtection': 'device_protection',   #антивирус\n",
    "    'TechSupport': 'tech_support',             #выделенная линия технической поддержки\n",
    "    'StreamingTV': 'streaming_tv',             #стриминговое телевидение\n",
    "    'StreamingMovies': 'streaming_movies',     #каталог фильмо\n",
    "    'MultipleLines': 'multiplelines'           #подключение телефона к нескольким линиям одновременно\n",
    "}"
   ]
  },
  {
   "cell_type": "code",
   "execution_count": 16,
   "id": "47accb64",
   "metadata": {},
   "outputs": [
    {
     "data": {
      "text/html": [
       "<div>\n",
       "<style scoped>\n",
       "    .dataframe tbody tr th:only-of-type {\n",
       "        vertical-align: middle;\n",
       "    }\n",
       "\n",
       "    .dataframe tbody tr th {\n",
       "        vertical-align: top;\n",
       "    }\n",
       "\n",
       "    .dataframe thead th {\n",
       "        text-align: right;\n",
       "    }\n",
       "</style>\n",
       "<table border=\"1\" class=\"dataframe\">\n",
       "  <thead>\n",
       "    <tr style=\"text-align: right;\">\n",
       "      <th></th>\n",
       "      <th>customer_id</th>\n",
       "      <th>begin_date</th>\n",
       "      <th>end_date</th>\n",
       "      <th>type</th>\n",
       "      <th>paperless_billing</th>\n",
       "      <th>payment_method</th>\n",
       "      <th>monthly_charges</th>\n",
       "      <th>total_charges</th>\n",
       "    </tr>\n",
       "  </thead>\n",
       "  <tbody>\n",
       "    <tr>\n",
       "      <th>0</th>\n",
       "      <td>4472-LVYGI</td>\n",
       "      <td>2020-02-01</td>\n",
       "      <td>None</td>\n",
       "      <td>Two year</td>\n",
       "      <td>Yes</td>\n",
       "      <td>Bank transfer (automatic)</td>\n",
       "      <td>52.55</td>\n",
       "      <td>None</td>\n",
       "    </tr>\n",
       "  </tbody>\n",
       "</table>\n",
       "</div>"
      ],
      "text/plain": [
       "  customer_id  begin_date end_date      type paperless_billing  \\\n",
       "0  4472-LVYGI  2020-02-01     None  Two year               Yes   \n",
       "\n",
       "              payment_method monthly_charges total_charges  \n",
       "0  Bank transfer (automatic)           52.55          None  "
      ]
     },
     "metadata": {},
     "output_type": "display_data"
    },
    {
     "data": {
      "text/html": [
       "<div>\n",
       "<style scoped>\n",
       "    .dataframe tbody tr th:only-of-type {\n",
       "        vertical-align: middle;\n",
       "    }\n",
       "\n",
       "    .dataframe tbody tr th {\n",
       "        vertical-align: top;\n",
       "    }\n",
       "\n",
       "    .dataframe thead th {\n",
       "        text-align: right;\n",
       "    }\n",
       "</style>\n",
       "<table border=\"1\" class=\"dataframe\">\n",
       "  <thead>\n",
       "    <tr style=\"text-align: right;\">\n",
       "      <th></th>\n",
       "      <th>customer_id</th>\n",
       "      <th>gender</th>\n",
       "      <th>senior_citizen</th>\n",
       "      <th>partner</th>\n",
       "      <th>dependents</th>\n",
       "    </tr>\n",
       "  </thead>\n",
       "  <tbody>\n",
       "    <tr>\n",
       "      <th>0</th>\n",
       "      <td>7590-VHVEG</td>\n",
       "      <td>Female</td>\n",
       "      <td>0</td>\n",
       "      <td>Yes</td>\n",
       "      <td>No</td>\n",
       "    </tr>\n",
       "  </tbody>\n",
       "</table>\n",
       "</div>"
      ],
      "text/plain": [
       "  customer_id  gender  senior_citizen partner dependents\n",
       "0  7590-VHVEG  Female               0     Yes         No"
      ]
     },
     "metadata": {},
     "output_type": "display_data"
    },
    {
     "data": {
      "text/html": [
       "<div>\n",
       "<style scoped>\n",
       "    .dataframe tbody tr th:only-of-type {\n",
       "        vertical-align: middle;\n",
       "    }\n",
       "\n",
       "    .dataframe tbody tr th {\n",
       "        vertical-align: top;\n",
       "    }\n",
       "\n",
       "    .dataframe thead th {\n",
       "        text-align: right;\n",
       "    }\n",
       "</style>\n",
       "<table border=\"1\" class=\"dataframe\">\n",
       "  <thead>\n",
       "    <tr style=\"text-align: right;\">\n",
       "      <th></th>\n",
       "      <th>customer_id</th>\n",
       "      <th>internet_service</th>\n",
       "      <th>online_security</th>\n",
       "      <th>online_backup</th>\n",
       "      <th>device_protection</th>\n",
       "      <th>tech_support</th>\n",
       "      <th>streaming_tv</th>\n",
       "      <th>streaming_movies</th>\n",
       "    </tr>\n",
       "  </thead>\n",
       "  <tbody>\n",
       "    <tr>\n",
       "      <th>1</th>\n",
       "      <td>7590-VHVEG</td>\n",
       "      <td>DSL</td>\n",
       "      <td>No</td>\n",
       "      <td>Yes</td>\n",
       "      <td>No</td>\n",
       "      <td>No</td>\n",
       "      <td>No</td>\n",
       "      <td>No</td>\n",
       "    </tr>\n",
       "  </tbody>\n",
       "</table>\n",
       "</div>"
      ],
      "text/plain": [
       "  customer_id internet_service online_security online_backup  \\\n",
       "1  7590-VHVEG              DSL              No           Yes   \n",
       "\n",
       "  device_protection tech_support streaming_tv streaming_movies  \n",
       "1                No           No           No               No  "
      ]
     },
     "metadata": {},
     "output_type": "display_data"
    },
    {
     "data": {
      "text/html": [
       "<div>\n",
       "<style scoped>\n",
       "    .dataframe tbody tr th:only-of-type {\n",
       "        vertical-align: middle;\n",
       "    }\n",
       "\n",
       "    .dataframe tbody tr th {\n",
       "        vertical-align: top;\n",
       "    }\n",
       "\n",
       "    .dataframe thead th {\n",
       "        text-align: right;\n",
       "    }\n",
       "</style>\n",
       "<table border=\"1\" class=\"dataframe\">\n",
       "  <thead>\n",
       "    <tr style=\"text-align: right;\">\n",
       "      <th></th>\n",
       "      <th>customer_id</th>\n",
       "      <th>multiplelines</th>\n",
       "    </tr>\n",
       "  </thead>\n",
       "  <tbody>\n",
       "    <tr>\n",
       "      <th>1</th>\n",
       "      <td>5575-GNVDE</td>\n",
       "      <td>No</td>\n",
       "    </tr>\n",
       "  </tbody>\n",
       "</table>\n",
       "</div>"
      ],
      "text/plain": [
       "  customer_id multiplelines\n",
       "1  5575-GNVDE            No"
      ]
     },
     "metadata": {},
     "output_type": "display_data"
    }
   ],
   "source": [
    "contract_df = contract_df.rename(columns=new_column_names).copy()\n",
    "display(contract_df.head(1))\n",
    "personal_df = personal_df.rename(columns=new_column_names).copy()\n",
    "display(personal_df.head(1))\n",
    "internet_df = internet_df.rename(columns=new_column_names).copy()\n",
    "display(internet_df.head(1))\n",
    "phone_df = phone_df.rename(columns=new_column_names).copy()\n",
    "display(phone_df.head(1))"
   ]
  },
  {
   "cell_type": "markdown",
   "id": "33b962f9",
   "metadata": {},
   "source": [
    "> Признаки успешно переименованы, с учетом PEP8"
   ]
  },
  {
   "cell_type": "markdown",
   "id": "c41f87e7",
   "metadata": {},
   "source": [
    "__Проверим дубликатов в данных__"
   ]
  },
  {
   "cell_type": "code",
   "execution_count": 17,
   "id": "b2a15df1",
   "metadata": {},
   "outputs": [
    {
     "name": "stdout",
     "output_type": "stream",
     "text": [
      "Общее количество дубликатов в данных: 0\n"
     ]
    }
   ],
   "source": [
    "print(f'Общее количество дубликатов в данных: {sum(df.duplicated().sum() for df in list_df)}')"
   ]
  },
  {
   "cell_type": "markdown",
   "id": "20fcaca9",
   "metadata": {},
   "source": [
    ">Успешно выгрены таблицы из базы данных;\n",
    ">\n",
    ">Названий признаков откорректированы в соответствии стандарту PEP8;\n",
    ">\n",
    ">Полные дубликаты в данных отсутствуют"
   ]
  },
  {
   "cell_type": "markdown",
   "id": "9405a5b1",
   "metadata": {},
   "source": [
    "## Анализ информациии о договорах: `contract_df`\n",
    "### Общая информация"
   ]
  },
  {
   "cell_type": "code",
   "execution_count": 18,
   "id": "adf8872a",
   "metadata": {},
   "outputs": [
    {
     "name": "stdout",
     "output_type": "stream",
     "text": [
      "<class 'pandas.core.frame.DataFrame'>\n",
      "RangeIndex: 7043 entries, 0 to 7042\n",
      "Data columns (total 8 columns):\n",
      " #   Column             Non-Null Count  Dtype \n",
      "---  ------             --------------  ----- \n",
      " 0   customer_id        7043 non-null   object\n",
      " 1   begin_date         7043 non-null   object\n",
      " 2   end_date           1869 non-null   object\n",
      " 3   type               7043 non-null   object\n",
      " 4   paperless_billing  7043 non-null   object\n",
      " 5   payment_method     7043 non-null   object\n",
      " 6   monthly_charges    7043 non-null   object\n",
      " 7   total_charges      7032 non-null   object\n",
      "dtypes: object(8)\n",
      "memory usage: 440.3+ KB\n"
     ]
    }
   ],
   "source": [
    "contract_df.info()"
   ]
  },
  {
   "cell_type": "markdown",
   "id": "5a13c92d",
   "metadata": {},
   "source": [
    "__Обработка типов данных__\n",
    "\n",
    "Изменим типы данных в датасете:\n",
    "\n",
    "- `begin_date`, `end_date` -  datetime\n",
    "- `monthly_charges`, `total_charges` - float"
   ]
  },
  {
   "cell_type": "code",
   "execution_count": 19,
   "id": "3a347b78",
   "metadata": {},
   "outputs": [],
   "source": [
    "# преобразование признаков begin_date и end_date в тип данных datetime\n",
    "contract_df['begin_date'] = pd.to_datetime(contract_df['begin_date'])\n",
    "contract_df['end_date'] = pd.to_datetime(contract_df['end_date'])\n",
    "\n",
    "# преобразование признаков monthly_charges и total_charges в тип данных float\n",
    "contract_df['monthly_charges'] = contract_df['monthly_charges'].astype(float)\n",
    "contract_df['total_charges'] = contract_df['total_charges'].astype(float)"
   ]
  },
  {
   "cell_type": "markdown",
   "id": "931ae8f0",
   "metadata": {},
   "source": [
    "### Пропуcки в данных"
   ]
  },
  {
   "cell_type": "code",
   "execution_count": 20,
   "id": "a2b9b3d0",
   "metadata": {},
   "outputs": [
    {
     "data": {
      "text/plain": [
       "customer_id          0.000000\n",
       "begin_date           0.000000\n",
       "end_date             0.734630\n",
       "type                 0.000000\n",
       "paperless_billing    0.000000\n",
       "payment_method       0.000000\n",
       "monthly_charges      0.000000\n",
       "total_charges        0.001562\n",
       "dtype: float64"
      ]
     },
     "metadata": {},
     "output_type": "display_data"
    }
   ],
   "source": [
    "display(contract_df.isna().mean())"
   ]
  },
  {
   "cell_type": "markdown",
   "id": "3194b6ae",
   "metadata": {},
   "source": [
    "__Пропуcки в признаке `total_charges`__"
   ]
  },
  {
   "cell_type": "code",
   "execution_count": 21,
   "id": "3cee11b5",
   "metadata": {},
   "outputs": [
    {
     "data": {
      "text/html": [
       "<div>\n",
       "<style scoped>\n",
       "    .dataframe tbody tr th:only-of-type {\n",
       "        vertical-align: middle;\n",
       "    }\n",
       "\n",
       "    .dataframe tbody tr th {\n",
       "        vertical-align: top;\n",
       "    }\n",
       "\n",
       "    .dataframe thead th {\n",
       "        text-align: right;\n",
       "    }\n",
       "</style>\n",
       "<table border=\"1\" class=\"dataframe\">\n",
       "  <thead>\n",
       "    <tr style=\"text-align: right;\">\n",
       "      <th></th>\n",
       "      <th>customer_id</th>\n",
       "      <th>begin_date</th>\n",
       "      <th>end_date</th>\n",
       "      <th>type</th>\n",
       "      <th>paperless_billing</th>\n",
       "      <th>payment_method</th>\n",
       "      <th>monthly_charges</th>\n",
       "      <th>total_charges</th>\n",
       "    </tr>\n",
       "  </thead>\n",
       "  <tbody>\n",
       "    <tr>\n",
       "      <th>0</th>\n",
       "      <td>4472-LVYGI</td>\n",
       "      <td>2020-02-01</td>\n",
       "      <td>NaT</td>\n",
       "      <td>Two year</td>\n",
       "      <td>Yes</td>\n",
       "      <td>Bank transfer (automatic)</td>\n",
       "      <td>52.55</td>\n",
       "      <td>NaN</td>\n",
       "    </tr>\n",
       "    <tr>\n",
       "      <th>1</th>\n",
       "      <td>3115-CZMZD</td>\n",
       "      <td>2020-02-01</td>\n",
       "      <td>NaT</td>\n",
       "      <td>Two year</td>\n",
       "      <td>No</td>\n",
       "      <td>Mailed check</td>\n",
       "      <td>20.25</td>\n",
       "      <td>NaN</td>\n",
       "    </tr>\n",
       "    <tr>\n",
       "      <th>3</th>\n",
       "      <td>5709-LVOEQ</td>\n",
       "      <td>2020-02-01</td>\n",
       "      <td>NaT</td>\n",
       "      <td>Two year</td>\n",
       "      <td>No</td>\n",
       "      <td>Mailed check</td>\n",
       "      <td>80.85</td>\n",
       "      <td>NaN</td>\n",
       "    </tr>\n",
       "    <tr>\n",
       "      <th>6</th>\n",
       "      <td>4367-NUYAO</td>\n",
       "      <td>2020-02-01</td>\n",
       "      <td>NaT</td>\n",
       "      <td>Two year</td>\n",
       "      <td>No</td>\n",
       "      <td>Mailed check</td>\n",
       "      <td>25.75</td>\n",
       "      <td>NaN</td>\n",
       "    </tr>\n",
       "    <tr>\n",
       "      <th>7</th>\n",
       "      <td>1371-DWPAZ</td>\n",
       "      <td>2020-02-01</td>\n",
       "      <td>NaT</td>\n",
       "      <td>Two year</td>\n",
       "      <td>No</td>\n",
       "      <td>Credit card (automatic)</td>\n",
       "      <td>56.05</td>\n",
       "      <td>NaN</td>\n",
       "    </tr>\n",
       "  </tbody>\n",
       "</table>\n",
       "</div>"
      ],
      "text/plain": [
       "  customer_id begin_date end_date      type paperless_billing  \\\n",
       "0  4472-LVYGI 2020-02-01      NaT  Two year               Yes   \n",
       "1  3115-CZMZD 2020-02-01      NaT  Two year                No   \n",
       "3  5709-LVOEQ 2020-02-01      NaT  Two year                No   \n",
       "6  4367-NUYAO 2020-02-01      NaT  Two year                No   \n",
       "7  1371-DWPAZ 2020-02-01      NaT  Two year                No   \n",
       "\n",
       "              payment_method  monthly_charges  total_charges  \n",
       "0  Bank transfer (automatic)            52.55            NaN  \n",
       "1               Mailed check            20.25            NaN  \n",
       "3               Mailed check            80.85            NaN  \n",
       "6               Mailed check            25.75            NaN  \n",
       "7    Credit card (automatic)            56.05            NaN  "
      ]
     },
     "execution_count": 21,
     "metadata": {},
     "output_type": "execute_result"
    }
   ],
   "source": [
    "contract_df[contract_df['total_charges'].isna()].head(5)"
   ]
  },
  {
   "cell_type": "markdown",
   "id": "057fba58",
   "metadata": {},
   "source": [
    "Можно увидеть, что дата заключения договора 1 февраля 2020 года. Как раз та дата, когда у нас была выгрузка данных. Следовательно данных ещё о платеже нет, либо не успели загрузить в базу данных. Так как подобных записей крайне мало и они могут внести искажение в анализ, следует их удалить."
   ]
  },
  {
   "cell_type": "code",
   "execution_count": 22,
   "id": "10664de9",
   "metadata": {},
   "outputs": [],
   "source": [
    "contract_df = contract_df[~contract_df['total_charges'].isna()].copy()"
   ]
  },
  {
   "cell_type": "markdown",
   "id": "49c1293b",
   "metadata": {},
   "source": [
    "__Пропуcки в признаке `end_date`__\n",
    "\n",
    "При отсутствии даты окончания действия договора, на момент выгрузки данных, клиент считатся активным. Из данного признака получим целевой признак оттока клиентов, а пропуски заменим датой выгрузки данных."
   ]
  },
  {
   "cell_type": "code",
   "execution_count": 23,
   "id": "441ccc45",
   "metadata": {},
   "outputs": [],
   "source": [
    "# пелучение целевой переменной\n",
    "contract_df['churn'] = contract_df['end_date'].isna()*1"
   ]
  },
  {
   "cell_type": "markdown",
   "id": "dd029524",
   "metadata": {},
   "source": [
    "Признак `churn` содержит значения:\n",
    "- 0 факт ухода клиента\n",
    "- 1 клиент продолжает пользоваться услугами компании"
   ]
  },
  {
   "cell_type": "code",
   "execution_count": 24,
   "id": "e55589e7",
   "metadata": {},
   "outputs": [],
   "source": [
    "# замена пропусков в столбце end_date на \"2020-02-01\"\n",
    "contract_df['end_date'].fillna(\"2020-02-01\", inplace=True)"
   ]
  },
  {
   "cell_type": "markdown",
   "id": "e4abf537",
   "metadata": {},
   "source": [
    "### Анализ временных признаков"
   ]
  },
  {
   "cell_type": "code",
   "execution_count": 28,
   "id": "73a8c666",
   "metadata": {},
   "outputs": [],
   "source": [
    "contract_df['end_date'] = contract_df['end_date'].apply(pd.to_datetime)"
   ]
  },
  {
   "cell_type": "code",
   "execution_count": 30,
   "id": "f61131ab",
   "metadata": {},
   "outputs": [
    {
     "name": "stdout",
     "output_type": "stream",
     "text": [
      "Минимальная дата в begin_date: 2018-04-17 00:00:00\n",
      "Максимальная дата в begin_date: 2020-01-29 00:00:00\n",
      "Минимальная дата в end_date: 2019-10-01 00:00:00\n",
      "Максимальная дата в end_date: 2020-02-01 00:00:00\n"
     ]
    }
   ],
   "source": [
    "# получим минимальную и максимальную даты в столбце begin_date\n",
    "min_begin_date = contract_df['begin_date'].min()\n",
    "max_begin_date = contract_df['begin_date'].max()\n",
    "\n",
    "# получим минимальную и максимальную даты в столбце end_date\n",
    "min_end_date = contract_df['end_date'].min()\n",
    "max_end_date = contract_df['end_date'].max()\n",
    "\n",
    "# вывод полученных значений\n",
    "print(f'Минимальная дата в begin_date: {min_begin_date}')\n",
    "print(f'Максимальная дата в begin_date: {max_begin_date}')\n",
    "print(f'Минимальная дата в end_date: {min_end_date}')\n",
    "print(f'Максимальная дата в end_date: {max_end_date}')"
   ]
  },
  {
   "cell_type": "markdown",
   "id": "957f6958",
   "metadata": {},
   "source": [
    ">Аномальных значений в данных признаках не наблюдается.\n",
    ">\n",
    ">Сами даты из-за большой вариативности не несут полезную нагрузку при построении моделей, но можем получить дополнительные признаки:\n",
    "- продолжительность действия контракта, отразит насколько долго клиент пользуется услугами, выразим значение в днях."
   ]
  },
  {
   "cell_type": "code",
   "execution_count": 31,
   "id": "aade9418",
   "metadata": {},
   "outputs": [],
   "source": [
    "contract_df['tenure_days'] = (contract_df['end_date'] - contract_df['begin_date']).dt.days"
   ]
  },
  {
   "cell_type": "markdown",
   "id": "0353d9ca",
   "metadata": {},
   "source": [
    "#### Зависимость факта ухода клиентов от месяца и года"
   ]
  },
  {
   "cell_type": "code",
   "execution_count": 33,
   "id": "428e50b7",
   "metadata": {},
   "outputs": [
    {
     "data": {
      "image/png": "[encoded data removed]",
      "text/plain": [
       "<Figure size 864x216 with 1 Axes>"
      ]
     },
     "metadata": {
      "needs_background": "light"
     },
     "output_type": "display_data"
    }
   ],
   "source": [
    "data_info = contract_df.copy()\n",
    "data_info['churn'] = data_info['churn'].replace({1:0, 0:1})\n",
    "data_info['churn_month'] = data_info['end_date'].dt.month\n",
    "data_info['churn_year'] = data_info['end_date'].dt.year\n",
    "\n",
    "# ограничиваем данные до января 2020 года\n",
    "data_info = data_info[(data_info['churn_year'] < 2020) | ((data_info['churn_year'] == 2020) & (data_info['churn_month'] == 1))]\n",
    "\n",
    "# группируем данные по месяцам и годам и подсчитываем количество ушедших клиентов\n",
    "churn_summary = data_info.groupby(['churn_year', 'churn_month'])['churn'].sum().reset_index()\n",
    "\n",
    "# визуализируем зависимость месяца и факта ухода клиентов\n",
    "plt.figure(figsize=(12, 3))\n",
    "plt.plot(churn_summary['churn_year'].astype(str) + '-' + churn_summary['churn_month'].astype(str), churn_summary['churn'], marker='o', color='teal')\n",
    "plt.title('Зависимость факта ухода клиентов от месяца и года (до января 2020 года)')\n",
    "plt.xlabel('Месяц и год')\n",
    "plt.ylabel('Количество ушедших клиентов')\n",
    "plt.xticks(rotation=45)\n",
    "plt.grid(True)\n",
    "plt.show()"
   ]
  },
  {
   "cell_type": "markdown",
   "id": "15678ed4",
   "metadata": {},
   "source": [
    "Зависимость ухода клиентов от месяца и года, исходя из графика, слабая, этот признак не подходит для дальнейшего анализа"
   ]
  },
  {
   "cell_type": "markdown",
   "id": "4639918a",
   "metadata": {},
   "source": [
    "### Анализ категориальных признаков"
   ]
  },
  {
   "cell_type": "code",
   "execution_count": 34,
   "id": "937b5ef6",
   "metadata": {},
   "outputs": [
    {
     "data": {
      "text/html": [
       "<div>\n",
       "<style scoped>\n",
       "    .dataframe tbody tr th:only-of-type {\n",
       "        vertical-align: middle;\n",
       "    }\n",
       "\n",
       "    .dataframe tbody tr th {\n",
       "        vertical-align: top;\n",
       "    }\n",
       "\n",
       "    .dataframe thead th {\n",
       "        text-align: right;\n",
       "    }\n",
       "</style>\n",
       "<table border=\"1\" class=\"dataframe\">\n",
       "  <thead>\n",
       "    <tr style=\"text-align: right;\">\n",
       "      <th></th>\n",
       "      <th>customer_id</th>\n",
       "      <th>type</th>\n",
       "      <th>paperless_billing</th>\n",
       "      <th>payment_method</th>\n",
       "    </tr>\n",
       "  </thead>\n",
       "  <tbody>\n",
       "    <tr>\n",
       "      <th>count</th>\n",
       "      <td>7032</td>\n",
       "      <td>7032</td>\n",
       "      <td>7032</td>\n",
       "      <td>7032</td>\n",
       "    </tr>\n",
       "    <tr>\n",
       "      <th>unique</th>\n",
       "      <td>7032</td>\n",
       "      <td>3</td>\n",
       "      <td>2</td>\n",
       "      <td>4</td>\n",
       "    </tr>\n",
       "    <tr>\n",
       "      <th>top</th>\n",
       "      <td>0374-AACSZ</td>\n",
       "      <td>Month-to-month</td>\n",
       "      <td>Yes</td>\n",
       "      <td>Electronic check</td>\n",
       "    </tr>\n",
       "    <tr>\n",
       "      <th>freq</th>\n",
       "      <td>1</td>\n",
       "      <td>3875</td>\n",
       "      <td>4168</td>\n",
       "      <td>2365</td>\n",
       "    </tr>\n",
       "  </tbody>\n",
       "</table>\n",
       "</div>"
      ],
      "text/plain": [
       "       customer_id            type paperless_billing    payment_method\n",
       "count         7032            7032              7032              7032\n",
       "unique        7032               3                 2                 4\n",
       "top     0374-AACSZ  Month-to-month               Yes  Electronic check\n",
       "freq             1            3875              4168              2365"
      ]
     },
     "metadata": {},
     "output_type": "display_data"
    }
   ],
   "source": [
    "display(contract_df.describe(include=[object]))"
   ]
  },
  {
   "cell_type": "markdown",
   "id": "fa979a69",
   "metadata": {},
   "source": [
    "__Посмотрим уникальные значения в категориальных признаках и их распределения:__"
   ]
  },
  {
   "cell_type": "code",
   "execution_count": 35,
   "id": "beeae041",
   "metadata": {},
   "outputs": [],
   "source": [
    "# функция для вывода уникальных значений и распределения\n",
    "def uniq_val(df, sign):\n",
    "    print(f'Уникальные значения признака {sign} в данных:\\n{df[sign].unique()}')\n",
    "    display(df[sign].value_counts())"
   ]
  },
  {
   "cell_type": "code",
   "execution_count": 36,
   "id": "1660ef76",
   "metadata": {},
   "outputs": [
    {
     "name": "stdout",
     "output_type": "stream",
     "text": [
      "Уникальные значения признака type в данных:\n",
      "['Month-to-month' 'Two year' 'One year']\n"
     ]
    },
    {
     "data": {
      "text/plain": [
       "Month-to-month    3875\n",
       "Two year          1685\n",
       "One year          1472\n",
       "Name: type, dtype: int64"
      ]
     },
     "metadata": {},
     "output_type": "display_data"
    },
    {
     "name": "stdout",
     "output_type": "stream",
     "text": [
      "Уникальные значения признака paperless_billing в данных:\n",
      "['Yes' 'No']\n"
     ]
    },
    {
     "data": {
      "text/plain": [
       "Yes    4168\n",
       "No     2864\n",
       "Name: paperless_billing, dtype: int64"
      ]
     },
     "metadata": {},
     "output_type": "display_data"
    },
    {
     "name": "stdout",
     "output_type": "stream",
     "text": [
      "Уникальные значения признака payment_method в данных:\n",
      "['Mailed check' 'Electronic check' 'Bank transfer (automatic)'\n",
      " 'Credit card (automatic)']\n"
     ]
    },
    {
     "data": {
      "text/plain": [
       "Electronic check             2365\n",
       "Mailed check                 1604\n",
       "Bank transfer (automatic)    1542\n",
       "Credit card (automatic)      1521\n",
       "Name: payment_method, dtype: int64"
      ]
     },
     "metadata": {},
     "output_type": "display_data"
    }
   ],
   "source": [
    "uniq_val(contract_df, 'type')\n",
    "uniq_val(contract_df, 'paperless_billing')\n",
    "uniq_val(contract_df, 'payment_method')"
   ]
  },
  {
   "cell_type": "markdown",
   "id": "270ab1fb",
   "metadata": {},
   "source": [
    "Исходя из значений и рапределений данных:\n",
    "- В признаках нет групп с малым количеством данных, требующих объединение.\n",
    "- Большинство людей предпочитают ежемесячные платежи, электронные рассчетные листы."
   ]
  },
  {
   "cell_type": "markdown",
   "id": "de3027bb",
   "metadata": {},
   "source": [
    "### Анализ числовых признаков"
   ]
  },
  {
   "cell_type": "code",
   "execution_count": 37,
   "id": "9dc91ccb",
   "metadata": {},
   "outputs": [
    {
     "data": {
      "text/html": [
       "<pre style=\"white-space:pre;overflow-x:auto;line-height:normal;font-family:Menlo,'DejaVu Sans Mono',consolas,'Courier New',monospace\"><span style=\"font-weight: bold\">Статистика для contract_df:</span>\n",
       "</pre>\n"
      ],
      "text/plain": [
       "\u001b[1mСтатистика для contract_df:\u001b[0m\n"
      ]
     },
     "metadata": {},
     "output_type": "display_data"
    },
    {
     "name": "stdout",
     "output_type": "stream",
     "text": [
      "       monthly_charges  total_charges        churn  tenure_days\n",
      "count      7032.000000    7032.000000  7032.000000  7032.000000\n",
      "mean         64.798208    2283.300441     0.734215   297.843857\n",
      "std          30.085974    2266.771362     0.441782    83.104180\n",
      "min          18.250000      18.800000     0.000000     3.000000\n",
      "25%          35.587500     401.450000     0.000000   242.000000\n",
      "50%          70.350000    1397.475000     1.000000   298.000000\n",
      "75%          89.862500    3794.737500     1.000000   352.000000\n",
      "max         118.750000    8684.800000     1.000000   583.000000\n"
     ]
    }
   ],
   "source": [
    "# статистика для crowd_annotat\n",
    "console.print('[bold]Статистика для contract_df:[/bold]')\n",
    "print(contract_df.describe())"
   ]
  },
  {
   "cell_type": "code",
   "execution_count": 38,
   "id": "e656c8d5",
   "metadata": {},
   "outputs": [
    {
     "data": {
      "image/png": "[encoded data removed]",
      "text/plain": [
       "<Figure size 1296x360 with 3 Axes>"
      ]
     },
     "metadata": {
      "needs_background": "light"
     },
     "output_type": "display_data"
    }
   ],
   "source": [
    "# визуализация данных\n",
    "fig, axes = plt.subplots(1, 3, figsize=(18, 5))\n",
    "\n",
    "contract_df['monthly_charges'].hist(ax=axes[0], color='teal')\n",
    "axes[0].set_title(\"Распределение ежемесячных платежей\")\n",
    "\n",
    "contract_df['total_charges'].hist(ax=axes[1], color='teal')\n",
    "axes[1].set_title(\"Распределение общих расходов абонента\")\n",
    "\n",
    "contract_df['tenure_days'].hist(ax=axes[2], color='teal')\n",
    "axes[2].set_title(\"Распределение длительности заключенных контрактов\")\n",
    "\n",
    "plt.show()"
   ]
  },
  {
   "cell_type": "markdown",
   "id": "ab1fe999",
   "metadata": {},
   "source": [
    "- Исходя из общей статистики числовых данных и их визуализации, можно сделать вывод, что в данных отсутствуют явные аномалии, экстримально большие или маленькие значения.\n",
    "- Присутствует бимодальность в признаке `monthly_сharges`, что может указывать на разный уровень платежей при дополнительном использовании интернет услуг и подключения телефона к нескольким линиям одновременно."
   ]
  },
  {
   "cell_type": "markdown",
   "id": "06638fae",
   "metadata": {},
   "source": [
    "### Итоговый датасет с информацией о договорах"
   ]
  },
  {
   "cell_type": "code",
   "execution_count": 39,
   "id": "0d62cc00",
   "metadata": {},
   "outputs": [],
   "source": [
    "contract_df = contract_df.drop(['begin_date', 'end_date'], axis=1)"
   ]
  },
  {
   "cell_type": "code",
   "execution_count": 40,
   "id": "e69b4775",
   "metadata": {},
   "outputs": [
    {
     "name": "stdout",
     "output_type": "stream",
     "text": [
      "<class 'pandas.core.frame.DataFrame'>\n",
      "Int64Index: 7032 entries, 2 to 7042\n",
      "Data columns (total 8 columns):\n",
      " #   Column             Non-Null Count  Dtype  \n",
      "---  ------             --------------  -----  \n",
      " 0   customer_id        7032 non-null   object \n",
      " 1   type               7032 non-null   object \n",
      " 2   paperless_billing  7032 non-null   object \n",
      " 3   payment_method     7032 non-null   object \n",
      " 4   monthly_charges    7032 non-null   float64\n",
      " 5   total_charges      7032 non-null   float64\n",
      " 6   churn              7032 non-null   int64  \n",
      " 7   tenure_days        7032 non-null   int64  \n",
      "dtypes: float64(2), int64(2), object(4)\n",
      "memory usage: 494.4+ KB\n"
     ]
    }
   ],
   "source": [
    "contract_df.info()"
   ]
  },
  {
   "cell_type": "markdown",
   "id": "723c4ba6",
   "metadata": {},
   "source": [
    ">Проведен анализ данных с информацией о договорах;\n",
    ">\n",
    ">Обработаны пропуски и аномалии;\n",
    ">\n",
    ">Добавлен целевой и признак отражающий как давно челорвек, является абонентом компании."
   ]
  },
  {
   "cell_type": "markdown",
   "id": "5b204f78",
   "metadata": {},
   "source": [
    "## Анализ информациии о персональных данных клиентов: `personal_df`\n",
    "### Общая информация"
   ]
  },
  {
   "cell_type": "code",
   "execution_count": 41,
   "id": "d8bb7076",
   "metadata": {},
   "outputs": [
    {
     "data": {
      "text/html": [
       "<div>\n",
       "<style scoped>\n",
       "    .dataframe tbody tr th:only-of-type {\n",
       "        vertical-align: middle;\n",
       "    }\n",
       "\n",
       "    .dataframe tbody tr th {\n",
       "        vertical-align: top;\n",
       "    }\n",
       "\n",
       "    .dataframe thead th {\n",
       "        text-align: right;\n",
       "    }\n",
       "</style>\n",
       "<table border=\"1\" class=\"dataframe\">\n",
       "  <thead>\n",
       "    <tr style=\"text-align: right;\">\n",
       "      <th></th>\n",
       "      <th>customer_id</th>\n",
       "      <th>gender</th>\n",
       "      <th>senior_citizen</th>\n",
       "      <th>partner</th>\n",
       "      <th>dependents</th>\n",
       "    </tr>\n",
       "  </thead>\n",
       "  <tbody>\n",
       "    <tr>\n",
       "      <th>0</th>\n",
       "      <td>7590-VHVEG</td>\n",
       "      <td>Female</td>\n",
       "      <td>0</td>\n",
       "      <td>Yes</td>\n",
       "      <td>No</td>\n",
       "    </tr>\n",
       "    <tr>\n",
       "      <th>1</th>\n",
       "      <td>5575-GNVDE</td>\n",
       "      <td>Male</td>\n",
       "      <td>0</td>\n",
       "      <td>No</td>\n",
       "      <td>No</td>\n",
       "    </tr>\n",
       "  </tbody>\n",
       "</table>\n",
       "</div>"
      ],
      "text/plain": [
       "  customer_id  gender  senior_citizen partner dependents\n",
       "0  7590-VHVEG  Female               0     Yes         No\n",
       "1  5575-GNVDE    Male               0      No         No"
      ]
     },
     "metadata": {},
     "output_type": "display_data"
    },
    {
     "name": "stdout",
     "output_type": "stream",
     "text": [
      "<class 'pandas.core.frame.DataFrame'>\n",
      "RangeIndex: 7043 entries, 0 to 7042\n",
      "Data columns (total 5 columns):\n",
      " #   Column          Non-Null Count  Dtype \n",
      "---  ------          --------------  ----- \n",
      " 0   customer_id     7043 non-null   object\n",
      " 1   gender          7043 non-null   object\n",
      " 2   senior_citizen  7043 non-null   int64 \n",
      " 3   partner         7043 non-null   object\n",
      " 4   dependents      7043 non-null   object\n",
      "dtypes: int64(1), object(4)\n",
      "memory usage: 275.2+ KB\n"
     ]
    },
    {
     "data": {
      "text/plain": [
       "None"
      ]
     },
     "metadata": {},
     "output_type": "display_data"
    }
   ],
   "source": [
    "display(personal_df.head(2))\n",
    "display(personal_df.info())"
   ]
  },
  {
   "cell_type": "markdown",
   "id": "46fa90bc",
   "metadata": {},
   "source": [
    "__Проверим пропуски в данных:__"
   ]
  },
  {
   "cell_type": "code",
   "execution_count": 42,
   "id": "fdad2b79",
   "metadata": {},
   "outputs": [
    {
     "name": "stdout",
     "output_type": "stream",
     "text": [
      "Общее количество пропусков в данных: 0\n"
     ]
    }
   ],
   "source": [
    "print(f'Общее количество пропусков в данных: {sum(personal_df.isna().sum())}')"
   ]
  },
  {
   "cell_type": "markdown",
   "id": "e8ae1e32",
   "metadata": {},
   "source": [
    "### Визуализация данных"
   ]
  },
  {
   "cell_type": "code",
   "execution_count": 43,
   "id": "95811ea6",
   "metadata": {},
   "outputs": [
    {
     "data": {
      "image/png": "[encoded data removed]",
      "text/plain": [
       "<Figure size 1152x288 with 4 Axes>"
      ]
     },
     "metadata": {},
     "output_type": "display_data"
    }
   ],
   "source": [
    "binary_features = ['gender', 'senior_citizen', 'partner', 'dependents']\n",
    "# палитра\n",
    "pastel_colors = ['#B2DFDB', 'lightskyblue']\n",
    "\n",
    "plt.figure(figsize=(16, 4))\n",
    "\n",
    "# визуализация\n",
    "for i, feature in enumerate(binary_features):\n",
    "    plt.subplot(1, 4, i + 1)  \n",
    "    plt.title(f'Распределение {feature}')\n",
    "    \n",
    "    personal_df[feature].value_counts().plot(kind='pie', autopct='%1.1f%%', colors=pastel_colors)\n",
    "    plt.ylabel('') \n"
   ]
  },
  {
   "cell_type": "markdown",
   "id": "ab1ff8a6",
   "metadata": {},
   "source": [
    "В данных пропуски отсутствуют.\n",
    "\n",
    "Из распределения данных можно понять:\n",
    "\n",
    "- Пол (gender): В датасете клиентов примерно одинаковое количество мужчин и женщин, с небольшим преимуществом мужчин (3555 мужчин и 3488 женщин). Это говорит о том, что половая принадлежность клиентов достаточно равномерно распределена.\n",
    "- Является ли клиент пенсионером (senior_citizen): Большинство клиентов в датасете (5901 человек) не являются пенсионерами, в то время как 1142 клиента являются пенсионерами.\n",
    "- Наличие супруга или супруги (partner): В датасете 3641 клиентов не имеют супруга или супруги, в то время как 3402 клиента имеют супруга или супругу. Распределение близко к равномерному, что может указывать на разнообразие семейных структур среди клиентов.\n",
    "- Наличие детей (dependents):Большинство клиентов (4933 человека) не имеют детей, в то время как 2110 клиентов имеют детей. Это может быть важным фактором при анализе поведения клиентов и их решениях о продолжении использования услуг.\n",
    "\n",
    "Эти данные предоставляют нам информацию о демографических характеристиках клиентов и их семейном статусе. Данные выводы могут быть полезными для дальнейшего анализа и разработки стратегии по удержанию клиентов, учитывая их особенности и потребности."
   ]
  },
  {
   "cell_type": "markdown",
   "id": "1297fc0e",
   "metadata": {},
   "source": [
    "## Анализ информациии об интернет-услугах: `internet_df`\n",
    "### Общая информация"
   ]
  },
  {
   "cell_type": "code",
   "execution_count": 44,
   "id": "ca6f44bc",
   "metadata": {},
   "outputs": [
    {
     "data": {
      "text/html": [
       "<div>\n",
       "<style scoped>\n",
       "    .dataframe tbody tr th:only-of-type {\n",
       "        vertical-align: middle;\n",
       "    }\n",
       "\n",
       "    .dataframe tbody tr th {\n",
       "        vertical-align: top;\n",
       "    }\n",
       "\n",
       "    .dataframe thead th {\n",
       "        text-align: right;\n",
       "    }\n",
       "</style>\n",
       "<table border=\"1\" class=\"dataframe\">\n",
       "  <thead>\n",
       "    <tr style=\"text-align: right;\">\n",
       "      <th></th>\n",
       "      <th>customer_id</th>\n",
       "      <th>internet_service</th>\n",
       "      <th>online_security</th>\n",
       "      <th>online_backup</th>\n",
       "      <th>device_protection</th>\n",
       "      <th>tech_support</th>\n",
       "      <th>streaming_tv</th>\n",
       "      <th>streaming_movies</th>\n",
       "    </tr>\n",
       "  </thead>\n",
       "  <tbody>\n",
       "    <tr>\n",
       "      <th>1</th>\n",
       "      <td>7590-VHVEG</td>\n",
       "      <td>DSL</td>\n",
       "      <td>No</td>\n",
       "      <td>Yes</td>\n",
       "      <td>No</td>\n",
       "      <td>No</td>\n",
       "      <td>No</td>\n",
       "      <td>No</td>\n",
       "    </tr>\n",
       "    <tr>\n",
       "      <th>2</th>\n",
       "      <td>5575-GNVDE</td>\n",
       "      <td>DSL</td>\n",
       "      <td>Yes</td>\n",
       "      <td>No</td>\n",
       "      <td>Yes</td>\n",
       "      <td>No</td>\n",
       "      <td>No</td>\n",
       "      <td>No</td>\n",
       "    </tr>\n",
       "  </tbody>\n",
       "</table>\n",
       "</div>"
      ],
      "text/plain": [
       "  customer_id internet_service online_security online_backup  \\\n",
       "1  7590-VHVEG              DSL              No           Yes   \n",
       "2  5575-GNVDE              DSL             Yes            No   \n",
       "\n",
       "  device_protection tech_support streaming_tv streaming_movies  \n",
       "1                No           No           No               No  \n",
       "2               Yes           No           No               No  "
      ]
     },
     "metadata": {},
     "output_type": "display_data"
    },
    {
     "name": "stdout",
     "output_type": "stream",
     "text": [
      "<class 'pandas.core.frame.DataFrame'>\n",
      "Int64Index: 5517 entries, 1 to 5517\n",
      "Data columns (total 8 columns):\n",
      " #   Column             Non-Null Count  Dtype \n",
      "---  ------             --------------  ----- \n",
      " 0   customer_id        5517 non-null   object\n",
      " 1   internet_service   5517 non-null   object\n",
      " 2   online_security    5517 non-null   object\n",
      " 3   online_backup      5517 non-null   object\n",
      " 4   device_protection  5517 non-null   object\n",
      " 5   tech_support       5517 non-null   object\n",
      " 6   streaming_tv       5517 non-null   object\n",
      " 7   streaming_movies   5517 non-null   object\n",
      "dtypes: object(8)\n",
      "memory usage: 387.9+ KB\n"
     ]
    },
    {
     "data": {
      "text/plain": [
       "None"
      ]
     },
     "metadata": {},
     "output_type": "display_data"
    }
   ],
   "source": [
    "display(internet_df.head(2))\n",
    "display(internet_df.info())"
   ]
  },
  {
   "cell_type": "markdown",
   "id": "426064dd",
   "metadata": {},
   "source": [
    "__Проверим пропуски в данных:__"
   ]
  },
  {
   "cell_type": "code",
   "execution_count": 45,
   "id": "ab4f7108",
   "metadata": {},
   "outputs": [
    {
     "name": "stdout",
     "output_type": "stream",
     "text": [
      "Общее количество пропусков в данных: 0\n"
     ]
    }
   ],
   "source": [
    "print(f'Общее количество пропусков в данных: {sum(internet_df.isna().sum())}')"
   ]
  },
  {
   "cell_type": "markdown",
   "id": "23a3cc15",
   "metadata": {},
   "source": [
    "### Визуализация данных"
   ]
  },
  {
   "cell_type": "code",
   "execution_count": 46,
   "id": "b8f7fb40",
   "metadata": {},
   "outputs": [
    {
     "data": {
      "image/png": "[encoded data removed]",
      "text/plain": [
       "<Figure size 1152x576 with 7 Axes>"
      ]
     },
     "metadata": {},
     "output_type": "display_data"
    }
   ],
   "source": [
    "features = ['internet_service', 'online_security', 'online_backup', 'device_protection', 'tech_support', 'streaming_tv', 'streaming_movies']\n",
    "# палитра\n",
    "pastel_colors = ['#B2DFDB', 'lightskyblue']\n",
    "\n",
    "plt.figure(figsize=(16, 8))\n",
    "for i, feature in enumerate(features):\n",
    "    if i < 4:\n",
    "        plt.subplot(2, 4, i + 1)  # 2x4 сетка графиков\n",
    "        plt.title(f'Распределение {feature}')\n",
    "    else:\n",
    "        plt.subplot(2, 4, i + 1)  # 2x4 сетка графиков\n",
    "        plt.title(f'Распределение {feature}')\n",
    "    \n",
    "    pie_data = internet_df[feature].value_counts()\n",
    "    pie_labels = pie_data.index\n",
    "    pie_colors = pastel_colors[:len(pie_labels)]\n",
    "    pie_data.plot(kind='pie', autopct='%1.1f%%', colors=pie_colors, labels=pie_labels)\n",
    "    plt.ylabel('')\n",
    "    plt.xlabel('')\n",
    "\n",
    "plt.tight_layout()\n",
    "\n",
    "plt.subplots_adjust(top=0.9)\n",
    "plt.show()\n"
   ]
  },
  {
   "cell_type": "markdown",
   "id": "54888a4d",
   "metadata": {},
   "source": [
    "В данных пропуски отсутствуют.\n",
    "\n",
    "Из визуализации данных можно понять, что все признаки распределены равномерно.\n",
    "\n",
    "Следует отметить, что колличество клиентов, которые пользуются интернет-услугами меньше чем общее количество пользователей."
   ]
  },
  {
   "cell_type": "markdown",
   "id": "af4efb3a",
   "metadata": {},
   "source": [
    "## Анализ информациии об услугах телефонии: `phone_df`\n",
    "### Общая информация"
   ]
  },
  {
   "cell_type": "code",
   "execution_count": 47,
   "id": "2a7aa373",
   "metadata": {},
   "outputs": [
    {
     "data": {
      "text/html": [
       "<div>\n",
       "<style scoped>\n",
       "    .dataframe tbody tr th:only-of-type {\n",
       "        vertical-align: middle;\n",
       "    }\n",
       "\n",
       "    .dataframe tbody tr th {\n",
       "        vertical-align: top;\n",
       "    }\n",
       "\n",
       "    .dataframe thead th {\n",
       "        text-align: right;\n",
       "    }\n",
       "</style>\n",
       "<table border=\"1\" class=\"dataframe\">\n",
       "  <thead>\n",
       "    <tr style=\"text-align: right;\">\n",
       "      <th></th>\n",
       "      <th>customer_id</th>\n",
       "      <th>multiplelines</th>\n",
       "    </tr>\n",
       "  </thead>\n",
       "  <tbody>\n",
       "    <tr>\n",
       "      <th>1</th>\n",
       "      <td>5575-GNVDE</td>\n",
       "      <td>No</td>\n",
       "    </tr>\n",
       "    <tr>\n",
       "      <th>2</th>\n",
       "      <td>3668-QPYBK</td>\n",
       "      <td>No</td>\n",
       "    </tr>\n",
       "  </tbody>\n",
       "</table>\n",
       "</div>"
      ],
      "text/plain": [
       "  customer_id multiplelines\n",
       "1  5575-GNVDE            No\n",
       "2  3668-QPYBK            No"
      ]
     },
     "metadata": {},
     "output_type": "display_data"
    },
    {
     "name": "stdout",
     "output_type": "stream",
     "text": [
      "<class 'pandas.core.frame.DataFrame'>\n",
      "Int64Index: 6361 entries, 1 to 6361\n",
      "Data columns (total 2 columns):\n",
      " #   Column         Non-Null Count  Dtype \n",
      "---  ------         --------------  ----- \n",
      " 0   customer_id    6361 non-null   object\n",
      " 1   multiplelines  6361 non-null   object\n",
      "dtypes: object(2)\n",
      "memory usage: 149.1+ KB\n"
     ]
    },
    {
     "data": {
      "text/plain": [
       "None"
      ]
     },
     "metadata": {},
     "output_type": "display_data"
    }
   ],
   "source": [
    "display(phone_df.head(2))\n",
    "display(phone_df.info())"
   ]
  },
  {
   "cell_type": "markdown",
   "id": "13263305",
   "metadata": {},
   "source": [
    "__Проверим пропуски в данных:__"
   ]
  },
  {
   "cell_type": "code",
   "execution_count": 48,
   "id": "cdf9e49a",
   "metadata": {},
   "outputs": [
    {
     "name": "stdout",
     "output_type": "stream",
     "text": [
      "Общее количество пропусков в данных: 0\n"
     ]
    }
   ],
   "source": [
    "print(f'Общее количество пропусков в данных: {sum(internet_df.isna().sum())}')"
   ]
  },
  {
   "cell_type": "code",
   "execution_count": 49,
   "id": "b788af1b",
   "metadata": {},
   "outputs": [
    {
     "data": {
      "image/png": "[encoded data removed]",
      "text/plain": [
       "<Figure size 1152x216 with 1 Axes>"
      ]
     },
     "metadata": {},
     "output_type": "display_data"
    }
   ],
   "source": [
    "features = ['multiplelines']\n",
    "# палитра\n",
    "pastel_colors = ['#B2DFDB', 'lightskyblue']\n",
    "\n",
    "plt.figure(figsize=(16, 3))\n",
    "\n",
    "for i, feature in enumerate(features):\n",
    "    plt.subplot(1, 4, i + 1)\n",
    "    plt.title(f'Распределение {feature}')\n",
    "    \n",
    "    pie_data = phone_df[feature].value_counts()\n",
    "    pie_labels = pie_data.index\n",
    "    pie_colors = pastel_colors[:len(pie_labels)]\n",
    "    pie_data.plot(kind='pie', autopct='%1.1f%%', colors=pie_colors, labels=pie_labels)\n",
    "    plt.ylabel('')\n",
    "    plt.xlabel('')\n",
    "\n",
    "plt.tight_layout()\n",
    "plt.show()\n"
   ]
  },
  {
   "cell_type": "markdown",
   "id": "615ec5f4",
   "metadata": {},
   "source": [
    "В данных пропуски отсутствуют.\n",
    "\n",
    "Из визуализации данных можно понять, что значения в признаке распределены равномерно.\n",
    "\n",
    "Следует отметить, что колличество клиентов, которые пользуются услугами телефонии меньше чем общее количество пользователей."
   ]
  },
  {
   "cell_type": "markdown",
   "id": "1b4115f8",
   "metadata": {},
   "source": [
    "## Итоговый датасет\n",
    "\n",
    "Объединим датасеты по признаку `customer_id`"
   ]
  },
  {
   "cell_type": "code",
   "execution_count": 50,
   "id": "9ec3a6b4",
   "metadata": {},
   "outputs": [],
   "source": [
    "# объединение contract_df и personal_df\n",
    "df = contract_df.merge(personal_df, on='customer_id', how='left')\n",
    "# объединение с internet_df\n",
    "df = df.merge(internet_df, on='customer_id', how='left')\n",
    "# объединение с phone_df\n",
    "df = df.merge(phone_df, on='customer_id', how='left')"
   ]
  },
  {
   "cell_type": "code",
   "execution_count": 51,
   "id": "0d5a8584",
   "metadata": {},
   "outputs": [
    {
     "name": "stdout",
     "output_type": "stream",
     "text": [
      "<class 'pandas.core.frame.DataFrame'>\n",
      "Int64Index: 7032 entries, 0 to 7031\n",
      "Data columns (total 20 columns):\n",
      " #   Column             Non-Null Count  Dtype  \n",
      "---  ------             --------------  -----  \n",
      " 0   customer_id        7032 non-null   object \n",
      " 1   type               7032 non-null   object \n",
      " 2   paperless_billing  7032 non-null   object \n",
      " 3   payment_method     7032 non-null   object \n",
      " 4   monthly_charges    7032 non-null   float64\n",
      " 5   total_charges      7032 non-null   float64\n",
      " 6   churn              7032 non-null   int64  \n",
      " 7   tenure_days        7032 non-null   int64  \n",
      " 8   gender             7032 non-null   object \n",
      " 9   senior_citizen     7032 non-null   int64  \n",
      " 10  partner            7032 non-null   object \n",
      " 11  dependents         7032 non-null   object \n",
      " 12  internet_service   5512 non-null   object \n",
      " 13  online_security    5512 non-null   object \n",
      " 14  online_backup      5512 non-null   object \n",
      " 15  device_protection  5512 non-null   object \n",
      " 16  tech_support       5512 non-null   object \n",
      " 17  streaming_tv       5512 non-null   object \n",
      " 18  streaming_movies   5512 non-null   object \n",
      " 19  multiplelines      6352 non-null   object \n",
      "dtypes: float64(2), int64(3), object(15)\n",
      "memory usage: 1.1+ MB\n"
     ]
    }
   ],
   "source": [
    "# общая информация объединенного датасета\n",
    "df.info()"
   ]
  },
  {
   "cell_type": "markdown",
   "id": "dafc2e84",
   "metadata": {},
   "source": [
    "Как видно из общей информации, не все абоненты используют интернет-услуги и подключение телефона к нескольким линиям одновременно, пропуски в данных признаках, заполним стационарным значением 'no_info'."
   ]
  },
  {
   "cell_type": "code",
   "execution_count": 52,
   "id": "09401c89",
   "metadata": {},
   "outputs": [],
   "source": [
    "# заполнение пропусков\n",
    "df = df.fillna('no_info')"
   ]
  },
  {
   "cell_type": "markdown",
   "id": "188e4a56",
   "metadata": {},
   "source": [
    "## Баланс целевой переменной"
   ]
  },
  {
   "cell_type": "code",
   "execution_count": 53,
   "id": "68260234",
   "metadata": {},
   "outputs": [
    {
     "data": {
      "image/png": "[encoded data removed]",
      "text/plain": [
       "<Figure size 432x288 with 1 Axes>"
      ]
     },
     "metadata": {},
     "output_type": "display_data"
    }
   ],
   "source": [
    "# баланс целевого признака\n",
    "data = [df['churn'].value_counts()[0], df['churn'].value_counts()[1]]\n",
    "labels = ['Отток', 'Пролонгация договора']\n",
    "\n",
    "colors = sns.color_palette('pastel')[ 0:5 ]\n",
    "\n",
    "plt.pie(data, labels = labels, colors = colors, autopct='%.0f%%')\n",
    "plt.show()"
   ]
  },
  {
   "cell_type": "markdown",
   "id": "bfab6c7c",
   "metadata": {},
   "source": [
    ">Присутствует дисбаланс целевой переменной, это нужно учесть, при разделении данных на обучающий и тестовый датесеты."
   ]
  },
  {
   "cell_type": "markdown",
   "id": "5d0880a1",
   "metadata": {},
   "source": [
    "## Взаимосвязь признаков\n",
    "\n",
    "Метод PHIK - это статистический метод для определения взаимосвязей между категориальными переменными. Он разработан на основе корреляционного анализа, но специально адаптирован для работы с категориальными данными, которые обычно представлены в виде таблиц сопряженности."
   ]
  },
  {
   "cell_type": "code",
   "execution_count": 54,
   "id": "26be037f",
   "metadata": {},
   "outputs": [
    {
     "name": "stdout",
     "output_type": "stream",
     "text": [
      "interval columns not set, guessing: ['monthly_charges', 'total_charges', 'churn', 'tenure_days', 'senior_citizen']\n"
     ]
    },
    {
     "data": {
      "image/png": "[encoded data removed]",
      "text/plain": [
       "<Figure size 864x576 with 2 Axes>"
      ]
     },
     "metadata": {
      "needs_background": "light"
     },
     "output_type": "display_data"
    }
   ],
   "source": [
    "# матрица кореляции\n",
    "phik_overview = df[[col for col in df.columns if col != 'customer_id']].phik_matrix()\n",
    "# heatmap\n",
    "plt.figure(figsize=(12, 8))\n",
    "sns.heatmap(phik_overview, annot=True, cmap='coolwarm', vmin=0, vmax=1)\n",
    "plt.title('Матрица корреляции phik')\n",
    "\n",
    "plt.show()"
   ]
  },
  {
   "cell_type": "markdown",
   "id": "d4c3cf28",
   "metadata": {},
   "source": [
    "Исходя из матрицы взаимосвязи признаков можно сделать следующие выводы:\n",
    "- Наибольшее влияние на факт оттока клиентов оказывают:\n",
    "    - `type` тип оплаты (раз в год-два или ежемесячно)\n",
    "    - `monthly_charges` расходы за месяц, и как следствие общие расходы абонента\n",
    "    - `payment_method` тип платежа\n",
    "- Следующие признаки, не влияют вероятнность отказа от использования услуг и могут быть исключены из обучения моделей:\n",
    "    - `gender` пол\n",
    "    - `customer_id` ID пользователя\n",
    "- Признаки с информацией об интернет-услугах, сильно взаимосвязаны, это может быть связано с практикой пакетного предоставления услуг. Для устранения мультиколлиниарности в обучении моделей из этих признаков возможно оставить только:\n",
    "    - `internet_service` тип подключения\n",
    "    \n",
    "Исходя из вышеописанного, есть две стратегии для обучения моделей:\n",
    "\n",
    "- Обучение на всех данных, с этим будет связано следующие особенности:\n",
    "   - мультиколлиниарность, и возможное снижение качества моделей при использовании линейных алгоритмов обучения\n",
    "   - ресурсозатратность, при использовании всех признаков увеличится время обучения\n",
    "   - возможность увеличения значения метрик качества в бустинговых моделях и нейронных сетях, при наличии дополнительной информации, в признаках, не смотря на их взаимосвязи.\n",
    "   \n",
    "- Обучение на очищенных данных, с этим будет связано следующие особенности:\n",
    "   - мультиколлиниарность, и возможное повышение качества моделей при использовании линейных алгоритмов обучения\n",
    "   - ресурсозатратность, при использовании очищенных данных уменьшится время обучения\n",
    "   - возможность снижение значения метрик качества в бустинговых моделях и нейронных сетях, особенно, учитывая тот факт, что у нас ожидается всего 5000 записей в тренировочном наборе данных (75% от всех данных)\n",
    "   \n",
    "- Интересным выглядит так же факт того, что на факт оттока очень слабо влият, длительность использования услуг."
   ]
  },
  {
   "cell_type": "code",
   "execution_count": 55,
   "id": "8949dcc5",
   "metadata": {},
   "outputs": [],
   "source": [
    "# датасет со всеми данными (кроме признака customer_id с уникальными значениями)\n",
    "df_full = df.drop('customer_id', axis=1)\n",
    "# датасет с отобранными признакми\n",
    "df = df.drop(['customer_id', 'gender', 'online_backup', 'device_protection', \n",
    "              'tech_support', 'tech_support', 'streaming_tv', 'streaming_movies'], axis=1)"
   ]
  },
  {
   "cell_type": "markdown",
   "id": "7070e8e6",
   "metadata": {},
   "source": [
    "<div style=\"padding:0px 20px 10px;\n",
    "            color:#004346;\n",
    "            font-size:15px;\n",
    "            display:fill;\n",
    "            text-align:center;\n",
    "            border-radius:20px;\n",
    "            border: 5px double;\n",
    "            border-color:#201E20;\n",
    "            background-color: #E8F1F2;\n",
    "            overflow:hidden;\n",
    "            font-weight:400\">\n",
    "\n",
    "# Подготовка данных для обучения моделей\n",
    "\n",
    "</div>\n",
    "\n",
    "- Разделим данные на тренировочный и тестовой датесет\n",
    "- Выделим категориальные и числовые признаки\n",
    "- Стандартизируем числовые и закодируем категориальные признаки"
   ]
  },
  {
   "cell_type": "code",
   "execution_count": 56,
   "id": "71f06756",
   "metadata": {},
   "outputs": [],
   "source": [
    "# числовые признаки\n",
    "numeric_columns = ['monthly_charges', 'total_charges', 'tenure_days']\n",
    "# категориальные признаки для датасета со всеми данными\n",
    "categorical_columns_full = [col for col in df_full.columns if col not in numeric_columns and col != 'churn']\n",
    "# категориальные признаки для датасета с отобранными признакми\n",
    "categorical_columns = [col for col in df.columns if col not in numeric_columns and col != 'churn']\n",
    "\n",
    "# признаки для датасета со всеми данными\n",
    "X_full = df_full[categorical_columns_full + numeric_columns]\n",
    "# признаки для датасета с отобранными признакми\n",
    "X = df[categorical_columns + numeric_columns]\n",
    "# целевой признак\n",
    "y = df['churn']"
   ]
  },
  {
   "cell_type": "code",
   "execution_count": 57,
   "id": "70e361b3",
   "metadata": {},
   "outputs": [],
   "source": [
    "# формирование выборок с сохранением баланса классов для датасета со всеми данными\n",
    "X_train_full, X_test_full, y_train_full, y_test_full = train_test_split(X_full, y, test_size=0.25, stratify=y, random_state=RANDOM_SEED)\n",
    "# формирование выборок с сохранением баланса классов для датасета с отобранными признакми\n",
    "X_train, X_test, y_train, y_test = train_test_split(X, y, test_size=0.25, stratify=y, random_state=RANDOM_SEED)"
   ]
  },
  {
   "cell_type": "code",
   "execution_count": 58,
   "id": "6b4a77d3",
   "metadata": {},
   "outputs": [
    {
     "name": "stdout",
     "output_type": "stream",
     "text": [
      "Баланс классов целевого признака:\n",
      "y_train:\n",
      "1    73.0\n",
      "0    27.0\n",
      "Name: churn, dtype: float64\n",
      "y_test:\n",
      "1    73.0\n",
      "0    27.0\n",
      "Name: churn, dtype: float64\n",
      "\n"
     ]
    }
   ],
   "source": [
    "# проверка баланса классов в выборках\n",
    "print(f'''Баланс классов целевого признака:\n",
    "y_train:\n",
    "{round(y_train.value_counts()/len(y_train)*100)}\n",
    "y_test:\n",
    "{round(y_test.value_counts()/len(y_test)*100)}\n",
    "''')"
   ]
  },
  {
   "cell_type": "markdown",
   "id": "475c26cb",
   "metadata": {},
   "source": [
    "- Выделены обучающая и тестовая выборки.\n",
    "- Баланс классов в выборках сохранен."
   ]
  },
  {
   "cell_type": "markdown",
   "id": "4604e38c",
   "metadata": {},
   "source": [
    "__Pipeline для подготовки признаков__"
   ]
  },
  {
   "cell_type": "code",
   "execution_count": 59,
   "id": "855b8c94",
   "metadata": {},
   "outputs": [],
   "source": [
    "# трансформер для стандартизации числовых признаков\n",
    "numerical_transformer = Pipeline(steps=[\n",
    "    ('imputer', SimpleImputer(strategy='median')),\n",
    "    ('scaler', StandardScaler())\n",
    "])\n",
    "\n",
    "# трансформер для категориальных признаков\n",
    "categorical_transformer = Pipeline(steps=[\n",
    "    ('imputer', SimpleImputer(strategy='most_frequent')),\n",
    "    ('onehot', OneHotEncoder(handle_unknown='ignore'))\n",
    "])\n",
    "# columnTransformer\n",
    "preprocessor = ColumnTransformer(\n",
    "    transformers=[\n",
    "        ('num', numerical_transformer, numeric_columns),\n",
    "        ('cat', categorical_transformer, categorical_columns)\n",
    "    ])"
   ]
  },
  {
   "cell_type": "code",
   "execution_count": 60,
   "id": "baf21ea1",
   "metadata": {},
   "outputs": [],
   "source": [
    "# стандартизация данных для датасета со всеми признаками\n",
    "X_transformed_full = preprocessor.fit_transform(X_train_full)\n",
    "X_test_transformed_full = preprocessor.transform(X_test_full)\n",
    "# стандартизация данных для датасета с отобранными признъаками\n",
    "X_transformed = preprocessor.fit_transform(X_train)\n",
    "X_test_transformed = preprocessor.transform(X_test)"
   ]
  },
  {
   "cell_type": "code",
   "execution_count": 61,
   "id": "2b94a5b4",
   "metadata": {},
   "outputs": [],
   "source": [
    "# функция для вывода результатов подбора гиперпараметров Optuna\n",
    "def output_results(trial):\n",
    "    print('Результаты подборы параметров:')\n",
    "    print('  ROC-AUC:', round(trial.value, 3))\n",
    "    print('  Params: ')\n",
    "    for key, value in trial.params.items():\n",
    "        print(\"    {}: {}\".format(key, value))\n",
    "        \n",
    "# создаем объект StratifiedKFold для кроссвалидации\n",
    "cv = StratifiedKFold(n_splits=4, shuffle=True, random_state=RANDOM_SEED)"
   ]
  },
  {
   "cell_type": "code",
   "execution_count": 62,
   "id": "ee7dec5f",
   "metadata": {},
   "outputs": [],
   "source": [
    "# функция для рассчета метрики roc_auc\n",
    "def roc_auc(target, prob):\n",
    "    return roc_auc_score(target, prob[:, 1])"
   ]
  },
  {
   "cell_type": "markdown",
   "id": "32ade47f",
   "metadata": {},
   "source": [
    "<div style=\"padding:0px 20px 10px;\n",
    "            color:#004346;\n",
    "            font-size:15px;\n",
    "            display:fill;\n",
    "            text-align:center;\n",
    "            border-radius:20px;\n",
    "            border: 5px double;\n",
    "            border-color:#201E20;\n",
    "            background-color: #E8F1F2;\n",
    "            overflow:hidden;\n",
    "            font-weight:400\">\n",
    "\n",
    "#  Модели\n",
    "\n",
    "</div>\n",
    "\n",
    "__Проведем сравнительный анализ трех моделей, обученных на следующих алгоритмах:__\n",
    "- LogisticRegression\n",
    "- LGBMClassifier\n",
    "- CatBoostClassifier\n",
    "- Нейросеть Keras\n",
    "\n",
    "\n",
    "__Метрика качества:__ будет выступать __ROC-AUC__\n",
    "\n",
    "По скольку, данная метрика, является числовой интерпритацией оценок:\n",
    "- TPR полностью совпадает с полнотой, и показывает долю верно предсказанных классов у объектов, относящихся к положительному классу\n",
    "- FPR — это доля неправильно предсказанных классов среди объектов отрицательного класса.\n",
    "\n",
    "Что позволит оценить качество предсказаний на разных уровнях принятия решения о присвоении положительного класска(клиентов которые не откажутся от использования услуг)"
   ]
  },
  {
   "cell_type": "markdown",
   "id": "e5499e88",
   "metadata": {},
   "source": [
    "<div style=\"padding:0px 20px 10px;\n",
    "            color:#004346;\n",
    "            font-size:15px;\n",
    "            display:fill;\n",
    "            text-align:center;\n",
    "            border-radius:20px;\n",
    "            border: 5px double;\n",
    "            border-color:#201E20;\n",
    "            background-color: #E8F1F2;\n",
    "            overflow:hidden;\n",
    "            font-weight:400\">\n",
    "\n",
    "##  Baseline model\n",
    "\n",
    "</div>\n",
    "\n",
    "В качестве baseline модели используем константную модель (все объекты класса 0, соответствующего оставшимся клиентам)."
   ]
  },
  {
   "cell_type": "code",
   "execution_count": 63,
   "id": "5e833b5c",
   "metadata": {},
   "outputs": [
    {
     "name": "stdout",
     "output_type": "stream",
     "text": [
      "roc_auc для константной модели: 0.500\n"
     ]
    }
   ],
   "source": [
    "pred_bl = [0] * y_train.shape[0]\n",
    "roc_auc_bl = roc_auc_score(y_train.values, pred_bl)\n",
    "print(f\"roc_auc для константной модели: {roc_auc_bl:.3f}\")"
   ]
  },
  {
   "cell_type": "markdown",
   "id": "e45142c8",
   "metadata": {},
   "source": [
    "<div style=\"padding:0px 20px 10px;\n",
    "            color:#004346;\n",
    "            font-size:15px;\n",
    "            display:fill;\n",
    "            text-align:center;\n",
    "            border-radius:20px;\n",
    "            border: 5px double;\n",
    "            border-color:#201E20;\n",
    "            background-color: #E8F1F2;\n",
    "            overflow:hidden;\n",
    "            font-weight:400\">\n",
    "\n",
    "##  LogisticRegression\n",
    "\n",
    "</div>"
   ]
  },
  {
   "cell_type": "code",
   "execution_count": 68,
   "id": "9f8ddc95",
   "metadata": {},
   "outputs": [],
   "source": [
    "def objective(trial, X, y):\n",
    "    # определение гиперпараметров для подбора\n",
    "    solver = trial.suggest_categorical('solver', ['lbfgs', 'sag', 'newton-cg'])\n",
    "    C = trial.suggest_float('C', 1e-4, 1e2, log=True)\n",
    "    \n",
    "    # экземпляр модели LogisticRegression\n",
    "    model = LogisticRegression(\n",
    "        solver=solver,\n",
    "        C=C,\n",
    "        random_state=RANDOM_SEED,\n",
    "        max_iter=1000\n",
    "    )\n",
    "    \n",
    "    # кросс-валидация\n",
    "    rocauc = []\n",
    "    for train_idx, val_idx in cv.split(X, y):\n",
    "        X_train_fold, y_train_fold = X[train_idx], y.iloc[train_idx]\n",
    "        X_val_fold, y_val_fold = X[val_idx], y.iloc[val_idx]\n",
    "\n",
    "        # обучаем модель\n",
    "        model.fit(X_train_fold, y_train_fold)\n",
    "        # делаем предсказания на валидационном фолде\n",
    "        prob = model.predict_proba(X_val_fold)\n",
    "        # оцениваем метрику roc_auc на валидационном фолде и добавляем в список результатов\n",
    "        scor = roc_auc(y_val_fold, prob)\n",
    "        rocauc.append(scor)\n",
    "        \n",
    "    # сохранение наилучшей модели\n",
    "    if trial.should_prune():\n",
    "        raise optuna.TrialPruned()\n",
    "    trial.set_user_attr('best_model', model)\n",
    "    \n",
    "    return np.mean(rocauc)"
   ]
  },
  {
   "cell_type": "markdown",
   "id": "4fdcc786",
   "metadata": {},
   "source": [
    "__Подбор гиперпараметров для датасета со всеми признаками__"
   ]
  },
  {
   "cell_type": "code",
   "execution_count": null,
   "id": "cd1bde2e",
   "metadata": {},
   "outputs": [],
   "source": [
    "study_lr = optuna.create_study(direction='maximize')\n",
    "study_lr.optimize(lambda trial: objective(trial, X_transformed_full, y_train_full), n_trials=10)"
   ]
  },
  {
   "cell_type": "code",
   "execution_count": 70,
   "id": "2e8c6417",
   "metadata": {},
   "outputs": [
    {
     "name": "stdout",
     "output_type": "stream",
     "text": [
      "Результаты подборы параметров:\n",
      "  ROC-AUC: 0.838\n",
      "  Params: \n",
      "    solver: sag\n",
      "    C: 0.09114158164646975\n"
     ]
    }
   ],
   "source": [
    "# вывод результатов\n",
    "trial_lr_full = study_lr.best_trial\n",
    "best_mode_lr_full = trial_lr_full.user_attrs['best_model']\n",
    "output_results(trial_lr_full)"
   ]
  },
  {
   "cell_type": "markdown",
   "id": "81f84ca8",
   "metadata": {},
   "source": [
    "__Подбор гиперпараметров для датасета с отобранными признаками__"
   ]
  },
  {
   "cell_type": "code",
   "execution_count": null,
   "id": "785d8fe1",
   "metadata": {},
   "outputs": [],
   "source": [
    "study_lr = optuna.create_study(direction='maximize')\n",
    "study_lr.optimize(lambda trial: objective(trial, X_transformed, y_train), n_trials=10)"
   ]
  },
  {
   "cell_type": "code",
   "execution_count": 72,
   "id": "e92d7bef",
   "metadata": {},
   "outputs": [
    {
     "name": "stdout",
     "output_type": "stream",
     "text": [
      "Результаты подборы параметров:\n",
      "  ROC-AUC: 0.838\n",
      "  Params: \n",
      "    solver: lbfgs\n",
      "    C: 0.1312784036328748\n"
     ]
    }
   ],
   "source": [
    "# вывод результатов\n",
    "trial_lr = study_lr.best_trial\n",
    "best_mode_lr = trial_lr.user_attrs['best_model']\n",
    "output_results(trial_lr)"
   ]
  },
  {
   "cell_type": "markdown",
   "id": "f3a1163c",
   "metadata": {},
   "source": [
    ">Модель LogisticRegression, обученная с оптимальными гиперпараметрами, достигла ROC-AUC 0.838\n",
    ">\n",
    ">Эта модель демонстрирует хорошую способность разделять классы, предсказывая отток клиентов в датасете с высокой точностью."
   ]
  },
  {
   "cell_type": "markdown",
   "id": "92c8635e",
   "metadata": {},
   "source": [
    "<div style=\"padding:0px 20px 10px;\n",
    "            color:#004346;\n",
    "            font-size:15px;\n",
    "            display:fill;\n",
    "            text-align:center;\n",
    "            border-radius:20px;\n",
    "            border: 5px double;\n",
    "            border-color:#201E20;\n",
    "            background-color: #E8F1F2;\n",
    "            overflow:hidden;\n",
    "            font-weight:400\">\n",
    "\n",
    "##  LGBMClassifier\n",
    "\n",
    "</div>"
   ]
  },
  {
   "cell_type": "code",
   "execution_count": 73,
   "id": "81d40d2b",
   "metadata": {},
   "outputs": [],
   "source": [
    "def objective(trial, X, y):\n",
    "    # пространство поиска гиперпараметров\n",
    "    param_grid = {\n",
    "            'verbosity': -1,\n",
    "            'n_jobs': -1,\n",
    "            'n_estimators': 1000,\n",
    "            'colsample_bytree': trial.suggest_float('colsample_bytree', 0.01, 0.99),\n",
    "            'min_child_samples': trial.suggest_int('min_child_samples', 5, 105, step=10),\n",
    "            'max_depth': trial.suggest_int('max_depth', 2, 16, step=2),\n",
    "            'learning_rate': trial.suggest_float('l2_leaf_reg', 1e-3, 10, log=True)\n",
    "        }\n",
    "\n",
    "    # экземпляр модели LGBMClassifier\n",
    "    model = LGBMClassifier(**param_grid)\n",
    "    \n",
    "    # кросс-валидация\n",
    "    rocauc = []\n",
    "    for train_idx, val_idx in cv.split(X, y):\n",
    "        X_train_fold, y_train_fold = X[train_idx], y.iloc[train_idx]\n",
    "        X_val_fold, y_val_fold = X[val_idx], y.iloc[val_idx]\n",
    "\n",
    "        # обучаем модель\n",
    "        model.fit(X_train_fold, y_train_fold)\n",
    "        # делаем предсказания на валидационном фолде\n",
    "        prob = model.predict_proba(X_val_fold)\n",
    "        # оцениваем метрику roc_auc на валидационном фолде и добавляем в список результатов\n",
    "        scor = roc_auc(y_val_fold, prob)\n",
    "        rocauc.append(scor)\n",
    "         \n",
    "    # сохранение наилучшей модели\n",
    "    if trial.should_prune():\n",
    "        raise optuna.TrialPruned()\n",
    "    trial.set_user_attr('best_model', model)\n",
    "    \n",
    "    return np.mean(rocauc)"
   ]
  },
  {
   "cell_type": "markdown",
   "id": "fc50c865",
   "metadata": {},
   "source": [
    "__Подбор гиперпараметров для датасета со всеми признаками__"
   ]
  },
  {
   "cell_type": "code",
   "execution_count": null,
   "id": "8d5032cb",
   "metadata": {},
   "outputs": [],
   "source": [
    "study_lgbm = optuna.create_study(direction='maximize')\n",
    "study_lgbm.optimize(lambda trial: objective(trial, X_transformed_full, y_train_full), n_trials=20)"
   ]
  },
  {
   "cell_type": "code",
   "execution_count": 75,
   "id": "c0429923",
   "metadata": {
    "scrolled": true
   },
   "outputs": [
    {
     "name": "stdout",
     "output_type": "stream",
     "text": [
      "Результаты подборы параметров:\n",
      "  ROC-AUC: 0.846\n",
      "  Params: \n",
      "    colsample_bytree: 0.4032069840009419\n",
      "    min_child_samples: 75\n",
      "    max_depth: 6\n",
      "    l2_leaf_reg: 0.0014743292690149073\n"
     ]
    }
   ],
   "source": [
    "# вывод результатов\n",
    "trial_lgbm_full = study_lgbm.best_trial\n",
    "best_mode_lgbm_full = trial_lgbm_full.user_attrs['best_model']\n",
    "output_results(trial_lgbm_full)"
   ]
  },
  {
   "cell_type": "markdown",
   "id": "9a965942",
   "metadata": {},
   "source": [
    "__Подбор гиперпараметров для датасета с отобранными признаками__"
   ]
  },
  {
   "cell_type": "code",
   "execution_count": null,
   "id": "47631c49",
   "metadata": {},
   "outputs": [],
   "source": [
    "study_lgbm = optuna.create_study(direction='maximize')\n",
    "study_lgbm.optimize(lambda trial: objective(trial, X_transformed, y_train), n_trials=20)"
   ]
  },
  {
   "cell_type": "code",
   "execution_count": 83,
   "id": "f836bc8a",
   "metadata": {},
   "outputs": [
    {
     "name": "stdout",
     "output_type": "stream",
     "text": [
      "Результаты подборы параметров:\n",
      "  ROC-AUC: 0.847\n",
      "  Params: \n",
      "    feature_fraction: 0.28172911032760317\n",
      "    min_child_samples: 65\n",
      "    max_depth: 2\n",
      "    l2_leaf_reg: 0.011209635283131004\n"
     ]
    }
   ],
   "source": [
    "# вывод результатов\n",
    "trial_lgbm = study_lgbm.best_trial\n",
    "best_mode_lgbm = trial_lgbm_full.user_attrs['best_model']\n",
    "output_results(trial_lgbm)"
   ]
  },
  {
   "cell_type": "markdown",
   "id": "cc4336b1",
   "metadata": {},
   "source": [
    ">Модель LGBMClassifier, обученная с оптимальными гиперпараметрами, достигла ROC-AUC 0.846 и 0.847, для наборов данных со всеми признаками и с отобранными признаками, соответственно. Эта модель продемонстрировала высокую точность и способность разделять классы в датасете для задачи прогнозирования оттока клиентов. Результат свидетельствует о хорошей способности модели выявлять ушедших клиентов, что делает ее привлекательным вариантом для применения в практических задачах предсказания оттока клиентов."
   ]
  },
  {
   "cell_type": "markdown",
   "id": "7a417e67",
   "metadata": {},
   "source": [
    "<div style=\"padding:0px 20px 10px;\n",
    "            color:#004346;\n",
    "            font-size:15px;\n",
    "            display:fill;\n",
    "            text-align:center;\n",
    "            border-radius:20px;\n",
    "            border: 5px double;\n",
    "            border-color:#201E20;\n",
    "            background-color: #E8F1F2;\n",
    "            overflow:hidden;\n",
    "            font-weight:400\">\n",
    "\n",
    "##  CatBoostClassifier\n",
    "\n",
    "</div>\n",
    "\n",
    "Для обучения и подбора гиперпараметров модели, будем использовать нестандартизированные данные, по причине наличия встроенные, более совершенных методов кодирования и стандартизации."
   ]
  },
  {
   "cell_type": "code",
   "execution_count": 65,
   "id": "d174f0ca",
   "metadata": {},
   "outputs": [],
   "source": [
    "def objective(trial, X, y, cat_features):\n",
    "    # пространство поиска гиперпараметров\n",
    "    param_grid = {\n",
    "        'iterations': 1000,\n",
    "        'learning_rate': trial.suggest_float('learning_rate', 1e-6, 1e-0, log=True),\n",
    "        'depth': trial.suggest_int('depth', 2, 8, step=2),\n",
    "        'l2_leaf_reg': trial.suggest_float('l2_leaf_reg', 1e-3, 10, log=True),\n",
    "        'verbose': 0,\n",
    "        'random_seed': RANDOM_SEED \n",
    "    }\n",
    "\n",
    "    # экземпляр модели CatBoostClassifier\n",
    "    model = CatBoostClassifier(**param_grid)\n",
    "\n",
    "    # кросс-валидация\n",
    "    rocauc = []\n",
    "    for train_idx, val_idx in cv.split(X, y):\n",
    "        # разделение данных на обучающую и валидационную выборки\n",
    "        X_train_fold, X_val_fold = X.iloc[train_idx], X.iloc[val_idx]\n",
    "        y_train_fold, y_val_fold = y.iloc[train_idx], y.iloc[val_idx]\n",
    "\n",
    "        # обучение модели\n",
    "        train_pool = Pool(data=X_train_fold, label=y_train_fold, cat_features=cat_features)\n",
    "        val_pool = Pool(data=X_val_fold, label=y_val_fold, cat_features=cat_features)\n",
    "        model.fit(train_pool, eval_set=val_pool)\n",
    "        # делаем предсказания на валидационном фолде\n",
    "        prob = model.predict_proba(X_val_fold)\n",
    "        # оцениваем метрику roc_auc на валидационном фолде и добавляем в список результатов\n",
    "        scor = roc_auc(y_val_fold, prob)\n",
    "        rocauc.append(scor)\n",
    "\n",
    "\n",
    "    # сохранение наилучшей модели\n",
    "    if trial.should_prune():\n",
    "        raise optuna.TrialPruned()\n",
    "    trial.set_user_attr('best_model', model)\n",
    "\n",
    "    return np.mean(rocauc)"
   ]
  },
  {
   "cell_type": "markdown",
   "id": "cbf92b26",
   "metadata": {},
   "source": [
    "__Подбор гиперпараметров для датасета со всеми признаками__"
   ]
  },
  {
   "cell_type": "code",
   "execution_count": null,
   "id": "129c44da",
   "metadata": {},
   "outputs": [],
   "source": [
    "# подбор гиперпараметров\n",
    "study_cb = optuna.create_study(direction='maximize')\n",
    "study_cb.optimize(lambda trial: objective(trial, X_train_full, y_train_full, categorical_columns_full), n_trials=20)"
   ]
  },
  {
   "cell_type": "code",
   "execution_count": 67,
   "id": "3648b788",
   "metadata": {},
   "outputs": [
    {
     "name": "stdout",
     "output_type": "stream",
     "text": [
      "Результаты подборы параметров:\n",
      "  ROC-AUC: 0.85\n",
      "  Params: \n",
      "    learning_rate: 0.2839137961743786\n",
      "    depth: 2\n",
      "    l2_leaf_reg: 0.4185320177121988\n"
     ]
    }
   ],
   "source": [
    "# вывод результатов\n",
    "trial_cb_full = study_cb.best_trial\n",
    "best_mode_cb_full = trial_cb_full.user_attrs['best_model']\n",
    "output_results(trial_cb_full)"
   ]
  },
  {
   "cell_type": "markdown",
   "id": "88099165",
   "metadata": {},
   "source": [
    "__Подбор гиперпараметров для датасета с отобранными признаками__"
   ]
  },
  {
   "cell_type": "code",
   "execution_count": null,
   "id": "6e56d6ec",
   "metadata": {},
   "outputs": [],
   "source": [
    "# подбор гиперпараметров\n",
    "study_cb = optuna.create_study(direction='maximize')\n",
    "study_cb.optimize(lambda trial: objective(trial, X_train, y_train, categorical_columns), n_trials=20)"
   ]
  },
  {
   "cell_type": "code",
   "execution_count": 93,
   "id": "478144f7",
   "metadata": {},
   "outputs": [
    {
     "name": "stdout",
     "output_type": "stream",
     "text": [
      "Результаты подборы параметров:\n",
      "  ROC-AUC: 0.848\n",
      "  Params: \n",
      "    learning_rate: 0.17973306301808073\n",
      "    depth: 4\n",
      "    l2_leaf_reg: 1.2804858259162735\n"
     ]
    }
   ],
   "source": [
    "# вывод результатов\n",
    "trial_cb = study_cb.best_trial\n",
    "best_mode_cb = trial_cb.user_attrs['best_model']\n",
    "output_results(trial_cb)"
   ]
  },
  {
   "cell_type": "markdown",
   "id": "ae83fd70",
   "metadata": {},
   "source": [
    ">Модель CatBoostClassifier, обученная с оптимальными гиперпараметрами, достигла ROC-AUC 0.85 и 0.848, для наборов данных со всеми признаками и с отобранными признаками, соответственно. Эта модель продемонстрировала более высокую точность и способность определять классы в датасете. Результат свидетельствует о хорошей обобщающей способности модели, что делает ее оптимальным вариантом для применения в практических задачах предсказания оттока клиентов."
   ]
  },
  {
   "cell_type": "markdown",
   "id": "95d6a6d6",
   "metadata": {},
   "source": [
    "<div style=\"padding:0px 20px 10px;\n",
    "            color:#004346;\n",
    "            font-size:15px;\n",
    "            display:fill;\n",
    "            text-align:center;\n",
    "            border-radius:20px;\n",
    "            border: 5px double;\n",
    "            border-color:#201E20;\n",
    "            background-color: #E8F1F2;\n",
    "            overflow:hidden;\n",
    "            font-weight:400\">\n",
    "\n",
    "##  Нейросеть Keras\n",
    "\n",
    "</div>"
   ]
  },
  {
   "cell_type": "code",
   "execution_count": 68,
   "id": "cf0f1fc1",
   "metadata": {},
   "outputs": [],
   "source": [
    "# функция для создания модели с определенной функцией активации\n",
    "def create_model(neurons_1, neurons_2, neurons_3, activation_func_1, activation_func_2, activation_func_3):\n",
    "    model = Sequential()\n",
    "    model.add(Dense(neurons_1, activation=activation_func_1, kernel_initializer='uniform', input_shape=(X_transformed.shape[1],)))\n",
    "    model.add(Dense(neurons_2, activation=activation_func_2, kernel_initializer='uniform'))\n",
    "    model.add(Dense(neurons_3, activation=activation_func_3, kernel_initializer='uniform'))\n",
    "    model.add(Dense(1, activation='sigmoid', kernel_initializer='uniform'))\n",
    "\n",
    "    optimizer = tf.keras.optimizers.legacy.Adam(learning_rate=0.0001)\n",
    "    model.compile(optimizer=optimizer, loss='binary_crossentropy')\n",
    "    return model\n",
    "# функция для оптимизации\n",
    "def objective(trial, X, y):\n",
    "    activation_funcs = ['relu', 'sigmoid', 'tanh', 'elu']\n",
    "\n",
    "    activation_func_1 = trial.suggest_categorical('activation_func_1', activation_funcs)\n",
    "    activation_func_2 = trial.suggest_categorical('activation_func_2', activation_funcs)\n",
    "    activation_func_3 = trial.suggest_categorical('activation_func_3', activation_funcs)\n",
    "\n",
    "    neurons_1 = trial.suggest_int('neurons_1', 10, 100, step=10)\n",
    "    neurons_2 = trial.suggest_int('neurons_2', 10, 100, step=10)\n",
    "    neurons_3 = trial.suggest_int('neurons_3', 10, 100, step=10)\n",
    "\n",
    "    nn_model = KerasClassifier(\n",
    "        model=create_model, \n",
    "        neurons_1=neurons_1,\n",
    "        neurons_2=neurons_2,\n",
    "        neurons_3=neurons_3,\n",
    "        activation_func_1=activation_func_1,\n",
    "        activation_func_2=activation_func_2,\n",
    "        activation_func_3=activation_func_3,\n",
    "        epochs=100, \n",
    "        batch_size=32, \n",
    "        verbose=0, \n",
    "        random_state=RANDOM_SEED\n",
    "    )\n",
    "\n",
    "    \n",
    "    scores = cross_val_score(nn_model, X, y, cv=cv, scoring='roc_auc', verbose=0)\n",
    "    \n",
    "    return scores.mean()\n"
   ]
  },
  {
   "cell_type": "markdown",
   "id": "20a2fa19",
   "metadata": {},
   "source": [
    "__Подбор гиперпараметров для датасета со всеми признаками__"
   ]
  },
  {
   "cell_type": "code",
   "execution_count": null,
   "id": "5a0a6eff",
   "metadata": {},
   "outputs": [],
   "source": [
    "study_k_full = optuna.create_study(direction='maximize')\n",
    "study_k_full.optimize(lambda trial: objective(trial, X_transformed_full, y_train_full), n_trials=10)"
   ]
  },
  {
   "cell_type": "code",
   "execution_count": 67,
   "id": "d791bf65",
   "metadata": {},
   "outputs": [
    {
     "name": "stdout",
     "output_type": "stream",
     "text": [
      "Лучшие параметры: {'activation_func_1': 'tanh', 'activation_func_2': 'relu', 'activation_func_3': 'tanh', 'neurons_1': 100, 'neurons_2': 20, 'neurons_3': 50}\n",
      "Значение метрики наилучшей модели: 0.8407483068278523\n"
     ]
    }
   ],
   "source": [
    "# вывод результатов\n",
    "best_trial_k_full = study_k_full.best_trial\n",
    "print(f'Лучшие параметры: {best_trial_k_full.params}')\n",
    "print(f'Значение метрики наилучшей модели: {best_trial_k_full.value}')"
   ]
  },
  {
   "cell_type": "markdown",
   "id": "ffdfe7aa",
   "metadata": {},
   "source": [
    "__Подбор гиперпараметров для датасета с отобранными признаками__"
   ]
  },
  {
   "cell_type": "code",
   "execution_count": null,
   "id": "7b93f02c",
   "metadata": {},
   "outputs": [],
   "source": [
    "study_k = optuna.create_study(direction='maximize')\n",
    "study_k.optimize(lambda trial: objective(trial, X_transformed, y_train), n_trials=10)"
   ]
  },
  {
   "cell_type": "code",
   "execution_count": 70,
   "id": "87f40427",
   "metadata": {},
   "outputs": [
    {
     "name": "stdout",
     "output_type": "stream",
     "text": [
      "Лучшие параметры: {'activation_func_1': 'elu', 'activation_func_2': 'elu', 'activation_func_3': 'sigmoid', 'neurons_1': 80, 'neurons_2': 40, 'neurons_3': 50}\n",
      "Значение метрики наилучшей модели: 0.8402472863836501\n"
     ]
    }
   ],
   "source": [
    "# вывод результатов\n",
    "best_trial_k = study_k.best_trial\n",
    "print(f'Лучшие параметры: {best_trial_k.params}')\n",
    "print(f'Значение метрики наилучшей модели: {best_trial_k.value}')"
   ]
  },
  {
   "cell_type": "markdown",
   "id": "99c055ba",
   "metadata": {},
   "source": [
    ">Модель Keras, обученная с оптимальными гиперпараметрами, достигла ROC-AUC 0.841 и 0.84, для наборов данных со всеми признаками и с отобранными признаками, соответственно. Эта модель продемонстрировала более высокую точность и способность определять классы в датасете. Результат свидетельствует о хорошей обобщающей способности модели."
   ]
  },
  {
   "cell_type": "markdown",
   "id": "2042acf2",
   "metadata": {},
   "source": [
    "## Сводная таблица качества моделей"
   ]
  },
  {
   "cell_type": "code",
   "execution_count": 76,
   "id": "ffa61943",
   "metadata": {},
   "outputs": [
    {
     "data": {
      "text/html": [
       "<div>\n",
       "<style scoped>\n",
       "    .dataframe tbody tr th:only-of-type {\n",
       "        vertical-align: middle;\n",
       "    }\n",
       "\n",
       "    .dataframe tbody tr th {\n",
       "        vertical-align: top;\n",
       "    }\n",
       "\n",
       "    .dataframe thead th {\n",
       "        text-align: right;\n",
       "    }\n",
       "</style>\n",
       "<table border=\"1\" class=\"dataframe\">\n",
       "  <thead>\n",
       "    <tr style=\"text-align: right;\">\n",
       "      <th></th>\n",
       "      <th>Model</th>\n",
       "      <th>f1-micro</th>\n",
       "    </tr>\n",
       "  </thead>\n",
       "  <tbody>\n",
       "    <tr>\n",
       "      <th>0</th>\n",
       "      <td>Baseline</td>\n",
       "      <td>0.500</td>\n",
       "    </tr>\n",
       "    <tr>\n",
       "      <th>1</th>\n",
       "      <td>LogisticRegression full data</td>\n",
       "      <td>0.838</td>\n",
       "    </tr>\n",
       "    <tr>\n",
       "      <th>2</th>\n",
       "      <td>LogisticRegression</td>\n",
       "      <td>0.838</td>\n",
       "    </tr>\n",
       "    <tr>\n",
       "      <th>3</th>\n",
       "      <td>LightGBM  full data</td>\n",
       "      <td>0.846</td>\n",
       "    </tr>\n",
       "    <tr>\n",
       "      <th>4</th>\n",
       "      <td>LightGBM</td>\n",
       "      <td>0.847</td>\n",
       "    </tr>\n",
       "    <tr>\n",
       "      <th>5</th>\n",
       "      <td>CatBoost full data</td>\n",
       "      <td>0.850</td>\n",
       "    </tr>\n",
       "    <tr>\n",
       "      <th>6</th>\n",
       "      <td>CatBoost</td>\n",
       "      <td>0.848</td>\n",
       "    </tr>\n",
       "    <tr>\n",
       "      <th>7</th>\n",
       "      <td>Keras full data</td>\n",
       "      <td>0.841</td>\n",
       "    </tr>\n",
       "    <tr>\n",
       "      <th>8</th>\n",
       "      <td>Keras</td>\n",
       "      <td>0.840</td>\n",
       "    </tr>\n",
       "  </tbody>\n",
       "</table>\n",
       "</div>"
      ],
      "text/plain": [
       "                          Model  f1-micro\n",
       "0                      Baseline     0.500\n",
       "1  LogisticRegression full data     0.838\n",
       "2            LogisticRegression     0.838\n",
       "3           LightGBM  full data     0.846\n",
       "4                      LightGBM     0.847\n",
       "5            CatBoost full data     0.850\n",
       "6                      CatBoost     0.848\n",
       "7               Keras full data     0.841\n",
       "8                         Keras     0.840"
      ]
     },
     "metadata": {},
     "output_type": "display_data"
    }
   ],
   "source": [
    "data = {\n",
    "    'Model': ['Baseline', \n",
    "              'LogisticRegression full data', \n",
    "              'LogisticRegression',\n",
    "              'LightGBM  full data',\n",
    "              'LightGBM',\n",
    "              'CatBoost full data',\n",
    "              'CatBoost', \n",
    "              'Keras full data',\n",
    "              'Keras'],\n",
    "    'f1-micro': [0.5, 0.838, 0.838, 0.846, 0.847, 0.85, 0.848, 0.841, 0.84]\n",
    "    \n",
    "}\n",
    "display(pd.DataFrame(data))"
   ]
  },
  {
   "cell_type": "markdown",
   "id": "43d32b75",
   "metadata": {},
   "source": [
    ">Лучшая метрика качества получина при использовании CatBoost, обученная на всех данных.\n",
    ">\n",
    ">Используем данную модель, для получения предсказаний на тестовых данных"
   ]
  },
  {
   "cell_type": "markdown",
   "id": "c95af49a",
   "metadata": {},
   "source": [
    "<div style=\"padding:0px 20px 10px;\n",
    "            color:#004346;\n",
    "            font-size:15px;\n",
    "            display:fill;\n",
    "            text-align:center;\n",
    "            border-radius:20px;\n",
    "            border: 5px double;\n",
    "            border-color:#201E20;\n",
    "            background-color: #E8F1F2;\n",
    "            overflow:hidden;\n",
    "            font-weight:400\">\n",
    "\n",
    "# Определение оттока клиентов на тестовых данных.\n",
    "\n",
    "</div>\n",
    "\n",
    "Используем модель с лучшей метрикой качества на тестовых данных."
   ]
  },
  {
   "cell_type": "code",
   "execution_count": 77,
   "id": "2d44b64b",
   "metadata": {},
   "outputs": [
    {
     "name": "stderr",
     "output_type": "stream",
     "text": [
      "No handles with labels found to put in legend.\n"
     ]
    },
    {
     "name": "stdout",
     "output_type": "stream",
     "text": [
      "ROC AUC: 0.8504225033463427\n"
     ]
    },
    {
     "data": {
      "image/png": "[encoded data removed]",
      "text/plain": [
       "<Figure size 432x288 with 1 Axes>"
      ]
     },
     "metadata": {
      "needs_background": "light"
     },
     "output_type": "display_data"
    }
   ],
   "source": [
    "probs = best_mode_cb_full.predict_proba(X_test_full)[:, 1]\n",
    "# вычисление значений ROC curve\n",
    "fpr, tpr, thresholds = roc_curve(y_test_full, probs)\n",
    "\n",
    "# график ROC curve\n",
    "roc_display = RocCurveDisplay(fpr=fpr, tpr=tpr).plot()\n",
    "\n",
    "roc_auc = roc_auc_score(y_test_full, probs)\n",
    "print(f'ROC AUC: {roc_auc}')\n",
    "\n",
    "plt.show()"
   ]
  },
  {
   "cell_type": "markdown",
   "id": "61923e85",
   "metadata": {},
   "source": [
    "## Анализ важности факторов оттока книентов"
   ]
  },
  {
   "cell_type": "code",
   "execution_count": 78,
   "id": "9d6c644d",
   "metadata": {},
   "outputs": [
    {
     "data": {
      "image/png": "[encoded data removed]",
      "text/plain": [
       "<Figure size 576x626.4 with 2 Axes>"
      ]
     },
     "metadata": {
      "needs_background": "light"
     },
     "output_type": "display_data"
    }
   ],
   "source": [
    "explainer = shap.TreeExplainer(best_mode_cb_full)\n",
    "shap_values = explainer.shap_values(X_train_full)\n",
    "shap.summary_plot(shap_values, X_train_full)"
   ]
  },
  {
   "cell_type": "markdown",
   "id": "28969c1e",
   "metadata": {},
   "source": [
    "Исходя из графика важности признаков, наибольшим влиянием на оток клиентов оказывают:\n",
    "- `monthly_charges`/`total_charges` расходы за месяц, и как следствие общие расходы абонента. Чем ниже расходы, тем меньше вероятность ухода клиента.\n",
    "- `tenure_days` длятельность контракта. Чем дольше клиент пользуется услугами, тем меньше вероятность его ухода. \n",
    "\n"
   ]
  },
  {
   "cell_type": "markdown",
   "id": "03ba42d8",
   "metadata": {},
   "source": [
    "<div style=\"padding:0px 20px 10px;\n",
    "            color:#004346;\n",
    "            font-size:15px;\n",
    "            display:fill;\n",
    "            text-align:center;\n",
    "            border-radius:20px;\n",
    "            border: 5px double;\n",
    "            border-color:#201E20;\n",
    "            background-color: #E8F1F2;\n",
    "            overflow:hidden;\n",
    "            font-weight:400\">\n",
    "\n",
    "# Вывод\n",
    "\n",
    "</div>"
   ]
  },
  {
   "cell_type": "markdown",
   "id": "7d35a004",
   "metadata": {},
   "source": [
    "__Задача проекта:__ разработка модели для прогнозирования вероятности расторжения договора абонентом. Цель — предоставить оператору инструмент для предсказания намерений клиентов отказаться от услуг связи.\n",
    "\n",
    "__Этапы выполненной работы:__\n",
    "\n",
    "- Предобработка данных:\n",
    "\n",
    "     - Загружены данные из базы PostgreSQL, представленные в нескольких таблицах: contract, personal, internet, phone.\n",
    "     - Проведена первичная обработка данных: заполнение пропусков, обработка категориальных признаков, кодирование данных, а также объединение таблиц для подготовки к анализу и моделированию.\n",
    "     \n",
    "- Исследовательский анализ данных:\n",
    "\n",
    "    - Проведен анализ основных параметров и характеристик клиентов и их услуг. Рассмотрены типы услуг, предоставляемые оператором связи, а также предпочтения клиентов.\n",
    "    - Оценено влияние различных параметров на отток клиентов.\n",
    "    \n",
    "- Построение и оценка моделей:\n",
    "\n",
    "     - Разработаны модели машинного обучения для прогнозирования оттока клиентов. Использовались алгоритмы классификации с целью достижения максимальной метрики ROC-AUC.\n",
    "     - Проведена настройка гиперпараметров моделей.\n",
    "\n",
    "__Оценка качества моделей:__\n",
    "\n",
    "Модель, построенная на основе алгоритма CatBoost, продемонстрировала наилучшие результаты с метрикой ROC-AUC близкой к целевому значению.\n",
    "\n",
    "__Выводы:__\n",
    "\n",
    "В результате работы над проектом была разработана модель, способная прогнозировать вероятность расторжения договора абонентом с высокой точностью.\n",
    "\n",
    "Основная модель, основанная на алгоритме CatBoost, достигла макимальной метрики ROC-AUC, соответствующей требованиям заказчика.\n",
    "\n",
    "Веделены основные признаки, влияющие на факти ухода клиентов:\n",
    "- расходы\n",
    "- длительность контракта\n",
    "Исходя из этих данных, следует вывод: для уменьшения оттока клиентов, рекомендуется введение дополнительных скидок для новых пользователей.\n",
    "\n",
    "__Дальнейшие шаги:__\n",
    "\n",
    "Для улучшения модели рекомендуется дальнейший анализ ошибок и обобщение результатов, чтобы определить факторы, влияющие на отток клиентов.\n",
    "Возможно, стоит рассмотреть варианты добавления новых признаков или использования альтернативных методов машинного обучения для ещё более точного прогнозирования оттока клиентов."
   ]
  }
 ],
 "metadata": {
  "ExecuteTimeLog": [
   {
    "duration": 53,
    "start_time": "2023-10-30T15:03:30.379Z"
   },
   {
    "duration": 6985,
    "start_time": "2023-10-30T15:04:04.638Z"
   },
   {
    "duration": 1440,
    "start_time": "2023-10-30T15:04:16.722Z"
   },
   {
    "duration": 3239,
    "start_time": "2023-10-30T15:04:54.971Z"
   },
   {
    "duration": 15822,
    "start_time": "2023-10-30T15:05:03.515Z"
   },
   {
    "duration": 3513,
    "start_time": "2023-10-30T15:05:40.107Z"
   },
   {
    "duration": 1853,
    "start_time": "2023-10-30T15:05:49.160Z"
   },
   {
    "duration": 18,
    "start_time": "2023-10-30T15:06:50.888Z"
   },
   {
    "duration": 19,
    "start_time": "2023-10-30T15:08:53.537Z"
   },
   {
    "duration": 6698,
    "start_time": "2023-10-30T15:10:38.162Z"
   },
   {
    "duration": 392,
    "start_time": "2023-10-30T15:10:47.567Z"
   },
   {
    "duration": 81,
    "start_time": "2023-10-30T15:11:20.513Z"
   },
   {
    "duration": 4,
    "start_time": "2023-10-30T15:11:26.525Z"
   },
   {
    "duration": 44,
    "start_time": "2023-10-30T15:11:27.314Z"
   },
   {
    "duration": 3,
    "start_time": "2023-10-30T15:11:51.207Z"
   },
   {
    "duration": 53,
    "start_time": "2023-10-30T15:11:51.949Z"
   },
   {
    "duration": 218,
    "start_time": "2023-10-30T15:15:32.585Z"
   },
   {
    "duration": 3,
    "start_time": "2023-10-30T15:15:51.616Z"
   },
   {
    "duration": 6,
    "start_time": "2023-10-30T15:16:16.818Z"
   },
   {
    "duration": 42,
    "start_time": "2023-10-30T15:17:02.033Z"
   },
   {
    "duration": 38,
    "start_time": "2023-10-30T15:17:32.525Z"
   },
   {
    "duration": 13,
    "start_time": "2023-10-30T15:24:53.365Z"
   },
   {
    "duration": 24,
    "start_time": "2023-10-30T15:24:55.344Z"
   },
   {
    "duration": 10,
    "start_time": "2023-10-30T15:25:45.145Z"
   },
   {
    "duration": 14,
    "start_time": "2023-10-30T15:25:47.172Z"
   },
   {
    "duration": 6,
    "start_time": "2023-10-30T15:25:48.682Z"
   },
   {
    "duration": 5,
    "start_time": "2023-10-30T15:26:29.063Z"
   },
   {
    "duration": 14,
    "start_time": "2023-10-30T15:26:30.527Z"
   },
   {
    "duration": 35,
    "start_time": "2023-10-30T15:27:09.081Z"
   },
   {
    "duration": 19,
    "start_time": "2023-10-30T15:27:32.519Z"
   },
   {
    "duration": 5,
    "start_time": "2023-10-30T15:27:55.399Z"
   },
   {
    "duration": 5728,
    "start_time": "2023-10-31T11:35:39.629Z"
   },
   {
    "duration": 3083,
    "start_time": "2023-10-31T11:35:45.359Z"
   },
   {
    "duration": 3829,
    "start_time": "2023-10-31T11:35:48.445Z"
   },
   {
    "duration": 6899,
    "start_time": "2023-10-31T11:35:52.277Z"
   },
   {
    "duration": 19363,
    "start_time": "2023-10-31T11:35:59.178Z"
   },
   {
    "duration": 1,
    "start_time": "2023-10-31T11:36:18.543Z"
   },
   {
    "duration": 0,
    "start_time": "2023-10-31T11:36:18.545Z"
   },
   {
    "duration": 0,
    "start_time": "2023-10-31T11:36:18.547Z"
   },
   {
    "duration": 0,
    "start_time": "2023-10-31T11:36:18.548Z"
   },
   {
    "duration": 0,
    "start_time": "2023-10-31T11:36:18.549Z"
   },
   {
    "duration": 0,
    "start_time": "2023-10-31T11:36:18.550Z"
   },
   {
    "duration": 0,
    "start_time": "2023-10-31T11:36:18.551Z"
   },
   {
    "duration": 0,
    "start_time": "2023-10-31T11:36:18.553Z"
   },
   {
    "duration": 0,
    "start_time": "2023-10-31T11:36:18.554Z"
   },
   {
    "duration": 0,
    "start_time": "2023-10-31T11:36:18.556Z"
   },
   {
    "duration": 0,
    "start_time": "2023-10-31T11:36:18.557Z"
   },
   {
    "duration": 0,
    "start_time": "2023-10-31T11:36:18.558Z"
   },
   {
    "duration": 0,
    "start_time": "2023-10-31T11:36:18.560Z"
   },
   {
    "duration": 0,
    "start_time": "2023-10-31T11:36:18.561Z"
   },
   {
    "duration": 0,
    "start_time": "2023-10-31T11:36:18.563Z"
   },
   {
    "duration": 0,
    "start_time": "2023-10-31T11:36:18.564Z"
   },
   {
    "duration": 0,
    "start_time": "2023-10-31T11:36:18.565Z"
   },
   {
    "duration": 0,
    "start_time": "2023-10-31T11:36:18.602Z"
   },
   {
    "duration": 0,
    "start_time": "2023-10-31T11:36:18.603Z"
   },
   {
    "duration": 0,
    "start_time": "2023-10-31T11:36:18.604Z"
   },
   {
    "duration": 4169,
    "start_time": "2023-10-31T11:37:11.754Z"
   },
   {
    "duration": 3417,
    "start_time": "2023-10-31T11:37:19.089Z"
   },
   {
    "duration": 74,
    "start_time": "2023-10-31T11:37:27.773Z"
   },
   {
    "duration": 5,
    "start_time": "2023-10-31T11:37:28.705Z"
   },
   {
    "duration": 42,
    "start_time": "2023-10-31T11:37:28.906Z"
   },
   {
    "duration": 3,
    "start_time": "2023-10-31T11:37:30.056Z"
   },
   {
    "duration": 55,
    "start_time": "2023-10-31T11:37:30.955Z"
   },
   {
    "duration": 222,
    "start_time": "2023-10-31T11:37:32.155Z"
   },
   {
    "duration": 2,
    "start_time": "2023-10-31T11:37:32.379Z"
   },
   {
    "duration": 4,
    "start_time": "2023-10-31T11:37:33.209Z"
   },
   {
    "duration": 36,
    "start_time": "2023-10-31T11:37:33.538Z"
   },
   {
    "duration": 42,
    "start_time": "2023-10-31T11:37:34.601Z"
   },
   {
    "duration": 14,
    "start_time": "2023-10-31T11:37:35.587Z"
   },
   {
    "duration": 17,
    "start_time": "2023-10-31T11:37:36.263Z"
   },
   {
    "duration": 10,
    "start_time": "2023-10-31T11:37:36.759Z"
   },
   {
    "duration": 13,
    "start_time": "2023-10-31T11:37:37.106Z"
   },
   {
    "duration": 6,
    "start_time": "2023-10-31T11:37:37.484Z"
   },
   {
    "duration": 6,
    "start_time": "2023-10-31T11:37:38.433Z"
   },
   {
    "duration": 14,
    "start_time": "2023-10-31T11:37:38.893Z"
   },
   {
    "duration": 5,
    "start_time": "2023-10-31T11:37:39.709Z"
   },
   {
    "duration": 87,
    "start_time": "2023-10-31T11:37:40.156Z"
   },
   {
    "duration": 26,
    "start_time": "2023-10-31T11:37:40.728Z"
   },
   {
    "duration": 328,
    "start_time": "2023-10-31T11:41:39.565Z"
   },
   {
    "duration": 6,
    "start_time": "2023-10-31T11:41:49.776Z"
   },
   {
    "duration": 6,
    "start_time": "2023-10-31T11:41:56.898Z"
   },
   {
    "duration": 6,
    "start_time": "2023-10-31T11:42:05.244Z"
   },
   {
    "duration": 6,
    "start_time": "2023-10-31T11:42:13.751Z"
   },
   {
    "duration": 177,
    "start_time": "2023-10-31T11:44:52.454Z"
   },
   {
    "duration": 26,
    "start_time": "2023-10-31T11:45:25.003Z"
   },
   {
    "duration": 3,
    "start_time": "2023-10-31T11:45:26.210Z"
   },
   {
    "duration": 18,
    "start_time": "2023-10-31T11:45:26.882Z"
   },
   {
    "duration": 21,
    "start_time": "2023-10-31T11:45:28.120Z"
   },
   {
    "duration": 459,
    "start_time": "2023-10-31T11:45:28.310Z"
   },
   {
    "duration": 4,
    "start_time": "2023-10-31T11:46:07.340Z"
   },
   {
    "duration": 13,
    "start_time": "2023-10-31T11:46:08.011Z"
   },
   {
    "duration": 20,
    "start_time": "2023-10-31T11:46:11.195Z"
   },
   {
    "duration": 7,
    "start_time": "2023-10-31T11:46:12.356Z"
   },
   {
    "duration": 500,
    "start_time": "2023-10-31T11:46:13.848Z"
   },
   {
    "duration": 21,
    "start_time": "2023-10-31T11:46:15.823Z"
   },
   {
    "duration": 8,
    "start_time": "2023-10-31T11:46:16.148Z"
   },
   {
    "duration": 684,
    "start_time": "2023-10-31T11:46:16.671Z"
   },
   {
    "duration": 17,
    "start_time": "2023-10-31T11:46:17.579Z"
   },
   {
    "duration": 9,
    "start_time": "2023-10-31T11:46:18.082Z"
   },
   {
    "duration": 126,
    "start_time": "2023-10-31T11:46:18.698Z"
   },
   {
    "duration": 30,
    "start_time": "2023-10-31T11:46:19.546Z"
   },
   {
    "duration": 21,
    "start_time": "2023-10-31T11:46:19.957Z"
   },
   {
    "duration": 26,
    "start_time": "2023-10-31T11:46:20.557Z"
   },
   {
    "duration": 80,
    "start_time": "2023-10-31T11:46:21.401Z"
   },
   {
    "duration": 3510,
    "start_time": "2023-10-31T11:46:27.384Z"
   },
   {
    "duration": 9,
    "start_time": "2023-10-31T11:46:36.462Z"
   },
   {
    "duration": 14,
    "start_time": "2023-10-31T11:51:06.919Z"
   },
   {
    "duration": 18,
    "start_time": "2023-10-31T11:51:08.387Z"
   },
   {
    "duration": 7,
    "start_time": "2023-10-31T11:51:09.617Z"
   },
   {
    "duration": 4,
    "start_time": "2023-10-31T11:51:13.882Z"
   },
   {
    "duration": 123,
    "start_time": "2023-10-31T11:51:17.702Z"
   },
   {
    "duration": 3,
    "start_time": "2023-10-31T11:51:21.178Z"
   },
   {
    "duration": 3,
    "start_time": "2023-10-31T11:51:21.700Z"
   },
   {
    "duration": 8,
    "start_time": "2023-10-31T11:51:25.710Z"
   },
   {
    "duration": 6,
    "start_time": "2023-10-31T11:51:27.351Z"
   },
   {
    "duration": 7,
    "start_time": "2023-10-31T11:54:57.323Z"
   },
   {
    "duration": 804449,
    "start_time": "2023-10-31T11:54:58.994Z"
   },
   {
    "duration": 4,
    "start_time": "2023-10-31T12:08:23.445Z"
   },
   {
    "duration": 6,
    "start_time": "2023-10-31T12:09:58.674Z"
   },
   {
    "duration": 14124,
    "start_time": "2023-10-31T12:10:00.379Z"
   },
   {
    "duration": 93,
    "start_time": "2023-10-31T12:10:14.510Z"
   },
   {
    "duration": 14344,
    "start_time": "2023-10-31T12:10:23.658Z"
   },
   {
    "duration": 6,
    "start_time": "2023-10-31T12:10:38.100Z"
   },
   {
    "duration": 6,
    "start_time": "2023-10-31T12:11:56.706Z"
   },
   {
    "duration": 545130,
    "start_time": "2023-10-31T12:12:15.586Z"
   },
   {
    "duration": 345,
    "start_time": "2023-10-31T12:30:06.167Z"
   },
   {
    "duration": 55,
    "start_time": "2023-10-31T12:30:20.190Z"
   },
   {
    "duration": 159,
    "start_time": "2023-10-31T12:30:43.745Z"
   },
   {
    "duration": 1822,
    "start_time": "2023-10-31T12:30:57.160Z"
   }
  ],
  "kernelspec": {
   "display_name": "Python 3 (ipykernel)",
   "language": "python",
   "name": "python3"
  },
  "language_info": {
   "codemirror_mode": {
    "name": "ipython",
    "version": 3
   },
   "file_extension": ".py",
   "mimetype": "text/x-python",
   "name": "python",
   "nbconvert_exporter": "python",
   "pygments_lexer": "ipython3",
   "version": "3.10.9"
  },
  "toc": {
   "base_numbering": 1,
   "nav_menu": {},
   "number_sections": true,
   "sideBar": true,
   "skip_h1_title": false,
   "title_cell": "Table of Contents",
   "title_sidebar": "Contents",
   "toc_cell": false,
   "toc_position": {},
   "toc_section_display": true,
   "toc_window_display": false
  }
 },
 "nbformat": 4,
 "nbformat_minor": 5
}
