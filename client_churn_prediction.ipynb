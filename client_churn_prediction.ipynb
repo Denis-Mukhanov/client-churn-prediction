{
 "cells": [
  {
   "cell_type": "markdown",
   "id": "f673414b",
   "metadata": {},
   "source": [
    "[![image-1.png](https://i.postimg.cc/Vk3VrVXM/image-1.png)](https://postimg.cc/v4tzCXqH)"
   ]
  },
  {
   "cell_type": "markdown",
   "id": "8820f9ef",
   "metadata": {},
   "source": [
    "<div style=\"padding:15px 20px 20px 20px;\n",
    "            color:#004346;\n",
    "            font-size:40px;\n",
    "            display:fill;\n",
    "            text-align:center;\n",
    "            border-radius:20px;\n",
    "            border: 5px double;\n",
    "            border-color:#201E20;\n",
    "            background-color: #E8F1F2;\n",
    "            overflow:hidden;\n",
    "            font-weight:400\">\n",
    "<p style=\"font-weight: bold; text-align: center;\">Прогнозирование оттока клиентов</p>\n",
    "\n",
    "</div>"
   ]
  },
  {
   "cell_type": "markdown",
   "id": "1af69929",
   "metadata": {},
   "source": [
    "<div style=\"padding:0px 40px 30px;\n",
    "            color:#004346;\n",
    "            font-size:110%;\n",
    "            display:fill;\n",
    "            border-radius:20px;\n",
    "            border: 5px double;\n",
    "            border-color:#201E20;\n",
    "            background-color: #E8F1F2;\n",
    "            overflow:hidden;\n",
    "            font-weight:450;\">\n",
    "    \n",
    "__Заказчик:__ Оператор связи «ТелеДом».\n",
    "    \n",
    "__Описание задачи:__ Для борьбы с оттоком клиентов, сотрудники компании будут предлагать промокоды и специальные условия тем абонентам, которые имеют намерение прекратить пользоваться услугами связи. Это позволит заранее выявлять пользователей, склонных к расторжению договора.\n",
    "\n",
    "__Постановка задачи:__ Разработать модель для прогнозирования вероятности расторжения договора абонентом.\n",
    "    \n",
    "__Оценка качества модели:__ Метрики ROC-AUC, значение должно быть не менее 0.85. \n",
    "\n",
    "__Описание услуг компании:__ Оператор предоставляет два основных типа услуг:\n",
    "    \n",
    "- Стационарную телефонную связь. Телефон можно подключить к нескольким линиям одновременно.\n",
    "- Интернет. Подключение бывает двух типов: через телефонную линию DSL (англ. digital subscriber line — «цифровая абонентская линия») или оптоволоконный кабель (англ. fiber optic).\n",
    "    \n",
    "Также абонентам доступен ряд дополнительных услуг:\n",
    "    \n",
    "- Интернет-безопасность: антивирус (Device Protection) и блокировка опасных сайтов (Online Security);\n",
    "- Выделенная линия технической поддержки (Tech Support);\n",
    "- Облачное хранилище файлов для резервного копирования данных (Online Backup);\n",
    "- Стриминговое телевидение (Streaming TV) и каталог фильмов (Streaming Movies).\n",
    "    \n",
    "За услуги клиенты могут платить ежемесячно или раз в 1–2 года. Доступны различные способы расчёта и возможность получить электронный чек.\n",
    "    \n",
    "__Описание данных:__ персональные данные о некоторых клиентах, информация об их тарифах и услугах.\n",
    " \n",
    "Данные хранятся в базе данных PostgreSQL. Она состоит из нескольких [таблиц](https://github.com/Denis-Mukhanov/client-churn-prediction/blob/main/data/data%20description.pdf):\n",
    "    \n",
    "- `contract` — информация о договорах;\n",
    "- `personal` — персональные данные клиентов;\n",
    "- `internet` — информация об интернет-услугах;\n",
    "- `phone` — информация об услугах телефонии.\n",
    "\n",
    "\n",
    "</div>    "
   ]
  },
  {
   "cell_type": "markdown",
   "id": "deeafe8c",
   "metadata": {},
   "source": [
    "<div style=\"padding:0px 20px 10px;\n",
    "            color:#004346;\n",
    "            font-size:15px;\n",
    "            display:fill;\n",
    "            text-align:center;\n",
    "            border-radius:20px;\n",
    "            border: 5px double;\n",
    "            border-color:#201E20;\n",
    "            background-color: #E8F1F2;\n",
    "            overflow:hidden;\n",
    "            font-weight:400\">\n",
    "\n",
    "# Используемые библиотеки\n",
    "\n",
    "</div>"
   ]
  },
  {
   "cell_type": "code",
   "execution_count": 1,
   "id": "e2a5ca26",
   "metadata": {},
   "outputs": [],
   "source": [
    "from rich.console import Console\n",
    "import numpy as np\n",
    "import pandas as pd\n",
    "import random\n",
    "import matplotlib.pyplot as plt\n",
    "import seaborn as sns\n",
    "\n",
    "import phik\n",
    "import psycopg2\n",
    "import sqlalchemy\n",
    "from sqlalchemy import create_engine\n",
    "\n",
    "# константы\n",
    "RANDOM_SEED = 181023\n",
    "\n",
    "# настройки блокнота\n",
    "pd.options.display.max_colwidth = 500\n",
    "random.seed(RANDOM_SEED)\n",
    "\n",
    "# экземпляр консоли\n",
    "console = Console()"
   ]
  },
  {
   "cell_type": "markdown",
   "id": "47f796cd",
   "metadata": {},
   "source": [
    "## Подключение к базе данных"
   ]
  },
  {
   "cell_type": "code",
   "execution_count": 2,
   "id": "a48caf56",
   "metadata": {},
   "outputs": [],
   "source": [
    "# конфигурация для подключения к базе данных\n",
    "db_config = {\n",
    "    'user': 'praktikum_student',# имя пользователя,\n",
    "    'pwd': 'Sdf4$2;d-d30pp',# пароль,\n",
    "    'host': 'rc1b-wcoijxj3yxfsf3fs.mdb.yandexcloud.net',\n",
    "    'port': 6432,# порт подключения,\n",
    "    'db': 'data-science-final'# название базы данных,\n",
    "} \n",
    "\n",
    "# создание подключения к базе данных\n",
    "connection = psycopg2.connect(\n",
    "    user=db_config['user'],\n",
    "    password=db_config['pwd'],\n",
    "    host=db_config['host'],\n",
    "    port=db_config['port'],\n",
    "    database=db_config['db']\n",
    ")\n",
    "\n",
    "# создаем курсора для выполнения запросов\n",
    "cursor = connection.cursor()"
   ]
  },
  {
   "cell_type": "markdown",
   "id": "35e2533b",
   "metadata": {},
   "source": [
    "__функция для выполнения запросов__"
   ]
  },
  {
   "cell_type": "code",
   "execution_count": 3,
   "id": "5c982e4d",
   "metadata": {},
   "outputs": [],
   "source": [
    "# функция для выполнения запросов\n",
    "def request(query):\n",
    "    try:\n",
    "        cursor.execute(query)\n",
    "        result = cursor.fetchall()\n",
    "        result_df = pd.DataFrame(result, columns=[desc[0] for desc in cursor.description])\n",
    "        return result_df\n",
    "    except Exception as e:\n",
    "        print(f'Error: {e}')\n",
    "        connection.rollback()  # откат транзакции, для избежания блокировки"
   ]
  },
  {
   "cell_type": "code",
   "execution_count": 4,
   "id": "910d3e71",
   "metadata": {},
   "outputs": [
    {
     "data": {
      "text/html": [
       "<div>\n",
       "<style scoped>\n",
       "    .dataframe tbody tr th:only-of-type {\n",
       "        vertical-align: middle;\n",
       "    }\n",
       "\n",
       "    .dataframe tbody tr th {\n",
       "        vertical-align: top;\n",
       "    }\n",
       "\n",
       "    .dataframe thead th {\n",
       "        text-align: right;\n",
       "    }\n",
       "</style>\n",
       "<table border=\"1\" class=\"dataframe\">\n",
       "  <thead>\n",
       "    <tr style=\"text-align: right;\">\n",
       "      <th></th>\n",
       "      <th>customerID</th>\n",
       "      <th>BeginDate</th>\n",
       "      <th>EndDate</th>\n",
       "      <th>Type</th>\n",
       "      <th>PaperlessBilling</th>\n",
       "      <th>PaymentMethod</th>\n",
       "      <th>MonthlyCharges</th>\n",
       "      <th>TotalCharges</th>\n",
       "    </tr>\n",
       "  </thead>\n",
       "  <tbody>\n",
       "    <tr>\n",
       "      <th>0</th>\n",
       "      <td>4472-LVYGI</td>\n",
       "      <td>2020-02-01</td>\n",
       "      <td>None</td>\n",
       "      <td>Two year</td>\n",
       "      <td>Yes</td>\n",
       "      <td>Bank transfer (automatic)</td>\n",
       "      <td>52.55</td>\n",
       "      <td>None</td>\n",
       "    </tr>\n",
       "  </tbody>\n",
       "</table>\n",
       "</div>"
      ],
      "text/plain": [
       "   customerID   BeginDate EndDate      Type PaperlessBilling  \\\n",
       "0  4472-LVYGI  2020-02-01    None  Two year              Yes   \n",
       "\n",
       "               PaymentMethod MonthlyCharges TotalCharges  \n",
       "0  Bank transfer (automatic)          52.55         None  "
      ]
     },
     "metadata": {},
     "output_type": "display_data"
    }
   ],
   "source": [
    "# тестовый запрос\n",
    "query = '''\n",
    "SELECT *\n",
    "FROM telecom.contract\n",
    "LIMIT 1;\n",
    "'''\n",
    "display(request(query))"
   ]
  },
  {
   "cell_type": "markdown",
   "id": "02b08c80",
   "metadata": {},
   "source": [
    "<div style=\"padding:0px 20px 10px;\n",
    "            color:#004346;\n",
    "            font-size:15px;\n",
    "            display:fill;\n",
    "            text-align:center;\n",
    "            border-radius:20px;\n",
    "            border: 5px double;\n",
    "            border-color:#201E20;\n",
    "            background-color: #E8F1F2;\n",
    "            overflow:hidden;\n",
    "            font-weight:400\">\n",
    "\n",
    "# Первичное исследование таблиц базы данных\n",
    "\n",
    "</div>"
   ]
  },
  {
   "cell_type": "markdown",
   "id": "a63378b3",
   "metadata": {},
   "source": [
    "__Проверим таблицы на наличие данных__"
   ]
  },
  {
   "cell_type": "code",
   "execution_count": 5,
   "id": "613f58ae",
   "metadata": {},
   "outputs": [],
   "source": [
    "# список всех таблиц\n",
    "tables = ['contract', 'personal', 'internet', 'phone']"
   ]
  },
  {
   "cell_type": "code",
   "execution_count": 6,
   "id": "f656908f",
   "metadata": {},
   "outputs": [
    {
     "name": "stdout",
     "output_type": "stream",
     "text": [
      "Количество записей в таблице contract: 7043\n",
      "Количество записей в таблице personal: 7043\n",
      "Количество записей в таблице internet: 5518\n",
      "Количество записей в таблице phone: 6362\n"
     ]
    }
   ],
   "source": [
    "for table in tables:\n",
    "    query = f'SELECT COUNT(*) FROM telecom.{table};'\n",
    "    contract_count = request(query).iloc[0][0]\n",
    "    print(f'Количество записей в таблице {table}: {contract_count}')\n"
   ]
  },
  {
   "cell_type": "markdown",
   "id": "3e43e899",
   "metadata": {},
   "source": [
    ">Все четыре таблицы доступны и содержат данные, \n",
    ">Количество записей  в таблицах \"contract\" и \"personal\" одинаковы, что соответствует условию задачи,\n",
    ">Таблицы \"internet\" и \"phone\" имеют различное количество записей, что может быть связани, что не все пользователь пользуются одновременно интернет и услугами телефонии,\n",
    ">Количество записей невилико и мы можем выгрузить таблицы, для дальнейшего анализа."
   ]
  },
  {
   "cell_type": "markdown",
   "id": "515b5043",
   "metadata": {},
   "source": [
    "## Выгрузка таблиц базы данных"
   ]
  },
  {
   "cell_type": "code",
   "execution_count": 7,
   "id": "8b7c02cd",
   "metadata": {},
   "outputs": [
    {
     "data": {
      "text/html": [
       "<pre style=\"white-space:pre;overflow-x:auto;line-height:normal;font-family:Menlo,'DejaVu Sans Mono',consolas,'Courier New',monospace\"><span style=\"font-weight: bold\">Датасет с информацией о договорах</span>\n",
       "</pre>\n"
      ],
      "text/plain": [
       "\u001b[1mДатасет с информацией о договорах\u001b[0m\n"
      ]
     },
     "metadata": {},
     "output_type": "display_data"
    },
    {
     "data": {
      "text/html": [
       "<div>\n",
       "<style scoped>\n",
       "    .dataframe tbody tr th:only-of-type {\n",
       "        vertical-align: middle;\n",
       "    }\n",
       "\n",
       "    .dataframe tbody tr th {\n",
       "        vertical-align: top;\n",
       "    }\n",
       "\n",
       "    .dataframe thead th {\n",
       "        text-align: right;\n",
       "    }\n",
       "</style>\n",
       "<table border=\"1\" class=\"dataframe\">\n",
       "  <thead>\n",
       "    <tr style=\"text-align: right;\">\n",
       "      <th></th>\n",
       "      <th>customerID</th>\n",
       "      <th>BeginDate</th>\n",
       "      <th>EndDate</th>\n",
       "      <th>Type</th>\n",
       "      <th>PaperlessBilling</th>\n",
       "      <th>PaymentMethod</th>\n",
       "      <th>MonthlyCharges</th>\n",
       "      <th>TotalCharges</th>\n",
       "    </tr>\n",
       "  </thead>\n",
       "  <tbody>\n",
       "    <tr>\n",
       "      <th>0</th>\n",
       "      <td>4472-LVYGI</td>\n",
       "      <td>2020-02-01</td>\n",
       "      <td>None</td>\n",
       "      <td>Two year</td>\n",
       "      <td>Yes</td>\n",
       "      <td>Bank transfer (automatic)</td>\n",
       "      <td>52.55</td>\n",
       "      <td>None</td>\n",
       "    </tr>\n",
       "    <tr>\n",
       "      <th>1</th>\n",
       "      <td>3115-CZMZD</td>\n",
       "      <td>2020-02-01</td>\n",
       "      <td>None</td>\n",
       "      <td>Two year</td>\n",
       "      <td>No</td>\n",
       "      <td>Mailed check</td>\n",
       "      <td>20.25</td>\n",
       "      <td>None</td>\n",
       "    </tr>\n",
       "  </tbody>\n",
       "</table>\n",
       "</div>"
      ],
      "text/plain": [
       "   customerID   BeginDate EndDate      Type PaperlessBilling  \\\n",
       "0  4472-LVYGI  2020-02-01    None  Two year              Yes   \n",
       "1  3115-CZMZD  2020-02-01    None  Two year               No   \n",
       "\n",
       "               PaymentMethod MonthlyCharges TotalCharges  \n",
       "0  Bank transfer (automatic)          52.55         None  \n",
       "1               Mailed check          20.25         None  "
      ]
     },
     "metadata": {},
     "output_type": "display_data"
    },
    {
     "name": "stdout",
     "output_type": "stream",
     "text": [
      "<class 'pandas.core.frame.DataFrame'>\n",
      "RangeIndex: 7043 entries, 0 to 7042\n",
      "Data columns (total 8 columns):\n",
      " #   Column            Non-Null Count  Dtype \n",
      "---  ------            --------------  ----- \n",
      " 0   customerID        7043 non-null   object\n",
      " 1   BeginDate         7043 non-null   object\n",
      " 2   EndDate           1869 non-null   object\n",
      " 3   Type              7043 non-null   object\n",
      " 4   PaperlessBilling  7043 non-null   object\n",
      " 5   PaymentMethod     7043 non-null   object\n",
      " 6   MonthlyCharges    7043 non-null   object\n",
      " 7   TotalCharges      7032 non-null   object\n",
      "dtypes: object(8)\n",
      "memory usage: 440.3+ KB\n"
     ]
    },
    {
     "data": {
      "text/plain": [
       "None"
      ]
     },
     "metadata": {},
     "output_type": "display_data"
    },
    {
     "data": {
      "text/html": [
       "<pre style=\"white-space:pre;overflow-x:auto;line-height:normal;font-family:Menlo,'DejaVu Sans Mono',consolas,'Courier New',monospace\"><span style=\"font-weight: bold\">Датасет с информацией о персональных данных клиентов</span>\n",
       "</pre>\n"
      ],
      "text/plain": [
       "\u001b[1mДатасет с информацией о персональных данных клиентов\u001b[0m\n"
      ]
     },
     "metadata": {},
     "output_type": "display_data"
    },
    {
     "data": {
      "text/html": [
       "<div>\n",
       "<style scoped>\n",
       "    .dataframe tbody tr th:only-of-type {\n",
       "        vertical-align: middle;\n",
       "    }\n",
       "\n",
       "    .dataframe tbody tr th {\n",
       "        vertical-align: top;\n",
       "    }\n",
       "\n",
       "    .dataframe thead th {\n",
       "        text-align: right;\n",
       "    }\n",
       "</style>\n",
       "<table border=\"1\" class=\"dataframe\">\n",
       "  <thead>\n",
       "    <tr style=\"text-align: right;\">\n",
       "      <th></th>\n",
       "      <th>customerID</th>\n",
       "      <th>gender</th>\n",
       "      <th>SeniorCitizen</th>\n",
       "      <th>Partner</th>\n",
       "      <th>Dependents</th>\n",
       "    </tr>\n",
       "  </thead>\n",
       "  <tbody>\n",
       "    <tr>\n",
       "      <th>0</th>\n",
       "      <td>7590-VHVEG</td>\n",
       "      <td>Female</td>\n",
       "      <td>0</td>\n",
       "      <td>Yes</td>\n",
       "      <td>No</td>\n",
       "    </tr>\n",
       "    <tr>\n",
       "      <th>1</th>\n",
       "      <td>5575-GNVDE</td>\n",
       "      <td>Male</td>\n",
       "      <td>0</td>\n",
       "      <td>No</td>\n",
       "      <td>No</td>\n",
       "    </tr>\n",
       "  </tbody>\n",
       "</table>\n",
       "</div>"
      ],
      "text/plain": [
       "   customerID  gender  SeniorCitizen Partner Dependents\n",
       "0  7590-VHVEG  Female              0     Yes         No\n",
       "1  5575-GNVDE    Male              0      No         No"
      ]
     },
     "metadata": {},
     "output_type": "display_data"
    },
    {
     "name": "stdout",
     "output_type": "stream",
     "text": [
      "<class 'pandas.core.frame.DataFrame'>\n",
      "RangeIndex: 7043 entries, 0 to 7042\n",
      "Data columns (total 5 columns):\n",
      " #   Column         Non-Null Count  Dtype \n",
      "---  ------         --------------  ----- \n",
      " 0   customerID     7043 non-null   object\n",
      " 1   gender         7043 non-null   object\n",
      " 2   SeniorCitizen  7043 non-null   int64 \n",
      " 3   Partner        7043 non-null   object\n",
      " 4   Dependents     7043 non-null   object\n",
      "dtypes: int64(1), object(4)\n",
      "memory usage: 275.2+ KB\n"
     ]
    },
    {
     "data": {
      "text/plain": [
       "None"
      ]
     },
     "metadata": {},
     "output_type": "display_data"
    },
    {
     "data": {
      "text/html": [
       "<pre style=\"white-space:pre;overflow-x:auto;line-height:normal;font-family:Menlo,'DejaVu Sans Mono',consolas,'Courier New',monospace\"><span style=\"font-weight: bold\">Датасет с информацией об интернет-услугах</span>\n",
       "</pre>\n"
      ],
      "text/plain": [
       "\u001b[1mДатасет с информацией об интернет-услугах\u001b[0m\n"
      ]
     },
     "metadata": {},
     "output_type": "display_data"
    },
    {
     "data": {
      "text/html": [
       "<div>\n",
       "<style scoped>\n",
       "    .dataframe tbody tr th:only-of-type {\n",
       "        vertical-align: middle;\n",
       "    }\n",
       "\n",
       "    .dataframe tbody tr th {\n",
       "        vertical-align: top;\n",
       "    }\n",
       "\n",
       "    .dataframe thead th {\n",
       "        text-align: right;\n",
       "    }\n",
       "</style>\n",
       "<table border=\"1\" class=\"dataframe\">\n",
       "  <thead>\n",
       "    <tr style=\"text-align: right;\">\n",
       "      <th></th>\n",
       "      <th>customerID</th>\n",
       "      <th>InternetService</th>\n",
       "      <th>OnlineSecurity</th>\n",
       "      <th>OnlineBackup</th>\n",
       "      <th>DeviceProtection</th>\n",
       "      <th>TechSupport</th>\n",
       "      <th>StreamingTV</th>\n",
       "      <th>StreamingMovies</th>\n",
       "    </tr>\n",
       "  </thead>\n",
       "  <tbody>\n",
       "    <tr>\n",
       "      <th>1</th>\n",
       "      <td>7590-VHVEG</td>\n",
       "      <td>DSL</td>\n",
       "      <td>No</td>\n",
       "      <td>Yes</td>\n",
       "      <td>No</td>\n",
       "      <td>No</td>\n",
       "      <td>No</td>\n",
       "      <td>No</td>\n",
       "    </tr>\n",
       "    <tr>\n",
       "      <th>2</th>\n",
       "      <td>5575-GNVDE</td>\n",
       "      <td>DSL</td>\n",
       "      <td>Yes</td>\n",
       "      <td>No</td>\n",
       "      <td>Yes</td>\n",
       "      <td>No</td>\n",
       "      <td>No</td>\n",
       "      <td>No</td>\n",
       "    </tr>\n",
       "  </tbody>\n",
       "</table>\n",
       "</div>"
      ],
      "text/plain": [
       "   customerID InternetService OnlineSecurity OnlineBackup DeviceProtection  \\\n",
       "1  7590-VHVEG             DSL             No          Yes               No   \n",
       "2  5575-GNVDE             DSL            Yes           No              Yes   \n",
       "\n",
       "  TechSupport StreamingTV StreamingMovies  \n",
       "1          No          No              No  \n",
       "2          No          No              No  "
      ]
     },
     "metadata": {},
     "output_type": "display_data"
    },
    {
     "name": "stdout",
     "output_type": "stream",
     "text": [
      "<class 'pandas.core.frame.DataFrame'>\n",
      "RangeIndex: 5517 entries, 1 to 5517\n",
      "Data columns (total 8 columns):\n",
      " #   Column            Non-Null Count  Dtype \n",
      "---  ------            --------------  ----- \n",
      " 0   customerID        5517 non-null   object\n",
      " 1   InternetService   5517 non-null   object\n",
      " 2   OnlineSecurity    5517 non-null   object\n",
      " 3   OnlineBackup      5517 non-null   object\n",
      " 4   DeviceProtection  5517 non-null   object\n",
      " 5   TechSupport       5517 non-null   object\n",
      " 6   StreamingTV       5517 non-null   object\n",
      " 7   StreamingMovies   5517 non-null   object\n",
      "dtypes: object(8)\n",
      "memory usage: 344.9+ KB\n"
     ]
    },
    {
     "data": {
      "text/plain": [
       "None"
      ]
     },
     "metadata": {},
     "output_type": "display_data"
    },
    {
     "data": {
      "text/html": [
       "<pre style=\"white-space:pre;overflow-x:auto;line-height:normal;font-family:Menlo,'DejaVu Sans Mono',consolas,'Courier New',monospace\"><span style=\"font-weight: bold\">Датасет с информацией об услугах телефонии</span>\n",
       "</pre>\n"
      ],
      "text/plain": [
       "\u001b[1mДатасет с информацией об услугах телефонии\u001b[0m\n"
      ]
     },
     "metadata": {},
     "output_type": "display_data"
    },
    {
     "data": {
      "text/html": [
       "<div>\n",
       "<style scoped>\n",
       "    .dataframe tbody tr th:only-of-type {\n",
       "        vertical-align: middle;\n",
       "    }\n",
       "\n",
       "    .dataframe tbody tr th {\n",
       "        vertical-align: top;\n",
       "    }\n",
       "\n",
       "    .dataframe thead th {\n",
       "        text-align: right;\n",
       "    }\n",
       "</style>\n",
       "<table border=\"1\" class=\"dataframe\">\n",
       "  <thead>\n",
       "    <tr style=\"text-align: right;\">\n",
       "      <th></th>\n",
       "      <th>customerID</th>\n",
       "      <th>MultipleLines</th>\n",
       "    </tr>\n",
       "  </thead>\n",
       "  <tbody>\n",
       "    <tr>\n",
       "      <th>1</th>\n",
       "      <td>5575-GNVDE</td>\n",
       "      <td>No</td>\n",
       "    </tr>\n",
       "    <tr>\n",
       "      <th>2</th>\n",
       "      <td>3668-QPYBK</td>\n",
       "      <td>No</td>\n",
       "    </tr>\n",
       "  </tbody>\n",
       "</table>\n",
       "</div>"
      ],
      "text/plain": [
       "   customerID MultipleLines\n",
       "1  5575-GNVDE            No\n",
       "2  3668-QPYBK            No"
      ]
     },
     "metadata": {},
     "output_type": "display_data"
    },
    {
     "name": "stdout",
     "output_type": "stream",
     "text": [
      "<class 'pandas.core.frame.DataFrame'>\n",
      "RangeIndex: 6361 entries, 1 to 6361\n",
      "Data columns (total 2 columns):\n",
      " #   Column         Non-Null Count  Dtype \n",
      "---  ------         --------------  ----- \n",
      " 0   customerID     6361 non-null   object\n",
      " 1   MultipleLines  6361 non-null   object\n",
      "dtypes: object(2)\n",
      "memory usage: 99.5+ KB\n"
     ]
    },
    {
     "data": {
      "text/plain": [
       "None"
      ]
     },
     "metadata": {},
     "output_type": "display_data"
    }
   ],
   "source": [
    "# информация о договорах\n",
    "contract_df = request('SELECT * FROM telecom.contract;')\n",
    "console.print('[bold]Датасет с информацией о договорах[/bold]')\n",
    "display(contract_df.head(2))\n",
    "display(contract_df.info())\n",
    "\n",
    "# персональные данные клиентов\n",
    "personal_df = request('SELECT * FROM telecom.personal;')\n",
    "console.print('[bold]Датасет с информацией о персональных данных клиентов[/bold]')\n",
    "display(personal_df.head(2))\n",
    "display(personal_df.info())\n",
    "\n",
    "# информация об интернет-услугах\n",
    "internet_df = request('SELECT * FROM telecom.internet;')\n",
    "internet_df.columns = list(internet_df.iloc[0].values)\n",
    "internet_df = internet_df.drop(0, axis=0)\n",
    "console.print('[bold]Датасет с информацией об интернет-услугах[/bold]')\n",
    "display(internet_df.head(2))\n",
    "display(internet_df.info())\n",
    "\n",
    "# информация об услугах телефонии\n",
    "phone_df = request('SELECT * FROM telecom.phone;')\n",
    "phone_df.columns = list(phone_df.iloc[0].values)\n",
    "phone_df = phone_df.drop(0, axis=0)\n",
    "console.print('[bold]Датасет с информацией об услугах телефонии[/bold]')\n",
    "display(phone_df.head(2))\n",
    "display(phone_df.info())"
   ]
  },
  {
   "cell_type": "code",
   "execution_count": 8,
   "id": "8c234cd1",
   "metadata": {},
   "outputs": [],
   "source": [
    "# список датасетов\n",
    "list_df = [contract_df, personal_df, internet_df, phone_df]"
   ]
  },
  {
   "cell_type": "markdown",
   "id": "2fc1187c",
   "metadata": {},
   "source": [
    ">Регистр названий признаков не соответствует стандарту."
   ]
  },
  {
   "cell_type": "markdown",
   "id": "c2038e7d",
   "metadata": {},
   "source": [
    "__Перееименуем признаки__"
   ]
  },
  {
   "cell_type": "code",
   "execution_count": 9,
   "id": "e0e0ea99",
   "metadata": {},
   "outputs": [],
   "source": [
    "new_column_names = {\n",
    "    'customerID': 'customer_id',               #ID абонента\n",
    "    'BeginDate': 'begin_date',                 #дата начала действия договора\n",
    "    'EndDate': 'end_date',                     #дата окончания действия договора\n",
    "    'Type': 'type',                            #тип оплаты: раз в год-два или ежемесячно\n",
    "    'PaperlessBilling': 'paperless_billing',   #электронный расчётный лист\n",
    "    'PaymentMethod': 'payment_method',         #тип платежа\n",
    "    'MonthlyCharges': 'monthly_charges',       #расходы за месяц\n",
    "    'TotalCharges': 'total_charges',           #общие расходы абонента\n",
    "    'SeniorCitizen': 'senior_citizen',         #является ли абонент пенсионером\n",
    "    'Partner': 'partner',                      #есть ли у абонента супруг или супруга\n",
    "    'Dependents': 'dependents',                #есть ли у абонента дети\n",
    "    'InternetService': 'internet_service',     #тип подключения\n",
    "    'OnlineSecurity': 'online_security',       #блокировка опасных сайтов\n",
    "    'OnlineBackup': 'online_backup',           #облачное хранилище файлов для резервного копирования данных\n",
    "    'DeviceProtection': 'device_protection',   #антивирус\n",
    "    'TechSupport': 'tech_support',             #выделенная линия технической поддержки\n",
    "    'StreamingTV': 'streaming_tv',             #стриминговое телевидение\n",
    "    'StreamingMovies': 'streaming_movies',     #каталог фильмо\n",
    "    'MultipleLines': 'multiplelines'           #подключение телефона к нескольким линиям одновременно\n",
    "}"
   ]
  },
  {
   "cell_type": "code",
   "execution_count": 10,
   "id": "ce26b5d0",
   "metadata": {},
   "outputs": [
    {
     "data": {
      "text/html": [
       "<div>\n",
       "<style scoped>\n",
       "    .dataframe tbody tr th:only-of-type {\n",
       "        vertical-align: middle;\n",
       "    }\n",
       "\n",
       "    .dataframe tbody tr th {\n",
       "        vertical-align: top;\n",
       "    }\n",
       "\n",
       "    .dataframe thead th {\n",
       "        text-align: right;\n",
       "    }\n",
       "</style>\n",
       "<table border=\"1\" class=\"dataframe\">\n",
       "  <thead>\n",
       "    <tr style=\"text-align: right;\">\n",
       "      <th></th>\n",
       "      <th>customer_id</th>\n",
       "      <th>begin_date</th>\n",
       "      <th>end_date</th>\n",
       "      <th>type</th>\n",
       "      <th>paperless_billing</th>\n",
       "      <th>payment_method</th>\n",
       "      <th>monthly_charges</th>\n",
       "      <th>total_charges</th>\n",
       "    </tr>\n",
       "  </thead>\n",
       "  <tbody>\n",
       "    <tr>\n",
       "      <th>0</th>\n",
       "      <td>4472-LVYGI</td>\n",
       "      <td>2020-02-01</td>\n",
       "      <td>None</td>\n",
       "      <td>Two year</td>\n",
       "      <td>Yes</td>\n",
       "      <td>Bank transfer (automatic)</td>\n",
       "      <td>52.55</td>\n",
       "      <td>None</td>\n",
       "    </tr>\n",
       "  </tbody>\n",
       "</table>\n",
       "</div>"
      ],
      "text/plain": [
       "  customer_id  begin_date end_date      type paperless_billing  \\\n",
       "0  4472-LVYGI  2020-02-01     None  Two year               Yes   \n",
       "\n",
       "              payment_method monthly_charges total_charges  \n",
       "0  Bank transfer (automatic)           52.55          None  "
      ]
     },
     "metadata": {},
     "output_type": "display_data"
    },
    {
     "data": {
      "text/html": [
       "<div>\n",
       "<style scoped>\n",
       "    .dataframe tbody tr th:only-of-type {\n",
       "        vertical-align: middle;\n",
       "    }\n",
       "\n",
       "    .dataframe tbody tr th {\n",
       "        vertical-align: top;\n",
       "    }\n",
       "\n",
       "    .dataframe thead th {\n",
       "        text-align: right;\n",
       "    }\n",
       "</style>\n",
       "<table border=\"1\" class=\"dataframe\">\n",
       "  <thead>\n",
       "    <tr style=\"text-align: right;\">\n",
       "      <th></th>\n",
       "      <th>customer_id</th>\n",
       "      <th>gender</th>\n",
       "      <th>senior_citizen</th>\n",
       "      <th>partner</th>\n",
       "      <th>dependents</th>\n",
       "    </tr>\n",
       "  </thead>\n",
       "  <tbody>\n",
       "    <tr>\n",
       "      <th>0</th>\n",
       "      <td>7590-VHVEG</td>\n",
       "      <td>Female</td>\n",
       "      <td>0</td>\n",
       "      <td>Yes</td>\n",
       "      <td>No</td>\n",
       "    </tr>\n",
       "  </tbody>\n",
       "</table>\n",
       "</div>"
      ],
      "text/plain": [
       "  customer_id  gender  senior_citizen partner dependents\n",
       "0  7590-VHVEG  Female               0     Yes         No"
      ]
     },
     "metadata": {},
     "output_type": "display_data"
    },
    {
     "data": {
      "text/html": [
       "<div>\n",
       "<style scoped>\n",
       "    .dataframe tbody tr th:only-of-type {\n",
       "        vertical-align: middle;\n",
       "    }\n",
       "\n",
       "    .dataframe tbody tr th {\n",
       "        vertical-align: top;\n",
       "    }\n",
       "\n",
       "    .dataframe thead th {\n",
       "        text-align: right;\n",
       "    }\n",
       "</style>\n",
       "<table border=\"1\" class=\"dataframe\">\n",
       "  <thead>\n",
       "    <tr style=\"text-align: right;\">\n",
       "      <th></th>\n",
       "      <th>customer_id</th>\n",
       "      <th>internet_service</th>\n",
       "      <th>online_security</th>\n",
       "      <th>online_backup</th>\n",
       "      <th>device_protection</th>\n",
       "      <th>tech_support</th>\n",
       "      <th>streaming_tv</th>\n",
       "      <th>streaming_movies</th>\n",
       "    </tr>\n",
       "  </thead>\n",
       "  <tbody>\n",
       "    <tr>\n",
       "      <th>1</th>\n",
       "      <td>7590-VHVEG</td>\n",
       "      <td>DSL</td>\n",
       "      <td>No</td>\n",
       "      <td>Yes</td>\n",
       "      <td>No</td>\n",
       "      <td>No</td>\n",
       "      <td>No</td>\n",
       "      <td>No</td>\n",
       "    </tr>\n",
       "  </tbody>\n",
       "</table>\n",
       "</div>"
      ],
      "text/plain": [
       "  customer_id internet_service online_security online_backup  \\\n",
       "1  7590-VHVEG              DSL              No           Yes   \n",
       "\n",
       "  device_protection tech_support streaming_tv streaming_movies  \n",
       "1                No           No           No               No  "
      ]
     },
     "metadata": {},
     "output_type": "display_data"
    },
    {
     "data": {
      "text/html": [
       "<div>\n",
       "<style scoped>\n",
       "    .dataframe tbody tr th:only-of-type {\n",
       "        vertical-align: middle;\n",
       "    }\n",
       "\n",
       "    .dataframe tbody tr th {\n",
       "        vertical-align: top;\n",
       "    }\n",
       "\n",
       "    .dataframe thead th {\n",
       "        text-align: right;\n",
       "    }\n",
       "</style>\n",
       "<table border=\"1\" class=\"dataframe\">\n",
       "  <thead>\n",
       "    <tr style=\"text-align: right;\">\n",
       "      <th></th>\n",
       "      <th>customer_id</th>\n",
       "      <th>multiplelines</th>\n",
       "    </tr>\n",
       "  </thead>\n",
       "  <tbody>\n",
       "    <tr>\n",
       "      <th>1</th>\n",
       "      <td>5575-GNVDE</td>\n",
       "      <td>No</td>\n",
       "    </tr>\n",
       "  </tbody>\n",
       "</table>\n",
       "</div>"
      ],
      "text/plain": [
       "  customer_id multiplelines\n",
       "1  5575-GNVDE            No"
      ]
     },
     "metadata": {},
     "output_type": "display_data"
    }
   ],
   "source": [
    "contract_df = contract_df.rename(columns=new_column_names).copy()\n",
    "display(contract_df.head(1))\n",
    "personal_df = personal_df.rename(columns=new_column_names).copy()\n",
    "display(personal_df.head(1))\n",
    "internet_df = internet_df.rename(columns=new_column_names).copy()\n",
    "display(internet_df.head(1))\n",
    "phone_df = phone_df.rename(columns=new_column_names).copy()\n",
    "display(phone_df.head(1))"
   ]
  },
  {
   "cell_type": "markdown",
   "id": "bd6b3afa",
   "metadata": {},
   "source": [
    "> Признаки успешно переименованы, с учетом PEP8"
   ]
  },
  {
   "cell_type": "markdown",
   "id": "20653645",
   "metadata": {},
   "source": [
    "__Проверим дубликатов в данных__"
   ]
  },
  {
   "cell_type": "code",
   "execution_count": 11,
   "id": "bcfd4cc6",
   "metadata": {},
   "outputs": [
    {
     "name": "stdout",
     "output_type": "stream",
     "text": [
      "Общее количество дубликатов в данных: 0\n"
     ]
    }
   ],
   "source": [
    "print(f'Общее количество дубликатов в данных: {sum(df.duplicated().sum() for df in list_df)}')"
   ]
  },
  {
   "cell_type": "markdown",
   "id": "82dc20e0",
   "metadata": {},
   "source": [
    ">Успешно выгрены таблицы из базы данных;\n",
    ">\n",
    ">Названий признаков откорректированы в соответствии стандарту PEP8;\n",
    ">\n",
    ">Полные дубликаты в данных отсутствуют"
   ]
  },
  {
   "cell_type": "markdown",
   "id": "36c38254",
   "metadata": {},
   "source": [
    "## Анализ информациии о договорах: `contract_df`\n",
    "### Общая информация"
   ]
  },
  {
   "cell_type": "code",
   "execution_count": 12,
   "id": "049cd92f",
   "metadata": {},
   "outputs": [
    {
     "name": "stdout",
     "output_type": "stream",
     "text": [
      "<class 'pandas.core.frame.DataFrame'>\n",
      "RangeIndex: 7043 entries, 0 to 7042\n",
      "Data columns (total 8 columns):\n",
      " #   Column             Non-Null Count  Dtype \n",
      "---  ------             --------------  ----- \n",
      " 0   customer_id        7043 non-null   object\n",
      " 1   begin_date         7043 non-null   object\n",
      " 2   end_date           1869 non-null   object\n",
      " 3   type               7043 non-null   object\n",
      " 4   paperless_billing  7043 non-null   object\n",
      " 5   payment_method     7043 non-null   object\n",
      " 6   monthly_charges    7043 non-null   object\n",
      " 7   total_charges      7032 non-null   object\n",
      "dtypes: object(8)\n",
      "memory usage: 440.3+ KB\n"
     ]
    }
   ],
   "source": [
    "contract_df.info()"
   ]
  },
  {
   "cell_type": "markdown",
   "id": "c163962a",
   "metadata": {},
   "source": [
    "__Обработка типов данных__\n",
    "\n",
    "Изменим типы данных в датасете:\n",
    "\n",
    "- `begin_date`, `end_date` -  datetime\n",
    "- `monthly_charges`, `total_charges` - float"
   ]
  },
  {
   "cell_type": "code",
   "execution_count": 13,
   "id": "4fc67bd8",
   "metadata": {},
   "outputs": [],
   "source": [
    "# преобразование признаков begin_date и end_date в тип данных datetime\n",
    "contract_df['begin_date'] = pd.to_datetime(contract_df['begin_date'])\n",
    "contract_df['end_date'] = pd.to_datetime(contract_df['end_date'])\n",
    "\n",
    "# преобразование признаков monthly_charges и total_charges в тип данных float\n",
    "contract_df['monthly_charges'] = contract_df['monthly_charges'].astype(float)\n",
    "contract_df['total_charges'] = contract_df['total_charges'].astype(float)"
   ]
  },
  {
   "cell_type": "markdown",
   "id": "bd86343c",
   "metadata": {},
   "source": [
    "### Пропуcки в данных"
   ]
  },
  {
   "cell_type": "code",
   "execution_count": 14,
   "id": "d31262be",
   "metadata": {},
   "outputs": [
    {
     "data": {
      "text/plain": [
       "customer_id          0.000000\n",
       "begin_date           0.000000\n",
       "end_date             0.734630\n",
       "type                 0.000000\n",
       "paperless_billing    0.000000\n",
       "payment_method       0.000000\n",
       "monthly_charges      0.000000\n",
       "total_charges        0.001562\n",
       "dtype: float64"
      ]
     },
     "metadata": {},
     "output_type": "display_data"
    }
   ],
   "source": [
    "display(contract_df.isna().mean())"
   ]
  },
  {
   "cell_type": "markdown",
   "id": "a74e497e",
   "metadata": {},
   "source": [
    "__Пропуcки в признаке `total_charges`__"
   ]
  },
  {
   "cell_type": "code",
   "execution_count": 15,
   "id": "9303a841",
   "metadata": {},
   "outputs": [
    {
     "data": {
      "text/html": [
       "<div>\n",
       "<style scoped>\n",
       "    .dataframe tbody tr th:only-of-type {\n",
       "        vertical-align: middle;\n",
       "    }\n",
       "\n",
       "    .dataframe tbody tr th {\n",
       "        vertical-align: top;\n",
       "    }\n",
       "\n",
       "    .dataframe thead th {\n",
       "        text-align: right;\n",
       "    }\n",
       "</style>\n",
       "<table border=\"1\" class=\"dataframe\">\n",
       "  <thead>\n",
       "    <tr style=\"text-align: right;\">\n",
       "      <th></th>\n",
       "      <th>customer_id</th>\n",
       "      <th>begin_date</th>\n",
       "      <th>end_date</th>\n",
       "      <th>type</th>\n",
       "      <th>paperless_billing</th>\n",
       "      <th>payment_method</th>\n",
       "      <th>monthly_charges</th>\n",
       "      <th>total_charges</th>\n",
       "    </tr>\n",
       "  </thead>\n",
       "  <tbody>\n",
       "    <tr>\n",
       "      <th>0</th>\n",
       "      <td>4472-LVYGI</td>\n",
       "      <td>2020-02-01</td>\n",
       "      <td>NaT</td>\n",
       "      <td>Two year</td>\n",
       "      <td>Yes</td>\n",
       "      <td>Bank transfer (automatic)</td>\n",
       "      <td>52.55</td>\n",
       "      <td>NaN</td>\n",
       "    </tr>\n",
       "    <tr>\n",
       "      <th>1</th>\n",
       "      <td>3115-CZMZD</td>\n",
       "      <td>2020-02-01</td>\n",
       "      <td>NaT</td>\n",
       "      <td>Two year</td>\n",
       "      <td>No</td>\n",
       "      <td>Mailed check</td>\n",
       "      <td>20.25</td>\n",
       "      <td>NaN</td>\n",
       "    </tr>\n",
       "    <tr>\n",
       "      <th>3</th>\n",
       "      <td>5709-LVOEQ</td>\n",
       "      <td>2020-02-01</td>\n",
       "      <td>NaT</td>\n",
       "      <td>Two year</td>\n",
       "      <td>No</td>\n",
       "      <td>Mailed check</td>\n",
       "      <td>80.85</td>\n",
       "      <td>NaN</td>\n",
       "    </tr>\n",
       "    <tr>\n",
       "      <th>6</th>\n",
       "      <td>4367-NUYAO</td>\n",
       "      <td>2020-02-01</td>\n",
       "      <td>NaT</td>\n",
       "      <td>Two year</td>\n",
       "      <td>No</td>\n",
       "      <td>Mailed check</td>\n",
       "      <td>25.75</td>\n",
       "      <td>NaN</td>\n",
       "    </tr>\n",
       "    <tr>\n",
       "      <th>7</th>\n",
       "      <td>1371-DWPAZ</td>\n",
       "      <td>2020-02-01</td>\n",
       "      <td>NaT</td>\n",
       "      <td>Two year</td>\n",
       "      <td>No</td>\n",
       "      <td>Credit card (automatic)</td>\n",
       "      <td>56.05</td>\n",
       "      <td>NaN</td>\n",
       "    </tr>\n",
       "  </tbody>\n",
       "</table>\n",
       "</div>"
      ],
      "text/plain": [
       "  customer_id begin_date end_date      type paperless_billing  \\\n",
       "0  4472-LVYGI 2020-02-01      NaT  Two year               Yes   \n",
       "1  3115-CZMZD 2020-02-01      NaT  Two year                No   \n",
       "3  5709-LVOEQ 2020-02-01      NaT  Two year                No   \n",
       "6  4367-NUYAO 2020-02-01      NaT  Two year                No   \n",
       "7  1371-DWPAZ 2020-02-01      NaT  Two year                No   \n",
       "\n",
       "              payment_method  monthly_charges  total_charges  \n",
       "0  Bank transfer (automatic)            52.55            NaN  \n",
       "1               Mailed check            20.25            NaN  \n",
       "3               Mailed check            80.85            NaN  \n",
       "6               Mailed check            25.75            NaN  \n",
       "7    Credit card (automatic)            56.05            NaN  "
      ]
     },
     "execution_count": 15,
     "metadata": {},
     "output_type": "execute_result"
    }
   ],
   "source": [
    "contract_df[contract_df['total_charges'].isna()].head(5)"
   ]
  },
  {
   "cell_type": "markdown",
   "id": "71906b31",
   "metadata": {},
   "source": [
    "Можно увидеть, что дата заключения договора 1 февраля 2020 года. Как раз та дата, когда у нас была выгрузка данных. Следовательно данных ещё о платеже нет, либо не успели загрузить в базу данных. Так как подобных записей крайне мало и они могут внести искажение в анализ, следует их удалить."
   ]
  },
  {
   "cell_type": "code",
   "execution_count": 16,
   "id": "4e94ea1a",
   "metadata": {},
   "outputs": [],
   "source": [
    "contract_df = contract_df[~contract_df['total_charges'].isna()].copy()"
   ]
  },
  {
   "cell_type": "markdown",
   "id": "6374270e",
   "metadata": {},
   "source": [
    "__Пропуcки в признаке `end_date`__\n",
    "\n",
    "При отсутствии даты окончания действия договора, на момент выгрузки данных, клиент считатся активным. Из данного признака получим целевой признак оттока клиентов, а пропуски заменим датой выгрузки данных."
   ]
  },
  {
   "cell_type": "code",
   "execution_count": 17,
   "id": "96fe48a5",
   "metadata": {},
   "outputs": [],
   "source": [
    "# пелучение целевой переменной\n",
    "contract_df['churn'] = ~contract_df['end_date'].isna()*1"
   ]
  },
  {
   "cell_type": "markdown",
   "id": "377834fd",
   "metadata": {},
   "source": [
    "Признак `churn` содержит значения:\n",
    "- 1 факт ухода клиента\n",
    "- 0 клиент продолжает пользоваться услугами компании"
   ]
  },
  {
   "cell_type": "code",
   "execution_count": 18,
   "id": "3734e95b",
   "metadata": {},
   "outputs": [],
   "source": [
    "# замена пропусков в столбце end_date на \"2020-02-01\"\n",
    "contract_df['end_date'].fillna(\"2020-02-01\", inplace=True)"
   ]
  },
  {
   "cell_type": "markdown",
   "id": "d90ca65a",
   "metadata": {},
   "source": [
    "### Анализ временных признаков"
   ]
  },
  {
   "cell_type": "code",
   "execution_count": 19,
   "id": "c2846ae3",
   "metadata": {},
   "outputs": [
    {
     "name": "stdout",
     "output_type": "stream",
     "text": [
      "Минимальная дата в begin_date: 2018-04-17 00:00:00\n",
      "Максимальная дата в begin_date: 2020-01-29 00:00:00\n",
      "Минимальная дата в end_date: 2019-10-01 00:00:00\n",
      "Максимальная дата в end_date: 2020-02-01 00:00:00\n"
     ]
    }
   ],
   "source": [
    "# получим минимальную и максимальную даты в столбце begin_date\n",
    "min_begin_date = contract_df['begin_date'].min()\n",
    "max_begin_date = contract_df['begin_date'].max()\n",
    "\n",
    "# получим минимальную и максимальную даты в столбце end_date\n",
    "min_end_date = contract_df['end_date'].min()\n",
    "max_end_date = contract_df['end_date'].max()\n",
    "\n",
    "# вывод полученных значений\n",
    "print(f'Минимальная дата в begin_date: {min_begin_date}')\n",
    "print(f'Максимальная дата в begin_date: {max_begin_date}')\n",
    "print(f'Минимальная дата в end_date: {min_end_date}')\n",
    "print(f'Максимальная дата в end_date: {max_end_date}')"
   ]
  },
  {
   "cell_type": "markdown",
   "id": "5edf8592",
   "metadata": {},
   "source": [
    ">Аномальных значений в данных признаках не наблюдается.\n",
    ">\n",
    ">Сами даты из-за большой вариативности не несут полезную нагрузку при построении моделей, но можем получить дополнительные признаки:\n",
    "- продолжительность действия контракта, отразит насколько долго клиент пользуется услугами, выразим значение в месяцах."
   ]
  },
  {
   "cell_type": "code",
   "execution_count": 20,
   "id": "aa0cef16",
   "metadata": {},
   "outputs": [],
   "source": [
    "contract_df['tenure_months'] = (contract_df['end_date'] - contract_df['begin_date']).dt.days // 30"
   ]
  },
  {
   "cell_type": "markdown",
   "id": "ee8a6450",
   "metadata": {},
   "source": [
    "#### Зависимость факта ухода клиентов от месяца и года"
   ]
  },
  {
   "cell_type": "code",
   "execution_count": 30,
   "id": "880472df",
   "metadata": {},
   "outputs": [
    {
     "data": {
      "image/png": "[encoded data removed]",
      "text/plain": [
       "<Figure size 1200x300 with 1 Axes>"
      ]
     },
     "metadata": {},
     "output_type": "display_data"
    }
   ],
   "source": [
    "data_info = contract_df.copy()\n",
    "data_info['churn_month'] = data_info['end_date'].dt.month\n",
    "data_info['churn_year'] = data_info['end_date'].dt.year\n",
    "\n",
    "# ограничиваем данные до января 2020 года\n",
    "data_info = data_info[(data_info['churn_year'] < 2020) | ((data_info['churn_year'] == 2020) & (data_info['churn_month'] == 1))]\n",
    "\n",
    "# группируем данные по месяцам и годам и подсчитываем количество ушедших клиентов\n",
    "churn_summary = data_info.groupby(['churn_year', 'churn_month'])['churn'].sum().reset_index()\n",
    "\n",
    "# визуализируем зависимость месяца и факта ухода клиентов\n",
    "plt.figure(figsize=(12, 3))\n",
    "plt.plot(churn_summary['churn_year'].astype(str) + '-' + churn_summary['churn_month'].astype(str), churn_summary['churn'], marker='o', color='teal')\n",
    "plt.title('Зависимость факта ухода клиентов от месяца и года (до января 2020 года)')\n",
    "plt.xlabel('Месяц и год')\n",
    "plt.ylabel('Количество ушедших клиентов')\n",
    "plt.xticks(rotation=45)\n",
    "plt.grid(True)\n",
    "plt.show()"
   ]
  },
  {
   "cell_type": "markdown",
   "id": "16095bb8",
   "metadata": {},
   "source": [
    "Зависимость ухода клиентов от месяца и года, исходя из графика, слабая, этот признак не подходит для дальнейшего анализа"
   ]
  },
  {
   "cell_type": "markdown",
   "id": "5f850a4e",
   "metadata": {},
   "source": [
    "### Анализ категориальных признаков"
   ]
  },
  {
   "cell_type": "code",
   "execution_count": 23,
   "id": "4dcb5217",
   "metadata": {},
   "outputs": [
    {
     "data": {
      "text/html": [
       "<div>\n",
       "<style scoped>\n",
       "    .dataframe tbody tr th:only-of-type {\n",
       "        vertical-align: middle;\n",
       "    }\n",
       "\n",
       "    .dataframe tbody tr th {\n",
       "        vertical-align: top;\n",
       "    }\n",
       "\n",
       "    .dataframe thead th {\n",
       "        text-align: right;\n",
       "    }\n",
       "</style>\n",
       "<table border=\"1\" class=\"dataframe\">\n",
       "  <thead>\n",
       "    <tr style=\"text-align: right;\">\n",
       "      <th></th>\n",
       "      <th>customer_id</th>\n",
       "      <th>type</th>\n",
       "      <th>paperless_billing</th>\n",
       "      <th>payment_method</th>\n",
       "    </tr>\n",
       "  </thead>\n",
       "  <tbody>\n",
       "    <tr>\n",
       "      <th>count</th>\n",
       "      <td>7032</td>\n",
       "      <td>7032</td>\n",
       "      <td>7032</td>\n",
       "      <td>7032</td>\n",
       "    </tr>\n",
       "    <tr>\n",
       "      <th>unique</th>\n",
       "      <td>7032</td>\n",
       "      <td>3</td>\n",
       "      <td>2</td>\n",
       "      <td>4</td>\n",
       "    </tr>\n",
       "    <tr>\n",
       "      <th>top</th>\n",
       "      <td>3668-QPYBK</td>\n",
       "      <td>Month-to-month</td>\n",
       "      <td>Yes</td>\n",
       "      <td>Electronic check</td>\n",
       "    </tr>\n",
       "    <tr>\n",
       "      <th>freq</th>\n",
       "      <td>1</td>\n",
       "      <td>3875</td>\n",
       "      <td>4168</td>\n",
       "      <td>2365</td>\n",
       "    </tr>\n",
       "  </tbody>\n",
       "</table>\n",
       "</div>"
      ],
      "text/plain": [
       "       customer_id            type paperless_billing    payment_method\n",
       "count         7032            7032              7032              7032\n",
       "unique        7032               3                 2                 4\n",
       "top     3668-QPYBK  Month-to-month               Yes  Electronic check\n",
       "freq             1            3875              4168              2365"
      ]
     },
     "metadata": {},
     "output_type": "display_data"
    }
   ],
   "source": [
    "display(contract_df.describe(include=[object]))"
   ]
  },
  {
   "cell_type": "markdown",
   "id": "8ccafd19",
   "metadata": {},
   "source": [
    "__Посмотрим уникальные значения в категориальных признаках и их распределения:__"
   ]
  },
  {
   "cell_type": "code",
   "execution_count": 24,
   "id": "ea7ef51b",
   "metadata": {},
   "outputs": [],
   "source": [
    "# функция для вывода уникальных значений и распределения\n",
    "def uniq_val(df, sign):\n",
    "    print(f'Уникальные значения признака {sign} в данных:\\n{df[sign].unique()}')\n",
    "    display(df[sign].value_counts())"
   ]
  },
  {
   "cell_type": "code",
   "execution_count": 25,
   "id": "405aa8f3",
   "metadata": {},
   "outputs": [
    {
     "name": "stdout",
     "output_type": "stream",
     "text": [
      "Уникальные значения признака type в данных:\n",
      "['Month-to-month' 'Two year' 'One year']\n"
     ]
    },
    {
     "data": {
      "text/plain": [
       "Month-to-month    3875\n",
       "Two year          1685\n",
       "One year          1472\n",
       "Name: type, dtype: int64"
      ]
     },
     "metadata": {},
     "output_type": "display_data"
    },
    {
     "name": "stdout",
     "output_type": "stream",
     "text": [
      "Уникальные значения признака paperless_billing в данных:\n",
      "['Yes' 'No']\n"
     ]
    },
    {
     "data": {
      "text/plain": [
       "Yes    4168\n",
       "No     2864\n",
       "Name: paperless_billing, dtype: int64"
      ]
     },
     "metadata": {},
     "output_type": "display_data"
    },
    {
     "name": "stdout",
     "output_type": "stream",
     "text": [
      "Уникальные значения признака payment_method в данных:\n",
      "['Mailed check' 'Electronic check' 'Bank transfer (automatic)'\n",
      " 'Credit card (automatic)']\n"
     ]
    },
    {
     "data": {
      "text/plain": [
       "Electronic check             2365\n",
       "Mailed check                 1604\n",
       "Bank transfer (automatic)    1542\n",
       "Credit card (automatic)      1521\n",
       "Name: payment_method, dtype: int64"
      ]
     },
     "metadata": {},
     "output_type": "display_data"
    }
   ],
   "source": [
    "uniq_val(contract_df, 'type')\n",
    "uniq_val(contract_df, 'paperless_billing')\n",
    "uniq_val(contract_df, 'payment_method')"
   ]
  },
  {
   "cell_type": "markdown",
   "id": "7c623287",
   "metadata": {},
   "source": [
    "Исходя из значений и рапределений данных:\n",
    "- В признаках нет групп с малым количеством данных, требующих объединение.\n",
    "- Большинство людей предпочитают ежемесячные платежи, электронные рассчетные листы."
   ]
  },
  {
   "cell_type": "markdown",
   "id": "27a90b29",
   "metadata": {},
   "source": [
    "### Анализ числовых признаков"
   ]
  },
  {
   "cell_type": "code",
   "execution_count": 27,
   "id": "632966da",
   "metadata": {},
   "outputs": [
    {
     "data": {
      "text/html": [
       "<pre style=\"white-space:pre;overflow-x:auto;line-height:normal;font-family:Menlo,'DejaVu Sans Mono',consolas,'Courier New',monospace\"><span style=\"font-weight: bold\">Статистика для contract_df:</span>\n",
       "</pre>\n"
      ],
      "text/plain": [
       "\u001b[1mСтатистика для contract_df:\u001b[0m\n"
      ]
     },
     "metadata": {},
     "output_type": "display_data"
    },
    {
     "name": "stdout",
     "output_type": "stream",
     "text": [
      "       monthly_charges  total_charges        churn  tenure_months\n",
      "count      7032.000000    7032.000000  7032.000000    7032.000000\n",
      "mean         64.798208    2283.300441     0.265785       9.446815\n",
      "std          30.085974    2266.771362     0.441782       2.785462\n",
      "min          18.250000      18.800000     0.000000       0.000000\n",
      "25%          35.587500     401.450000     0.000000       8.000000\n",
      "50%          70.350000    1397.475000     0.000000       9.000000\n",
      "75%          89.862500    3794.737500     1.000000      11.000000\n",
      "max         118.750000    8684.800000     1.000000      19.000000\n"
     ]
    }
   ],
   "source": [
    "# статистика для crowd_annotat\n",
    "console.print('[bold]Статистика для contract_df:[/bold]')\n",
    "print(contract_df.describe())"
   ]
  },
  {
   "cell_type": "code",
   "execution_count": 29,
   "id": "f0999667",
   "metadata": {},
   "outputs": [
    {
     "data": {
      "image/png": "[encoded data removed]",
      "text/plain": [
       "<Figure size 1800x500 with 3 Axes>"
      ]
     },
     "metadata": {},
     "output_type": "display_data"
    }
   ],
   "source": [
    "# визуализация данных\n",
    "fig, axes = plt.subplots(1, 3, figsize=(18, 5))\n",
    "\n",
    "contract_df['monthly_charges'].hist(ax=axes[0], color='teal')\n",
    "axes[0].set_title(\"Распределение ежемесячных платежей\")\n",
    "\n",
    "contract_df['total_charges'].hist(ax=axes[1], color='teal')\n",
    "axes[1].set_title(\"Распределение общих расходов абонента\")\n",
    "\n",
    "contract_df['tenure_months'].hist(ax=axes[2], color='teal')\n",
    "axes[2].set_title(\"Распределение длительности заключенных контрактов\")\n",
    "\n",
    "plt.show()"
   ]
  },
  {
   "cell_type": "markdown",
   "id": "cd52a279",
   "metadata": {},
   "source": [
    "Исходя из общей статистики числовых данных и их визуализации, можно сделать вывод, что в данных отсутствуют явные аномалии, экстримально большие или маленькие значения."
   ]
  },
  {
   "cell_type": "markdown",
   "id": "df67f4db",
   "metadata": {},
   "source": [
    "### Итоговый датасет с информацией о договорах"
   ]
  },
  {
   "cell_type": "code",
   "execution_count": 32,
   "id": "b8773df8",
   "metadata": {},
   "outputs": [],
   "source": [
    "contract_df = contract_df.drop(['begin_date', 'end_date'], axis=1)"
   ]
  },
  {
   "cell_type": "code",
   "execution_count": 33,
   "id": "b97891f3",
   "metadata": {},
   "outputs": [
    {
     "name": "stdout",
     "output_type": "stream",
     "text": [
      "<class 'pandas.core.frame.DataFrame'>\n",
      "Int64Index: 7032 entries, 2 to 7042\n",
      "Data columns (total 8 columns):\n",
      " #   Column             Non-Null Count  Dtype  \n",
      "---  ------             --------------  -----  \n",
      " 0   customer_id        7032 non-null   object \n",
      " 1   type               7032 non-null   object \n",
      " 2   paperless_billing  7032 non-null   object \n",
      " 3   payment_method     7032 non-null   object \n",
      " 4   monthly_charges    7032 non-null   float64\n",
      " 5   total_charges      7032 non-null   float64\n",
      " 6   churn              7032 non-null   int64  \n",
      " 7   tenure_months      7032 non-null   int64  \n",
      "dtypes: float64(2), int64(2), object(4)\n",
      "memory usage: 494.4+ KB\n"
     ]
    }
   ],
   "source": [
    "contract_df.info()"
   ]
  },
  {
   "cell_type": "markdown",
   "id": "11bb2ac2",
   "metadata": {},
   "source": [
    ">Проведен анализ данных с информацией о договорах;\n",
    ">\n",
    ">Обработаны пропуски и аномалии;\n",
    ">\n",
    ">Добавлен целевой и признак отражающий как давно челорвек, является абонентом компании."
   ]
  },
  {
   "cell_type": "markdown",
   "id": "7f92d820",
   "metadata": {},
   "source": [
    "## Анализ информациии о персональных данных клиентов: `personal_df`\n",
    "### Общая информация"
   ]
  },
  {
   "cell_type": "code",
   "execution_count": 35,
   "id": "5210914f",
   "metadata": {},
   "outputs": [
    {
     "data": {
      "text/html": [
       "<div>\n",
       "<style scoped>\n",
       "    .dataframe tbody tr th:only-of-type {\n",
       "        vertical-align: middle;\n",
       "    }\n",
       "\n",
       "    .dataframe tbody tr th {\n",
       "        vertical-align: top;\n",
       "    }\n",
       "\n",
       "    .dataframe thead th {\n",
       "        text-align: right;\n",
       "    }\n",
       "</style>\n",
       "<table border=\"1\" class=\"dataframe\">\n",
       "  <thead>\n",
       "    <tr style=\"text-align: right;\">\n",
       "      <th></th>\n",
       "      <th>customer_id</th>\n",
       "      <th>gender</th>\n",
       "      <th>senior_citizen</th>\n",
       "      <th>partner</th>\n",
       "      <th>dependents</th>\n",
       "    </tr>\n",
       "  </thead>\n",
       "  <tbody>\n",
       "    <tr>\n",
       "      <th>0</th>\n",
       "      <td>7590-VHVEG</td>\n",
       "      <td>Female</td>\n",
       "      <td>0</td>\n",
       "      <td>Yes</td>\n",
       "      <td>No</td>\n",
       "    </tr>\n",
       "    <tr>\n",
       "      <th>1</th>\n",
       "      <td>5575-GNVDE</td>\n",
       "      <td>Male</td>\n",
       "      <td>0</td>\n",
       "      <td>No</td>\n",
       "      <td>No</td>\n",
       "    </tr>\n",
       "  </tbody>\n",
       "</table>\n",
       "</div>"
      ],
      "text/plain": [
       "  customer_id  gender  senior_citizen partner dependents\n",
       "0  7590-VHVEG  Female               0     Yes         No\n",
       "1  5575-GNVDE    Male               0      No         No"
      ]
     },
     "metadata": {},
     "output_type": "display_data"
    },
    {
     "name": "stdout",
     "output_type": "stream",
     "text": [
      "<class 'pandas.core.frame.DataFrame'>\n",
      "RangeIndex: 7043 entries, 0 to 7042\n",
      "Data columns (total 5 columns):\n",
      " #   Column          Non-Null Count  Dtype \n",
      "---  ------          --------------  ----- \n",
      " 0   customer_id     7043 non-null   object\n",
      " 1   gender          7043 non-null   object\n",
      " 2   senior_citizen  7043 non-null   int64 \n",
      " 3   partner         7043 non-null   object\n",
      " 4   dependents      7043 non-null   object\n",
      "dtypes: int64(1), object(4)\n",
      "memory usage: 275.2+ KB\n"
     ]
    },
    {
     "data": {
      "text/plain": [
       "None"
      ]
     },
     "metadata": {},
     "output_type": "display_data"
    }
   ],
   "source": [
    "display(personal_df.head(2))\n",
    "display(personal_df.info())"
   ]
  },
  {
   "cell_type": "markdown",
   "id": "f49f7fc7",
   "metadata": {},
   "source": [
    "__Проверим пропуски в данных:__"
   ]
  },
  {
   "cell_type": "code",
   "execution_count": 39,
   "id": "3556619f",
   "metadata": {},
   "outputs": [
    {
     "name": "stdout",
     "output_type": "stream",
     "text": [
      "Общее количество пропусков в данных: 0\n"
     ]
    }
   ],
   "source": [
    "print(f'Общее количество пропусков в данных: {sum(personal_df.isna().sum())}')"
   ]
  },
  {
   "cell_type": "markdown",
   "id": "e10c1028",
   "metadata": {},
   "source": [
    "### Визуализация данных"
   ]
  },
  {
   "cell_type": "code",
   "execution_count": 52,
   "id": "8cbdacea",
   "metadata": {},
   "outputs": [
    {
     "data": {
      "image/png": "[encoded data removed]",
      "text/plain": [
       "<Figure size 1600x400 with 4 Axes>"
      ]
     },
     "metadata": {},
     "output_type": "display_data"
    }
   ],
   "source": [
    "binary_features = ['gender', 'senior_citizen', 'partner', 'dependents']\n",
    "# палитра\n",
    "pastel_colors = ['#B2DFDB', 'lightskyblue']\n",
    "\n",
    "plt.figure(figsize=(16, 4))\n",
    "\n",
    "# визуализация\n",
    "for i, feature in enumerate(binary_features):\n",
    "    plt.subplot(1, 4, i + 1)  \n",
    "    plt.title(f'Распределение {feature}')\n",
    "    \n",
    "    personal_df[feature].value_counts().plot(kind='pie', autopct='%1.1f%%', colors=pastel_colors)\n",
    "    plt.ylabel('') \n"
   ]
  },
  {
   "cell_type": "markdown",
   "id": "78af7a1e",
   "metadata": {},
   "source": [
    "В данных пропуски отсутствуют.\n",
    "\n",
    "Из распределения данных можно понять:\n",
    "\n",
    "- Пол (gender): В датасете клиентов примерно одинаковое количество мужчин и женщин, с небольшим преимуществом мужчин (3555 мужчин и 3488 женщин). Это говорит о том, что половая принадлежность клиентов достаточно равномерно распределена.\n",
    "- Является ли клиент пенсионером (senior_citizen): Большинство клиентов в датасете (5901 человек) не являются пенсионерами, в то время как 1142 клиента являются пенсионерами.\n",
    "- Наличие супруга или супруги (partner): В датасете 3641 клиентов не имеют супруга или супруги, в то время как 3402 клиента имеют супруга или супругу. Распределение близко к равномерному, что может указывать на разнообразие семейных структур среди клиентов.\n",
    "- Наличие детей (dependents):Большинство клиентов (4933 человека) не имеют детей, в то время как 2110 клиентов имеют детей. Это может быть важным фактором при анализе поведения клиентов и их решениях о продолжении использования услуг.\n",
    "\n",
    "Эти данные предоставляют нам информацию о демографических характеристиках клиентов и их семейном статусе. Данные выводы могут быть полезными для дальнейшего анализа и разработки стратегии по удержанию клиентов, учитывая их особенности и потребности."
   ]
  },
  {
   "cell_type": "markdown",
   "id": "e8a5ed83",
   "metadata": {},
   "source": [
    "## Анализ информациии об интернет-услугах: `internet_df`\n",
    "### Общая информация"
   ]
  },
  {
   "cell_type": "code",
   "execution_count": 53,
   "id": "99c01249",
   "metadata": {},
   "outputs": [
    {
     "data": {
      "text/html": [
       "<div>\n",
       "<style scoped>\n",
       "    .dataframe tbody tr th:only-of-type {\n",
       "        vertical-align: middle;\n",
       "    }\n",
       "\n",
       "    .dataframe tbody tr th {\n",
       "        vertical-align: top;\n",
       "    }\n",
       "\n",
       "    .dataframe thead th {\n",
       "        text-align: right;\n",
       "    }\n",
       "</style>\n",
       "<table border=\"1\" class=\"dataframe\">\n",
       "  <thead>\n",
       "    <tr style=\"text-align: right;\">\n",
       "      <th></th>\n",
       "      <th>customer_id</th>\n",
       "      <th>internet_service</th>\n",
       "      <th>online_security</th>\n",
       "      <th>online_backup</th>\n",
       "      <th>device_protection</th>\n",
       "      <th>tech_support</th>\n",
       "      <th>streaming_tv</th>\n",
       "      <th>streaming_movies</th>\n",
       "    </tr>\n",
       "  </thead>\n",
       "  <tbody>\n",
       "    <tr>\n",
       "      <th>1</th>\n",
       "      <td>7590-VHVEG</td>\n",
       "      <td>DSL</td>\n",
       "      <td>No</td>\n",
       "      <td>Yes</td>\n",
       "      <td>No</td>\n",
       "      <td>No</td>\n",
       "      <td>No</td>\n",
       "      <td>No</td>\n",
       "    </tr>\n",
       "    <tr>\n",
       "      <th>2</th>\n",
       "      <td>5575-GNVDE</td>\n",
       "      <td>DSL</td>\n",
       "      <td>Yes</td>\n",
       "      <td>No</td>\n",
       "      <td>Yes</td>\n",
       "      <td>No</td>\n",
       "      <td>No</td>\n",
       "      <td>No</td>\n",
       "    </tr>\n",
       "  </tbody>\n",
       "</table>\n",
       "</div>"
      ],
      "text/plain": [
       "  customer_id internet_service online_security online_backup  \\\n",
       "1  7590-VHVEG              DSL              No           Yes   \n",
       "2  5575-GNVDE              DSL             Yes            No   \n",
       "\n",
       "  device_protection tech_support streaming_tv streaming_movies  \n",
       "1                No           No           No               No  \n",
       "2               Yes           No           No               No  "
      ]
     },
     "metadata": {},
     "output_type": "display_data"
    },
    {
     "name": "stdout",
     "output_type": "stream",
     "text": [
      "<class 'pandas.core.frame.DataFrame'>\n",
      "RangeIndex: 5517 entries, 1 to 5517\n",
      "Data columns (total 8 columns):\n",
      " #   Column             Non-Null Count  Dtype \n",
      "---  ------             --------------  ----- \n",
      " 0   customer_id        5517 non-null   object\n",
      " 1   internet_service   5517 non-null   object\n",
      " 2   online_security    5517 non-null   object\n",
      " 3   online_backup      5517 non-null   object\n",
      " 4   device_protection  5517 non-null   object\n",
      " 5   tech_support       5517 non-null   object\n",
      " 6   streaming_tv       5517 non-null   object\n",
      " 7   streaming_movies   5517 non-null   object\n",
      "dtypes: object(8)\n",
      "memory usage: 344.9+ KB\n"
     ]
    },
    {
     "data": {
      "text/plain": [
       "None"
      ]
     },
     "metadata": {},
     "output_type": "display_data"
    }
   ],
   "source": [
    "display(internet_df.head(2))\n",
    "display(internet_df.info())"
   ]
  },
  {
   "cell_type": "markdown",
   "id": "f0e37a75",
   "metadata": {},
   "source": [
    "__Проверим пропуски в данных:__"
   ]
  },
  {
   "cell_type": "code",
   "execution_count": 61,
   "id": "418f7833",
   "metadata": {},
   "outputs": [
    {
     "name": "stdout",
     "output_type": "stream",
     "text": [
      "Общее количество пропусков в данных: 0\n"
     ]
    }
   ],
   "source": [
    "print(f'Общее количество пропусков в данных: {sum(internet_df.isna().sum())}')"
   ]
  },
  {
   "cell_type": "markdown",
   "id": "bc0b68cf",
   "metadata": {},
   "source": [
    "### Визуализация данных"
   ]
  },
  {
   "cell_type": "code",
   "execution_count": 66,
   "id": "343c3316",
   "metadata": {},
   "outputs": [
    {
     "data": {
      "image/png": "[encoded data removed]",
      "text/plain": [
       "<Figure size 1600x800 with 7 Axes>"
      ]
     },
     "metadata": {},
     "output_type": "display_data"
    }
   ],
   "source": [
    "features = ['internet_service', 'online_security', 'online_backup', 'device_protection', 'tech_support', 'streaming_tv', 'streaming_movies']\n",
    "# палитра\n",
    "pastel_colors = ['#B2DFDB', 'lightskyblue']\n",
    "\n",
    "plt.figure(figsize=(16, 8))\n",
    "for i, feature in enumerate(features):\n",
    "    if i < 4:\n",
    "        plt.subplot(2, 4, i + 1)  # 2x4 сетка графиков\n",
    "        plt.title(f'Распределение {feature}')\n",
    "    else:\n",
    "        plt.subplot(2, 4, i + 1)  # 2x4 сетка графиков\n",
    "        plt.title(f'Распределение {feature}')\n",
    "    \n",
    "    pie_data = internet_df[feature].value_counts()\n",
    "    pie_labels = pie_data.index\n",
    "    pie_colors = pastel_colors[:len(pie_labels)]\n",
    "    pie_data.plot(kind='pie', autopct='%1.1f%%', colors=pie_colors, labels=pie_labels)\n",
    "    plt.ylabel('')\n",
    "    plt.xlabel('')\n",
    "\n",
    "plt.tight_layout()\n",
    "plt.subplots_adjust(top=0.9)\n",
    "plt.show()\n"
   ]
  },
  {
   "cell_type": "markdown",
   "id": "901cc8cc",
   "metadata": {},
   "source": [
    "В данных пропуски отсутствуют.\n",
    "\n",
    "Из визуализации данных можно понять, что все признаки распределены равномерно.\n",
    "\n",
    "Следует отметить, что колличество клиентов, которые пользуются интернет-услугами меньше чем общее количество пользователей."
   ]
  },
  {
   "cell_type": "markdown",
   "id": "573fd42f",
   "metadata": {},
   "source": [
    "## Анализ информациии об услугах телефонии: `phone_df`\n",
    "### Общая информация"
   ]
  },
  {
   "cell_type": "code",
   "execution_count": 62,
   "id": "cd191b80",
   "metadata": {},
   "outputs": [
    {
     "data": {
      "text/html": [
       "<div>\n",
       "<style scoped>\n",
       "    .dataframe tbody tr th:only-of-type {\n",
       "        vertical-align: middle;\n",
       "    }\n",
       "\n",
       "    .dataframe tbody tr th {\n",
       "        vertical-align: top;\n",
       "    }\n",
       "\n",
       "    .dataframe thead th {\n",
       "        text-align: right;\n",
       "    }\n",
       "</style>\n",
       "<table border=\"1\" class=\"dataframe\">\n",
       "  <thead>\n",
       "    <tr style=\"text-align: right;\">\n",
       "      <th></th>\n",
       "      <th>customer_id</th>\n",
       "      <th>multiplelines</th>\n",
       "    </tr>\n",
       "  </thead>\n",
       "  <tbody>\n",
       "    <tr>\n",
       "      <th>1</th>\n",
       "      <td>5575-GNVDE</td>\n",
       "      <td>No</td>\n",
       "    </tr>\n",
       "    <tr>\n",
       "      <th>2</th>\n",
       "      <td>3668-QPYBK</td>\n",
       "      <td>No</td>\n",
       "    </tr>\n",
       "  </tbody>\n",
       "</table>\n",
       "</div>"
      ],
      "text/plain": [
       "  customer_id multiplelines\n",
       "1  5575-GNVDE            No\n",
       "2  3668-QPYBK            No"
      ]
     },
     "metadata": {},
     "output_type": "display_data"
    },
    {
     "name": "stdout",
     "output_type": "stream",
     "text": [
      "<class 'pandas.core.frame.DataFrame'>\n",
      "RangeIndex: 6361 entries, 1 to 6361\n",
      "Data columns (total 2 columns):\n",
      " #   Column         Non-Null Count  Dtype \n",
      "---  ------         --------------  ----- \n",
      " 0   customer_id    6361 non-null   object\n",
      " 1   multiplelines  6361 non-null   object\n",
      "dtypes: object(2)\n",
      "memory usage: 99.5+ KB\n"
     ]
    },
    {
     "data": {
      "text/plain": [
       "None"
      ]
     },
     "metadata": {},
     "output_type": "display_data"
    }
   ],
   "source": [
    "display(phone_df.head(2))\n",
    "display(phone_df.info())"
   ]
  },
  {
   "cell_type": "markdown",
   "id": "be89c5b5",
   "metadata": {},
   "source": [
    "__Проверим пропуски в данных:__"
   ]
  },
  {
   "cell_type": "code",
   "execution_count": 63,
   "id": "bf79d99a",
   "metadata": {},
   "outputs": [
    {
     "name": "stdout",
     "output_type": "stream",
     "text": [
      "Общее количество пропусков в данных: 0\n"
     ]
    }
   ],
   "source": [
    "print(f'Общее количество пропусков в данных: {sum(internet_df.isna().sum())}')"
   ]
  },
  {
   "cell_type": "code",
   "execution_count": 67,
   "id": "e2a22af3",
   "metadata": {},
   "outputs": [
    {
     "data": {
      "image/png": "[encoded data removed]",
      "text/plain": [
       "<Figure size 1600x300 with 1 Axes>"
      ]
     },
     "metadata": {},
     "output_type": "display_data"
    }
   ],
   "source": [
    "features = ['multiplelines']\n",
    "# палитра\n",
    "pastel_colors = ['#B2DFDB', 'lightskyblue']\n",
    "\n",
    "plt.figure(figsize=(16, 3))\n",
    "\n",
    "for i, feature in enumerate(binary_features):\n",
    "    plt.subplot(1, 4, i + 1)\n",
    "    plt.title(f'Распределение {feature}')\n",
    "    \n",
    "    pie_data = phone_df[feature].value_counts()\n",
    "    pie_labels = pie_data.index\n",
    "    pie_colors = pastel_colors[:len(pie_labels)]\n",
    "    pie_data.plot(kind='pie', autopct='%1.1f%%', colors=pie_colors, labels=pie_labels)\n",
    "    plt.ylabel('')\n",
    "    plt.xlabel('')\n",
    "\n",
    "plt.tight_layout()\n",
    "plt.show()\n"
   ]
  },
  {
   "cell_type": "markdown",
   "id": "ade8a044",
   "metadata": {},
   "source": [
    "В данных пропуски отсутствуют.\n",
    "\n",
    "Из визуализации данных можно понять, что значения в признаке распределены равномерно.\n",
    "\n",
    "Следует отметить, что колличество клиентов, которые пользуются услугами телефонии меньше чем общее количество пользователей."
   ]
  },
  {
   "cell_type": "markdown",
   "id": "ded57c6b",
   "metadata": {},
   "source": [
    "## Итоговый датасет\n",
    "\n",
    "Объединим датасеты по признаку `customer_id`"
   ]
  },
  {
   "cell_type": "code",
   "execution_count": 72,
   "id": "25515ffa",
   "metadata": {},
   "outputs": [],
   "source": [
    "# объединение contract_df и personal_df\n",
    "df = contract_df.merge(personal_df, on='customer_id', how='left')\n",
    "# объединение с internet_df\n",
    "df = df.merge(internet_df, on='customer_id', how='left')\n",
    "# объединение с phone_df\n",
    "df = df.merge(phone_df, on='customer_id', how='left')"
   ]
  },
  {
   "cell_type": "code",
   "execution_count": 74,
   "id": "e361c47c",
   "metadata": {},
   "outputs": [
    {
     "name": "stdout",
     "output_type": "stream",
     "text": [
      "<class 'pandas.core.frame.DataFrame'>\n",
      "Int64Index: 7032 entries, 0 to 7031\n",
      "Data columns (total 20 columns):\n",
      " #   Column             Non-Null Count  Dtype  \n",
      "---  ------             --------------  -----  \n",
      " 0   customer_id        7032 non-null   object \n",
      " 1   type               7032 non-null   object \n",
      " 2   paperless_billing  7032 non-null   object \n",
      " 3   payment_method     7032 non-null   object \n",
      " 4   monthly_charges    7032 non-null   float64\n",
      " 5   total_charges      7032 non-null   float64\n",
      " 6   churn              7032 non-null   int64  \n",
      " 7   tenure_months      7032 non-null   int64  \n",
      " 8   gender             7032 non-null   object \n",
      " 9   senior_citizen     7032 non-null   int64  \n",
      " 10  partner            7032 non-null   object \n",
      " 11  dependents         7032 non-null   object \n",
      " 12  internet_service   5512 non-null   object \n",
      " 13  online_security    5512 non-null   object \n",
      " 14  online_backup      5512 non-null   object \n",
      " 15  device_protection  5512 non-null   object \n",
      " 16  tech_support       5512 non-null   object \n",
      " 17  streaming_tv       5512 non-null   object \n",
      " 18  streaming_movies   5512 non-null   object \n",
      " 19  multiplelines      6352 non-null   object \n",
      "dtypes: float64(2), int64(3), object(15)\n",
      "memory usage: 1.1+ MB\n"
     ]
    }
   ],
   "source": [
    "# общая информация объединенного датасета\n",
    "df.info()"
   ]
  },
  {
   "cell_type": "code",
   "execution_count": null,
   "id": "5b7121b9",
   "metadata": {},
   "outputs": [],
   "source": []
  }
 ],
 "metadata": {
  "kernelspec": {
   "display_name": "Python 3 (ipykernel)",
   "language": "python",
   "name": "python3"
  },
  "language_info": {
   "codemirror_mode": {
    "name": "ipython",
    "version": 3
   },
   "file_extension": ".py",
   "mimetype": "text/x-python",
   "name": "python",
   "nbconvert_exporter": "python",
   "pygments_lexer": "ipython3",
   "version": "3.10.9"
  },
  "toc": {
   "base_numbering": 1,
   "nav_menu": {},
   "number_sections": true,
   "sideBar": true,
   "skip_h1_title": false,
   "title_cell": "Table of Contents",
   "title_sidebar": "Contents",
   "toc_cell": false,
   "toc_position": {},
   "toc_section_display": true,
   "toc_window_display": false
  }
 },
 "nbformat": 4,
 "nbformat_minor": 5
}
